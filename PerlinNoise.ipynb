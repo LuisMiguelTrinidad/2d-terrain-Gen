{
 "cells": [
  {
   "cell_type": "code",
   "execution_count": 8,
   "metadata": {},
   "outputs": [],
   "source": [
    "import opensimplex\n",
    "import numpy as np\n",
    "import matplotlib.pyplot as plt\n",
    "import math\n",
    "from random import randint\n",
    "import os\n",
    "import multiprocessing as mp\n",
    "import plotly.express as px\n",
    "from random import randint, random, uniform"
   ]
  },
  {
   "cell_type": "markdown",
   "metadata": {},
   "source": [
    "ag = 256\n",
    "biomas = np.empty(shape=(ag,ag,ag), dtype=np.uint8)\n",
    "for i in range(ag):\n",
    "    for j in range(ag):\n",
    "        for k in range(ag):\n",
    "            mejor = float('inf')\n",
    "            for r in generator.BIOMAS.keys():\n",
    "                a = np.linalg.norm(np.array(generator.BIOMAS[r][0]) - np.array([i/ag, j/ag, k/ag]))\n",
    "                if a < mejor:\n",
    "                    mejor = a\n",
    "                    biomas[i, j, k] = r\n",
    "    print(i)\n",
    "print(biomas)\n",
    "np.save(f\"CERCANIA_BIOMAS.npy\", biomas)\n"
   ]
  },
  {
   "cell_type": "code",
   "execution_count": 9,
   "metadata": {},
   "outputs": [],
   "source": [
    "TEXTURAS_SUELO = {\n",
    "    0: \"Water\",\n",
    "    1: \"Grass\",\n",
    "    2: \"Sand\",\n",
    "    3: \"Stone\",\n",
    "    4: \"Brown Stone\",\n",
    "    5: \"Volcanic Stone\",\n",
    "    6: \"Snow\",\n",
    "}\n",
    "\n",
    "TEXTURAS = {\n",
    "    \"Arbol\": {\n",
    "        0: \"Palmera\", #Desierto\n",
    "        1: \"Roble\", #Valle\n",
    "        2: \"Sauce\", #Pantano\n",
    "        3: \"Arbol de selva\", #Selva\n",
    "        4: \"Acacia\", #Savana\n",
    "        5: \"Encina\", #Dehesa\n",
    "        6: \"Conífero\", #Bosque\n",
    "        6: \"Árbol carbonizado\", #Volcanico\n",
    "    },\n",
    "    \"Roca\": { #Para cada bioma habrá un tipo\n",
    "        \"Roca pequeña\": {\n",
    "\n",
    "        },\n",
    "        \"Roca mediana\": {\n",
    "\n",
    "        },\n",
    "        \"Roca grande\": {\n",
    "\n",
    "        },\n",
    "    }\n",
    "}"
   ]
  },
  {
   "cell_type": "code",
   "execution_count": 14,
   "metadata": {},
   "outputs": [],
   "source": [
    "class generator:\n",
    "    \"\"\"\n",
    "    A class to generate terrain using OpenSimplex noise and other procedural generation techniques.\n",
    "    Attributes:\n",
    "    -----------\n",
    "    BIOMAS : dict\n",
    "        A dictionary containing biome information with keys as biome IDs and values as tuples containing\n",
    "        humidity, altitude, temperature, biome name, color, and objects with their probabilities.\n",
    "    CHUNK_SIZE : int\n",
    "        The size of each chunk in the terrain.\n",
    "    CERCANIA_BIOMAS : np.ndarray\n",
    "        A numpy array loaded from a file that contains biome proximity data.\n",
    "    Methods:\n",
    "    --------\n",
    "    __init__(seedTemp: int = None, seedAltu: int = None, seedHume: int = None, seedRios: int = None, \n",
    "             varTemp: int = 256, varAltu: int = 512, varHume: int = 512, varRios: int = 128, \n",
    "             dispTemp: int = 2, dispAltu: int = 4, dispHume: int = 2, dispRios: int = 4, \n",
    "             nivelAgua: int = 0.5, tamRios: int = 5):\n",
    "        Initializes the generator with given seeds, variations, disparities, water level, and river size.\n",
    "    getNoise(seed: int, x_in: int, y_in: int, iterations: int, size: int, disparity: int = 3) -> np.float16:\n",
    "        Generates Perlin noise for a given seed, coordinates, iterations, size, and disparity.\n",
    "    getNoiseArray(seed: int, x_in: int, y_in: int, iterations: int, size: int, disparity: int = 3) -> np.ndarray:\n",
    "        Generates a 2D array of Perlin noise for a given seed, coordinates, iterations, size, and disparity.\n",
    "    getBioma(temp: float, altu: float, hume: float, rios: float) -> np.uint8:\n",
    "        Determines the biome type based on temperature, altitude, humidity, and river presence.\n",
    "    getChunk(x: int, y: int) -> np.ndarray:\n",
    "        Retrieves or generates a chunk of terrain data for given coordinates.\n",
    "    getChunksInRange(x_range: tuple[int, int], y_range: tuple[int, int]) -> np.ndarray:\n",
    "        Retrieves or generates multiple chunks of terrain data within a specified range of coordinates.\n",
    "    representation(x_range: tuple[int, int], y_range: tuple[int, int]) -> None:\n",
    "        Generates a visual representation of the terrain within a specified range of coordinates.\n",
    "    poisson_disc_sampling(radius: int, k: int) -> np.ndarray:\n",
    "        Generates a 2D array using Poisson-disc sampling for a given radius and number of attempts.\n",
    "    \"\"\"\n",
    "    #(Humedad altura temperatura), nombre del bioma, color, {objetos que pueden aparecer, probabilidades}\n",
    "    BIOMAS = {\n",
    "        0: ([-1, -1, -1], 'Oceano', (56, 148, 194), {}),\n",
    "        1: ([-1, -1, -1], 'Oceano profundo', (27, 59, 140), {}),\n",
    "        2: ([-1, -1, -1], 'Rios y lagos', (126, 180, 237), {}),\n",
    "        3: ([0.5, 0.0, 0.5], 'Costa', (245, 240, 108), {\"Palmera\": 0.7, \"Piedra pequeña\": 0.3}),\n",
    "        4: ([0.85, 0.05, 0.45], 'Marismas', (171, 222, 32), {\"Arbusto\": 1}),\n",
    "        5: ([0.75, 0.1, 0.05], 'Polo', (250, 250, 250), {\"Tempano\": 0.5, \"Piedra congelada\": 0.5}),\n",
    "        6: ([0.8, 0.15, 0.45], 'Pantano', (33, 133, 99), {\"Arbusto\": 0.2, \"Piedra pequeña\": 0.2, \"Arbol\": 0.6}),\n",
    "        7: ([0.4, 0.4, 0.4], 'Bosque', (53, 118, 43), {\"Arbol\": 0.6, \"Arbusto\": 0.2, \"Flores\": 0.2}),\n",
    "        8: ([0.6, 0.3, 0.55], 'Selva', (0, 183, 10), {\"Arbol\": 0.7, \"Helecho\": 0.3}),       \n",
    "        9: ([0.35, 0.25, 0.55], 'Dehesa', (128, 179, 30), {\"Arbol\": 0.5, \"Arbusto\": 0.5}),\n",
    "        10: ([0.2, 0.3, 0.6], 'Savana', (228, 125, 28), {\"Arbol\": 0.3, \"Arbusto\": 0.7}),\n",
    "        11: ([0.0, 0.3, 0.8], 'Desierto', (255, 211, 29), {\"Cactus\": 0.7, \"Arbusto muerto\": 0.3}),\n",
    "        12: ([0.75, 0.35, 0.75], 'Termales', (39, 156, 121), {\"Geiser\": 0.5, \"Piedra pequeña\": 0.5}),\n",
    "        13: ([0.8, 0.3, 0.3], 'Setas', (152, 3, 252), {\"Seta grande\": 0.6, \"Seta pequeña\": 0.4}),\n",
    "        14: ([0.2, 0.65, 0.55], 'Meseta', (110, 88, 66), {\"Roca grande\": 0.1, \"Arbusto\": 0.5, \"Roca pequeña\": 0.4}),\n",
    "        15: ([0.7, 0.8, 0.2], 'Tundra', (208, 208, 240), {\"Piedra pequeña\": 0.5, \"Flores\": 0.5}),\n",
    "        16: ([0.15, 0.8, 0.85], 'Volcanico', (159, 16, 16), {\"Arbol carbonizado\": 0.6, \"Charco de lava\": 0.4}),\n",
    "        17: ([0.35, 9, 0.35], 'Montaña', (125, 125, 125), {\"Roca grande\": 0.3, \"Roca pequeña\": 0.7}),\n",
    "    }\n",
    "\n",
    "    CHUNK_SIZE = 128\n",
    "    CERCANIA_BIOMAS = np.load(\"./CERCANIA_BIOMAS.npy\" )\n",
    "\n",
    "    def __init__(\n",
    "        self, \n",
    "        seedTemp: int = None, seedAltu: int = None, seedHume: int = None, seedRios: int = None,\n",
    "        varTemp: int = 256, varAltu: int = 512, varHume: int = 512, varRios: int = 128,\n",
    "        dispTemp: int = 2, dispAltu: int = 4, dispHume: int = 2, dispRios: int = 4,\n",
    "        nivelAgua: int = 0.5,\n",
    "        tamRios: int = 5,\n",
    "        itTemp: int = 3, itAltu: int = 5, itHume: int = 3, itRios: int = 4,\n",
    "        ):\n",
    "        \"\"\"\n",
    "        Initialize the PerlinNoise generator with various parameters.\n",
    "        Args:\n",
    "            seedTemp (int, optional): Seed for temperature noise generation. Defaults to None.\n",
    "            seedAltu (int, optional): Seed for altitude noise generation. Defaults to None.\n",
    "            seedHume (int, optional): Seed for humidity noise generation. Defaults to None.\n",
    "            seedRios (int, optional): Seed for river noise generation. Defaults to None.\n",
    "            varTemp (int, optional): Variation for temperature noise. Defaults to 256.\n",
    "            varAltu (int, optional): Variation for altitude noise. Defaults to 512.\n",
    "            varHume (int, optional): Variation for humidity noise. Defaults to 512.\n",
    "            varRios (int, optional): Variation for river noise. Defaults to 128.\n",
    "            dispTemp (int, optional): Displacement for temperature noise. Defaults to 2.\n",
    "            dispAltu (int, optional): Displacement for altitude noise. Defaults to 4.\n",
    "            dispHume (int, optional): Displacement for humidity noise. Defaults to 2.\n",
    "            dispRios (int, optional): Displacement for river noise. Defaults to 4.\n",
    "            nivelAgua (float, optional): Water level threshold. Defaults to 0.5.\n",
    "            tamRios (int, optional): Size of rivers. Defaults to 5.\n",
    "            itTemp (int, optional): Iterations for temperature noise generation. Defaults to 3.\n",
    "            itAltu (int, optional): Iterations for altitude noise generation. Defaults to 6.\n",
    "            itHume (int, optional): Iterations for humidity noise generation. Defaults to 3.\n",
    "            itRios (int, optional): Iterations for river noise generation. Defaults to 4.\n",
    "        \"\"\"\n",
    "        self.SEEDTEMP = seedTemp if seedTemp != None else randint(-2**62, 2**62)\n",
    "        self.SEEDALTU = seedAltu if seedTemp != None else randint(-2**62, 2**62)\n",
    "        self.SEEDHUME = seedHume if seedTemp != None else randint(-2**62, 2**62)\n",
    "        self.SEEDRIOS = seedRios if seedTemp != None else randint(-2**62, 2**62)\n",
    "        self.VARTEMP = varTemp\n",
    "        self.VARALTU = varAltu\n",
    "        self.VARHUME = varHume\n",
    "        self.VARRIOS = varRios\n",
    "        self.DISPTEMP = dispTemp\n",
    "        self.DISPALTU = dispAltu\n",
    "        self.DISPHUME = dispHume\n",
    "        self.DISPRIOS = dispRios\n",
    "        self.NIVELAGUA = nivelAgua\n",
    "        self.TAMRIOS = tamRios\n",
    "        self.ITTEMP = itTemp\n",
    "        self.ITALTU = itAltu\n",
    "        self.ITHUME = itHume\n",
    "        self.ITRIOS = itRios\n",
    "\n",
    "    def getNoise(self, seed: int, x_in: int, y_in: int, iterations: int, size: int, disparity: int = 3) -> np.float16:\n",
    "        \"\"\"\n",
    "        Generates Perlin noise based on the given parameters.\n",
    "        Args:\n",
    "            seed (int): The seed value for the noise generation.\n",
    "            x_in (int): The x-coordinate input for the noise function.\n",
    "            y_in (int): The y-coordinate input for the noise function.\n",
    "            iterations (int): The number of iterations to perform for noise generation.\n",
    "            size (int): The size parameter that affects the scale of the noise.\n",
    "            disparity (int, optional): The number of disparity iterations to smooth the noise. Default is 3.\n",
    "        Returns:\n",
    "            np.float16: The generated noise value.\n",
    "        \"\"\"\n",
    "        opensimplex.seed(seed)\n",
    "        ruido = 0\n",
    "        for r in range(iterations):\n",
    "            divisor = (size/2**r)\n",
    "            exponenciador = (2**r)\n",
    "            ruido += opensimplex.noise2(x=(x_in)/divisor, y=(y_in)/divisor)/exponenciador\n",
    "            \n",
    "        maximo = sum([2/(2**r) for r in range(iterations)])\n",
    "        ruido = (ruido + maximo)/(2*maximo)     \n",
    "        for r in range(disparity):\n",
    "            ruido = 0.5 + math.sin(math.pi*ruido - math.pi/2)/2\n",
    "        return ruido\n",
    "\n",
    "    def getNoiseArray(\n",
    "        self, \n",
    "        seed: np.int64, \n",
    "        x_in: np.int64, \n",
    "        y_in: np.int64, \n",
    "        iterations: np.uint8, \n",
    "        size: np.uint8, \n",
    "        disparity: np.uint8 = 3\n",
    "        ) -> np.ndarray:\n",
    "        \"\"\"\n",
    "        Generates a 2D array of Perlin noise values.\n",
    "        Args:\n",
    "            seed (np.int64): Seed for the noise generation.\n",
    "            x_in (np.int64): X-coordinate input for the chunk.\n",
    "            y_in (np.int64): Y-coordinate input for the chunk.\n",
    "            iterations (np.uint8): Number of iterations for noise generation.\n",
    "            size (np.uint8): Size parameter for noise scaling.\n",
    "            disparity (np.uint8, optional): Number of disparity adjustments to apply. Default is 3.\n",
    "        Returns:\n",
    "            np.ndarray: A 2D array of generated noise values.\n",
    "        \"\"\"\n",
    "        x = self.CHUNK_SIZE*x_in\n",
    "        y = self.CHUNK_SIZE*y_in\n",
    "        opensimplex.seed(seed)\n",
    "\n",
    "        rango = range(0,self.CHUNK_SIZE)\n",
    "        noise_array = np.zeros(dtype=np.float16, shape=(self.CHUNK_SIZE, self.CHUNK_SIZE))\n",
    "\n",
    "        for r in range(iterations):\n",
    "            divisor = (size/2**r)\n",
    "            exponenciador = (2**r)\n",
    "            for i in rango:\n",
    "                for j in rango:\n",
    "                    noise_array[j, i] += opensimplex.noise2(x=(i+x)/divisor, y=(y+j)/divisor)/exponenciador\n",
    "        \n",
    "        maximo = sum([2/(2**r) for r in range(iterations)])\n",
    "        for i in rango:\n",
    "            for j in rango:\n",
    "                valor = (noise_array[j, i] + maximo)/(2*maximo)     \n",
    "                for r in range(disparity):\n",
    "                    valor = 0.5 + math.sin(math.pi*valor - math.pi/2)/2\n",
    "                noise_array[j, i] = valor\n",
    "        return noise_array\n",
    "    \n",
    "    def getBioma(\n",
    "        self, \n",
    "        temp: np.float16, \n",
    "        altu: np.float16, \n",
    "        hume: np.float16, \n",
    "        rios: np.float16\n",
    "        ) -> np.uint8:\n",
    "        \"\"\"\n",
    "        Determines the biome type based on temperature, altitude, humidity, and proximity to rivers.\n",
    "        Args:\n",
    "            temp (np.float16): Temperature value.\n",
    "            altu (np.float16): Altitude value.\n",
    "            hume (np.float16): Humidity value.\n",
    "            rios (np.float16): Proximity to rivers value.\n",
    "        Returns:\n",
    "            np.uint8: Biome type identifier.\n",
    "            - 0: Ocean\n",
    "            - 1: Deep Ocean\n",
    "            - 2: Rivers and Lakes\n",
    "            - Other values based on the CERCANIA_BIOMAS matrix.\n",
    "        \"\"\"\n",
    "        if(altu < self.NIVELAGUA):\n",
    "            if (altu <= self.NIVELAGUA*0.8):\n",
    "                return 1 #Oceano profundo\n",
    "            else:\n",
    "                return 0 #Oceano\n",
    "        elif(0.5 - self.TAMRIOS/100 < rios < 0.5 + self.TAMRIOS/100):\n",
    "            return 2 #Rios y lagos\n",
    "        else:\n",
    "            alt = math.floor(self.CERCANIA_BIOMAS.shape[0]*(altu-self.NIVELAGUA)/self.NIVELAGUA)\n",
    "            temp = math.floor(self.CERCANIA_BIOMAS.shape[1]*temp)\n",
    "            hum = math.floor(self.CERCANIA_BIOMAS.shape[2]*hume)\n",
    "            return np.uint8(self.CERCANIA_BIOMAS[hum, alt, temp])\n",
    "\n",
    "    def getChunk(self, x: np.int16, y: np.int16) -> np.ndarray:\n",
    "        \"\"\"\n",
    "        Generates or loads a chunk of terrain data based on the given coordinates.\n",
    "\n",
    "        This method checks if the chunk data for the specified coordinates (x, y) already exists.\n",
    "        If it does, the data is loaded from a .npy file. If not, the method generates the chunk\n",
    "        data using Perlin noise and saves it to a .npy file for future use.\n",
    "\n",
    "        Args:\n",
    "            x (np.int16): The x-coordinate of the chunk.\n",
    "            y (bp.int16): The y-coordinate of the chunk.\n",
    "\n",
    "        Returns:\n",
    "            np.ndarray: A 2D array representing the generated or loaded chunk data.\n",
    "        \"\"\"\n",
    "        if os.path.exists(f\"./Chunks/T_{self.SEEDTEMP}A_{self.SEEDTEMP}H_{self.SEEDTEMP}/{x}/{y}.npy\"):\n",
    "            return np.load(f\"./Chunks/T_{self.SEEDTEMP}A_{self.SEEDTEMP}H_{self.SEEDTEMP}/{x}/{y}.npy\")\n",
    "        else:\n",
    "            temp = self.getNoiseArray(self.SEEDTEMP, x, y, self.ITTEMP, self.VARTEMP, self.DISPTEMP)\n",
    "            altu = self.getNoiseArray(self.SEEDALTU, x, y, self.ITALTU, self.VARALTU, self.DISPALTU)\n",
    "            hume = self.getNoiseArray(self.SEEDHUME, x, y, self.ITHUME, self.VARHUME, self.DISPHUME)\n",
    "            rios = self.getNoiseArray(self.SEEDRIOS, x, y, self.ITRIOS, self.VARRIOS, self.DISPRIOS)\n",
    "            array_biomas = np.zeros(dtype=np.uint8, shape=(self.CHUNK_SIZE,self.CHUNK_SIZE))\n",
    "\n",
    "            for i in range(self.CHUNK_SIZE):\n",
    "                for j in range(self.CHUNK_SIZE):\n",
    "                    array_biomas[i, j] = self.getBioma(hume[i, j], altu[i, j], temp[i, j], rios[i, j])\n",
    "            os.makedirs(f\"./Chunks/T_{self.SEEDTEMP}A_{self.SEEDTEMP}H_{self.SEEDTEMP}/{x}\", exist_ok=True)\n",
    "            np.save(f\"./Chunks/T_{self.SEEDTEMP}A_{self.SEEDTEMP}H_{self.SEEDTEMP}/{x}/{y}\", array_biomas)\n",
    "            return array_biomas\n",
    "    \n",
    "    def getChunksInRange(self, x_range: tuple[np.int16, np.int16], y_range: tuple[np.int16, np.int16]) -> np.ndarray:\n",
    "        arr = None\n",
    "        for i in range(x_range[0], x_range[1]):\n",
    "            arr_proc = []\n",
    "            for j in range(y_range[0], y_range[1]):\n",
    "                arr_proc.append(mp.Process(target=self.getChunk, args=(i, j)))\n",
    "                arr_proc[-1].start()\n",
    "            for proc in arr_proc:\n",
    "                proc.join()\n",
    "\n",
    "            arr_line = None\n",
    "            for j in range(y_range[0], y_range[1]):\n",
    "                if arr_line is None:\n",
    "                    arr_line = self.getChunk(i, j)\n",
    "                else:\n",
    "                    arr_line = np.vstack((arr_line, self.getChunk(i, j)))\n",
    "\n",
    "            if arr is None:\n",
    "                arr = arr_line\n",
    "            else:\n",
    "                arr = np.hstack((arr, arr_line))\n",
    "        return arr\n",
    "\n",
    "    def representation(self, x_range: tuple[int, int], y_range: tuple[int, int]) -> None:\n",
    "        arr = self.getChunksInRange(x_range, y_range)\n",
    "        color_arr = np.zeros((arr.shape[0], arr.shape[1], 3), dtype=np.uint8)\n",
    "\n",
    "        for i in range(arr.shape[0]):\n",
    "            for j in range(arr.shape[1]):\n",
    "                color_arr[i, j] = generator.BIOMAS[arr[i, j]][2]\n",
    "        \n",
    "        fig = px.imshow(color_arr)\n",
    "        # Adjust the figure size here, considering the legend size\n",
    "        fig.update_layout(\n",
    "            width=arr.shape[1] + 300,  # Add extra width for the legend\n",
    "            height=arr.shape[0] + 300  # Add extra height for the legend\n",
    "        )\n",
    "\n",
    "        # Add legend\n",
    "        legend_items = []\n",
    "        for key, value in generator.BIOMAS.items():\n",
    "            legend_items.append(\n",
    "                dict(\n",
    "                    name=value[1],\n",
    "                    marker=dict(color=f\"rgb{value[2]}\", size=20),\n",
    "                    mode='markers',\n",
    "                    type='scatter',\n",
    "                    x=[None],\n",
    "                    y=[None]\n",
    "                )\n",
    "            )\n",
    "        fig.add_traces(legend_items)\n",
    "        fig.show()\n",
    "    \n",
    "    def poisson_disc_sampling(self, radius: int, k: int) -> np.ndarray:\n",
    "        GRID_SIZE = int(radius / math.sqrt(2))\n",
    "        columnas, filas = self.CHUNK_SIZE // GRID_SIZE, self.CHUNK_SIZE // GRID_SIZE\n",
    "\n",
    "        def generate_point_around(point):\n",
    "            r = radius * (random() + 1)\n",
    "            angle = 2 * math.pi * random()\n",
    "            new_x = point[0] + r * math.cos(angle)\n",
    "            new_y = point[1] + r * math.sin(angle)\n",
    "            return new_x, new_y\n",
    "\n",
    "        def in_bounds(point):\n",
    "            return 0 <= point[0] < self.CHUNK_SIZE and 0 <= point[1] < self.CHUNK_SIZE\n",
    "\n",
    "        def fits(point):\n",
    "            col = int(point[0] / GRID_SIZE)\n",
    "            row = int(point[1] / GRID_SIZE)\n",
    "            for i in range(max(col - 2, 0), min(col + 3, columnas)):\n",
    "                for j in range(max(row - 2, 0), min(row + 3, filas)):\n",
    "                    neighbor = grid[i, j]\n",
    "                    if neighbor is not None and np.hypot(point[0] - neighbor[0], point[1] - neighbor[1]) < radius:\n",
    "                        return False\n",
    "            return True\n",
    "\n",
    "        def restart_simulation(start_point):\n",
    "            nonlocal grid, active, points\n",
    "            grid = np.empty((columnas, filas), dtype=object)\n",
    "            points = [start_point]\n",
    "            active = [start_point]\n",
    "            col = int(start_point[0] / GRID_SIZE)\n",
    "            row = int(start_point[1] / GRID_SIZE)\n",
    "            grid[col, row] = start_point\n",
    "\n",
    "        # Create a grid to store points\n",
    "        grid = np.zeros((columnas, filas), dtype=object)\n",
    "\n",
    "        # List to store active points\n",
    "        active = []\n",
    "        points = []\n",
    "\n",
    "        # Initialize with a random point\n",
    "        initial_point = (uniform(0, self.CHUNK_SIZE), uniform(0, self.CHUNK_SIZE))\n",
    "        restart_simulation(initial_point)\n",
    "\n",
    "        # Main loop\n",
    "        while active:\n",
    "            rand_index = randint(0, len(active) - 1)\n",
    "            point = active[rand_index]\n",
    "            found = False\n",
    "\n",
    "            for _ in range(k):\n",
    "                new_point = generate_point_around(point)\n",
    "                if in_bounds(new_point) and fits(new_point):\n",
    "                    points.append(new_point)\n",
    "                    active.append(new_point)\n",
    "                    col = int(new_point[0] / GRID_SIZE)\n",
    "                    row = int(new_point[1] / GRID_SIZE)\n",
    "                    grid[col, row] = new_point\n",
    "                    found = True\n",
    "                    break\n",
    "\n",
    "            if not found:\n",
    "                active.pop(rand_index)\n",
    "                # Create a 2D numpy array representation\n",
    "        matrix = np.zeros((self.CHUNK_SIZE, self.CHUNK_SIZE), dtype=np.uint8)\n",
    "        for p in points:\n",
    "            x, y = int(p[0]), int(p[1])\n",
    "            matrix[y, x] = 1\n",
    "\n",
    "        return matrix\n"
   ]
  },
  {
   "cell_type": "code",
   "execution_count": 11,
   "metadata": {},
   "outputs": [],
   "source": [
    "a = generator(\n",
    "    seedTemp=1353,\n",
    "    seedAltu=13312,\n",
    "    seedHume=3123,\n",
    "    seedRios=3134,\n",
    "    tamRios=7,\n",
    "    varRios=128\n",
    "    )"
   ]
  },
  {
   "cell_type": "code",
   "execution_count": 12,
   "metadata": {},
   "outputs": [
    {
     "data": {
      "application/vnd.plotly.v1+json": {
       "config": {
        "plotlyServerURL": "https://plot.ly"
       },
       "data": [
        {
         "hovertemplate": "x: %{x}<br>y: %{y}<br>color: [%{z[0]}, %{z[1]}, %{z[2]}]<extra></extra>",
         "name": "0",
         "source": "data:image/png;base64,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",
         "type": "image",
         "xaxis": "x",
         "yaxis": "y"
        },
        {
         "marker": {
          "color": "rgb(56, 148, 194)",
          "size": 20
         },
         "mode": "markers",
         "name": "Oceano",
         "type": "scatter",
         "x": [
          null
         ],
         "y": [
          null
         ]
        },
        {
         "marker": {
          "color": "rgb(27, 59, 140)",
          "size": 20
         },
         "mode": "markers",
         "name": "Oceano profundo",
         "type": "scatter",
         "x": [
          null
         ],
         "y": [
          null
         ]
        },
        {
         "marker": {
          "color": "rgb(126, 180, 237)",
          "size": 20
         },
         "mode": "markers",
         "name": "Rios y lagos",
         "type": "scatter",
         "x": [
          null
         ],
         "y": [
          null
         ]
        },
        {
         "marker": {
          "color": "rgb(245, 240, 108)",
          "size": 20
         },
         "mode": "markers",
         "name": "Costa",
         "type": "scatter",
         "x": [
          null
         ],
         "y": [
          null
         ]
        },
        {
         "marker": {
          "color": "rgb(171, 222, 32)",
          "size": 20
         },
         "mode": "markers",
         "name": "Marismas",
         "type": "scatter",
         "x": [
          null
         ],
         "y": [
          null
         ]
        },
        {
         "marker": {
          "color": "rgb(250, 250, 250)",
          "size": 20
         },
         "mode": "markers",
         "name": "Polo",
         "type": "scatter",
         "x": [
          null
         ],
         "y": [
          null
         ]
        },
        {
         "marker": {
          "color": "rgb(33, 133, 99)",
          "size": 20
         },
         "mode": "markers",
         "name": "Pantano",
         "type": "scatter",
         "x": [
          null
         ],
         "y": [
          null
         ]
        },
        {
         "marker": {
          "color": "rgb(53, 118, 43)",
          "size": 20
         },
         "mode": "markers",
         "name": "Bosque",
         "type": "scatter",
         "x": [
          null
         ],
         "y": [
          null
         ]
        },
        {
         "marker": {
          "color": "rgb(0, 183, 10)",
          "size": 20
         },
         "mode": "markers",
         "name": "Selva",
         "type": "scatter",
         "x": [
          null
         ],
         "y": [
          null
         ]
        },
        {
         "marker": {
          "color": "rgb(128, 179, 30)",
          "size": 20
         },
         "mode": "markers",
         "name": "Dehesa",
         "type": "scatter",
         "x": [
          null
         ],
         "y": [
          null
         ]
        },
        {
         "marker": {
          "color": "rgb(228, 125, 28)",
          "size": 20
         },
         "mode": "markers",
         "name": "Savana",
         "type": "scatter",
         "x": [
          null
         ],
         "y": [
          null
         ]
        },
        {
         "marker": {
          "color": "rgb(39, 156, 121)",
          "size": 20
         },
         "mode": "markers",
         "name": "Termales",
         "type": "scatter",
         "x": [
          null
         ],
         "y": [
          null
         ]
        },
        {
         "marker": {
          "color": "rgb(255, 211, 29)",
          "size": 20
         },
         "mode": "markers",
         "name": "Desierto",
         "type": "scatter",
         "x": [
          null
         ],
         "y": [
          null
         ]
        },
        {
         "marker": {
          "color": "rgb(152, 3, 252)",
          "size": 20
         },
         "mode": "markers",
         "name": "Setas",
         "type": "scatter",
         "x": [
          null
         ],
         "y": [
          null
         ]
        },
        {
         "marker": {
          "color": "rgb(110, 88, 66)",
          "size": 20
         },
         "mode": "markers",
         "name": "Meseta",
         "type": "scatter",
         "x": [
          null
         ],
         "y": [
          null
         ]
        },
        {
         "marker": {
          "color": "rgb(208, 208, 240)",
          "size": 20
         },
         "mode": "markers",
         "name": "Tundra",
         "type": "scatter",
         "x": [
          null
         ],
         "y": [
          null
         ]
        },
        {
         "marker": {
          "color": "rgb(159, 16, 16)",
          "size": 20
         },
         "mode": "markers",
         "name": "Volcanico",
         "type": "scatter",
         "x": [
          null
         ],
         "y": [
          null
         ]
        },
        {
         "marker": {
          "color": "rgb(125, 125, 125)",
          "size": 20
         },
         "mode": "markers",
         "name": "Montaña",
         "type": "scatter",
         "x": [
          null
         ],
         "y": [
          null
         ]
        }
       ],
       "layout": {
        "height": 1324,
        "margin": {
         "t": 60
        },
        "template": {
         "data": {
          "bar": [
           {
            "error_x": {
             "color": "#2a3f5f"
            },
            "error_y": {
             "color": "#2a3f5f"
            },
            "marker": {
             "line": {
              "color": "#E5ECF6",
              "width": 0.5
             },
             "pattern": {
              "fillmode": "overlay",
              "size": 10,
              "solidity": 0.2
             }
            },
            "type": "bar"
           }
          ],
          "barpolar": [
           {
            "marker": {
             "line": {
              "color": "#E5ECF6",
              "width": 0.5
             },
             "pattern": {
              "fillmode": "overlay",
              "size": 10,
              "solidity": 0.2
             }
            },
            "type": "barpolar"
           }
          ],
          "carpet": [
           {
            "aaxis": {
             "endlinecolor": "#2a3f5f",
             "gridcolor": "white",
             "linecolor": "white",
             "minorgridcolor": "white",
             "startlinecolor": "#2a3f5f"
            },
            "baxis": {
             "endlinecolor": "#2a3f5f",
             "gridcolor": "white",
             "linecolor": "white",
             "minorgridcolor": "white",
             "startlinecolor": "#2a3f5f"
            },
            "type": "carpet"
           }
          ],
          "choropleth": [
           {
            "colorbar": {
             "outlinewidth": 0,
             "ticks": ""
            },
            "type": "choropleth"
           }
          ],
          "contour": [
           {
            "colorbar": {
             "outlinewidth": 0,
             "ticks": ""
            },
            "colorscale": [
             [
              0,
              "#0d0887"
             ],
             [
              0.1111111111111111,
              "#46039f"
             ],
             [
              0.2222222222222222,
              "#7201a8"
             ],
             [
              0.3333333333333333,
              "#9c179e"
             ],
             [
              0.4444444444444444,
              "#bd3786"
             ],
             [
              0.5555555555555556,
              "#d8576b"
             ],
             [
              0.6666666666666666,
              "#ed7953"
             ],
             [
              0.7777777777777778,
              "#fb9f3a"
             ],
             [
              0.8888888888888888,
              "#fdca26"
             ],
             [
              1,
              "#f0f921"
             ]
            ],
            "type": "contour"
           }
          ],
          "contourcarpet": [
           {
            "colorbar": {
             "outlinewidth": 0,
             "ticks": ""
            },
            "type": "contourcarpet"
           }
          ],
          "heatmap": [
           {
            "colorbar": {
             "outlinewidth": 0,
             "ticks": ""
            },
            "colorscale": [
             [
              0,
              "#0d0887"
             ],
             [
              0.1111111111111111,
              "#46039f"
             ],
             [
              0.2222222222222222,
              "#7201a8"
             ],
             [
              0.3333333333333333,
              "#9c179e"
             ],
             [
              0.4444444444444444,
              "#bd3786"
             ],
             [
              0.5555555555555556,
              "#d8576b"
             ],
             [
              0.6666666666666666,
              "#ed7953"
             ],
             [
              0.7777777777777778,
              "#fb9f3a"
             ],
             [
              0.8888888888888888,
              "#fdca26"
             ],
             [
              1,
              "#f0f921"
             ]
            ],
            "type": "heatmap"
           }
          ],
          "heatmapgl": [
           {
            "colorbar": {
             "outlinewidth": 0,
             "ticks": ""
            },
            "colorscale": [
             [
              0,
              "#0d0887"
             ],
             [
              0.1111111111111111,
              "#46039f"
             ],
             [
              0.2222222222222222,
              "#7201a8"
             ],
             [
              0.3333333333333333,
              "#9c179e"
             ],
             [
              0.4444444444444444,
              "#bd3786"
             ],
             [
              0.5555555555555556,
              "#d8576b"
             ],
             [
              0.6666666666666666,
              "#ed7953"
             ],
             [
              0.7777777777777778,
              "#fb9f3a"
             ],
             [
              0.8888888888888888,
              "#fdca26"
             ],
             [
              1,
              "#f0f921"
             ]
            ],
            "type": "heatmapgl"
           }
          ],
          "histogram": [
           {
            "marker": {
             "pattern": {
              "fillmode": "overlay",
              "size": 10,
              "solidity": 0.2
             }
            },
            "type": "histogram"
           }
          ],
          "histogram2d": [
           {
            "colorbar": {
             "outlinewidth": 0,
             "ticks": ""
            },
            "colorscale": [
             [
              0,
              "#0d0887"
             ],
             [
              0.1111111111111111,
              "#46039f"
             ],
             [
              0.2222222222222222,
              "#7201a8"
             ],
             [
              0.3333333333333333,
              "#9c179e"
             ],
             [
              0.4444444444444444,
              "#bd3786"
             ],
             [
              0.5555555555555556,
              "#d8576b"
             ],
             [
              0.6666666666666666,
              "#ed7953"
             ],
             [
              0.7777777777777778,
              "#fb9f3a"
             ],
             [
              0.8888888888888888,
              "#fdca26"
             ],
             [
              1,
              "#f0f921"
             ]
            ],
            "type": "histogram2d"
           }
          ],
          "histogram2dcontour": [
           {
            "colorbar": {
             "outlinewidth": 0,
             "ticks": ""
            },
            "colorscale": [
             [
              0,
              "#0d0887"
             ],
             [
              0.1111111111111111,
              "#46039f"
             ],
             [
              0.2222222222222222,
              "#7201a8"
             ],
             [
              0.3333333333333333,
              "#9c179e"
             ],
             [
              0.4444444444444444,
              "#bd3786"
             ],
             [
              0.5555555555555556,
              "#d8576b"
             ],
             [
              0.6666666666666666,
              "#ed7953"
             ],
             [
              0.7777777777777778,
              "#fb9f3a"
             ],
             [
              0.8888888888888888,
              "#fdca26"
             ],
             [
              1,
              "#f0f921"
             ]
            ],
            "type": "histogram2dcontour"
           }
          ],
          "mesh3d": [
           {
            "colorbar": {
             "outlinewidth": 0,
             "ticks": ""
            },
            "type": "mesh3d"
           }
          ],
          "parcoords": [
           {
            "line": {
             "colorbar": {
              "outlinewidth": 0,
              "ticks": ""
             }
            },
            "type": "parcoords"
           }
          ],
          "pie": [
           {
            "automargin": true,
            "type": "pie"
           }
          ],
          "scatter": [
           {
            "fillpattern": {
             "fillmode": "overlay",
             "size": 10,
             "solidity": 0.2
            },
            "type": "scatter"
           }
          ],
          "scatter3d": [
           {
            "line": {
             "colorbar": {
              "outlinewidth": 0,
              "ticks": ""
             }
            },
            "marker": {
             "colorbar": {
              "outlinewidth": 0,
              "ticks": ""
             }
            },
            "type": "scatter3d"
           }
          ],
          "scattercarpet": [
           {
            "marker": {
             "colorbar": {
              "outlinewidth": 0,
              "ticks": ""
             }
            },
            "type": "scattercarpet"
           }
          ],
          "scattergeo": [
           {
            "marker": {
             "colorbar": {
              "outlinewidth": 0,
              "ticks": ""
             }
            },
            "type": "scattergeo"
           }
          ],
          "scattergl": [
           {
            "marker": {
             "colorbar": {
              "outlinewidth": 0,
              "ticks": ""
             }
            },
            "type": "scattergl"
           }
          ],
          "scattermapbox": [
           {
            "marker": {
             "colorbar": {
              "outlinewidth": 0,
              "ticks": ""
             }
            },
            "type": "scattermapbox"
           }
          ],
          "scatterpolar": [
           {
            "marker": {
             "colorbar": {
              "outlinewidth": 0,
              "ticks": ""
             }
            },
            "type": "scatterpolar"
           }
          ],
          "scatterpolargl": [
           {
            "marker": {
             "colorbar": {
              "outlinewidth": 0,
              "ticks": ""
             }
            },
            "type": "scatterpolargl"
           }
          ],
          "scatterternary": [
           {
            "marker": {
             "colorbar": {
              "outlinewidth": 0,
              "ticks": ""
             }
            },
            "type": "scatterternary"
           }
          ],
          "surface": [
           {
            "colorbar": {
             "outlinewidth": 0,
             "ticks": ""
            },
            "colorscale": [
             [
              0,
              "#0d0887"
             ],
             [
              0.1111111111111111,
              "#46039f"
             ],
             [
              0.2222222222222222,
              "#7201a8"
             ],
             [
              0.3333333333333333,
              "#9c179e"
             ],
             [
              0.4444444444444444,
              "#bd3786"
             ],
             [
              0.5555555555555556,
              "#d8576b"
             ],
             [
              0.6666666666666666,
              "#ed7953"
             ],
             [
              0.7777777777777778,
              "#fb9f3a"
             ],
             [
              0.8888888888888888,
              "#fdca26"
             ],
             [
              1,
              "#f0f921"
             ]
            ],
            "type": "surface"
           }
          ],
          "table": [
           {
            "cells": {
             "fill": {
              "color": "#EBF0F8"
             },
             "line": {
              "color": "white"
             }
            },
            "header": {
             "fill": {
              "color": "#C8D4E3"
             },
             "line": {
              "color": "white"
             }
            },
            "type": "table"
           }
          ]
         },
         "layout": {
          "annotationdefaults": {
           "arrowcolor": "#2a3f5f",
           "arrowhead": 0,
           "arrowwidth": 1
          },
          "autotypenumbers": "strict",
          "coloraxis": {
           "colorbar": {
            "outlinewidth": 0,
            "ticks": ""
           }
          },
          "colorscale": {
           "diverging": [
            [
             0,
             "#8e0152"
            ],
            [
             0.1,
             "#c51b7d"
            ],
            [
             0.2,
             "#de77ae"
            ],
            [
             0.3,
             "#f1b6da"
            ],
            [
             0.4,
             "#fde0ef"
            ],
            [
             0.5,
             "#f7f7f7"
            ],
            [
             0.6,
             "#e6f5d0"
            ],
            [
             0.7,
             "#b8e186"
            ],
            [
             0.8,
             "#7fbc41"
            ],
            [
             0.9,
             "#4d9221"
            ],
            [
             1,
             "#276419"
            ]
           ],
           "sequential": [
            [
             0,
             "#0d0887"
            ],
            [
             0.1111111111111111,
             "#46039f"
            ],
            [
             0.2222222222222222,
             "#7201a8"
            ],
            [
             0.3333333333333333,
             "#9c179e"
            ],
            [
             0.4444444444444444,
             "#bd3786"
            ],
            [
             0.5555555555555556,
             "#d8576b"
            ],
            [
             0.6666666666666666,
             "#ed7953"
            ],
            [
             0.7777777777777778,
             "#fb9f3a"
            ],
            [
             0.8888888888888888,
             "#fdca26"
            ],
            [
             1,
             "#f0f921"
            ]
           ],
           "sequentialminus": [
            [
             0,
             "#0d0887"
            ],
            [
             0.1111111111111111,
             "#46039f"
            ],
            [
             0.2222222222222222,
             "#7201a8"
            ],
            [
             0.3333333333333333,
             "#9c179e"
            ],
            [
             0.4444444444444444,
             "#bd3786"
            ],
            [
             0.5555555555555556,
             "#d8576b"
            ],
            [
             0.6666666666666666,
             "#ed7953"
            ],
            [
             0.7777777777777778,
             "#fb9f3a"
            ],
            [
             0.8888888888888888,
             "#fdca26"
            ],
            [
             1,
             "#f0f921"
            ]
           ]
          },
          "colorway": [
           "#636efa",
           "#EF553B",
           "#00cc96",
           "#ab63fa",
           "#FFA15A",
           "#19d3f3",
           "#FF6692",
           "#B6E880",
           "#FF97FF",
           "#FECB52"
          ],
          "font": {
           "color": "#2a3f5f"
          },
          "geo": {
           "bgcolor": "white",
           "lakecolor": "white",
           "landcolor": "#E5ECF6",
           "showlakes": true,
           "showland": true,
           "subunitcolor": "white"
          },
          "hoverlabel": {
           "align": "left"
          },
          "hovermode": "closest",
          "mapbox": {
           "style": "light"
          },
          "paper_bgcolor": "white",
          "plot_bgcolor": "#E5ECF6",
          "polar": {
           "angularaxis": {
            "gridcolor": "white",
            "linecolor": "white",
            "ticks": ""
           },
           "bgcolor": "#E5ECF6",
           "radialaxis": {
            "gridcolor": "white",
            "linecolor": "white",
            "ticks": ""
           }
          },
          "scene": {
           "xaxis": {
            "backgroundcolor": "#E5ECF6",
            "gridcolor": "white",
            "gridwidth": 2,
            "linecolor": "white",
            "showbackground": true,
            "ticks": "",
            "zerolinecolor": "white"
           },
           "yaxis": {
            "backgroundcolor": "#E5ECF6",
            "gridcolor": "white",
            "gridwidth": 2,
            "linecolor": "white",
            "showbackground": true,
            "ticks": "",
            "zerolinecolor": "white"
           },
           "zaxis": {
            "backgroundcolor": "#E5ECF6",
            "gridcolor": "white",
            "gridwidth": 2,
            "linecolor": "white",
            "showbackground": true,
            "ticks": "",
            "zerolinecolor": "white"
           }
          },
          "shapedefaults": {
           "line": {
            "color": "#2a3f5f"
           }
          },
          "ternary": {
           "aaxis": {
            "gridcolor": "white",
            "linecolor": "white",
            "ticks": ""
           },
           "baxis": {
            "gridcolor": "white",
            "linecolor": "white",
            "ticks": ""
           },
           "bgcolor": "#E5ECF6",
           "caxis": {
            "gridcolor": "white",
            "linecolor": "white",
            "ticks": ""
           }
          },
          "title": {
           "x": 0.05
          },
          "xaxis": {
           "automargin": true,
           "gridcolor": "white",
           "linecolor": "white",
           "ticks": "",
           "title": {
            "standoff": 15
           },
           "zerolinecolor": "white",
           "zerolinewidth": 2
          },
          "yaxis": {
           "automargin": true,
           "gridcolor": "white",
           "linecolor": "white",
           "ticks": "",
           "title": {
            "standoff": 15
           },
           "zerolinecolor": "white",
           "zerolinewidth": 2
          }
         }
        },
        "width": 1324,
        "xaxis": {
         "anchor": "y",
         "domain": [
          0,
          1
         ]
        },
        "yaxis": {
         "anchor": "x",
         "domain": [
          0,
          1
         ]
        }
       }
      }
     },
     "metadata": {},
     "output_type": "display_data"
    }
   ],
   "source": [
    "a.representation((0,16),(0,16))"
   ]
  },
  {
   "cell_type": "code",
   "execution_count": 13,
   "metadata": {},
   "outputs": [
    {
     "name": "stdout",
     "output_type": "stream",
     "text": [
      "🟫🟫🟫🟫🟫🟫🌲🟫🟫🟫🟫🟫🟫🟫🟫🟫🟫🟫🟫🟫🟫🟫🌲🟫🟫🟫🟫🌲🟫🟫🟫🟫🟫🟫🟫🟫🌲🟫🟫🟫🟫🟫🟫🌲🟫🟫🟫🟫🟫🟫🟫🟫🌲🟫🟫🟫🟫🟫🟫🟫🟫🟫🟫🟫\n",
      "🟫🟫🟫🟫🟫🟫🟫🟫🟫🟫🟫🟫🟫🟫🌲🟫🟫🟫🟫🟫🟫🟫🟫🟫🟫🟫🟫🟫🟫🟫🟫🟫🟫🟫🟫🟫🟫🟫🟫🟫🟫🟫🟫🟫🟫🟫🟫🌲🟫🟫🟫🟫🟫🟫🟫🟫🟫🌲🟫🟫🟫🟫🌲🟫\n",
      "🟫🟫🌲🟫🟫🟫🟫🟫🟫🟫🟫🌲🟫🟫🟫🟫🟫🟫🟫🟫🟫🟫🟫🟫🟫🟫🟫🟫🟫🟫🟫🌲🟫🟫🟫🟫🟫🟫🟫🌲🟫🟫🟫🟫🟫🟫🟫🟫🟫🟫🟫🟫🟫🟫🟫🟫🟫🟫🟫🟫🟫🟫🟫🟫\n",
      "🟫🟫🟫🟫🟫🟫🟫🟫🟫🟫🟫🟫🟫🟫🟫🟫🟫🟫🟫🌲🟫🟫🟫🟫🟫🟫🌲🟫🟫🟫🟫🟫🟫🟫🟫🟫🟫🟫🟫🟫🟫🟫🌲🟫🟫🟫🟫🟫🟫🟫🟫🟫🟫🟫🟫🟫🟫🟫🟫🟫🟫🟫🟫🟫\n",
      "🟫🟫🟫🟫🟫🌲🟫🟫🟫🟫🟫🟫🟫🟫🟫🟫🌲🟫🟫🟫🟫🟫🟫🟫🟫🟫🟫🟫🟫🟫🟫🟫🟫🟫🌲🟫🟫🟫🟫🟫🟫🟫🟫🟫🟫🟫🟫🟫🟫🟫🟫🟫🟫🟫🌲🟫🟫🟫🟫🟫🟫🟫🟫🌲\n",
      "🌲🟫🟫🟫🟫🟫🟫🟫🟫🌲🟫🟫🟫🟫🟫🟫🟫🟫🟫🟫🟫🟫🟫🟫🟫🟫🟫🟫🟫🌲🟫🟫🟫🟫🟫🟫🟫🟫🌲🟫🟫🟫🟫🟫🟫🟫🟫🌲🟫🟫🟫🟫🟫🟫🟫🟫🟫🟫🟫🟫🌲🟫🟫🟫\n",
      "🟫🟫🟫🟫🟫🟫🟫🟫🟫🟫🟫🟫🟫🟫🟫🟫🟫🟫🟫🟫🟫🟫🌲🟫🟫🟫🟫🟫🟫🟫🟫🟫🌲🟫🟫🟫🟫🟫🟫🟫🟫🌲🟫🟫🟫🟫🟫🟫🟫🟫🌲🟫🟫🟫🟫🟫🌲🟫🟫🟫🟫🟫🟫🟫\n",
      "🟫🟫🟫🟫🌲🟫🟫🟫🟫🟫🟫🟫🟫🟫🟫🟫🟫🟫🟫🟫🟫🟫🟫🟫🟫🌲🟫🟫🟫🟫🟫🟫🟫🟫🟫🟫🟫🟫🟫🟫🟫🟫🟫🟫🌲🟫🟫🟫🟫🟫🟫🟫🟫🟫🟫🟫🟫🟫🟫🟫🟫🟫🟫🟫\n",
      "🟫🟫🟫🟫🟫🟫🟫🟫🟫🟫🟫🌲🟫🟫🌲🟫🟫🟫🌲🟫🟫🟫🟫🟫🟫🟫🟫🟫🟫🟫🟫🟫🟫🟫🟫🌲🟫🟫🟫🟫🟫🟫🟫🟫🟫🟫🟫🟫🟫🟫🟫🟫🟫🟫🟫🟫🟫🟫🟫🟫🟫🌲🟫🟫\n",
      "🟫🟫🟫🟫🟫🟫🟫🟫🌲🟫🟫🟫🟫🟫🟫🟫🟫🟫🟫🟫🟫🟫🟫🟫🟫🟫🟫🟫🌲🟫🟫🟫🟫🟫🟫🟫🟫🟫🟫🟫🟫🟫🌲🟫🟫🟫🟫🟫🟫🟫🟫🟫🟫🟫🟫🟫🌲🟫🟫🟫🟫🟫🟫🟫\n",
      "🟫🌲🟫🟫🟫🟫🟫🟫🟫🟫🟫🟫🟫🟫🟫🟫🟫🟫🟫🟫🟫🟫🟫🟫🌲🟫🟫🟫🟫🟫🟫🟫🟫🟫🟫🟫🟫🟫🌲🟫🟫🟫🟫🟫🟫🟫🟫🟫🟫🟫🟫🟫🌲🟫🟫🟫🟫🟫🟫🟫🟫🟫🟫🟫\n",
      "🟫🟫🟫🟫🟫🌲🟫🟫🟫🟫🟫🟫🌲🟫🟫🟫🌲🟫🟫🟫🟫🌲🟫🟫🟫🟫🟫🟫🟫🟫🟫🟫🟫🟫🟫🟫🟫🟫🟫🟫🟫🟫🟫🟫🟫🌲🟫🟫🟫🟫🟫🟫🟫🟫🟫🟫🟫🟫🟫🟫🌲🟫🟫🟫\n",
      "🟫🟫🟫🟫🟫🟫🟫🟫🟫🟫🟫🟫🟫🟫🟫🟫🟫🟫🟫🟫🟫🟫🟫🟫🟫🟫🟫🟫🟫🟫🌲🟫🟫🟫🟫🟫🟫🟫🟫🟫🟫🟫🟫🟫🟫🟫🟫🟫🟫🌲🟫🟫🟫🟫🟫🟫🟫🟫🟫🟫🟫🟫🟫🟫\n",
      "🟫🟫🟫🌲🟫🟫🟫🟫🟫🟫🟫🟫🟫🟫🟫🟫🟫🟫🟫🟫🟫🟫🟫🌲🟫🟫🟫🌲🟫🟫🟫🟫🟫🟫🟫🟫🟫🟫🌲🟫🟫🟫🟫🟫🟫🟫🟫🟫🟫🟫🟫🟫🟫🟫🟫🟫🟫🌲🟫🟫🟫🟫🟫🟫\n",
      "🟫🟫🟫🟫🟫🟫🟫🟫🟫🟫🟫🌲🟫🟫🟫🟫🟫🟫🟫🟫🌲🟫🟫🟫🟫🟫🟫🟫🟫🟫🟫🟫🟫🟫🌲🟫🟫🟫🟫🟫🟫🟫🟫🌲🟫🟫🟫🟫🟫🟫🟫🟫🌲🟫🟫🟫🟫🟫🟫🟫🟫🟫🌲🟫\n",
      "🟫🌲🟫🟫🟫🟫🟫🌲🟫🟫🟫🟫🟫🟫🟫🟫🟫🌲🟫🟫🟫🟫🟫🟫🟫🟫🟫🟫🟫🟫🟫🟫🟫🟫🟫🟫🟫🟫🟫🟫🟫🟫🟫🟫🟫🟫🟫🟫🟫🟫🟫🟫🟫🟫🟫🟫🟫🟫🟫🟫🟫🟫🟫🟫\n",
      "🟫🟫🟫🟫🟫🟫🟫🟫🟫🟫🟫🟫🟫🟫🌲🟫🟫🟫🟫🟫🟫🟫🟫🟫🌲🟫🟫🟫🟫🌲🟫🟫🟫🟫🟫🟫🟫🌲🟫🟫🟫🟫🟫🟫🟫🟫🌲🟫🟫🟫🌲🟫🟫🟫🟫🟫🟫🟫🟫🟫🟫🟫🟫🟫\n",
      "🟫🟫🟫🟫🟫🟫🟫🟫🟫🟫🌲🟫🟫🟫🟫🟫🟫🟫🟫🟫🟫🟫🟫🟫🟫🟫🟫🟫🟫🟫🟫🟫🌲🟫🟫🟫🟫🟫🟫🟫🟫🌲🟫🟫🟫🟫🟫🟫🟫🟫🟫🟫🟫🟫🟫🟫🌲🟫🟫🟫🟫🌲🟫🟫\n",
      "🟫🟫🟫🟫🟫🌲🟫🟫🟫🟫🟫🟫🟫🟫🟫🟫🟫🟫🟫🟫🟫🌲🟫🟫🟫🟫🌲🟫🟫🟫🟫🟫🟫🟫🟫🟫🟫🟫🟫🟫🟫🟫🟫🟫🟫🟫🟫🟫🟫🟫🟫🟫🟫🟫🟫🟫🟫🟫🟫🟫🟫🟫🟫🟫\n",
      "🟫🟫🟫🟫🟫🟫🟫🟫🟫🟫🟫🟫🟫🟫🟫🟫🟫🌲🟫🟫🟫🟫🟫🟫🟫🟫🟫🟫🟫🟫🌲🟫🟫🟫🟫🟫🌲🟫🟫🟫🟫🟫🟫🟫🟫🟫🟫🟫🌲🟫🟫🟫🟫🟫🟫🟫🟫🟫🟫🟫🟫🟫🟫🟫\n",
      "🌲🟫🟫🟫🟫🟫🟫🌲🟫🟫🟫🌲🟫🟫🟫🌲🟫🟫🟫🟫🟫🟫🟫🟫🟫🟫🟫🟫🟫🟫🟫🟫🟫🟫🟫🟫🟫🟫🟫🟫🟫🟫🌲🟫🟫🟫🟫🟫🟫🟫🟫🟫🌲🟫🟫🟫🟫🟫🟫🟫🟫🌲🟫🟫\n",
      "🟫🟫🟫🟫🟫🟫🟫🟫🟫🟫🟫🟫🟫🟫🟫🟫🟫🟫🟫🌲🟫🟫🌲🟫🟫🟫🌲🟫🟫🟫🟫🟫🟫🟫🟫🟫🟫🟫🟫🟫🟫🟫🟫🟫🟫🟫🟫🟫🟫🟫🟫🟫🟫🟫🟫🌲🟫🟫🟫🟫🟫🟫🟫🟫\n",
      "🟫🟫🟫🟫🌲🟫🟫🟫🟫🟫🟫🟫🟫🟫🟫🟫🟫🟫🟫🟫🟫🟫🟫🟫🟫🟫🟫🟫🟫🟫🟫🟫🟫🟫🌲🟫🟫🟫🟫🟫🟫🟫🟫🟫🟫🟫🌲🟫🟫🟫🟫🟫🟫🟫🟫🟫🟫🟫🟫🟫🟫🟫🟫🟫\n",
      "🟫🟫🟫🟫🟫🟫🟫🟫🟫🟫🟫🟫🟫🟫🟫🟫🟫🟫🟫🟫🟫🟫🟫🟫🟫🟫🟫🟫🟫🌲🟫🟫🟫🟫🟫🟫🟫🟫🟫🟫🟫🟫🟫🟫🟫🟫🟫🟫🟫🟫🟫🟫🌲🟫🟫🟫🟫🟫🟫🟫🟫🟫🟫🟫\n",
      "🟫🟫🟫🟫🟫🟫🟫🟫🟫🟫🟫🟫🌲🟫🟫🌲🟫🟫🌲🟫🟫🟫🟫🟫🟫🟫🟫🟫🟫🟫🟫🟫🟫🟫🟫🟫🟫🟫🟫🟫🟫🟫🟫🟫🟫🟫🟫🟫🟫🟫🟫🟫🟫🟫🟫🌲🟫🟫🟫🟫🌲🟫🟫🟫\n",
      "🟫🌲🟫🟫🟫🟫🟫🟫🟫🟫🟫🟫🟫🟫🟫🟫🟫🟫🟫🟫🟫🟫🟫🟫🟫🟫🟫🟫🟫🟫🟫🟫🟫🟫🟫🟫🟫🟫🟫🌲🟫🟫🟫🌲🟫🟫🟫🌲🟫🟫🟫🟫🟫🟫🟫🟫🟫🟫🟫🟫🟫🟫🟫🟫\n",
      "🟫🟫🟫🟫🟫🟫🟫🌲🟫🟫🟫🟫🟫🟫🟫🟫🟫🟫🟫🟫🟫🟫🌲🟫🟫🟫🌲🟫🟫🟫🟫🟫🟫🟫🟫🟫🟫🟫🟫🟫🟫🟫🟫🟫🟫🟫🟫🟫🟫🟫🟫🟫🟫🟫🟫🟫🟫🟫🟫🟫🟫🟫🟫🟫\n",
      "🟫🟫🟫🌲🟫🟫🟫🟫🟫🟫🟫🟫🟫🟫🌲🟫🟫🟫🟫🟫🟫🟫🟫🟫🟫🟫🟫🟫🟫🟫🟫🌲🟫🟫🌲🟫🟫🟫🟫🟫🟫🟫🟫🟫🌲🟫🟫🟫🟫🟫🟫🟫🟫🟫🟫🟫🟫🟫🟫🟫🟫🌲🟫🟫\n",
      "🟫🟫🟫🟫🟫🟫🟫🟫🟫🟫🟫🟫🟫🟫🟫🟫🟫🟫🟫🟫🟫🟫🟫🟫🟫🟫🟫🌲🟫🟫🟫🟫🟫🟫🟫🟫🟫🌲🟫🟫🟫🟫🟫🟫🟫🟫🟫🟫🟫🌲🟫🟫🟫🌲🟫🟫🌲🟫🟫🟫🟫🟫🟫🟫\n",
      "🟫🟫🟫🟫🟫🟫🟫🟫🟫🟫🟫🟫🟫🟫🟫🟫🟫🟫🟫🟫🟫🟫🟫🟫🟫🟫🟫🟫🟫🟫🟫🟫🟫🟫🟫🟫🟫🟫🟫🟫🌲🟫🟫🟫🟫🟫🟫🟫🟫🟫🟫🟫🟫🟫🟫🟫🟫🟫🟫🟫🟫🟫🟫🟫\n",
      "🟫🟫🟫🟫🟫🌲🟫🟫🌲🟫🟫🟫🟫🟫🟫🟫🟫🟫🟫🌲🟫🟫🌲🟫🟫🟫🟫🟫🟫🟫🟫🟫🟫🟫🟫🟫🟫🟫🟫🟫🟫🟫🟫🟫🟫🟫🟫🟫🟫🟫🟫🟫🟫🟫🟫🟫🟫🟫🟫🟫🟫🟫🟫🟫\n",
      "🟫🌲🟫🟫🟫🟫🟫🟫🟫🟫🟫🟫🌲🟫🟫🟫🌲🟫🟫🟫🟫🟫🟫🟫🟫🟫🟫🟫🟫🟫🟫🟫🟫🟫🌲🟫🟫🟫🟫🟫🟫🟫🟫🟫🟫🟫🟫🟫🟫🟫🟫🟫🟫🟫🟫🟫🟫🟫🟫🟫🟫🟫🟫🌲\n",
      "🟫🟫🟫🟫🟫🟫🟫🟫🟫🟫🟫🟫🟫🟫🟫🟫🟫🟫🟫🟫🟫🟫🟫🟫🟫🟫🟫🟫🟫🟫🟫🌲🟫🟫🟫🟫🟫🟫🟫🟫🟫🟫🟫🟫🟫🌲🟫🟫🟫🟫🟫🟫🟫🟫🟫🟫🟫🟫🌲🟫🟫🟫🟫🟫\n",
      "🟫🟫🟫🟫🟫🟫🟫🟫🟫🟫🟫🟫🟫🟫🟫🟫🟫🟫🟫🟫🌲🟫🟫🟫🟫🌲🟫🟫🟫🟫🟫🟫🟫🟫🟫🟫🟫🌲🟫🟫🟫🟫🌲🟫🟫🟫🟫🟫🟫🟫🟫🟫🟫🟫🟫🌲🟫🟫🟫🟫🟫🟫🟫🟫\n",
      "🟫🟫🟫🟫🟫🟫🟫🟫🟫🟫🟫🟫🟫🟫🟫🟫🟫🟫🟫🟫🟫🟫🟫🟫🟫🟫🟫🟫🟫🟫🟫🟫🟫🌲🟫🟫🟫🟫🟫🟫🟫🟫🟫🟫🟫🟫🟫🟫🌲🟫🟫🌲🟫🟫🟫🟫🟫🟫🟫🟫🟫🟫🟫🟫\n",
      "🟫🟫🟫🟫🟫🟫🟫🟫🌲🟫🟫🟫🟫🌲🟫🟫🟫🌲🟫🟫🟫🟫🟫🟫🟫🟫🟫🟫🌲🟫🟫🟫🟫🟫🟫🟫🟫🟫🟫🟫🟫🟫🟫🟫🟫🟫🟫🟫🟫🟫🟫🟫🟫🟫🟫🟫🟫🌲🟫🟫🟫🟫🟫🟫\n",
      "🟫🟫🟫🟫🌲🟫🟫🟫🟫🟫🟫🟫🟫🟫🟫🟫🟫🟫🟫🟫🟫🟫🌲🟫🟫🟫🟫🟫🟫🟫🟫🟫🟫🟫🟫🟫🟫🟫🟫🟫🌲🟫🟫🟫🟫🟫🟫🟫🟫🟫🟫🟫🟫🟫🟫🟫🟫🟫🟫🟫🟫🟫🟫🟫\n",
      "🟫🟫🟫🟫🟫🟫🟫🟫🟫🟫🟫🟫🟫🟫🟫🟫🟫🟫🟫🟫🟫🟫🟫🟫🟫🟫🟫🟫🟫🟫🟫🟫🟫🟫🟫🟫🌲🟫🟫🟫🟫🟫🟫🟫🟫🌲🟫🟫🟫🟫🟫🟫🟫🌲🟫🟫🟫🟫🟫🟫🟫🌲🟫🟫\n",
      "🟫🟫🟫🟫🟫🟫🟫🟫🟫🟫🟫🟫🟫🌲🟫🟫🟫🟫🟫🟫🟫🟫🟫🟫🟫🟫🟫🟫🟫🟫🟫🟫🟫🟫🟫🟫🟫🟫🟫🟫🟫🟫🟫🟫🟫🟫🟫🟫🟫🟫🟫🟫🟫🟫🟫🟫🟫🟫🟫🟫🟫🟫🟫🟫\n",
      "🟫🟫🟫🟫🟫🟫🟫🟫🌲🟫🟫🟫🟫🟫🟫🟫🟫🌲🟫🟫🟫🌲🟫🟫🟫🟫🟫🌲🟫🟫🟫🟫🌲🟫🟫🟫🟫🟫🟫🟫🟫🟫🟫🟫🟫🟫🟫🟫🟫🟫🟫🌲🟫🟫🟫🟫🟫🟫🟫🟫🟫🟫🟫🟫\n",
      "🟫🟫🟫🟫🌲🟫🟫🟫🟫🟫🟫🟫🟫🟫🟫🟫🟫🟫🟫🟫🟫🟫🟫🟫🟫🟫🟫🟫🟫🟫🟫🟫🟫🟫🟫🟫🟫🟫🟫🌲🟫🟫🟫🌲🟫🟫🟫🟫🟫🟫🟫🟫🟫🟫🟫🟫🌲🟫🟫🟫🟫🟫🟫🌲\n",
      "🟫🌲🟫🟫🟫🟫🟫🟫🟫🟫🟫🟫🟫🟫🟫🟫🟫🟫🟫🟫🟫🟫🟫🟫🟫🟫🟫🟫🟫🟫🟫🟫🟫🟫🟫🟫🟫🟫🟫🟫🟫🟫🟫🟫🟫🟫🟫🟫🟫🌲🟫🟫🟫🟫🟫🟫🟫🟫🟫🌲🟫🟫🟫🟫\n",
      "🟫🟫🟫🟫🟫🟫🟫🟫🟫🟫🟫🟫🟫🟫🌲🟫🟫🟫🟫🟫🟫🟫🌲🟫🟫🟫🌲🟫🟫🟫🟫🟫🟫🟫🟫🌲🟫🟫🟫🟫🟫🟫🟫🟫🟫🟫🟫🟫🟫🟫🟫🟫🌲🟫🟫🟫🟫🟫🟫🟫🟫🟫🟫🟫\n",
      "🟫🟫🟫🟫🟫🟫🌲🟫🟫🟫🟫🌲🟫🟫🟫🟫🟫🟫🟫🟫🟫🟫🟫🟫🟫🟫🟫🟫🟫🟫🟫🟫🟫🟫🟫🟫🟫🟫🟫🌲🟫🟫🟫🟫🟫🟫🟫🟫🟫🟫🟫🟫🟫🟫🟫🟫🟫🟫🟫🟫🟫🟫🟫🌲\n",
      "🟫🟫🟫🟫🟫🟫🟫🟫🟫🟫🟫🟫🟫🟫🟫🟫🟫🟫🟫🌲🟫🟫🟫🟫🟫🟫🟫🟫🟫🟫🌲🟫🟫🟫🟫🟫🟫🟫🟫🟫🟫🟫🟫🟫🟫🌲🟫🟫🟫🟫🟫🟫🟫🟫🟫🟫🌲🟫🟫🟫🟫🟫🟫🟫\n",
      "🟫🟫🟫🟫🟫🟫🟫🟫🟫🟫🟫🟫🟫🟫🟫🟫🟫🟫🟫🟫🟫🟫🟫🌲🟫🟫🟫🟫🟫🟫🟫🟫🟫🟫🟫🟫🟫🟫🟫🟫🟫🟫🟫🟫🟫🟫🟫🟫🌲🟫🟫🟫🌲🟫🟫🟫🟫🟫🟫🌲🟫🟫🟫🟫\n",
      "🟫🌲🟫🟫🟫🟫🟫🟫🟫🟫🟫🟫🟫🟫🟫🟫🌲🟫🟫🟫🟫🟫🟫🟫🟫🟫🟫🟫🟫🟫🟫🟫🟫🟫🟫🟫🟫🟫🟫🟫🟫🟫🟫🟫🟫🟫🟫🟫🟫🟫🟫🟫🟫🟫🟫🟫🟫🟫🟫🟫🟫🟫🟫🟫\n",
      "🟫🟫🟫🟫🟫🟫🟫🟫🟫🟫🟫🌲🟫🟫🟫🟫🟫🟫🟫🟫🟫🟫🟫🟫🟫🟫🟫🟫🟫🟫🟫🟫🟫🟫🌲🟫🟫🟫🟫🟫🌲🟫🟫🟫🟫🟫🟫🟫🟫🟫🟫🟫🟫🟫🟫🟫🟫🟫🟫🟫🟫🟫🟫🟫\n",
      "🟫🟫🟫🟫🟫🌲🟫🟫🟫🟫🟫🟫🟫🟫🟫🟫🟫🟫🟫🟫🟫🟫🟫🟫🟫🟫🟫🟫🌲🟫🟫🟫🟫🟫🟫🟫🟫🟫🟫🟫🟫🟫🟫🌲🟫🟫🟫🟫🟫🟫🟫🟫🟫🟫🟫🟫🟫🌲🟫🟫🟫🌲🟫🟫\n",
      "🟫🟫🌲🟫🟫🟫🟫🟫🟫🟫🟫🟫🟫🟫🌲🟫🟫🌲🟫🟫🟫🟫🟫🟫🟫🟫🟫🟫🟫🟫🟫🟫🟫🟫🟫🟫🟫🟫🟫🟫🟫🟫🟫🟫🟫🟫🟫🟫🟫🟫🟫🟫🟫🟫🌲🟫🟫🟫🟫🟫🟫🟫🟫🟫\n",
      "🟫🟫🟫🟫🟫🟫🟫🟫🌲🟫🟫🟫🟫🟫🟫🟫🟫🟫🟫🟫🟫🟫🌲🟫🟫🟫🟫🟫🟫🟫🟫🟫🟫🟫🟫🟫🟫🟫🟫🟫🟫🟫🟫🟫🟫🌲🟫🟫🟫🟫🟫🟫🟫🟫🟫🟫🟫🟫🟫🟫🟫🟫🟫🟫\n",
      "🟫🟫🟫🟫🌲🟫🟫🟫🟫🟫🟫🟫🟫🟫🟫🟫🟫🟫🟫🟫🟫🟫🟫🟫🟫🟫🟫🟫🟫🟫🌲🟫🟫🟫🟫🟫🟫🟫🌲🟫🟫🟫🟫🟫🟫🟫🟫🟫🌲🟫🟫🟫🟫🟫🟫🟫🟫🟫🟫🟫🟫🟫🟫🟫\n",
      "🟫🟫🟫🟫🟫🟫🟫🟫🟫🟫🟫🌲🟫🟫🌲🟫🟫🟫🌲🟫🟫🟫🟫🟫🟫🌲🟫🟫🟫🟫🟫🟫🟫🟫🟫🟫🟫🟫🟫🟫🟫🟫🟫🟫🟫🟫🟫🟫🟫🟫🟫🌲🟫🟫🟫🟫🟫🟫🌲🟫🟫🟫🟫🟫\n",
      "🟫🟫🟫🟫🟫🟫🟫🟫🟫🟫🟫🟫🟫🟫🟫🟫🟫🟫🟫🟫🟫🟫🌲🟫🟫🟫🟫🟫🟫🟫🟫🟫🟫🟫🌲🟫🟫🟫🟫🟫🟫🌲🟫🟫🟫🟫🟫🟫🟫🟫🟫🟫🟫🟫🌲🟫🟫🟫🟫🟫🟫🟫🌲🟫\n",
      "🟫🟫🟫🟫🟫🟫🟫🟫🟫🟫🟫🟫🟫🟫🟫🟫🟫🟫🟫🟫🟫🟫🟫🟫🟫🟫🟫🌲🟫🟫🟫🌲🟫🟫🟫🟫🟫🟫🌲🟫🟫🟫🟫🟫🟫🟫🟫🟫🟫🟫🟫🟫🟫🟫🟫🟫🟫🟫🟫🟫🟫🟫🟫🟫\n",
      "🟫🌲🟫🟫🟫🟫🟫🟫🟫🟫🟫🟫🌲🟫🟫🟫🟫🟫🟫🌲🟫🟫🟫🟫🟫🟫🟫🟫🟫🟫🟫🟫🟫🟫🟫🟫🟫🟫🟫🟫🟫🟫🟫🟫🟫🟫🌲🟫🟫🟫🟫🟫🟫🟫🟫🟫🟫🟫🟫🟫🟫🟫🟫🟫\n",
      "🟫🟫🟫🟫🟫🟫🌲🟫🟫🟫🟫🟫🟫🟫🌲🟫🟫🟫🟫🟫🟫🟫🟫🟫🟫🟫🌲🟫🟫🟫🟫🟫🟫🟫🟫🟫🟫🟫🟫🟫🟫🟫🟫🟫🟫🟫🟫🟫🟫🟫🟫🌲🟫🟫🟫🟫🟫🟫🌲🟫🟫🟫🌲🟫\n",
      "🌲🟫🟫🟫🟫🟫🟫🟫🟫🌲🟫🟫🟫🟫🟫🟫🟫🟫🟫🟫🟫🟫🌲🟫🟫🟫🟫🟫🟫🟫🟫🟫🟫🟫🟫🟫🟫🟫🟫🟫🟫🟫🟫🟫🌲🟫🟫🟫🟫🟫🟫🟫🟫🟫🟫🟫🟫🟫🟫🟫🟫🟫🟫🟫\n",
      "🟫🟫🟫🟫🟫🟫🟫🟫🟫🟫🟫🟫🟫🟫🟫🟫🟫🌲🟫🟫🟫🟫🟫🟫🟫🟫🟫🟫🟫🟫🌲🟫🟫🌲🟫🟫🟫🟫🟫🟫🟫🌲🟫🟫🟫🟫🟫🟫🌲🟫🟫🟫🟫🟫🟫🟫🌲🟫🟫🟫🟫🟫🟫🟫\n",
      "🟫🟫🟫🟫🟫🟫🟫🟫🟫🟫🟫🟫🟫🌲🟫🟫🟫🟫🟫🟫🟫🟫🟫🟫🟫🟫🟫🟫🟫🟫🟫🟫🟫🟫🟫🟫🟫🌲🟫🟫🟫🟫🟫🟫🟫🟫🟫🟫🟫🟫🟫🟫🟫🟫🟫🟫🟫🟫🟫🟫🟫🟫🟫🟫\n",
      "🟫🌲🟫🟫🟫🟫🟫🟫🟫🟫🟫🟫🟫🟫🟫🟫🟫🟫🟫🌲🟫🟫🟫🟫🟫🌲🟫🟫🟫🟫🟫🟫🟫🟫🟫🟫🟫🟫🟫🟫🟫🟫🟫🟫🟫🟫🟫🟫🟫🟫🟫🟫🟫🟫🟫🟫🟫🟫🟫🟫🟫🌲🟫🟫\n",
      "🟫🟫🟫🟫🟫🟫🟫🟫🟫🌲🟫🟫🟫🟫🟫🟫🟫🟫🟫🟫🟫🟫🟫🟫🟫🟫🟫🟫🟫🌲🟫🟫🟫🟫🟫🟫🟫🟫🟫🟫🟫🟫🟫🟫🟫🟫🟫🌲🟫🟫🟫🟫🟫🟫🌲🟫🟫🟫🌲🟫🟫🟫🟫🟫\n",
      "🟫🟫🟫🟫🟫🟫🌲🟫🟫🟫🟫🟫🟫🟫🟫🟫🟫🟫🟫🟫🟫🟫🟫🌲🟫🟫🟫🟫🟫🟫🟫🟫🌲🟫🟫🟫🟫🟫🌲🟫🟫🟫🟫🟫🟫🟫🟫🟫🟫🟫🟫🌲🟫🟫🟫🟫🟫🟫🟫🟫🟫🟫🟫🟫\n",
      "🟫🟫🟫🟫🟫🟫🟫🟫🟫🟫🟫🟫🟫🟫🟫🟫🟫🟫🟫🟫🟫🟫🟫🟫🟫🟫🟫🟫🟫🟫🟫🟫🟫🟫🟫🟫🟫🟫🟫🟫🟫🟫🌲🟫🟫🟫🟫🟫🟫🟫🟫🟫🟫🟫🟫🟫🟫🟫🟫🟫🟫🟫🟫🟫\n",
      "🟫🌲🟫🟫🟫🟫🟫🟫🟫🟫🟫🟫🟫🟫🟫🌲🟫🟫🟫🟫🟫🟫🟫🟫🟫🟫🟫🟫🌲🟫🟫🟫🟫🟫🟫🟫🌲🟫🟫🟫🟫🟫🟫🟫🟫🌲🟫🟫🟫🟫🟫🟫🟫🟫🟫🟫🟫🟫🟫🟫🌲🟫🟫🟫\n",
      "🟫🟫🟫🟫🌲🟫🟫🟫🟫🟫🌲🟫🟫🟫🟫🟫🟫🟫🌲🟫🟫🟫🟫🌲🟫🟫🟫🟫🟫🟫🟫🟫🟫🟫🟫🟫🟫🟫🟫🌲🟫🟫🟫🟫🟫🟫🟫🟫🟫🟫🟫🟫🟫🟫🟫🌲🟫🟫🟫🟫🟫🟫🟫🟫\n",
      "🟫🟫🟫🟫🟫🟫🟫🟫🟫🟫🟫🟫🟫🌲🟫🟫🟫🟫🟫🟫🟫🟫🟫🟫🟫🟫🟫🟫🟫🟫🟫🟫🟫🟫🟫🟫🟫🟫🟫🟫🟫🟫🟫🟫🟫🟫🟫🟫🌲🟫🟫🟫🟫🟫🟫🟫🟫🟫🌲🟫🟫🟫🟫🟫\n",
      "🟫🟫🟫🟫🟫🟫🟫🌲🟫🟫🟫🟫🟫🟫🟫🟫🟫🟫🟫🟫🟫🌲🟫🟫🟫🟫🟫🟫🟫🌲🟫🟫🟫🟫🟫🟫🟫🟫🟫🟫🟫🟫🟫🟫🟫🟫🟫🟫🟫🟫🟫🟫🟫🟫🟫🟫🟫🟫🟫🟫🟫🟫🌲🟫\n",
      "🟫🟫🟫🟫🟫🟫🟫🟫🟫🟫🟫🟫🟫🟫🟫🟫🟫🟫🟫🟫🟫🟫🟫🟫🟫🟫🟫🟫🟫🟫🟫🟫🟫🟫🌲🟫🟫🟫🟫🟫🟫🟫🌲🟫🟫🟫🟫🟫🟫🟫🟫🌲🟫🟫🟫🟫🟫🟫🟫🟫🟫🟫🟫🟫\n",
      "🟫🌲🟫🟫🟫🟫🟫🟫🟫🟫🟫🟫🟫🟫🌲🟫🟫🟫🌲🟫🟫🟫🟫🟫🟫🟫🟫🟫🟫🟫🟫🟫🟫🟫🟫🟫🟫🌲🟫🟫🟫🟫🟫🟫🟫🟫🌲🟫🟫🟫🟫🟫🟫🟫🟫🟫🌲🟫🟫🟫🟫🟫🟫🟫\n",
      "🟫🟫🟫🟫🌲🟫🟫🌲🟫🟫🟫🌲🟫🟫🟫🟫🟫🟫🟫🟫🟫🟫🟫🟫🌲🟫🟫🟫🟫🟫🟫🟫🟫🟫🟫🟫🟫🟫🟫🟫🟫🟫🟫🟫🟫🟫🟫🟫🟫🟫🟫🟫🟫🟫🟫🟫🟫🟫🟫🌲🟫🟫🟫🌲\n",
      "🟫🟫🟫🟫🟫🟫🟫🟫🟫🟫🟫🟫🟫🟫🟫🟫🟫🟫🟫🟫🟫🟫🟫🟫🟫🟫🟫🟫🟫🟫🟫🟫🌲🟫🟫🟫🟫🟫🟫🟫🟫🟫🟫🟫🟫🟫🟫🟫🟫🟫🟫🟫🌲🟫🟫🟫🟫🟫🟫🟫🟫🟫🟫🟫\n",
      "🟫🟫🟫🟫🟫🟫🟫🟫🟫🟫🟫🟫🟫🟫🟫🟫🟫🟫🟫🟫🟫🟫🟫🟫🟫🟫🟫🟫🌲🟫🟫🟫🟫🟫🟫🟫🟫🟫🟫🟫🟫🌲🟫🟫🟫🟫🌲🟫🟫🟫🟫🟫🟫🟫🟫🌲🟫🟫🟫🟫🟫🟫🟫🟫\n",
      "🟫🟫🟫🌲🟫🟫🟫🟫🟫🟫🟫🟫🟫🟫🟫🟫🟫🟫🟫🟫🟫🟫🟫🟫🌲🟫🟫🟫🟫🟫🟫🟫🟫🟫🟫🌲🟫🟫🌲🟫🟫🟫🟫🟫🟫🟫🟫🟫🟫🌲🟫🟫🟫🟫🟫🟫🟫🟫🟫🟫🟫🌲🟫🟫\n",
      "🌲🟫🟫🟫🟫🟫🟫🌲🟫🟫🟫🟫🌲🟫🟫🟫🟫🟫🟫🟫🟫🌲🟫🟫🟫🟫🟫🟫🟫🟫🟫🟫🟫🟫🟫🟫🟫🟫🟫🟫🟫🟫🟫🟫🟫🟫🟫🟫🟫🟫🟫🟫🟫🟫🟫🟫🟫🟫🌲🟫🟫🟫🟫🟫\n",
      "🟫🟫🟫🟫🟫🟫🟫🟫🟫🟫🟫🟫🟫🟫🟫🟫🟫🌲🟫🟫🟫🟫🟫🟫🟫🟫🟫🌲🟫🟫🟫🟫🌲🟫🟫🟫🟫🟫🟫🟫🟫🟫🌲🟫🟫🟫🌲🟫🟫🟫🟫🟫🌲🟫🟫🟫🟫🟫🟫🟫🟫🟫🟫🟫\n",
      "🟫🟫🟫🟫🟫🟫🟫🟫🟫🟫🟫🟫🟫🟫🟫🟫🟫🟫🟫🟫🟫🟫🟫🟫🟫🟫🟫🟫🟫🟫🟫🟫🟫🟫🟫🟫🟫🌲🟫🟫🟫🟫🟫🟫🟫🟫🟫🟫🟫🟫🟫🟫🟫🟫🟫🌲🟫🟫🟫🟫🟫🟫🟫🟫\n",
      "🟫🟫🌲🟫🟫🟫🟫🟫🟫🟫🟫🟫🟫🌲🟫🟫🟫🟫🌲🟫🟫🟫🟫🟫🟫🟫🟫🟫🟫🟫🟫🟫🟫🟫🟫🟫🟫🟫🟫🟫🟫🟫🟫🟫🟫🟫🟫🟫🟫🌲🟫🟫🟫🟫🟫🟫🟫🟫🟫🟫🟫🟫🟫🟫\n",
      "🟫🟫🟫🟫🟫🟫🟫🟫🟫🌲🟫🟫🟫🟫🟫🟫🟫🟫🟫🟫🟫🟫🟫🌲🟫🟫🟫🟫🟫🟫🟫🌲🟫🟫🌲🟫🟫🟫🟫🟫🟫🟫🟫🟫🟫🟫🟫🟫🟫🟫🟫🟫🟫🟫🟫🟫🟫🟫🟫🌲🟫🟫🟫🟫\n",
      "🟫🟫🟫🟫🌲🟫🟫🟫🟫🟫🟫🟫🟫🟫🟫🟫🌲🟫🟫🟫🟫🟫🟫🟫🟫🟫🟫🟫🟫🟫🟫🟫🟫🟫🟫🟫🟫🟫🟫🌲🟫🟫🟫🟫🟫🟫🟫🟫🟫🟫🟫🟫🟫🟫🟫🟫🟫🟫🟫🟫🟫🟫🟫🟫\n",
      "🟫🟫🌲🟫🟫🟫🟫🌲🟫🟫🟫🟫🟫🟫🟫🟫🟫🟫🟫🟫🟫🟫🟫🟫🟫🟫🟫🟫🌲🟫🟫🟫🟫🟫🟫🟫🟫🟫🟫🟫🟫🟫🟫🟫🌲🟫🟫🟫🟫🟫🟫🟫🟫🟫🟫🟫🟫🟫🟫🟫🟫🟫🟫🟫\n",
      "🟫🟫🟫🟫🟫🟫🟫🟫🟫🟫🌲🟫🟫🟫🟫🟫🟫🟫🟫🟫🟫🟫🟫🟫🟫🟫🟫🟫🟫🟫🟫🟫🟫🟫🟫🟫🟫🟫🟫🟫🟫🟫🟫🟫🟫🟫🟫🌲🟫🟫🟫🟫🌲🟫🟫🟫🟫🌲🟫🟫🟫🟫🟫🌲\n",
      "🟫🟫🟫🟫🟫🟫🟫🟫🟫🟫🟫🟫🟫🟫🌲🟫🟫🟫🟫🌲🟫🟫🟫🌲🟫🟫🟫🟫🟫🟫🟫🟫🟫🟫🟫🟫🌲🟫🟫🟫🟫🌲🟫🟫🟫🟫🟫🟫🟫🟫🟫🟫🟫🟫🟫🟫🟫🟫🟫🟫🟫🟫🟫🟫\n",
      "🟫🟫🟫🟫🌲🟫🟫🟫🌲🟫🟫🟫🟫🟫🟫🟫🟫🟫🟫🟫🟫🟫🟫🟫🟫🟫🟫🟫🟫🟫🟫🌲🟫🟫🟫🟫🟫🟫🟫🟫🟫🟫🟫🟫🟫🟫🟫🟫🟫🟫🟫🟫🟫🟫🟫🟫🟫🟫🟫🌲🟫🟫🟫🟫\n",
      "🌲🟫🟫🟫🟫🟫🟫🟫🟫🟫🟫🟫🟫🟫🟫🟫🟫🟫🟫🟫🟫🟫🟫🟫🟫🟫🟫🟫🟫🟫🟫🟫🟫🟫🟫🟫🟫🟫🌲🟫🟫🟫🟫🟫🟫🟫🌲🟫🟫🟫🟫🟫🟫🟫🟫🟫🟫🟫🟫🟫🟫🟫🟫🟫\n",
      "🟫🟫🟫🟫🟫🟫🟫🟫🟫🟫🟫🟫🟫🌲🟫🟫🟫🟫🟫🌲🟫🟫🟫🟫🟫🟫🟫🟫🟫🟫🟫🟫🟫🟫🟫🟫🟫🟫🟫🟫🟫🟫🟫🟫🟫🟫🟫🟫🟫🟫🟫🌲🟫🟫🟫🌲🟫🟫🟫🟫🟫🟫🟫🟫\n",
      "🟫🟫🟫🟫🟫🌲🟫🟫🟫🟫🟫🟫🟫🟫🟫🟫🟫🟫🟫🟫🟫🟫🟫🟫🟫🟫🌲🟫🟫🟫🟫🟫🟫🟫🟫🟫🟫🟫🟫🟫🟫🟫🟫🟫🟫🟫🟫🟫🟫🟫🟫🟫🟫🟫🟫🟫🟫🟫🟫🟫🌲🟫🟫🌲\n",
      "🟫🟫🟫🟫🟫🟫🟫🟫🟫🟫🟫🟫🟫🟫🟫🟫🟫🟫🟫🟫🟫🟫🌲🟫🟫🟫🟫🟫🟫🟫🟫🟫🟫🟫🌲🟫🟫🟫🟫🟫🌲🟫🟫🟫🟫🟫🟫🟫🟫🟫🟫🟫🟫🟫🟫🟫🟫🟫🟫🟫🟫🟫🟫🟫\n",
      "🟫🟫🌲🟫🟫🟫🟫🟫🌲🟫🟫🟫🟫🟫🟫🌲🟫🟫🟫🟫🟫🟫🟫🟫🟫🟫🟫🟫🟫🟫🟫🟫🟫🟫🟫🟫🟫🟫🟫🟫🟫🟫🟫🟫🟫🟫🟫🌲🟫🟫🟫🟫🟫🟫🟫🟫🌲🟫🟫🟫🟫🟫🟫🟫\n",
      "🟫🟫🟫🟫🟫🟫🟫🟫🟫🟫🟫🟫🟫🟫🟫🟫🟫🟫🟫🟫🟫🟫🟫🟫🟫🟫🟫🟫🟫🟫🟫🌲🟫🟫🟫🟫🟫🟫🟫🟫🟫🟫🟫🟫🟫🟫🟫🟫🟫🟫🌲🟫🟫🟫🟫🟫🟫🟫🟫🟫🟫🟫🟫🟫\n",
      "🟫🟫🟫🟫🟫🌲🟫🟫🟫🟫🟫🟫🟫🟫🟫🟫🟫🟫🌲🟫🟫🟫🟫🟫🟫🟫🟫🟫🟫🟫🟫🟫🟫🟫🟫🟫🟫🟫🌲🟫🟫🟫🟫🌲🟫🟫🟫🟫🟫🟫🟫🟫🟫🟫🟫🟫🟫🟫🟫🟫🟫🟫🌲🟫\n",
      "🟫🟫🟫🟫🟫🟫🟫🟫🟫🟫🟫🟫🟫🟫🟫🟫🟫🟫🟫🟫🟫🟫🟫🟫🟫🟫🟫🌲🟫🟫🟫🟫🟫🟫🟫🌲🟫🟫🟫🟫🟫🟫🟫🟫🟫🟫🟫🟫🟫🟫🟫🟫🟫🟫🟫🟫🟫🟫🟫🟫🟫🟫🟫🟫\n",
      "🟫🟫🟫🟫🟫🟫🟫🟫🟫🟫🟫🟫🌲🟫🟫🟫🟫🟫🟫🟫🟫🟫🟫🟫🟫🌲🟫🟫🟫🟫🟫🟫🟫🟫🟫🟫🟫🟫🟫🟫🟫🟫🟫🟫🟫🟫🟫🟫🟫🟫🟫🟫🟫🟫🟫🟫🟫🟫🟫🟫🟫🟫🟫🟫\n",
      "🟫🟫🟫🌲🟫🟫🌲🟫🟫🟫🟫🟫🟫🟫🟫🟫🟫🟫🟫🟫🟫🌲🟫🟫🟫🟫🟫🟫🟫🟫🟫🟫🌲🟫🟫🟫🟫🟫🟫🟫🟫🟫🟫🟫🟫🟫🟫🌲🟫🟫🟫🟫🟫🟫🟫🟫🟫🟫🟫🟫🌲🟫🟫🟫\n",
      "🟫🟫🟫🟫🟫🟫🟫🟫🟫🟫🟫🌲🟫🟫🟫🟫🟫🌲🟫🟫🟫🟫🟫🟫🟫🟫🟫🟫🟫🟫🟫🟫🟫🟫🟫🌲🟫🟫🟫🟫🟫🌲🟫🟫🟫🟫🟫🟫🟫🟫🌲🟫🟫🟫🌲🟫🟫🟫🟫🟫🟫🟫🟫🟫\n",
      "🌲🟫🟫🟫🟫🟫🟫🟫🟫🟫🟫🟫🟫🟫🌲🟫🟫🟫🟫🟫🟫🟫🟫🟫🟫🟫🟫🟫🟫🌲🟫🟫🟫🟫🟫🟫🟫🟫🟫🟫🟫🟫🟫🌲🟫🟫🟫🟫🟫🟫🟫🟫🟫🟫🟫🟫🟫🟫🟫🟫🟫🟫🌲🟫\n",
      "🟫🟫🟫🟫🟫🟫🟫🟫🟫🟫🟫🟫🟫🟫🟫🟫🟫🟫🟫🟫🟫🟫🟫🌲🟫🟫🟫🟫🟫🟫🟫🟫🟫🟫🟫🟫🟫🟫🟫🟫🟫🟫🟫🟫🟫🟫🟫🟫🟫🟫🟫🟫🟫🟫🟫🟫🟫🟫🟫🌲🟫🟫🟫🟫\n",
      "🟫🟫🌲🟫🟫🌲🟫🟫🟫🌲🟫🟫🌲🟫🟫🟫🟫🟫🌲🟫🟫🟫🟫🟫🟫🟫🟫🟫🟫🟫🟫🟫🟫🟫🟫🟫🟫🟫🟫🟫🟫🟫🟫🟫🟫🟫🟫🌲🟫🟫🟫🟫🟫🟫🟫🌲🟫🟫🟫🟫🟫🟫🟫🟫\n",
      "🟫🟫🟫🟫🟫🟫🟫🟫🟫🟫🟫🟫🟫🟫🟫🟫🟫🟫🟫🟫🟫🌲🟫🟫🟫🟫🟫🟫🟫🟫🟫🟫🟫🟫🟫🟫🟫🟫🟫🌲🟫🟫🟫🟫🟫🟫🟫🟫🟫🟫🟫🟫🌲🟫🟫🟫🟫🟫🟫🟫🟫🟫🟫🟫\n",
      "🟫🟫🟫🟫🟫🟫🟫🟫🟫🟫🟫🟫🟫🟫🟫🟫🟫🟫🟫🟫🟫🟫🟫🟫🟫🟫🟫🟫🌲🟫🟫🟫🟫🟫🌲🟫🟫🟫🟫🟫🟫🟫🟫🟫🟫🟫🟫🟫🟫🟫🟫🟫🟫🟫🟫🟫🟫🟫🟫🟫🟫🟫🟫🌲\n",
      "🌲🟫🟫🌲🟫🟫🌲🟫🟫🟫🟫🟫🟫🟫🟫🌲🟫🟫🟫🟫🟫🟫🟫🟫🟫🟫🟫🟫🟫🟫🟫🟫🟫🟫🟫🟫🟫🟫🟫🟫🟫🟫🌲🟫🟫🟫🟫🟫🟫🟫🌲🟫🟫🟫🟫🟫🟫🟫🌲🟫🟫🟫🟫🟫\n",
      "🟫🟫🟫🟫🟫🟫🟫🟫🟫🟫🟫🟫🌲🟫🟫🟫🟫🟫🟫🟫🌲🟫🟫🟫🟫🟫🟫🟫🟫🟫🟫🟫🟫🟫🟫🟫🟫🟫🟫🟫🟫🟫🟫🟫🟫🟫🟫🟫🟫🟫🟫🟫🟫🟫🟫🟫🟫🟫🟫🟫🟫🟫🟫🟫\n",
      "🟫🟫🟫🟫🟫🟫🟫🟫🟫🟫🟫🟫🟫🟫🟫🟫🟫🟫🟫🟫🟫🟫🟫🟫🟫🌲🟫🟫🟫🟫🟫🟫🟫🟫🟫🟫🟫🟫🌲🟫🟫🟫🟫🟫🟫🟫🟫🌲🟫🟫🟫🟫🟫🟫🟫🌲🟫🟫🟫🟫🟫🟫🌲🟫\n",
      "🟫🌲🟫🟫🟫🟫🟫🟫🟫🟫🟫🟫🟫🟫🟫🟫🟫🟫🟫🟫🟫🟫🟫🟫🟫🟫🟫🟫🟫🟫🟫🌲🟫🟫🟫🟫🟫🟫🟫🟫🟫🟫🟫🟫🟫🟫🟫🟫🟫🟫🟫🟫🟫🟫🟫🟫🟫🟫🌲🟫🟫🟫🟫🟫\n",
      "🟫🟫🟫🟫🟫🟫🟫🟫🟫🌲🟫🟫🟫🟫🌲🟫🟫🟫🟫🟫🟫🟫🟫🟫🟫🟫🟫🟫🟫🟫🟫🟫🟫🟫🟫🟫🟫🟫🟫🟫🟫🌲🟫🟫🟫🟫🟫🟫🟫🟫🌲🟫🟫🟫🟫🟫🟫🟫🟫🟫🟫🟫🟫🟫\n",
      "🟫🟫🟫🟫🌲🟫🟫🟫🟫🟫🟫🟫🟫🟫🟫🟫🟫🟫🟫🟫🟫🟫🌲🟫🟫🟫🟫🟫🟫🟫🟫🟫🟫🟫🌲🟫🟫🟫🟫🟫🟫🟫🟫🟫🟫🟫🟫🟫🟫🟫🟫🟫🟫🟫🟫🌲🟫🟫🟫🟫🟫🟫🟫🟫\n",
      "🟫🟫🟫🟫🟫🟫🟫🟫🟫🟫🟫🟫🟫🟫🟫🟫🟫🟫🌲🟫🟫🟫🟫🟫🟫🟫🟫🟫🟫🟫🟫🟫🟫🟫🟫🟫🟫🟫🟫🟫🟫🟫🟫🌲🟫🟫🟫🟫🟫🟫🟫🟫🌲🟫🟫🟫🟫🟫🟫🌲🟫🟫🌲🟫\n",
      "🟫🟫🌲🟫🟫🟫🟫🌲🟫🟫🟫🟫🟫🌲🟫🟫🟫🟫🟫🟫🟫🟫🟫🟫🟫🟫🟫🌲🟫🟫🟫🟫🟫🟫🟫🟫🟫🟫🟫🟫🟫🟫🟫🟫🟫🟫🟫🟫🟫🌲🟫🟫🟫🟫🟫🟫🟫🟫🟫🟫🟫🟫🟫🟫\n",
      "🟫🟫🟫🟫🟫🟫🟫🟫🟫🟫🌲🟫🟫🟫🟫🟫🟫🟫🟫🟫🟫🟫🟫🟫🌲🟫🟫🟫🟫🟫🟫🟫🌲🟫🟫🟫🟫🟫🟫🟫🟫🟫🟫🟫🟫🟫🟫🟫🟫🟫🟫🟫🟫🟫🟫🟫🟫🟫🟫🟫🟫🟫🟫🟫\n",
      "🟫🟫🟫🟫🟫🟫🟫🟫🟫🟫🟫🟫🟫🟫🟫🟫🌲🟫🟫🟫🟫🟫🟫🟫🟫🟫🟫🟫🟫🟫🟫🟫🟫🟫🟫🟫🟫🟫🟫🌲🟫🟫🟫🟫🟫🟫🟫🟫🟫🟫🟫🟫🟫🟫🌲🟫🟫🟫🟫🟫🟫🟫🟫🟫\n",
      "🌲🟫🟫🌲🟫🟫🌲🟫🟫🟫🟫🟫🌲🟫🟫🟫🟫🟫🟫🟫🟫🌲🟫🟫🟫🟫🟫🟫🟫🌲🟫🟫🟫🟫🟫🟫🟫🟫🟫🟫🟫🟫🟫🟫🟫🟫🌲🟫🟫🟫🟫🌲🟫🟫🟫🟫🟫🟫🌲🟫🟫🟫🟫🟫\n",
      "🟫🟫🟫🟫🟫🟫🟫🟫🟫🟫🟫🟫🟫🟫🟫🟫🟫🟫🟫🟫🟫🟫🟫🟫🟫🟫🟫🟫🟫🟫🟫🟫🟫🟫🟫🟫🟫🌲🟫🟫🟫🌲🟫🟫🟫🟫🟫🟫🟫🟫🟫🟫🟫🟫🟫🟫🟫🟫🟫🟫🟫🟫🟫🟫\n",
      "🟫🟫🟫🟫🟫🟫🟫🟫🟫🌲🟫🟫🟫🟫🌲🟫🟫🟫🟫🟫🟫🟫🟫🟫🟫🌲🟫🟫🟫🟫🟫🟫🟫🌲🟫🟫🟫🟫🟫🟫🟫🟫🟫🟫🟫🟫🟫🟫🟫🟫🟫🟫🟫🌲🟫🟫🟫🟫🟫🟫🟫🟫🌲🟫\n",
      "🟫🟫🟫🌲🟫🟫🟫🟫🟫🟫🟫🟫🟫🟫🟫🟫🟫🟫🟫🟫🌲🟫🟫🟫🟫🟫🟫🟫🟫🟫🟫🟫🟫🟫🟫🟫🟫🟫🟫🟫🟫🟫🟫🟫🌲🟫🟫🟫🟫🟫🌲🟫🟫🟫🟫🟫🟫🟫🟫🟫🟫🟫🟫🟫\n",
      "🟫🟫🟫🟫🟫🟫🟫🟫🟫🟫🟫🟫🟫🟫🟫🟫🌲🟫🟫🟫🟫🟫🟫🟫🟫🟫🟫🟫🟫🟫🟫🌲🟫🟫🟫🟫🌲🟫🟫🟫🟫🟫🟫🟫🟫🟫🟫🟫🟫🟫🟫🟫🟫🟫🟫🟫🟫🟫🟫🟫🟫🟫🟫🟫\n",
      "🟫🟫🟫🟫🟫🟫🟫🟫🟫🟫🟫🟫🟫🟫🟫🟫🟫🟫🟫🟫🟫🟫🟫🟫🟫🟫🌲🟫🟫🟫🟫🟫🟫🟫🟫🟫🟫🟫🟫🟫🌲🟫🟫🟫🟫🟫🟫🟫🟫🟫🟫🟫🟫🟫🟫🟫🌲🟫🟫🟫🟫🟫🟫🟫\n",
      "🟫🟫🟫🟫🟫🌲🟫🟫🌲🟫🟫🟫🌲🟫🟫🟫🟫🟫🟫🟫🌲🟫🟫🟫🟫🟫🟫🟫🟫🟫🟫🟫🟫🟫🟫🟫🟫🟫🟫🟫🟫🟫🟫🟫🌲🟫🟫🟫🟫🟫🟫🟫🟫🌲🟫🟫🟫🟫🟫🟫🌲🟫🟫🟫\n",
      "🟫🟫🟫🟫🟫🟫🟫🟫🟫🟫🟫🟫🟫🟫🟫🟫🟫🟫🟫🟫🟫🟫🟫🌲🟫🟫🟫🟫🟫🟫🟫🟫🌲🟫🟫🟫🌲🟫🟫🟫🟫🟫🟫🟫🟫🟫🟫🟫🟫🟫🟫🟫🟫🟫🟫🟫🟫🟫🟫🟫🟫🟫🟫🟫\n",
      "🟫🌲🟫🟫🟫🟫🟫🟫🟫🟫🟫🟫🟫🟫🟫🟫🟫🟫🌲🟫🟫🟫🟫🟫🟫🟫🟫🌲🟫🟫🟫🟫🟫🟫🟫🟫🟫🟫🟫🟫🟫🟫🌲🟫🟫🟫🟫🌲🟫🟫🟫🟫🟫🟫🟫🟫🟫🟫🟫🟫🟫🟫🟫🌲\n",
      "🟫🟫🟫🟫🟫🟫🌲🟫🟫🟫🟫🟫🟫🟫🟫🌲🟫🟫🟫🟫🟫🟫🟫🟫🟫🟫🟫🟫🟫🟫🟫🟫🟫🟫🟫🟫🟫🟫🟫🟫🟫🟫🟫🟫🟫🟫🟫🟫🟫🟫🟫🌲🟫🟫🟫🟫🟫🟫🟫🟫🟫🟫🟫🟫\n",
      "🟫🟫🟫🟫🟫🟫🟫🟫🟫🟫🟫🟫🟫🟫🟫🟫🟫🟫🟫🟫🟫🟫🟫🟫🟫🟫🟫🟫🟫🟫🟫🟫🟫🟫🌲🟫🟫🟫🟫🟫🟫🟫🟫🟫🟫🟫🟫🟫🟫🟫🟫🟫🟫🟫🟫🟫🟫🌲🟫🟫🟫🟫🟫🟫\n",
      "🟫🟫🟫🟫🟫🟫🟫🟫🟫🟫🌲🟫🟫🟫🟫🟫🟫🟫🟫🟫🟫🌲🟫🟫🟫🟫🌲🟫🟫🟫🟫🟫🟫🟫🟫🟫🟫🟫🟫🌲🟫🟫🟫🟫🟫🌲🟫🟫🟫🟫🟫🟫🟫🟫🌲🟫🟫🟫🟫🟫🟫🟫🟫🟫\n",
      "🟫🟫🟫🌲🟫🟫🟫🟫🟫🟫🟫🟫🟫🟫🟫🟫🟫🟫🟫🟫🟫🟫🟫🟫🟫🟫🟫🟫🟫🌲🟫🟫🟫🟫🟫🟫🟫🟫🟫🟫🟫🟫🟫🟫🟫🟫🟫🟫🟫🟫🌲🟫🟫🟫🟫🟫🟫🟫🟫🟫🟫🟫🟫🟫\n",
      "🟫🟫🟫🟫🟫🟫🟫🟫🌲🟫🟫🟫🟫🟫🟫🟫🟫🟫🟫🟫🟫🟫🟫🟫🟫🟫🟫🟫🟫🟫🟫🟫🟫🌲🟫🟫🌲🟫🟫🟫🌲🟫🟫🟫🟫🟫🟫🟫🟫🟫🟫🟫🟫🟫🟫🟫🟫🌲🟫🟫🟫🌲🟫🟫\n",
      "🟫🟫🟫🟫🟫🟫🟫🟫🟫🟫🟫🟫🌲🟫🟫🌲🟫🟫🟫🌲🟫🟫🟫🟫🌲🟫🟫🟫🟫🟫🟫🟫🟫🟫🟫🟫🟫🟫🟫🟫🟫🟫🟫🟫🟫🟫🟫🟫🟫🟫🟫🟫🟫🟫🟫🟫🟫🟫🟫🟫🟫🟫🟫🟫\n",
      "🟫🟫🟫🟫🟫🟫🟫🟫🟫🟫🟫🟫🟫🟫🟫🟫🟫🟫🟫🟫🟫🟫🟫🟫🟫🟫🟫🟫🟫🟫🟫🟫🟫🟫🟫🟫🟫🟫🟫🟫🟫🟫🟫🌲🟫🟫🟫🟫🟫🟫🟫🟫🟫🟫🟫🟫🟫🟫🟫🟫🟫🟫🟫🟫\n",
      "🟫🟫🟫🟫🌲🟫🟫🟫🟫🟫🟫🟫🟫🟫🟫🟫🟫🟫🟫🟫🟫🟫🌲🟫🟫🟫🟫🟫🌲🟫🟫🌲🟫🟫🟫🟫🟫🟫🟫🟫🟫🟫🟫🟫🟫🟫🟫🌲🟫🟫🟫🟫🌲🟫🟫🟫🌲🟫🟫🟫🟫🟫🌲🟫\n",
      "🟫🟫🟫🟫🟫🟫🟫🌲🟫🟫🟫🟫🌲🟫🟫🟫🌲🟫🟫🟫🟫🟫🟫🟫🟫🌲🟫🟫🟫🟫🟫🟫🟫🟫🟫🟫🟫🌲🟫🟫🌲🟫🟫🟫🟫🟫🟫🟫🟫🟫🟫🟫🟫🟫🟫🟫🟫🟫🟫🟫🟫🟫🟫🟫\n"
     ]
    }
   ],
   "source": [
    "resultado = a.poisson_disc_sampling(3,10)\n",
    "for r in resultado:\n",
    "    print(\"\".join([str(\"🌲\" if j==1 else \"🟫\") for j in list(r.flatten())][0:64]))"
   ]
  }
 ],
 "metadata": {
  "kernelspec": {
   "display_name": ".venv",
   "language": "python",
   "name": "python3"
  },
  "language_info": {
   "codemirror_mode": {
    "name": "ipython",
    "version": 3
   },
   "file_extension": ".py",
   "mimetype": "text/x-python",
   "name": "python",
   "nbconvert_exporter": "python",
   "pygments_lexer": "ipython3",
   "version": "3.12.3"
  }
 },
 "nbformat": 4,
 "nbformat_minor": 2
}
