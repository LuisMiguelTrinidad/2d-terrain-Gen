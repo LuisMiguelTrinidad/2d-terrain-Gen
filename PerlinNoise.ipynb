{
 "cells": [
  {
   "cell_type": "code",
   "execution_count": 3,
   "metadata": {},
   "outputs": [],
   "source": [
    "import opensimplex\n",
    "import numpy as np\n",
    "import math\n",
    "import os\n",
    "import multiprocessing as mp\n",
    "import plotly.express as px\n",
    "from random import randint, random, uniform"
   ]
  },
  {
   "cell_type": "code",
   "execution_count": 4,
   "metadata": {},
   "outputs": [],
   "source": [
    "class generator:\n",
    "    \"\"\"\n",
    "    A class to generate terrain using OpenSimplex noise and other procedural generation techniques.\n",
    "    Attributes:\n",
    "    -----------\n",
    "    BIOMAS : dict\n",
    "        A dictionary containing biome information with keys as biome IDs and values as tuples containing\n",
    "        humidity, altitude, temperature, biome name, color, and objects with their probabilities.\n",
    "    CHUNK_SIZE : int\n",
    "        The size of each chunk in the terrain.\n",
    "    CERCANIA_BIOMAS : np.ndarray\n",
    "        A numpy array loaded from a file that contains biome proximity data.\n",
    "    Methods:\n",
    "    --------\n",
    "    __init__(seedTemp: int = None, seedAltu: int = None, seedHume: int = None, seedRios: int = None, \n",
    "             varTemp: int = 256, varAltu: int = 512, varHume: int = 512, varRios: int = 128, \n",
    "             dispTemp: int = 2, dispAltu: int = 4, dispHume: int = 2, dispRios: int = 4, \n",
    "             nivelAgua: int = 0.5, tamRios: int = 5):\n",
    "        Initializes the generator with given seeds, variations, disparities, water level, and river size.\n",
    "    getNoise(seed: int, x_in: int, y_in: int, iterations: int, size: int, disparity: int = 3) -> np.float16:\n",
    "        Generates Perlin noise for a given seed, coordinates, iterations, size, and disparity.\n",
    "    getNoiseArray(seed: int, x_in: int, y_in: int, iterations: int, size: int, disparity: int = 3) -> np.ndarray:\n",
    "        Generates a 2D array of Perlin noise for a given seed, coordinates, iterations, size, and disparity.\n",
    "    getBioma(temp: float, altu: float, hume: float, rios: float) -> np.uint8:\n",
    "        Determines the biome type based on temperature, altitude, humidity, and river presence.\n",
    "    getChunk(x: int, y: int) -> np.ndarray:\n",
    "        Retrieves or generates a chunk of terrain data for given coordinates.\n",
    "    getChunksInRange(x_range: tuple[int, int], y_range: tuple[int, int]) -> np.ndarray:\n",
    "        Retrieves or generates multiple chunks of terrain data within a specified range of coordinates.\n",
    "    representation(x_range: tuple[int, int], y_range: tuple[int, int]) -> None:\n",
    "        Generates a visual representation of the terrain within a specified range of coordinates.\n",
    "    poisson_disc_sampling(radius: int, k: int) -> np.ndarray:\n",
    "        Generates a 2D array using Poisson-disc sampling for a given radius and number of attempts.\n",
    "    \"\"\"\n",
    "    #(Humedad altura temperatura), nombre del bioma, color en formato (r,g,b)\n",
    "    BIOMAS = {\n",
    "        0: ([-1, -1, -1], 'Oceano', (56, 148, 194)),\n",
    "        1: ([-1, -1, -1], 'Oceano profundo', (27, 59, 140)),\n",
    "        2: ([-1, -1, -1], 'Rios y lagos', (126, 180, 237)),\n",
    "        3: ([0.5, 0.0, 0.5], 'Costa', (245, 240, 108)),\n",
    "        4: ([0.75, 0.1, 0.05], 'Polo', (250, 250, 250)),\n",
    "        5: ([0.8, 0.15, 0.45], 'Pantano', (33, 133, 99)),\n",
    "        6: ([0.35, 0.25, 0.55], 'Dehesa', (128, 179, 30)),\n",
    "        7: ([0.6, 0.3, 0.55], 'Selva', (0, 183, 10)),\n",
    "        8: ([0.2, 0.3, 0.6], 'Savana', (228, 125, 28)),\n",
    "        9: ([0.0, 0.3, 0.8], 'Desierto', (255, 211, 29)),\n",
    "        10: ([0.8, 0.3, 0.3], 'Setas', (152, 3, 252)),\n",
    "        12: ([0.65, 0.35, 0.45], 'Sakura', (235, 89, 235)),\n",
    "        13: ([0.4, 0.4, 0.4], 'Bosque', (53, 118, 43)),\n",
    "        14: ([0.2, 0.65, 0.7], 'Meseta', (110, 88, 66)),\n",
    "        15: ([0.7, 0.8, 0.2], 'Tundra', (208, 208, 240)),\n",
    "        16: ([0.15, 0.8, 0.85], 'Volcanico', (159, 16, 16)),\n",
    "        17: ([0.35, 9, 0.35], 'Montaña', (125, 125, 125))\n",
    "    }\n",
    "\n",
    "    CHUNK_SIZE = 128\n",
    "\n",
    "    def __init__(\n",
    "        self, \n",
    "        seedTemp: int = None, seedAltu: int = None, seedHume: int = None, seedRios: int = None,\n",
    "        varTemp: int = 256, varAltu: int = 512, varHume: int = 512, varRios: int = 128,\n",
    "        dispTemp: int = 2, dispAltu: int = 4, dispHume: int = 2, dispRios: int = 4,\n",
    "        nivelAgua: int = 0.5,\n",
    "        tamRios: int = 5,\n",
    "        itTemp: int = 3, itAltu: int = 5, itHume: int = 3, itRios: int = 4,\n",
    "        ):\n",
    "        \"\"\"\n",
    "        Initialize the PerlinNoise generator with various parameters.\n",
    "\n",
    "        Parameters:\n",
    "        seedTemp (int, optional): Seed for temperature noise. Defaults to a random value.\n",
    "        seedAltu (int, optional): Seed for altitude noise. Defaults to a random value.\n",
    "        seedHume (int, optional): Seed for humidity noise. Defaults to a random value.\n",
    "        seedRios (int, optional): Seed for river noise. Defaults to a random value.\n",
    "        varTemp (int, optional): Variation for temperature noise. Defaults to 256.\n",
    "        varAltu (int, optional): Variation for altitude noise. Defaults to 512.\n",
    "        varHume (int, optional): Variation for humidity noise. Defaults to 512.\n",
    "        varRios (int, optional): Variation for river noise. Defaults to 128.\n",
    "        dispTemp (int, optional): Displacement for temperature noise. Defaults to 2.\n",
    "        dispAltu (int, optional): Displacement for altitude noise. Defaults to 4.\n",
    "        dispHume (int, optional): Displacement for humidity noise. Defaults to 2.\n",
    "        dispRios (int, optional): Displacement for river noise. Defaults to 4.\n",
    "        nivelAgua (int, optional): Water level. Defaults to 0.5.\n",
    "        tamRios (int, optional): Size of rivers. Defaults to 5.\n",
    "        itTemp (int, optional): Iterations for temperature noise. Defaults to 3.\n",
    "        itAltu (int, optional): Iterations for altitude noise. Defaults to 5.\n",
    "        itHume (int, optional): Iterations for humidity noise. Defaults to 3.\n",
    "        itRios (int, optional): Iterations for river noise. Defaults to 4.\n",
    "        \"\"\"\n",
    "        self.SEEDTEMP = seedTemp if seedTemp != None else randint(-2**62, 2**62)\n",
    "        self.SEEDALTU = seedAltu if seedTemp != None else randint(-2**62, 2**62)\n",
    "        self.SEEDHUME = seedHume if seedTemp != None else randint(-2**62, 2**62)\n",
    "        self.SEEDRIOS = seedRios if seedTemp != None else randint(-2**62, 2**62)\n",
    "        self.VARTEMP = varTemp\n",
    "        self.VARALTU = varAltu\n",
    "        self.VARHUME = varHume\n",
    "        self.VARRIOS = varRios\n",
    "        self.DISPTEMP = dispTemp\n",
    "        self.DISPALTU = dispAltu\n",
    "        self.DISPHUME = dispHume\n",
    "        self.DISPRIOS = dispRios\n",
    "        self.NIVELAGUA = nivelAgua\n",
    "        self.TAMRIOS = tamRios\n",
    "        self.ITTEMP = itTemp\n",
    "        self.ITALTU = itAltu\n",
    "        self.ITHUME = itHume\n",
    "        self.ITRIOS = itRios\n",
    "\n",
    "    def getNoise(self, seed: int, x_in: int, y_in: int, iterations: int, size: int, disparity: int = 3) -> np.float16:\n",
    "        \"\"\"\n",
    "        Generates Perlin noise based on the given parameters.\n",
    "        Args:\n",
    "            seed (int): The seed value for the noise generation.\n",
    "            x_in (int): The x-coordinate input for the noise function.\n",
    "            y_in (int): The y-coordinate input for the noise function.\n",
    "            iterations (int): The number of iterations to perform for noise generation.\n",
    "            size (int): The size parameter that affects the scale of the noise.\n",
    "            disparity (int, optional): The number of disparity iterations to smooth the noise. Default is 3.\n",
    "        Returns:\n",
    "            np.float16: The generated noise value.\n",
    "        \"\"\"\n",
    "        opensimplex.seed(seed)\n",
    "        ruido = 0\n",
    "        for r in range(iterations):\n",
    "            divisor = (size/2**r)\n",
    "            exponenciador = (2**r)\n",
    "            ruido += opensimplex.noise2(x=(x_in)/divisor, y=(y_in)/divisor)/exponenciador\n",
    "            \n",
    "        maximo = sum([2/(2**r) for r in range(iterations)])\n",
    "        ruido = (ruido + maximo)/(2*maximo)     \n",
    "        for r in range(disparity):\n",
    "            ruido = 0.5 + math.sin(math.pi*ruido - math.pi/2)/2\n",
    "        return ruido\n",
    "\n",
    "    def getNoiseArray(\n",
    "        self, \n",
    "        seed: np.int64, \n",
    "        x_in: np.int64, \n",
    "        y_in: np.int64, \n",
    "        iterations: np.uint8, \n",
    "        size: np.uint8, \n",
    "        disparity: np.uint8 = 3\n",
    "        ) -> np.ndarray:\n",
    "        \"\"\"\n",
    "        Generates a 2D array of Perlin noise values.\n",
    "        Args:\n",
    "            seed (np.int64): Seed for the noise generation.\n",
    "            x_in (np.int64): X-coordinate input for the chunk.\n",
    "            y_in (np.int64): Y-coordinate input for the chunk.\n",
    "            iterations (np.uint8): Number of iterations for noise generation.\n",
    "            size (np.uint8): Size parameter for noise scaling.\n",
    "            disparity (np.uint8, optional): Number of disparity adjustments to apply. Default is 3.\n",
    "        Returns:\n",
    "            np.ndarray: A 2D array of generated noise values.\n",
    "        \"\"\"\n",
    "        x = self.CHUNK_SIZE*x_in\n",
    "        y = self.CHUNK_SIZE*y_in\n",
    "        opensimplex.seed(seed)\n",
    "\n",
    "        rango = range(0,self.CHUNK_SIZE)\n",
    "        noise_array = np.zeros(dtype=np.float16, shape=(self.CHUNK_SIZE, self.CHUNK_SIZE))\n",
    "\n",
    "        for r in range(iterations):\n",
    "            divisor = (size/2**r)\n",
    "            exponenciador = (2**r)\n",
    "            for i in rango:\n",
    "                for j in rango:\n",
    "                    noise_array[j, i] += opensimplex.noise2(x=(i+x)/divisor, y=(y+j)/divisor)/exponenciador\n",
    "        \n",
    "        maximo = sum([2/(2**r) for r in range(iterations)])\n",
    "        for i in rango:\n",
    "            for j in rango:\n",
    "                valor = (noise_array[j, i] + maximo)/(2*maximo)     \n",
    "                for r in range(disparity):\n",
    "                    valor = 0.5 + math.sin(math.pi*valor - math.pi/2)/2\n",
    "                noise_array[j, i] = valor\n",
    "        return noise_array\n",
    "    \n",
    "    def getBioma(\n",
    "        self, \n",
    "        hume: np.float16, \n",
    "        altu: np.float16, \n",
    "        temp: np.float16, \n",
    "        rios: np.float16\n",
    "        ) -> np.uint8:\n",
    "        \"\"\"\n",
    "        Determines the biome type based on temperature, altitude, humidity, and proximity to rivers.\n",
    "        Args:\n",
    "            temp (np.float16): Temperature value.\n",
    "            altu (np.float16): Altitude value.\n",
    "            hume (np.float16): Humidity value.\n",
    "            rios (np.float16): Proximity to rivers value.\n",
    "        Returns:\n",
    "            np.uint8: Biome type identifier.\n",
    "            - 0: Ocean\n",
    "            - 1: Deep Ocean\n",
    "            - 2: Rivers and Lakes\n",
    "            - Other values based on the CERCANIA_BIOMAS matrix.\n",
    "        \"\"\"\n",
    "        if(altu < self.NIVELAGUA):\n",
    "            if (altu <= self.NIVELAGUA*0.8):\n",
    "                return 1 #Oceano profundo\n",
    "            else:\n",
    "                return 0 #Oceano\n",
    "        elif(0.5 - self.TAMRIOS/100 < rios < 0.5 + self.TAMRIOS/100):\n",
    "            return 2 #Rios y lagos\n",
    "        else:\n",
    "            alt = (altu-self.NIVELAGUA)/self.NIVELAGUA\n",
    "            tem = temp\n",
    "            hum = hume\n",
    "            mejorDistancia = float('inf')\n",
    "            mejorBioma = None\n",
    "            for r in generator.BIOMAS.keys():\n",
    "                distancia = np.linalg.norm(np.array(generator.BIOMAS[r][0]) - np.array([hum, alt, tem]))\n",
    "                if distancia < mejorDistancia:\n",
    "                    mejorDistancia = distancia\n",
    "                    mejorBioma = r\n",
    "            return np.uint8(mejorBioma)\n",
    "\n",
    "    def getChunk(self, x: np.int16, y: np.int16) -> np.ndarray:\n",
    "        \"\"\"\n",
    "        Generates or loads a chunk of terrain data based on the given coordinates.\n",
    "\n",
    "        This method checks if the chunk data for the specified coordinates (x, y) already exists.\n",
    "        If it does, the data is loaded from a .npy file. If not, the method generates the chunk\n",
    "        data using Perlin noise and saves it to a .npy file for future use.\n",
    "\n",
    "        Args:\n",
    "            x (np.int16): The x-coordinate of the chunk.\n",
    "            y (bp.int16): The y-coordinate of the chunk.\n",
    "\n",
    "        Returns:\n",
    "            np.ndarray: A 2D array representing the generated or loaded chunk data.\n",
    "        \"\"\"\n",
    "        if os.path.exists(f\"./Chunks/T_{self.SEEDTEMP}A_{self.SEEDTEMP}H_{self.SEEDTEMP}/{x}/{y}.npy\"):\n",
    "            return np.load(f\"./Chunks/T_{self.SEEDTEMP}A_{self.SEEDTEMP}H_{self.SEEDTEMP}/{x}/{y}.npy\")\n",
    "        else:\n",
    "            temp = self.getNoiseArray(self.SEEDTEMP, x, y, self.ITTEMP, self.VARTEMP, self.DISPTEMP)\n",
    "            altu = self.getNoiseArray(self.SEEDALTU, x, y, self.ITALTU, self.VARALTU, self.DISPALTU)\n",
    "            hume = self.getNoiseArray(self.SEEDHUME, x, y, self.ITHUME, self.VARHUME, self.DISPHUME)\n",
    "            rios = self.getNoiseArray(self.SEEDRIOS, x, y, self.ITRIOS, self.VARRIOS, self.DISPRIOS)\n",
    "            array_biomas = np.zeros(dtype=np.uint8, shape=(self.CHUNK_SIZE,self.CHUNK_SIZE))\n",
    "\n",
    "            for i in range(self.CHUNK_SIZE):\n",
    "                for j in range(self.CHUNK_SIZE):\n",
    "                    array_biomas[i, j] = self.getBioma(hume[i, j], altu[i, j], temp[i, j], rios[i, j])\n",
    "            os.makedirs(f\"./Chunks/T_{self.SEEDTEMP}A_{self.SEEDTEMP}H_{self.SEEDTEMP}/{x}\", exist_ok=True)\n",
    "            np.save(f\"./Chunks/T_{self.SEEDTEMP}A_{self.SEEDTEMP}H_{self.SEEDTEMP}/{x}/{y}\", array_biomas)\n",
    "            return array_biomas\n",
    "    \n",
    "    def getChunksInRange(self, x_range: tuple[np.int16, np.int16], y_range: tuple[np.int16, np.int16]) -> np.ndarray:\n",
    "        \"\"\"\n",
    "        Generates a 2D array of chunks within the specified x and y ranges.\n",
    "\n",
    "        Args:\n",
    "            x_range (tuple[np.int16, np.int16]): A tuple specifying the start and end of the x range.\n",
    "            y_range (tuple[np.int16, np.int16]): A tuple specifying the start and end of the y range.\n",
    "\n",
    "        Returns:\n",
    "            np.ndarray: A 2D array containing the chunks within the specified ranges.\n",
    "        \"\"\"\n",
    "        arr = None\n",
    "        for i in range(x_range[0], x_range[1]):\n",
    "            arr_proc = []\n",
    "            for j in range(y_range[0], y_range[1]):\n",
    "                arr_proc.append(mp.Process(target=self.getChunk, args=(i, j)))\n",
    "                arr_proc[-1].start()\n",
    "            for proc in arr_proc:\n",
    "                proc.join()\n",
    "\n",
    "            arr_line = None\n",
    "            for j in range(y_range[0], y_range[1]):\n",
    "                if arr_line is None:\n",
    "                    arr_line = self.getChunk(i, j)\n",
    "                else:\n",
    "                    arr_line = np.vstack((arr_line, self.getChunk(i, j)))\n",
    "\n",
    "            if arr is None:\n",
    "                arr = arr_line\n",
    "            else:\n",
    "                arr = np.hstack((arr, arr_line))\n",
    "        return arr\n",
    "\n",
    "    def representation(self, x_range: tuple[int, int], y_range: tuple[int, int]) -> None:\n",
    "        \"\"\"\n",
    "        Generates a visual representation of the terrain within the specified range.\n",
    "        This method creates a color-coded image of the terrain based on the biome data\n",
    "        and displays it using Plotly. It also adds a legend to the image to indicate\n",
    "        the different biomes.\n",
    "        Args:\n",
    "            x_range (tuple[int, int]): The range of x-coordinates to include in the representation.\n",
    "            y_range (tuple[int, int]): The range of y-coordinates to include in the representation.\n",
    "        Returns:\n",
    "            None\n",
    "        \"\"\"\n",
    "        arr = self.getChunksInRange(x_range, y_range)\n",
    "        color_arr = np.zeros((arr.shape[0], arr.shape[1], 3), dtype=np.uint8)\n",
    "\n",
    "        for i in range(arr.shape[0]):\n",
    "            for j in range(arr.shape[1]):\n",
    "                color_arr[i, j] = generator.BIOMAS[arr[i, j]][2]\n",
    "        \n",
    "        fig = px.imshow(color_arr)\n",
    "        # Adjust the figure size here, considering the legend size\n",
    "        fig.update_layout(\n",
    "            width=arr.shape[1] + 300,  # Add extra width for the legend\n",
    "            height=arr.shape[0] + 300  # Add extra height for the legend\n",
    "        )\n",
    "\n",
    "        # Add legend\n",
    "        legend_items = []\n",
    "        for key, value in generator.BIOMAS.items():\n",
    "            legend_items.append(\n",
    "                dict(\n",
    "                    name=value[1],\n",
    "                    marker=dict(color=f\"rgb{value[2]}\", size=20),\n",
    "                    mode='markers',\n",
    "                    type='scatter',\n",
    "                    x=[None],\n",
    "                    y=[None]\n",
    "                )\n",
    "            )\n",
    "        fig.add_traces(legend_items)\n",
    "        fig.show()\n",
    "    \n",
    "    def poisson_disc_sampling(self, radius: int, k: int) -> np.ndarray:\n",
    "        \"\"\"\n",
    "        Generates a 2D numpy array using Poisson Disc Sampling.\n",
    "\n",
    "        Parameters:\n",
    "        - radius (int): Minimum distance between points.\n",
    "        - k (int): Number of attempts to place a new point around an existing point.\n",
    "\n",
    "        Returns:\n",
    "        - np.ndarray: A 2D numpy array where sampled points are marked with 1s.\n",
    "        \"\"\"\n",
    "        GRID_SIZE = int(radius / math.sqrt(2))\n",
    "        columnas, filas = self.CHUNK_SIZE // GRID_SIZE, self.CHUNK_SIZE // GRID_SIZE\n",
    "\n",
    "        def generate_point_around(point):\n",
    "            r = radius * (random() + 1)\n",
    "            angle = 2 * math.pi * random()\n",
    "            new_x = point[0] + r * math.cos(angle)\n",
    "            new_y = point[1] + r * math.sin(angle)\n",
    "            return new_x, new_y\n",
    "\n",
    "        def in_bounds(point):\n",
    "            return 0 <= point[0] < self.CHUNK_SIZE and 0 <= point[1] < self.CHUNK_SIZE\n",
    "\n",
    "        def fits(point):\n",
    "            col = int(point[0] / GRID_SIZE)\n",
    "            row = int(point[1] / GRID_SIZE)\n",
    "            for i in range(max(col - 2, 0), min(col + 3, columnas)):\n",
    "                for j in range(max(row - 2, 0), min(row + 3, filas)):\n",
    "                    neighbor = grid[i, j]\n",
    "                    if neighbor is not None and np.hypot(point[0] - neighbor[0], point[1] - neighbor[1]) < radius:\n",
    "                        return False\n",
    "            return True\n",
    "\n",
    "        def restart_simulation(start_point):\n",
    "            nonlocal grid, active, points\n",
    "            grid = np.empty((columnas, filas), dtype=object)\n",
    "            points = [start_point]\n",
    "            active = [start_point]\n",
    "            col = int(start_point[0] / GRID_SIZE)\n",
    "            row = int(start_point[1] / GRID_SIZE)\n",
    "            grid[col, row] = start_point\n",
    "\n",
    "        # Create a grid to store points\n",
    "        grid = np.zeros((columnas, filas), dtype=object)\n",
    "\n",
    "        # List to store active points\n",
    "        active = []\n",
    "        points = []\n",
    "\n",
    "        # Initialize with a random point\n",
    "        initial_point = (uniform(0, self.CHUNK_SIZE), uniform(0, self.CHUNK_SIZE))\n",
    "        restart_simulation(initial_point)\n",
    "\n",
    "        # Main loop\n",
    "        while active:\n",
    "            rand_index = randint(0, len(active) - 1)\n",
    "            point = active[rand_index]\n",
    "            found = False\n",
    "\n",
    "            for _ in range(k):\n",
    "                new_point = generate_point_around(point)\n",
    "                if in_bounds(new_point) and fits(new_point):\n",
    "                    points.append(new_point)\n",
    "                    active.append(new_point)\n",
    "                    col = int(new_point[0] / GRID_SIZE)\n",
    "                    row = int(new_point[1] / GRID_SIZE)\n",
    "                    grid[col, row] = new_point\n",
    "                    found = True\n",
    "                    break\n",
    "\n",
    "            if not found:\n",
    "                active.pop(rand_index)\n",
    "                # Create a 2D numpy array representation\n",
    "        matrix = np.zeros((self.CHUNK_SIZE, self.CHUNK_SIZE), dtype=np.uint8)\n",
    "        for p in points:\n",
    "            x, y = int(p[0]), int(p[1])\n",
    "            matrix[y, x] = 1\n",
    "\n",
    "        return matrix\n"
   ]
  },
  {
   "cell_type": "code",
   "execution_count": 5,
   "metadata": {},
   "outputs": [],
   "source": [
    "a = generator(\n",
    "    seedTemp=1353,\n",
    "    seedAltu=13312,\n",
    "    seedHume=3123,\n",
    "    seedRios=3134,\n",
    "    tamRios=7,\n",
    "    varRios=128\n",
    "    )"
   ]
  },
  {
   "cell_type": "code",
   "execution_count": 6,
   "metadata": {},
   "outputs": [
    {
     "data": {
      "text/plain": [
       "np.uint8(7)"
      ]
     },
     "execution_count": 6,
     "metadata": {},
     "output_type": "execute_result"
    }
   ],
   "source": [
    "a.getBioma(0.5,0.6,0.5,0.7)"
   ]
  },
  {
   "cell_type": "code",
   "execution_count": 7,
   "metadata": {},
   "outputs": [
    {
     "data": {
      "application/vnd.plotly.v1+json": {
       "config": {
        "plotlyServerURL": "https://plot.ly"
       },
       "data": [
        {
         "hovertemplate": "x: %{x}<br>y: %{y}<br>color: [%{z[0]}, %{z[1]}, %{z[2]}]<extra></extra>",
         "name": "0",
         "source": "data:image/png;base64,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",
         "type": "image",
         "xaxis": "x",
         "yaxis": "y"
        },
        {
         "marker": {
          "color": "rgb(56, 148, 194)",
          "size": 20
         },
         "mode": "markers",
         "name": "Oceano",
         "type": "scatter",
         "x": [
          null
         ],
         "y": [
          null
         ]
        },
        {
         "marker": {
          "color": "rgb(27, 59, 140)",
          "size": 20
         },
         "mode": "markers",
         "name": "Oceano profundo",
         "type": "scatter",
         "x": [
          null
         ],
         "y": [
          null
         ]
        },
        {
         "marker": {
          "color": "rgb(126, 180, 237)",
          "size": 20
         },
         "mode": "markers",
         "name": "Rios y lagos",
         "type": "scatter",
         "x": [
          null
         ],
         "y": [
          null
         ]
        },
        {
         "marker": {
          "color": "rgb(245, 240, 108)",
          "size": 20
         },
         "mode": "markers",
         "name": "Costa",
         "type": "scatter",
         "x": [
          null
         ],
         "y": [
          null
         ]
        },
        {
         "marker": {
          "color": "rgb(250, 250, 250)",
          "size": 20
         },
         "mode": "markers",
         "name": "Polo",
         "type": "scatter",
         "x": [
          null
         ],
         "y": [
          null
         ]
        },
        {
         "marker": {
          "color": "rgb(33, 133, 99)",
          "size": 20
         },
         "mode": "markers",
         "name": "Pantano",
         "type": "scatter",
         "x": [
          null
         ],
         "y": [
          null
         ]
        },
        {
         "marker": {
          "color": "rgb(128, 179, 30)",
          "size": 20
         },
         "mode": "markers",
         "name": "Dehesa",
         "type": "scatter",
         "x": [
          null
         ],
         "y": [
          null
         ]
        },
        {
         "marker": {
          "color": "rgb(0, 183, 10)",
          "size": 20
         },
         "mode": "markers",
         "name": "Selva",
         "type": "scatter",
         "x": [
          null
         ],
         "y": [
          null
         ]
        },
        {
         "marker": {
          "color": "rgb(228, 125, 28)",
          "size": 20
         },
         "mode": "markers",
         "name": "Savana",
         "type": "scatter",
         "x": [
          null
         ],
         "y": [
          null
         ]
        },
        {
         "marker": {
          "color": "rgb(255, 211, 29)",
          "size": 20
         },
         "mode": "markers",
         "name": "Desierto",
         "type": "scatter",
         "x": [
          null
         ],
         "y": [
          null
         ]
        },
        {
         "marker": {
          "color": "rgb(152, 3, 252)",
          "size": 20
         },
         "mode": "markers",
         "name": "Setas",
         "type": "scatter",
         "x": [
          null
         ],
         "y": [
          null
         ]
        },
        {
         "marker": {
          "color": "rgb(235, 89, 235)",
          "size": 20
         },
         "mode": "markers",
         "name": "Sakura",
         "type": "scatter",
         "x": [
          null
         ],
         "y": [
          null
         ]
        },
        {
         "marker": {
          "color": "rgb(53, 118, 43)",
          "size": 20
         },
         "mode": "markers",
         "name": "Bosque",
         "type": "scatter",
         "x": [
          null
         ],
         "y": [
          null
         ]
        },
        {
         "marker": {
          "color": "rgb(110, 88, 66)",
          "size": 20
         },
         "mode": "markers",
         "name": "Meseta",
         "type": "scatter",
         "x": [
          null
         ],
         "y": [
          null
         ]
        },
        {
         "marker": {
          "color": "rgb(208, 208, 240)",
          "size": 20
         },
         "mode": "markers",
         "name": "Tundra",
         "type": "scatter",
         "x": [
          null
         ],
         "y": [
          null
         ]
        },
        {
         "marker": {
          "color": "rgb(159, 16, 16)",
          "size": 20
         },
         "mode": "markers",
         "name": "Volcanico",
         "type": "scatter",
         "x": [
          null
         ],
         "y": [
          null
         ]
        },
        {
         "marker": {
          "color": "rgb(125, 125, 125)",
          "size": 20
         },
         "mode": "markers",
         "name": "Montaña",
         "type": "scatter",
         "x": [
          null
         ],
         "y": [
          null
         ]
        }
       ],
       "layout": {
        "height": 1836,
        "margin": {
         "t": 60
        },
        "template": {
         "data": {
          "bar": [
           {
            "error_x": {
             "color": "#2a3f5f"
            },
            "error_y": {
             "color": "#2a3f5f"
            },
            "marker": {
             "line": {
              "color": "#E5ECF6",
              "width": 0.5
             },
             "pattern": {
              "fillmode": "overlay",
              "size": 10,
              "solidity": 0.2
             }
            },
            "type": "bar"
           }
          ],
          "barpolar": [
           {
            "marker": {
             "line": {
              "color": "#E5ECF6",
              "width": 0.5
             },
             "pattern": {
              "fillmode": "overlay",
              "size": 10,
              "solidity": 0.2
             }
            },
            "type": "barpolar"
           }
          ],
          "carpet": [
           {
            "aaxis": {
             "endlinecolor": "#2a3f5f",
             "gridcolor": "white",
             "linecolor": "white",
             "minorgridcolor": "white",
             "startlinecolor": "#2a3f5f"
            },
            "baxis": {
             "endlinecolor": "#2a3f5f",
             "gridcolor": "white",
             "linecolor": "white",
             "minorgridcolor": "white",
             "startlinecolor": "#2a3f5f"
            },
            "type": "carpet"
           }
          ],
          "choropleth": [
           {
            "colorbar": {
             "outlinewidth": 0,
             "ticks": ""
            },
            "type": "choropleth"
           }
          ],
          "contour": [
           {
            "colorbar": {
             "outlinewidth": 0,
             "ticks": ""
            },
            "colorscale": [
             [
              0,
              "#0d0887"
             ],
             [
              0.1111111111111111,
              "#46039f"
             ],
             [
              0.2222222222222222,
              "#7201a8"
             ],
             [
              0.3333333333333333,
              "#9c179e"
             ],
             [
              0.4444444444444444,
              "#bd3786"
             ],
             [
              0.5555555555555556,
              "#d8576b"
             ],
             [
              0.6666666666666666,
              "#ed7953"
             ],
             [
              0.7777777777777778,
              "#fb9f3a"
             ],
             [
              0.8888888888888888,
              "#fdca26"
             ],
             [
              1,
              "#f0f921"
             ]
            ],
            "type": "contour"
           }
          ],
          "contourcarpet": [
           {
            "colorbar": {
             "outlinewidth": 0,
             "ticks": ""
            },
            "type": "contourcarpet"
           }
          ],
          "heatmap": [
           {
            "colorbar": {
             "outlinewidth": 0,
             "ticks": ""
            },
            "colorscale": [
             [
              0,
              "#0d0887"
             ],
             [
              0.1111111111111111,
              "#46039f"
             ],
             [
              0.2222222222222222,
              "#7201a8"
             ],
             [
              0.3333333333333333,
              "#9c179e"
             ],
             [
              0.4444444444444444,
              "#bd3786"
             ],
             [
              0.5555555555555556,
              "#d8576b"
             ],
             [
              0.6666666666666666,
              "#ed7953"
             ],
             [
              0.7777777777777778,
              "#fb9f3a"
             ],
             [
              0.8888888888888888,
              "#fdca26"
             ],
             [
              1,
              "#f0f921"
             ]
            ],
            "type": "heatmap"
           }
          ],
          "heatmapgl": [
           {
            "colorbar": {
             "outlinewidth": 0,
             "ticks": ""
            },
            "colorscale": [
             [
              0,
              "#0d0887"
             ],
             [
              0.1111111111111111,
              "#46039f"
             ],
             [
              0.2222222222222222,
              "#7201a8"
             ],
             [
              0.3333333333333333,
              "#9c179e"
             ],
             [
              0.4444444444444444,
              "#bd3786"
             ],
             [
              0.5555555555555556,
              "#d8576b"
             ],
             [
              0.6666666666666666,
              "#ed7953"
             ],
             [
              0.7777777777777778,
              "#fb9f3a"
             ],
             [
              0.8888888888888888,
              "#fdca26"
             ],
             [
              1,
              "#f0f921"
             ]
            ],
            "type": "heatmapgl"
           }
          ],
          "histogram": [
           {
            "marker": {
             "pattern": {
              "fillmode": "overlay",
              "size": 10,
              "solidity": 0.2
             }
            },
            "type": "histogram"
           }
          ],
          "histogram2d": [
           {
            "colorbar": {
             "outlinewidth": 0,
             "ticks": ""
            },
            "colorscale": [
             [
              0,
              "#0d0887"
             ],
             [
              0.1111111111111111,
              "#46039f"
             ],
             [
              0.2222222222222222,
              "#7201a8"
             ],
             [
              0.3333333333333333,
              "#9c179e"
             ],
             [
              0.4444444444444444,
              "#bd3786"
             ],
             [
              0.5555555555555556,
              "#d8576b"
             ],
             [
              0.6666666666666666,
              "#ed7953"
             ],
             [
              0.7777777777777778,
              "#fb9f3a"
             ],
             [
              0.8888888888888888,
              "#fdca26"
             ],
             [
              1,
              "#f0f921"
             ]
            ],
            "type": "histogram2d"
           }
          ],
          "histogram2dcontour": [
           {
            "colorbar": {
             "outlinewidth": 0,
             "ticks": ""
            },
            "colorscale": [
             [
              0,
              "#0d0887"
             ],
             [
              0.1111111111111111,
              "#46039f"
             ],
             [
              0.2222222222222222,
              "#7201a8"
             ],
             [
              0.3333333333333333,
              "#9c179e"
             ],
             [
              0.4444444444444444,
              "#bd3786"
             ],
             [
              0.5555555555555556,
              "#d8576b"
             ],
             [
              0.6666666666666666,
              "#ed7953"
             ],
             [
              0.7777777777777778,
              "#fb9f3a"
             ],
             [
              0.8888888888888888,
              "#fdca26"
             ],
             [
              1,
              "#f0f921"
             ]
            ],
            "type": "histogram2dcontour"
           }
          ],
          "mesh3d": [
           {
            "colorbar": {
             "outlinewidth": 0,
             "ticks": ""
            },
            "type": "mesh3d"
           }
          ],
          "parcoords": [
           {
            "line": {
             "colorbar": {
              "outlinewidth": 0,
              "ticks": ""
             }
            },
            "type": "parcoords"
           }
          ],
          "pie": [
           {
            "automargin": true,
            "type": "pie"
           }
          ],
          "scatter": [
           {
            "fillpattern": {
             "fillmode": "overlay",
             "size": 10,
             "solidity": 0.2
            },
            "type": "scatter"
           }
          ],
          "scatter3d": [
           {
            "line": {
             "colorbar": {
              "outlinewidth": 0,
              "ticks": ""
             }
            },
            "marker": {
             "colorbar": {
              "outlinewidth": 0,
              "ticks": ""
             }
            },
            "type": "scatter3d"
           }
          ],
          "scattercarpet": [
           {
            "marker": {
             "colorbar": {
              "outlinewidth": 0,
              "ticks": ""
             }
            },
            "type": "scattercarpet"
           }
          ],
          "scattergeo": [
           {
            "marker": {
             "colorbar": {
              "outlinewidth": 0,
              "ticks": ""
             }
            },
            "type": "scattergeo"
           }
          ],
          "scattergl": [
           {
            "marker": {
             "colorbar": {
              "outlinewidth": 0,
              "ticks": ""
             }
            },
            "type": "scattergl"
           }
          ],
          "scattermapbox": [
           {
            "marker": {
             "colorbar": {
              "outlinewidth": 0,
              "ticks": ""
             }
            },
            "type": "scattermapbox"
           }
          ],
          "scatterpolar": [
           {
            "marker": {
             "colorbar": {
              "outlinewidth": 0,
              "ticks": ""
             }
            },
            "type": "scatterpolar"
           }
          ],
          "scatterpolargl": [
           {
            "marker": {
             "colorbar": {
              "outlinewidth": 0,
              "ticks": ""
             }
            },
            "type": "scatterpolargl"
           }
          ],
          "scatterternary": [
           {
            "marker": {
             "colorbar": {
              "outlinewidth": 0,
              "ticks": ""
             }
            },
            "type": "scatterternary"
           }
          ],
          "surface": [
           {
            "colorbar": {
             "outlinewidth": 0,
             "ticks": ""
            },
            "colorscale": [
             [
              0,
              "#0d0887"
             ],
             [
              0.1111111111111111,
              "#46039f"
             ],
             [
              0.2222222222222222,
              "#7201a8"
             ],
             [
              0.3333333333333333,
              "#9c179e"
             ],
             [
              0.4444444444444444,
              "#bd3786"
             ],
             [
              0.5555555555555556,
              "#d8576b"
             ],
             [
              0.6666666666666666,
              "#ed7953"
             ],
             [
              0.7777777777777778,
              "#fb9f3a"
             ],
             [
              0.8888888888888888,
              "#fdca26"
             ],
             [
              1,
              "#f0f921"
             ]
            ],
            "type": "surface"
           }
          ],
          "table": [
           {
            "cells": {
             "fill": {
              "color": "#EBF0F8"
             },
             "line": {
              "color": "white"
             }
            },
            "header": {
             "fill": {
              "color": "#C8D4E3"
             },
             "line": {
              "color": "white"
             }
            },
            "type": "table"
           }
          ]
         },
         "layout": {
          "annotationdefaults": {
           "arrowcolor": "#2a3f5f",
           "arrowhead": 0,
           "arrowwidth": 1
          },
          "autotypenumbers": "strict",
          "coloraxis": {
           "colorbar": {
            "outlinewidth": 0,
            "ticks": ""
           }
          },
          "colorscale": {
           "diverging": [
            [
             0,
             "#8e0152"
            ],
            [
             0.1,
             "#c51b7d"
            ],
            [
             0.2,
             "#de77ae"
            ],
            [
             0.3,
             "#f1b6da"
            ],
            [
             0.4,
             "#fde0ef"
            ],
            [
             0.5,
             "#f7f7f7"
            ],
            [
             0.6,
             "#e6f5d0"
            ],
            [
             0.7,
             "#b8e186"
            ],
            [
             0.8,
             "#7fbc41"
            ],
            [
             0.9,
             "#4d9221"
            ],
            [
             1,
             "#276419"
            ]
           ],
           "sequential": [
            [
             0,
             "#0d0887"
            ],
            [
             0.1111111111111111,
             "#46039f"
            ],
            [
             0.2222222222222222,
             "#7201a8"
            ],
            [
             0.3333333333333333,
             "#9c179e"
            ],
            [
             0.4444444444444444,
             "#bd3786"
            ],
            [
             0.5555555555555556,
             "#d8576b"
            ],
            [
             0.6666666666666666,
             "#ed7953"
            ],
            [
             0.7777777777777778,
             "#fb9f3a"
            ],
            [
             0.8888888888888888,
             "#fdca26"
            ],
            [
             1,
             "#f0f921"
            ]
           ],
           "sequentialminus": [
            [
             0,
             "#0d0887"
            ],
            [
             0.1111111111111111,
             "#46039f"
            ],
            [
             0.2222222222222222,
             "#7201a8"
            ],
            [
             0.3333333333333333,
             "#9c179e"
            ],
            [
             0.4444444444444444,
             "#bd3786"
            ],
            [
             0.5555555555555556,
             "#d8576b"
            ],
            [
             0.6666666666666666,
             "#ed7953"
            ],
            [
             0.7777777777777778,
             "#fb9f3a"
            ],
            [
             0.8888888888888888,
             "#fdca26"
            ],
            [
             1,
             "#f0f921"
            ]
           ]
          },
          "colorway": [
           "#636efa",
           "#EF553B",
           "#00cc96",
           "#ab63fa",
           "#FFA15A",
           "#19d3f3",
           "#FF6692",
           "#B6E880",
           "#FF97FF",
           "#FECB52"
          ],
          "font": {
           "color": "#2a3f5f"
          },
          "geo": {
           "bgcolor": "white",
           "lakecolor": "white",
           "landcolor": "#E5ECF6",
           "showlakes": true,
           "showland": true,
           "subunitcolor": "white"
          },
          "hoverlabel": {
           "align": "left"
          },
          "hovermode": "closest",
          "mapbox": {
           "style": "light"
          },
          "paper_bgcolor": "white",
          "plot_bgcolor": "#E5ECF6",
          "polar": {
           "angularaxis": {
            "gridcolor": "white",
            "linecolor": "white",
            "ticks": ""
           },
           "bgcolor": "#E5ECF6",
           "radialaxis": {
            "gridcolor": "white",
            "linecolor": "white",
            "ticks": ""
           }
          },
          "scene": {
           "xaxis": {
            "backgroundcolor": "#E5ECF6",
            "gridcolor": "white",
            "gridwidth": 2,
            "linecolor": "white",
            "showbackground": true,
            "ticks": "",
            "zerolinecolor": "white"
           },
           "yaxis": {
            "backgroundcolor": "#E5ECF6",
            "gridcolor": "white",
            "gridwidth": 2,
            "linecolor": "white",
            "showbackground": true,
            "ticks": "",
            "zerolinecolor": "white"
           },
           "zaxis": {
            "backgroundcolor": "#E5ECF6",
            "gridcolor": "white",
            "gridwidth": 2,
            "linecolor": "white",
            "showbackground": true,
            "ticks": "",
            "zerolinecolor": "white"
           }
          },
          "shapedefaults": {
           "line": {
            "color": "#2a3f5f"
           }
          },
          "ternary": {
           "aaxis": {
            "gridcolor": "white",
            "linecolor": "white",
            "ticks": ""
           },
           "baxis": {
            "gridcolor": "white",
            "linecolor": "white",
            "ticks": ""
           },
           "bgcolor": "#E5ECF6",
           "caxis": {
            "gridcolor": "white",
            "linecolor": "white",
            "ticks": ""
           }
          },
          "title": {
           "x": 0.05
          },
          "xaxis": {
           "automargin": true,
           "gridcolor": "white",
           "linecolor": "white",
           "ticks": "",
           "title": {
            "standoff": 15
           },
           "zerolinecolor": "white",
           "zerolinewidth": 2
          },
          "yaxis": {
           "automargin": true,
           "gridcolor": "white",
           "linecolor": "white",
           "ticks": "",
           "title": {
            "standoff": 15
           },
           "zerolinecolor": "white",
           "zerolinewidth": 2
          }
         }
        },
        "width": 1836,
        "xaxis": {
         "anchor": "y",
         "domain": [
          0,
          1
         ]
        },
        "yaxis": {
         "anchor": "x",
         "domain": [
          0,
          1
         ]
        }
       }
      }
     },
     "metadata": {},
     "output_type": "display_data"
    }
   ],
   "source": [
    "a.representation((0,12),(0,12))"
   ]
  },
  {
   "cell_type": "code",
   "execution_count": 22,
   "metadata": {},
   "outputs": [
    {
     "name": "stdout",
     "output_type": "stream",
     "text": [
      "🟫🟫🟫🟫🟫🟫🟫🟫🟫🟫🟫🟫🟫🟫🟫🟫🟫🟫🟫🟫🟫🟫🟫🟫🟫🟫🟫🟫🟫🟫🟫🌲🟫🟫🟫🟫🟫🟫🟫🟫🟫🟫🟫🟫🟫🌲🟫🟫🟫🟫🟫🟫🟫🟫🟫🟫🟫🟫🟫🟫🟫🟫🟫🟫\n",
      "🟫🟫🟫🟫🟫🟫🟫🟫🟫🟫🟫🟫🟫🟫🟫🟫🟫🟫🌲🟫🟫🟫🟫🟫🟫🟫🟫🟫🟫🟫🟫🟫🟫🟫🟫🟫🟫🟫🟫🟫🟫🟫🟫🟫🟫🟫🟫🟫🟫🟫🟫🟫🟫🟫🟫🟫🟫🟫🟫🟫🟫🟫🟫🟫\n",
      "🟫🟫🟫🟫🟫🟫🟫🟫🌲🟫🟫🟫🟫🟫🟫🟫🟫🟫🟫🟫🟫🟫🟫🟫🟫🟫🟫🟫🟫🟫🟫🟫🟫🟫🟫🟫🟫🟫🟫🟫🟫🟫🟫🟫🟫🟫🟫🟫🟫🟫🟫🟫🟫🟫🟫🌲🟫🟫🟫🟫🟫🟫🟫🟫\n",
      "🟫🟫🟫🟫🟫🟫🟫🟫🟫🟫🟫🟫🟫🟫🟫🟫🟫🟫🟫🟫🟫🟫🟫🟫🟫🟫🟫🟫🟫🟫🟫🟫🟫🟫🟫🟫🌲🟫🟫🟫🟫🟫🟫🟫🟫🟫🟫🟫🟫🟫🟫🟫🟫🟫🟫🟫🟫🟫🟫🟫🟫🟫🟫🟫\n",
      "🌲🟫🟫🟫🟫🟫🟫🟫🟫🟫🟫🟫🟫🟫🟫🟫🟫🟫🟫🟫🟫🟫🟫🟫🟫🟫🟫🟫🟫🟫🟫🟫🟫🟫🟫🟫🟫🟫🟫🟫🟫🟫🟫🟫🟫🟫🟫🟫🟫🟫🟫🟫🟫🟫🟫🟫🟫🟫🟫🟫🟫🟫🌲🟫\n",
      "🟫🟫🟫🟫🟫🟫🟫🟫🟫🟫🟫🟫🟫🟫🟫🟫🟫🟫🟫🟫🟫🟫🟫🟫🟫🟫🟫🟫🟫🟫🟫🟫🟫🟫🟫🟫🟫🟫🟫🟫🟫🟫🟫🟫🟫🟫🟫🟫🟫🟫🟫🟫🟫🟫🟫🟫🟫🟫🟫🟫🟫🟫🟫🟫\n",
      "🟫🟫🟫🟫🟫🟫🟫🟫🟫🟫🟫🟫🟫🌲🟫🟫🟫🟫🟫🟫🟫🟫🟫🟫🟫🌲🟫🟫🟫🟫🟫🟫🟫🟫🟫🟫🟫🟫🟫🟫🟫🟫🟫🟫🟫🟫🟫🟫🟫🟫🟫🟫🟫🟫🟫🟫🟫🟫🟫🟫🟫🟫🟫🟫\n",
      "🟫🟫🟫🟫🟫🟫🟫🟫🟫🟫🟫🟫🟫🟫🟫🟫🟫🟫🟫🟫🟫🟫🟫🟫🟫🟫🟫🟫🟫🟫🟫🟫🟫🟫🟫🟫🟫🟫🟫🟫🟫🟫🟫🟫🟫🟫🟫🟫🟫🟫🟫🟫🟫🟫🟫🟫🟫🟫🟫🟫🟫🟫🟫🟫\n",
      "🟫🟫🟫🟫🟫🟫🟫🟫🟫🟫🟫🟫🟫🟫🟫🟫🟫🟫🟫🌲🟫🟫🟫🟫🟫🟫🟫🟫🟫🟫🟫🟫🟫🟫🟫🟫🟫🟫🟫🟫🟫🟫🟫🟫🟫🟫🟫🟫🟫🟫🟫🟫🟫🌲🟫🟫🟫🟫🟫🟫🟫🟫🟫🟫\n",
      "🟫🟫🟫🟫🟫🟫🟫🟫🟫🟫🟫🟫🟫🟫🟫🟫🟫🟫🟫🟫🟫🟫🟫🟫🟫🟫🟫🟫🟫🟫🟫🟫🟫🟫🟫🟫🟫🟫🟫🟫🟫🟫🟫🟫🟫🟫🟫🌲🟫🟫🟫🟫🟫🟫🟫🟫🟫🟫🟫🟫🟫🟫🟫🟫\n",
      "🟫🌲🟫🟫🟫🟫🟫🟫🌲🟫🟫🟫🟫🟫🟫🟫🟫🟫🟫🟫🟫🟫🟫🟫🟫🟫🟫🟫🟫🟫🟫🟫🟫🌲🟫🟫🟫🟫🟫🟫🟫🟫🟫🟫🟫🟫🟫🟫🟫🟫🟫🟫🟫🟫🟫🟫🟫🟫🟫🟫🟫🟫🌲🟫\n",
      "🟫🟫🟫🟫🟫🟫🟫🟫🟫🟫🟫🟫🟫🟫🟫🟫🟫🟫🟫🟫🟫🟫🟫🟫🟫🟫🟫🟫🟫🟫🟫🟫🟫🟫🟫🟫🟫🟫🟫🟫🟫🟫🟫🟫🟫🟫🟫🟫🟫🟫🟫🟫🟫🟫🟫🟫🟫🟫🟫🟫🟫🟫🟫🟫\n",
      "🟫🟫🟫🟫🟫🟫🟫🟫🟫🟫🟫🟫🟫🟫🟫🟫🟫🟫🟫🟫🟫🟫🟫🟫🟫🟫🟫🟫🟫🟫🟫🟫🟫🟫🟫🟫🟫🟫🟫🟫🟫🟫🟫🟫🟫🟫🟫🟫🟫🟫🟫🟫🟫🟫🟫🟫🟫🟫🟫🟫🟫🟫🟫🟫\n",
      "🟫🟫🟫🟫🟫🟫🟫🟫🟫🟫🟫🟫🟫🟫🟫🟫🟫🟫🟫🟫🟫🟫🟫🟫🟫🟫🟫🟫🟫🟫🟫🟫🟫🟫🟫🟫🟫🟫🟫🟫🟫🟫🌲🟫🟫🟫🟫🟫🟫🟫🟫🟫🟫🟫🟫🟫🟫🟫🟫🟫🟫🟫🟫🟫\n",
      "🟫🟫🟫🟫🟫🟫🟫🟫🟫🟫🟫🟫🟫🟫🟫🟫🌲🟫🟫🟫🟫🟫🟫🟫🟫🟫🟫🟫🟫🟫🟫🟫🟫🟫🟫🟫🟫🟫🟫🟫🟫🟫🟫🟫🟫🟫🟫🟫🟫🟫🟫🟫🟫🟫🟫🟫🟫🟫🌲🟫🟫🟫🟫🟫\n",
      "🟫🟫🟫🟫🟫🟫🟫🟫🟫🟫🟫🟫🟫🟫🟫🟫🟫🟫🟫🟫🟫🟫🟫🌲🟫🟫🟫🟫🟫🟫🟫🟫🟫🟫🟫🟫🟫🟫🟫🟫🟫🟫🟫🟫🟫🟫🟫🟫🟫🟫🌲🟫🟫🟫🟫🟫🟫🟫🟫🟫🟫🟫🟫🟫\n",
      "🟫🟫🟫🟫🟫🟫🟫🟫🟫🟫🟫🟫🟫🟫🟫🟫🟫🟫🟫🟫🟫🟫🟫🟫🟫🟫🟫🟫🟫🟫🟫🟫🟫🟫🟫🟫🟫🟫🟫🟫🟫🟫🟫🟫🟫🟫🟫🟫🟫🟫🟫🟫🟫🟫🟫🟫🟫🟫🟫🟫🟫🟫🟫🟫\n",
      "🟫🟫🟫🌲🟫🟫🟫🟫🟫🟫🟫🟫🟫🟫🟫🟫🟫🟫🟫🟫🟫🟫🟫🟫🟫🟫🟫🟫🟫🟫🟫🟫🟫🟫🟫🟫🟫🟫🟫🟫🟫🟫🟫🟫🟫🟫🟫🟫🟫🟫🟫🟫🟫🟫🟫🟫🟫🟫🟫🟫🟫🟫🟫🟫\n",
      "🟫🟫🟫🟫🟫🟫🟫🟫🟫🟫🟫🟫🟫🟫🟫🟫🟫🟫🟫🟫🟫🟫🟫🟫🟫🟫🟫🟫🟫🟫🟫🟫🌲🟫🟫🟫🟫🟫🟫🟫🟫🟫🟫🟫🟫🟫🟫🟫🟫🟫🟫🟫🟫🟫🟫🟫🟫🟫🟫🟫🟫🟫🟫🟫\n",
      "🟫🟫🟫🟫🟫🟫🟫🟫🟫🟫🟫🟫🟫🟫🟫🟫🟫🟫🟫🟫🟫🟫🟫🟫🟫🟫🟫🟫🟫🟫🟫🟫🟫🟫🟫🟫🟫🟫🌲🟫🟫🟫🟫🟫🟫🟫🟫🟫🟫🟫🟫🟫🟫🟫🟫🟫🟫🟫🟫🟫🟫🟫🟫🟫\n",
      "🟫🟫🟫🟫🟫🟫🟫🟫🟫🟫🟫🟫🟫🟫🟫🟫🟫🟫🟫🟫🟫🟫🟫🟫🟫🟫🟫🟫🟫🟫🟫🟫🟫🟫🟫🟫🟫🟫🟫🟫🟫🟫🟫🟫🟫🟫🟫🟫🟫🟫🟫🟫🟫🟫🟫🟫🟫🟫🟫🟫🟫🟫🟫🟫\n",
      "🟫🟫🟫🟫🟫🟫🟫🟫🟫🟫🟫🟫🟫🟫🌲🟫🟫🟫🟫🟫🟫🟫🟫🟫🟫🟫🌲🟫🟫🟫🟫🟫🟫🟫🟫🟫🟫🟫🟫🟫🟫🟫🟫🟫🟫🟫🟫🟫🟫🟫🟫🟫🟫🟫🟫🟫🟫🟫🟫🟫🟫🟫🟫🟫\n",
      "🟫🟫🟫🟫🟫🟫🟫🟫🌲🟫🟫🟫🟫🟫🟫🟫🟫🟫🟫🟫🟫🟫🟫🟫🟫🟫🟫🟫🟫🟫🟫🟫🟫🟫🟫🟫🟫🟫🟫🟫🟫🟫🟫🟫🟫🟫🟫🟫🟫🟫🟫🟫🟫🟫🟫🟫🟫🌲🟫🟫🟫🟫🟫🟫\n",
      "🟫🟫🟫🟫🟫🟫🟫🟫🟫🟫🟫🟫🟫🟫🟫🟫🟫🟫🟫🟫🟫🟫🟫🟫🟫🟫🟫🟫🟫🟫🟫🟫🟫🟫🟫🟫🟫🟫🟫🟫🟫🟫🟫🟫🟫🟫🟫🌲🟫🟫🟫🟫🟫🟫🟫🟫🟫🟫🟫🟫🟫🟫🟫🟫\n",
      "🟫🟫🟫🟫🟫🟫🟫🟫🟫🟫🟫🟫🟫🟫🟫🟫🟫🟫🟫🟫🟫🟫🟫🟫🟫🟫🟫🟫🟫🟫🟫🟫🟫🌲🟫🟫🟫🟫🟫🟫🟫🟫🟫🟫🟫🟫🟫🟫🟫🟫🟫🟫🟫🟫🟫🟫🟫🟫🟫🟫🟫🟫🟫🟫\n",
      "🟫🟫🟫🟫🟫🟫🟫🟫🟫🟫🟫🟫🟫🟫🟫🟫🟫🟫🟫🟫🟫🟫🟫🟫🟫🟫🟫🟫🟫🟫🟫🟫🟫🟫🟫🟫🟫🟫🟫🟫🟫🟫🟫🟫🟫🟫🟫🟫🟫🟫🟫🟫🟫🟫🟫🟫🟫🟫🟫🟫🟫🟫🟫🟫\n",
      "🟫🌲🟫🟫🟫🟫🟫🟫🟫🟫🟫🟫🟫🟫🟫🟫🟫🟫🟫🟫🌲🟫🟫🟫🟫🟫🟫🟫🟫🟫🟫🟫🟫🟫🟫🟫🟫🟫🟫🟫🟫🟫🟫🟫🟫🟫🟫🟫🟫🟫🟫🟫🟫🟫🟫🟫🟫🟫🟫🟫🟫🟫🟫🟫\n",
      "🟫🟫🟫🟫🟫🟫🟫🟫🟫🟫🟫🌲🟫🟫🟫🟫🟫🟫🟫🟫🟫🟫🟫🟫🟫🟫🟫🟫🟫🟫🟫🟫🟫🟫🟫🟫🟫🟫🟫🟫🟫🟫🟫🟫🟫🟫🟫🟫🟫🟫🟫🌲🟫🟫🟫🟫🟫🟫🟫🟫🟫🟫🟫🟫\n",
      "🟫🟫🟫🟫🟫🟫🟫🟫🟫🟫🟫🟫🟫🟫🟫🟫🟫🟫🟫🟫🟫🟫🟫🟫🟫🟫🟫🟫🟫🟫🟫🟫🟫🟫🟫🟫🟫🟫🟫🟫🟫🟫🟫🟫🟫🟫🟫🟫🟫🟫🟫🟫🟫🟫🟫🟫🟫🟫🟫🟫🟫🟫🟫🟫\n",
      "🟫🟫🟫🟫🟫🟫🟫🟫🟫🟫🟫🟫🟫🟫🟫🟫🟫🟫🟫🟫🟫🟫🟫🟫🟫🟫🟫🟫🟫🟫🟫🟫🟫🟫🟫🟫🟫🟫🟫🟫🟫🟫🌲🟫🟫🟫🟫🟫🟫🟫🟫🟫🟫🟫🟫🟫🟫🟫🟫🟫🟫🟫🌲🟫\n",
      "🟫🟫🟫🟫🟫🟫🟫🟫🟫🟫🟫🟫🟫🟫🟫🟫🟫🟫🟫🟫🟫🟫🟫🟫🟫🟫🟫🟫🟫🟫🟫🟫🟫🟫🟫🟫🟫🟫🟫🟫🟫🟫🟫🟫🟫🟫🟫🟫🟫🟫🟫🟫🟫🟫🟫🟫🟫🟫🟫🟫🟫🟫🟫🟫\n",
      "🟫🟫🟫🟫🟫🟫🟫🟫🟫🟫🟫🟫🟫🟫🟫🟫🟫🟫🟫🟫🟫🟫🟫🟫🟫🟫🟫🟫🟫🟫🟫🟫🌲🟫🟫🟫🟫🟫🟫🟫🟫🟫🟫🟫🟫🟫🟫🟫🟫🟫🟫🟫🟫🟫🟫🟫🟫🟫🟫🟫🟫🟫🟫🟫\n",
      "🟫🟫🟫🟫🟫🟫🟫🟫🟫🟫🟫🟫🟫🟫🟫🟫🟫🟫🟫🟫🟫🟫🟫🟫🟫🟫🟫🟫🟫🟫🟫🟫🟫🟫🟫🟫🟫🟫🟫🟫🟫🟫🟫🟫🟫🟫🟫🌲🟫🟫🟫🟫🟫🟫🟫🟫🌲🟫🟫🟫🟫🟫🟫🟫\n",
      "🟫🟫🟫🟫🟫🟫🟫🟫🟫🟫🟫🟫🟫🟫🟫🟫🟫🟫🟫🟫🟫🌲🟫🟫🟫🟫🟫🟫🟫🟫🟫🟫🟫🟫🟫🟫🟫🟫🟫🟫🟫🟫🟫🟫🟫🟫🟫🟫🟫🟫🟫🟫🟫🟫🟫🟫🟫🟫🟫🟫🟫🟫🟫🟫\n",
      "🟫🟫🟫🟫🟫🟫🟫🟫🟫🌲🟫🟫🟫🟫🟫🟫🟫🟫🟫🟫🟫🟫🟫🟫🟫🟫🟫🟫🟫🟫🟫🟫🟫🟫🟫🟫🟫🟫🟫🟫🟫🟫🟫🟫🟫🟫🟫🟫🟫🟫🟫🟫🟫🟫🟫🟫🟫🟫🟫🟫🟫🟫🟫🟫\n",
      "🟫🟫🟫🟫🟫🟫🟫🟫🟫🟫🟫🟫🟫🟫🟫🟫🟫🟫🟫🟫🟫🟫🟫🟫🟫🟫🟫🟫🟫🟫🟫🟫🟫🟫🟫🟫🟫🟫🟫🟫🌲🟫🟫🟫🟫🟫🟫🟫🟫🟫🟫🟫🟫🟫🟫🟫🟫🟫🟫🟫🟫🟫🟫🟫\n",
      "🟫🟫🟫🟫🟫🟫🟫🟫🟫🟫🟫🟫🟫🟫🟫🌲🟫🟫🟫🟫🟫🟫🟫🟫🟫🟫🟫🟫🟫🟫🟫🟫🟫🟫🟫🟫🟫🟫🟫🟫🟫🟫🟫🟫🟫🟫🟫🟫🟫🟫🟫🟫🟫🟫🟫🟫🟫🟫🟫🟫🟫🌲🟫🟫\n",
      "🟫🌲🟫🟫🟫🟫🟫🟫🟫🟫🟫🟫🟫🟫🟫🟫🟫🟫🟫🟫🟫🟫🟫🟫🟫🟫🟫🟫🟫🟫🟫🟫🟫🟫🟫🟫🟫🟫🟫🟫🟫🟫🟫🟫🟫🟫🟫🟫🟫🟫🟫🟫🟫🟫🟫🟫🟫🟫🟫🟫🟫🟫🟫🟫\n",
      "🟫🟫🟫🟫🟫🟫🟫🟫🟫🟫🟫🟫🟫🟫🟫🟫🟫🟫🟫🟫🟫🟫🟫🟫🟫🟫🟫🟫🟫🟫🟫🟫🟫🟫🌲🟫🟫🟫🟫🟫🟫🟫🟫🟫🟫🟫🟫🟫🟫🟫🟫🟫🟫🟫🟫🟫🟫🟫🟫🟫🟫🟫🟫🟫\n",
      "🟫🟫🟫🟫🟫🟫🟫🟫🟫🟫🟫🟫🟫🟫🟫🟫🟫🟫🟫🟫🟫🟫🟫🟫🟫🟫🟫🟫🟫🟫🟫🟫🟫🟫🟫🟫🟫🟫🟫🟫🟫🟫🟫🟫🟫🟫🟫🟫🟫🟫🟫🟫🟫🟫🟫🟫🟫🟫🟫🟫🟫🟫🟫🟫\n",
      "🟫🟫🟫🟫🟫🟫🟫🟫🟫🟫🟫🟫🟫🟫🟫🟫🟫🟫🟫🟫🟫🟫🟫🟫🌲🟫🟫🟫🟫🟫🟫🟫🟫🟫🟫🟫🟫🟫🟫🟫🟫🟫🟫🟫🟫🌲🟫🟫🟫🟫🟫🟫🟫🟫🟫🟫🟫🟫🟫🟫🟫🟫🟫🟫\n",
      "🟫🟫🟫🟫🟫🟫🟫🟫🌲🟫🟫🟫🟫🟫🟫🟫🟫🟫🟫🟫🟫🟫🟫🟫🟫🟫🟫🟫🟫🟫🟫🟫🟫🟫🟫🟫🟫🟫🟫🟫🟫🟫🟫🟫🟫🟫🟫🟫🟫🟫🟫🟫🟫🟫🟫🟫🌲🟫🟫🟫🟫🟫🟫🟫\n",
      "🟫🟫🟫🟫🟫🟫🟫🟫🟫🟫🟫🟫🟫🟫🌲🟫🟫🟫🟫🟫🟫🟫🟫🟫🟫🟫🟫🟫🟫🟫🟫🟫🟫🟫🟫🟫🟫🟫🟫🟫🟫🟫🟫🟫🟫🟫🟫🟫🟫🟫🟫🟫🟫🟫🟫🟫🟫🟫🟫🟫🟫🟫🟫🟫\n",
      "🟫🟫🟫🟫🟫🟫🟫🟫🟫🟫🟫🟫🟫🟫🟫🟫🟫🟫🟫🟫🟫🟫🟫🟫🟫🟫🟫🟫🟫🟫🟫🟫🟫🟫🟫🟫🟫🟫🟫🟫🟫🟫🟫🟫🟫🟫🟫🟫🟫🟫🟫🟫🟫🟫🟫🟫🟫🟫🟫🟫🟫🟫🟫🟫\n",
      "🟫🟫🟫🟫🟫🟫🟫🟫🟫🟫🟫🟫🟫🟫🟫🟫🟫🟫🟫🟫🟫🟫🟫🟫🟫🟫🟫🟫🟫🟫🟫🟫🟫🟫🟫🟫🟫🟫🟫🟫🌲🟫🟫🟫🟫🟫🟫🟫🟫🟫🟫🟫🟫🟫🟫🟫🟫🟫🟫🟫🟫🟫🟫🟫\n",
      "🟫🟫🟫🟫🟫🟫🟫🟫🟫🟫🟫🟫🟫🟫🟫🟫🟫🟫🟫🟫🟫🟫🟫🟫🟫🟫🟫🟫🟫🟫🟫🟫🟫🟫🟫🟫🟫🟫🟫🟫🟫🟫🟫🟫🟫🟫🟫🟫🟫🟫🟫🟫🟫🟫🟫🟫🟫🟫🟫🟫🟫🟫🟫🟫\n",
      "🟫🟫🟫🟫🟫🟫🟫🟫🟫🟫🟫🟫🟫🟫🟫🟫🟫🟫🟫🟫🟫🌲🟫🟫🟫🟫🟫🟫🟫🟫🌲🟫🟫🟫🟫🟫🟫🟫🟫🟫🟫🟫🟫🟫🟫🟫🟫🟫🟫🟫🟫🟫🟫🟫🟫🟫🟫🟫🟫🟫🟫🟫🟫🟫\n",
      "🟫🟫🟫🟫🟫🟫🟫🟫🟫🟫🌲🟫🟫🟫🟫🟫🟫🟫🟫🟫🟫🟫🟫🟫🟫🟫🟫🟫🟫🟫🟫🟫🟫🟫🟫🟫🟫🟫🟫🟫🟫🟫🟫🟫🟫🟫🟫🟫🟫🟫🟫🟫🟫🟫🟫🟫🟫🟫🟫🟫🟫🟫🟫🟫\n",
      "🟫🟫🌲🟫🟫🟫🟫🟫🟫🟫🟫🟫🟫🟫🟫🟫🟫🟫🟫🟫🟫🟫🟫🟫🟫🟫🟫🟫🟫🟫🟫🟫🟫🟫🟫🟫🟫🟫🟫🟫🟫🟫🟫🟫🟫🟫🟫🟫🟫🟫🟫🟫🟫🟫🟫🟫🟫🟫🌲🟫🟫🟫🟫🟫\n",
      "🟫🟫🟫🟫🟫🟫🟫🟫🟫🟫🟫🟫🟫🟫🟫🟫🟫🟫🟫🟫🟫🟫🟫🟫🟫🟫🟫🟫🟫🟫🟫🟫🟫🟫🟫🟫🟫🟫🟫🟫🟫🟫🟫🟫🟫🟫🟫🟫🟫🟫🟫🟫🟫🟫🟫🟫🟫🟫🟫🟫🟫🟫🟫🟫\n",
      "🟫🟫🟫🟫🟫🟫🟫🟫🟫🟫🟫🟫🟫🟫🟫🟫🟫🟫🟫🟫🟫🟫🟫🟫🟫🟫🟫🟫🟫🟫🟫🟫🟫🟫🟫🟫🟫🟫🟫🟫🟫🌲🟫🟫🟫🟫🟫🟫🟫🟫🌲🟫🟫🟫🟫🟫🟫🟫🟫🟫🟫🟫🟫🟫\n",
      "🟫🟫🟫🟫🟫🟫🟫🟫🟫🟫🟫🟫🟫🟫🟫🟫🟫🌲🟫🟫🟫🟫🟫🟫🟫🌲🟫🟫🟫🟫🟫🟫🟫🟫🟫🟫🟫🟫🟫🟫🟫🟫🟫🟫🟫🟫🟫🟫🟫🟫🟫🟫🟫🟫🟫🟫🟫🟫🟫🟫🟫🟫🟫🟫\n",
      "🟫🟫🟫🟫🟫🟫🟫🟫🟫🟫🟫🟫🟫🟫🟫🟫🟫🟫🟫🟫🟫🟫🟫🟫🟫🟫🟫🟫🟫🟫🟫🟫🟫🟫🟫🟫🟫🟫🟫🟫🟫🟫🟫🟫🟫🟫🟫🟫🟫🟫🟫🟫🟫🟫🟫🟫🟫🟫🟫🟫🟫🟫🟫🟫\n",
      "🟫🟫🟫🟫🟫🟫🟫🟫🌲🟫🟫🟫🟫🟫🟫🟫🟫🟫🟫🟫🟫🟫🟫🟫🟫🟫🟫🟫🟫🟫🟫🟫🟫🟫🟫🟫🟫🟫🟫🟫🟫🟫🟫🟫🟫🟫🟫🟫🟫🟫🟫🟫🟫🟫🟫🟫🟫🟫🟫🟫🟫🟫🟫🟫\n",
      "🟫🟫🟫🟫🟫🟫🟫🟫🟫🟫🟫🟫🟫🟫🟫🟫🟫🟫🟫🟫🟫🟫🟫🟫🟫🟫🟫🟫🟫🟫🟫🟫🟫🟫🟫🟫🟫🟫🟫🟫🟫🟫🟫🟫🟫🟫🟫🟫🟫🟫🟫🟫🟫🟫🟫🟫🟫🟫🟫🟫🟫🟫🟫🟫\n",
      "🟫🟫🟫🟫🟫🟫🟫🟫🟫🟫🟫🟫🟫🟫🟫🟫🟫🟫🟫🟫🟫🟫🟫🟫🟫🟫🟫🟫🟫🟫🟫🟫🟫🟫🟫🟫🌲🟫🟫🟫🟫🟫🟫🟫🟫🟫🟫🟫🟫🟫🟫🟫🟫🟫🟫🟫🟫🟫🟫🟫🟫🌲🟫🟫\n",
      "🟫🟫🟫🟫🟫🟫🟫🟫🟫🟫🟫🟫🟫🟫🟫🟫🟫🟫🟫🟫🟫🟫🟫🟫🟫🟫🟫🟫🟫🟫🟫🟫🟫🟫🟫🟫🟫🟫🟫🟫🟫🟫🟫🟫🟫🟫🟫🟫🟫🟫🟫🟫🟫🟫🟫🟫🟫🟫🟫🟫🟫🟫🟫🟫\n",
      "🟫🟫🟫🟫🟫🟫🟫🟫🟫🟫🟫🟫🟫🟫🟫🟫🟫🟫🟫🟫🟫🟫🟫🟫🟫🟫🟫🟫🌲🟫🟫🟫🟫🟫🟫🟫🟫🟫🟫🟫🟫🟫🟫🟫🟫🟫🟫🟫🌲🟫🟫🟫🟫🟫🟫🟫🟫🟫🟫🟫🟫🟫🟫🟫\n",
      "🌲🟫🟫🟫🟫🟫🟫🟫🟫🟫🟫🟫🟫🟫🟫🟫🟫🟫🟫🟫🟫🟫🟫🟫🟫🟫🟫🟫🟫🟫🟫🟫🟫🟫🟫🟫🟫🟫🟫🟫🟫🟫🟫🟫🟫🟫🟫🟫🟫🟫🟫🟫🟫🟫🟫🟫🟫🟫🟫🟫🟫🟫🟫🟫\n",
      "🟫🟫🟫🟫🟫🟫🟫🟫🟫🟫🟫🟫🟫🟫🟫🟫🟫🟫🟫🟫🟫🟫🟫🟫🟫🟫🟫🟫🟫🟫🟫🟫🟫🟫🟫🟫🟫🟫🟫🟫🟫🟫🟫🟫🟫🟫🟫🟫🟫🟫🟫🟫🟫🟫🟫🌲🟫🟫🟫🟫🟫🟫🟫🟫\n",
      "🟫🟫🟫🟫🟫🟫🟫🟫🟫🟫🟫🟫🌲🟫🟫🟫🟫🟫🟫🟫🟫🟫🟫🟫🟫🟫🟫🟫🟫🟫🟫🟫🟫🟫🟫🟫🟫🟫🟫🟫🟫🟫🟫🟫🟫🟫🟫🟫🟫🟫🟫🟫🟫🟫🟫🟫🟫🟫🟫🟫🟫🟫🟫🟫\n",
      "🟫🟫🟫🟫🟫🟫🟫🟫🟫🟫🟫🟫🟫🟫🟫🟫🟫🟫🟫🌲🟫🟫🟫🟫🟫🟫🟫🟫🟫🟫🟫🟫🟫🟫🟫🟫🟫🟫🟫🟫🌲🟫🟫🟫🟫🟫🟫🟫🟫🟫🟫🟫🟫🟫🟫🟫🟫🟫🟫🟫🟫🟫🟫🟫\n",
      "🟫🟫🟫🟫🟫🟫🟫🟫🟫🟫🟫🟫🟫🟫🟫🟫🟫🟫🟫🟫🟫🟫🟫🟫🟫🟫🟫🟫🟫🟫🟫🟫🟫🟫🟫🟫🟫🟫🟫🟫🟫🟫🟫🟫🟫🟫🟫🟫🟫🟫🟫🟫🟫🟫🟫🟫🟫🟫🟫🟫🟫🟫🟫🟫\n",
      "🟫🟫🟫🟫🟫🟫🟫🟫🟫🟫🟫🟫🟫🟫🟫🟫🟫🟫🟫🟫🟫🟫🟫🟫🟫🟫🟫🟫🟫🟫🟫🟫🟫🟫🟫🟫🟫🟫🟫🟫🟫🟫🟫🟫🟫🟫🟫🟫🟫🟫🟫🟫🟫🟫🟫🟫🟫🟫🟫🟫🟫🟫🟫🟫\n",
      "🟫🟫🟫🌲🟫🟫🟫🟫🟫🟫🟫🟫🟫🟫🟫🟫🟫🟫🟫🟫🟫🟫🟫🟫🟫🟫🟫🟫🟫🟫🟫🟫🟫🟫🟫🟫🟫🟫🟫🟫🟫🟫🟫🟫🟫🟫🟫🟫🟫🟫🟫🟫🟫🟫🟫🟫🟫🟫🟫🟫🟫🟫🟫🟫\n",
      "🟫🟫🟫🟫🟫🟫🟫🟫🟫🟫🟫🟫🟫🟫🟫🟫🟫🟫🟫🟫🟫🟫🟫🟫🟫🟫🟫🟫🟫🟫🟫🟫🟫🟫🟫🟫🟫🟫🟫🟫🟫🟫🟫🟫🟫🟫🟫🟫🟫🟫🟫🟫🟫🟫🌲🟫🟫🟫🟫🟫🟫🌲🟫🟫\n",
      "🟫🟫🟫🟫🟫🟫🟫🟫🟫🟫🟫🟫🟫🟫🟫🟫🟫🟫🟫🟫🟫🟫🟫🟫🟫🟫🌲🟫🟫🟫🟫🟫🟫🟫🟫🟫🟫🟫🟫🟫🟫🟫🟫🟫🟫🟫🟫🌲🟫🟫🟫🟫🟫🟫🟫🟫🟫🟫🟫🟫🟫🟫🟫🟫\n",
      "🟫🟫🟫🟫🟫🟫🟫🟫🟫🟫🌲🟫🟫🟫🟫🟫🟫🟫🟫🟫🟫🟫🟫🟫🟫🟫🟫🟫🟫🟫🟫🟫🟫🟫🟫🌲🟫🟫🟫🟫🟫🟫🟫🟫🟫🟫🟫🟫🟫🟫🟫🟫🟫🟫🟫🟫🟫🟫🟫🟫🟫🟫🟫🟫\n",
      "🟫🟫🟫🟫🟫🟫🟫🟫🟫🟫🟫🟫🟫🟫🟫🟫🟫🟫🟫🟫🟫🟫🟫🟫🟫🟫🟫🟫🟫🟫🟫🟫🟫🟫🟫🟫🟫🟫🟫🟫🟫🟫🟫🟫🟫🟫🟫🟫🟫🟫🟫🟫🟫🟫🟫🟫🟫🟫🟫🟫🟫🟫🟫🟫\n",
      "🟫🟫🟫🟫🟫🟫🟫🟫🟫🟫🟫🟫🟫🟫🟫🟫🟫🟫🟫🟫🟫🟫🟫🟫🟫🟫🟫🟫🟫🟫🟫🟫🟫🟫🟫🟫🟫🟫🟫🟫🟫🟫🟫🟫🟫🟫🟫🟫🟫🟫🟫🟫🟫🟫🟫🟫🟫🟫🟫🟫🟫🟫🟫🟫\n",
      "🟫🟫🟫🟫🟫🟫🟫🟫🟫🟫🟫🟫🟫🟫🟫🟫🟫🟫🟫🟫🟫🟫🟫🟫🟫🟫🟫🟫🟫🟫🟫🟫🟫🟫🟫🟫🟫🟫🟫🟫🟫🟫🟫🟫🟫🟫🟫🟫🟫🟫🟫🟫🟫🟫🟫🟫🟫🟫🟫🟫🟫🟫🟫🟫\n",
      "🟫🟫🟫🟫🟫🟫🟫🟫🟫🟫🟫🟫🟫🟫🟫🟫🟫🟫🟫🟫🌲🟫🟫🟫🟫🟫🟫🟫🟫🟫🟫🟫🟫🟫🟫🟫🟫🟫🟫🟫🟫🟫🌲🟫🟫🟫🟫🟫🟫🟫🟫🟫🟫🟫🟫🟫🟫🟫🌲🟫🟫🟫🟫🟫\n",
      "🟫🟫🟫🟫🟫🌲🟫🟫🟫🟫🟫🟫🟫🟫🟫🟫🟫🟫🟫🟫🟫🟫🟫🟫🟫🟫🟫🟫🟫🟫🟫🟫🟫🟫🟫🟫🟫🟫🟫🟫🟫🟫🟫🟫🟫🟫🟫🟫🟫🟫🟫🟫🟫🟫🟫🟫🟫🟫🟫🟫🟫🟫🟫🟫\n",
      "🟫🟫🟫🟫🟫🟫🟫🟫🟫🟫🟫🟫🟫🟫🟫🟫🟫🟫🟫🟫🟫🟫🟫🟫🟫🟫🟫🟫🟫🟫🟫🟫🟫🟫🟫🟫🟫🟫🟫🟫🟫🟫🟫🟫🟫🟫🟫🟫🟫🟫🟫🟫🟫🟫🟫🟫🟫🟫🟫🟫🟫🟫🟫🟫\n",
      "🟫🟫🟫🟫🟫🟫🟫🟫🟫🟫🟫🟫🟫🟫🟫🟫🟫🟫🟫🟫🟫🟫🟫🟫🟫🟫🟫🟫🟫🌲🟫🟫🟫🟫🟫🟫🟫🟫🟫🟫🟫🟫🟫🟫🟫🟫🟫🟫🟫🟫🟫🟫🟫🟫🟫🟫🟫🟫🟫🟫🟫🟫🟫🟫\n",
      "🟫🟫🟫🟫🟫🟫🟫🟫🟫🟫🟫🟫🟫🟫🟫🟫🟫🟫🟫🟫🟫🟫🟫🟫🟫🟫🟫🟫🟫🟫🟫🟫🟫🟫🟫🟫🟫🟫🟫🟫🟫🟫🟫🟫🟫🟫🟫🟫🟫🟫🟫🟫🟫🌲🟫🟫🟫🟫🟫🟫🟫🟫🟫🟫\n",
      "🟫🟫🟫🟫🟫🟫🟫🟫🟫🟫🟫🟫🟫🟫🟫🟫🟫🟫🟫🟫🟫🟫🟫🟫🟫🟫🟫🟫🟫🟫🟫🟫🟫🟫🟫🟫🟫🟫🟫🟫🟫🟫🟫🟫🟫🟫🟫🟫🟫🟫🟫🟫🟫🟫🟫🟫🟫🟫🟫🟫🟫🟫🟫🟫\n",
      "🟫🟫🟫🟫🟫🟫🟫🟫🟫🟫🟫🟫🟫🟫🟫🟫🟫🟫🟫🟫🟫🌲🟫🟫🟫🟫🟫🟫🟫🟫🟫🟫🟫🟫🟫🟫🟫🟫🟫🟫🟫🟫🟫🟫🟫🟫🟫🟫🟫🟫🟫🟫🟫🟫🟫🟫🟫🟫🟫🟫🟫🟫🟫🟫\n",
      "🟫🟫🟫🟫🟫🟫🟫🟫🌲🟫🟫🟫🟫🟫🌲🟫🟫🟫🟫🟫🟫🟫🟫🟫🟫🟫🟫🟫🟫🟫🟫🟫🟫🟫🟫🟫🟫🟫🟫🟫🟫🟫🟫🟫🌲🟫🟫🟫🟫🟫🟫🟫🟫🟫🟫🟫🟫🟫🟫🟫🟫🟫🟫🟫\n",
      "🟫🟫🟫🟫🟫🟫🟫🟫🟫🟫🟫🟫🟫🟫🟫🟫🟫🟫🟫🟫🟫🟫🟫🟫🟫🟫🟫🟫🟫🟫🟫🟫🟫🟫🌲🟫🟫🟫🟫🟫🟫🟫🟫🟫🟫🟫🟫🟫🟫🟫🟫🟫🟫🟫🟫🟫🟫🟫🟫🟫🟫🟫🟫🌲\n",
      "🟫🟫🟫🟫🟫🟫🟫🟫🟫🟫🟫🟫🟫🟫🟫🟫🟫🟫🟫🟫🟫🟫🟫🟫🟫🟫🟫🟫🟫🟫🟫🟫🟫🟫🟫🟫🟫🟫🟫🟫🟫🟫🟫🟫🟫🟫🟫🟫🟫🟫🟫🟫🟫🟫🟫🟫🟫🟫🟫🟫🟫🟫🟫🟫\n",
      "🟫🌲🟫🟫🟫🟫🟫🟫🟫🟫🟫🟫🟫🟫🟫🟫🟫🟫🟫🟫🟫🟫🟫🟫🟫🟫🟫🟫🟫🟫🟫🟫🟫🟫🟫🟫🟫🟫🟫🟫🟫🟫🟫🟫🟫🟫🟫🟫🟫🟫🟫🟫🟫🟫🟫🟫🟫🟫🟫🟫🟫🟫🟫🟫\n",
      "🟫🟫🟫🟫🟫🟫🟫🟫🟫🟫🟫🟫🟫🟫🟫🟫🟫🟫🟫🟫🟫🟫🟫🌲🟫🟫🟫🟫🟫🟫🟫🟫🟫🟫🟫🟫🟫🟫🟫🟫🟫🟫🟫🟫🟫🟫🟫🟫🟫🟫🟫🟫🟫🟫🟫🟫🟫🟫🟫🟫🟫🟫🟫🟫\n",
      "🟫🟫🟫🟫🟫🟫🟫🟫🟫🟫🟫🟫🟫🟫🟫🟫🟫🟫🟫🟫🟫🟫🟫🟫🟫🟫🟫🟫🟫🟫🟫🟫🟫🟫🟫🟫🟫🟫🟫🟫🟫🟫🟫🟫🟫🟫🟫🟫🟫🟫🟫🟫🟫🟫🟫🟫🌲🟫🟫🟫🟫🟫🟫🟫\n",
      "🟫🟫🟫🟫🟫🟫🟫🟫🌲🟫🟫🟫🟫🟫🟫🟫🌲🟫🟫🟫🟫🟫🟫🟫🟫🟫🟫🟫🟫🌲🟫🟫🟫🟫🟫🟫🟫🟫🟫🟫🟫🟫🟫🟫🟫🟫🟫🟫🟫🌲🟫🟫🟫🟫🟫🟫🟫🟫🟫🟫🟫🟫🟫🟫\n",
      "🟫🟫🟫🟫🟫🟫🟫🟫🟫🟫🟫🟫🟫🟫🟫🟫🟫🟫🟫🟫🟫🟫🟫🟫🟫🟫🟫🟫🟫🟫🟫🟫🟫🟫🟫🟫🟫🟫🟫🌲🟫🟫🟫🟫🟫🟫🟫🟫🟫🟫🟫🟫🟫🟫🟫🟫🟫🟫🟫🟫🟫🟫🟫🟫\n",
      "🟫🟫🟫🟫🟫🟫🟫🟫🟫🟫🟫🟫🟫🟫🟫🟫🟫🟫🟫🟫🟫🟫🟫🟫🟫🟫🟫🟫🟫🟫🟫🟫🟫🟫🟫🟫🟫🟫🟫🟫🟫🟫🟫🟫🟫🟫🟫🟫🟫🟫🟫🟫🟫🟫🟫🟫🟫🟫🟫🟫🟫🟫🟫🟫\n",
      "🟫🟫🟫🟫🟫🟫🟫🟫🟫🟫🟫🟫🟫🟫🟫🟫🟫🟫🟫🟫🟫🟫🟫🟫🟫🟫🟫🟫🟫🟫🟫🟫🟫🟫🟫🟫🟫🟫🟫🟫🟫🟫🟫🟫🟫🟫🟫🟫🟫🟫🟫🟫🟫🟫🟫🟫🟫🟫🟫🟫🟫🟫🟫🟫\n",
      "🟫🟫🟫🌲🟫🟫🟫🟫🟫🟫🟫🟫🟫🟫🟫🟫🟫🟫🟫🟫🟫🟫🟫🌲🟫🟫🟫🟫🟫🟫🟫🟫🟫🟫🟫🟫🟫🟫🟫🟫🟫🟫🟫🟫🟫🟫🟫🟫🟫🟫🟫🟫🟫🟫🟫🟫🟫🟫🟫🟫🌲🟫🟫🟫\n",
      "🟫🟫🟫🟫🟫🟫🟫🟫🟫🟫🟫🟫🟫🟫🟫🟫🟫🟫🟫🟫🟫🟫🟫🟫🟫🟫🟫🟫🟫🟫🟫🟫🟫🟫🟫🟫🟫🟫🟫🟫🟫🟫🟫🟫🟫🟫🟫🟫🟫🟫🟫🟫🟫🟫🟫🟫🟫🟫🟫🟫🟫🟫🟫🟫\n",
      "🟫🟫🟫🟫🟫🟫🟫🟫🟫🟫🟫🟫🟫🟫🟫🟫🟫🟫🟫🟫🟫🟫🟫🟫🟫🟫🟫🟫🟫🟫🟫🟫🟫🟫🟫🟫🟫🟫🟫🟫🟫🟫🟫🟫🟫🟫🟫🟫🟫🟫🟫🟫🟫🟫🟫🟫🟫🟫🟫🟫🟫🟫🟫🟫\n",
      "🟫🟫🟫🟫🟫🟫🟫🟫🌲🟫🟫🟫🟫🟫🌲🟫🟫🟫🟫🟫🟫🟫🟫🟫🟫🟫🟫🟫🟫🟫🟫🟫🟫🟫🟫🟫🟫🟫🟫🟫🟫🟫🟫🟫🟫🟫🟫🟫🟫🟫🟫🌲🟫🟫🟫🟫🟫🟫🟫🟫🟫🟫🟫🟫\n",
      "🟫🟫🟫🟫🟫🟫🟫🟫🟫🟫🟫🟫🟫🟫🟫🟫🟫🟫🟫🟫🟫🟫🟫🟫🟫🟫🟫🟫🟫🟫🟫🟫🟫🟫🟫🟫🟫🟫🟫🟫🟫🟫🟫🟫🟫🟫🟫🟫🟫🟫🟫🟫🟫🟫🟫🟫🟫🟫🟫🟫🟫🟫🟫🟫\n",
      "🟫🟫🟫🟫🟫🟫🟫🟫🟫🟫🟫🟫🟫🟫🟫🟫🟫🟫🟫🟫🟫🟫🟫🟫🟫🟫🟫🟫🟫🟫🟫🟫🟫🟫🟫🟫🟫🟫🟫🟫🟫🟫🟫🌲🟫🟫🟫🟫🟫🟫🟫🟫🟫🟫🟫🟫🟫🟫🟫🟫🟫🟫🟫🟫\n",
      "🟫🟫🟫🟫🟫🟫🟫🟫🟫🟫🟫🟫🟫🟫🟫🟫🟫🟫🟫🟫🟫🟫🟫🟫🟫🟫🟫🟫🟫🟫🟫🟫🌲🟫🟫🟫🟫🟫🟫🟫🟫🟫🟫🟫🟫🟫🟫🟫🟫🟫🟫🟫🟫🟫🟫🟫🟫🟫🟫🟫🟫🟫🟫🟫\n",
      "🟫🟫🟫🟫🟫🟫🟫🟫🟫🟫🟫🟫🟫🟫🟫🟫🟫🟫🟫🟫🟫🟫🟫🟫🌲🟫🟫🟫🟫🟫🟫🟫🟫🟫🟫🟫🟫🟫🟫🟫🟫🟫🟫🟫🟫🟫🟫🟫🟫🟫🟫🟫🟫🟫🟫🟫🟫🟫🟫🟫🟫🟫🌲🟫\n",
      "🌲🟫🟫🟫🟫🟫🟫🟫🟫🟫🟫🟫🟫🟫🟫🟫🟫🟫🟫🟫🟫🟫🟫🟫🟫🟫🟫🟫🟫🟫🟫🟫🟫🟫🟫🟫🟫🟫🌲🟫🟫🟫🟫🟫🟫🟫🟫🟫🟫🟫🟫🟫🟫🟫🟫🟫🌲🟫🟫🟫🟫🟫🟫🟫\n",
      "🟫🟫🟫🟫🟫🟫🟫🟫🟫🟫🟫🟫🟫🟫🟫🟫🟫🟫🟫🟫🟫🟫🟫🟫🟫🟫🟫🟫🟫🟫🟫🟫🟫🟫🟫🟫🟫🟫🟫🟫🟫🟫🟫🟫🟫🟫🟫🟫🟫🟫🟫🟫🟫🟫🟫🟫🟫🟫🟫🟫🟫🟫🟫🟫\n",
      "🟫🟫🟫🟫🟫🟫🟫🟫🟫🟫🟫🟫🟫🟫🟫🟫🟫🌲🟫🟫🟫🟫🟫🟫🟫🟫🟫🟫🟫🟫🟫🟫🟫🟫🟫🟫🟫🟫🟫🟫🟫🟫🟫🟫🟫🟫🟫🌲🟫🟫🟫🟫🟫🟫🟫🟫🟫🟫🟫🟫🟫🟫🟫🟫\n",
      "🟫🟫🟫🟫🟫🟫🟫🟫🌲🟫🟫🟫🟫🟫🟫🟫🟫🟫🟫🟫🟫🟫🟫🟫🟫🟫🟫🟫🟫🟫🌲🟫🟫🟫🟫🟫🟫🟫🟫🟫🟫🟫🟫🟫🟫🟫🟫🟫🟫🟫🟫🟫🟫🟫🟫🟫🟫🟫🟫🟫🟫🟫🟫🟫\n",
      "🟫🟫🟫🟫🟫🟫🟫🟫🟫🟫🟫🟫🟫🟫🟫🟫🟫🟫🟫🟫🟫🟫🟫🟫🟫🟫🟫🟫🟫🟫🟫🟫🟫🟫🟫🟫🟫🟫🟫🟫🟫🟫🟫🟫🟫🟫🟫🟫🟫🟫🟫🟫🟫🟫🟫🟫🟫🟫🟫🟫🟫🟫🟫🟫\n",
      "🟫🟫🟫🟫🟫🟫🟫🟫🟫🟫🟫🟫🟫🟫🟫🟫🟫🟫🟫🟫🟫🟫🟫🟫🟫🟫🟫🟫🟫🟫🟫🟫🟫🟫🟫🟫🟫🟫🟫🟫🟫🟫🟫🟫🟫🟫🟫🟫🟫🟫🟫🟫🟫🟫🟫🟫🟫🟫🟫🟫🟫🟫🟫🟫\n",
      "🟫🟫🟫🟫🟫🟫🟫🟫🟫🟫🟫🟫🟫🟫🟫🟫🟫🟫🟫🟫🟫🟫🟫🟫🌲🟫🟫🟫🟫🟫🟫🟫🟫🟫🟫🟫🟫🟫🟫🟫🟫🟫🌲🟫🟫🟫🟫🟫🟫🟫🟫🟫🟫🟫🟫🟫🟫🟫🟫🟫🟫🟫🟫🟫\n",
      "🟫🟫🟫🌲🟫🟫🟫🟫🟫🟫🟫🟫🟫🟫🟫🟫🟫🟫🟫🟫🟫🟫🟫🟫🟫🟫🟫🟫🟫🟫🟫🟫🟫🟫🟫🟫🟫🟫🟫🟫🟫🟫🟫🟫🟫🟫🟫🟫🟫🟫🟫🟫🟫🟫🟫🟫🟫🟫🟫🟫🟫🟫🟫🟫\n",
      "🟫🟫🟫🟫🟫🟫🟫🟫🟫🟫🟫🟫🟫🟫🟫🟫🟫🟫🟫🟫🟫🟫🟫🟫🟫🟫🟫🟫🟫🟫🟫🟫🟫🟫🟫🟫🟫🟫🟫🟫🟫🟫🟫🟫🟫🟫🟫🟫🌲🟫🟫🟫🟫🟫🟫🟫🌲🟫🟫🟫🟫🟫🟫🟫\n",
      "🟫🟫🟫🟫🟫🟫🟫🟫🟫🟫🟫🟫🟫🟫🟫🟫🟫🟫🟫🟫🟫🟫🟫🟫🟫🟫🟫🟫🟫🟫🟫🟫🟫🟫🟫🟫🟫🟫🟫🟫🟫🟫🟫🟫🟫🟫🟫🟫🟫🟫🟫🟫🟫🟫🟫🟫🟫🟫🟫🟫🟫🟫🟫🟫\n",
      "🟫🟫🟫🟫🟫🟫🟫🟫🟫🟫🟫🟫🟫🟫🟫🌲🟫🟫🟫🟫🟫🟫🟫🟫🟫🟫🟫🟫🟫🟫🟫🟫🟫🌲🟫🟫🟫🟫🟫🟫🟫🟫🟫🟫🟫🟫🟫🟫🟫🟫🟫🟫🟫🟫🟫🟫🟫🟫🟫🟫🟫🟫🟫🟫\n",
      "🟫🟫🟫🟫🟫🟫🟫🟫🟫🟫🟫🟫🟫🟫🟫🟫🟫🟫🟫🟫🟫🟫🟫🟫🟫🟫🟫🟫🟫🟫🟫🟫🟫🟫🟫🟫🟫🟫🟫🟫🟫🟫🟫🟫🟫🟫🟫🟫🟫🟫🟫🟫🟫🟫🟫🟫🟫🟫🟫🟫🟫🟫🟫🟫\n",
      "🟫🟫🟫🟫🟫🟫🟫🟫🟫🟫🟫🟫🟫🟫🟫🟫🟫🟫🟫🟫🟫🟫🟫🟫🟫🟫🟫🟫🟫🟫🟫🟫🟫🟫🟫🟫🟫🟫🟫🟫🟫🟫🟫🟫🟫🟫🟫🟫🟫🟫🟫🟫🟫🟫🟫🟫🟫🟫🟫🟫🟫🟫🟫🟫\n",
      "🟫🟫🟫🟫🌲🟫🟫🟫🟫🟫🟫🟫🟫🟫🟫🟫🟫🟫🟫🟫🟫🌲🟫🟫🟫🟫🟫🟫🟫🟫🟫🟫🟫🟫🟫🟫🟫🟫🟫🟫🟫🟫🟫🟫🟫🟫🟫🟫🟫🟫🟫🟫🟫🟫🟫🟫🟫🟫🟫🟫🟫🟫🟫🟫\n",
      "🟫🟫🟫🟫🟫🟫🟫🟫🟫🟫🟫🟫🟫🟫🟫🟫🟫🟫🟫🟫🟫🟫🟫🟫🟫🟫🟫🟫🟫🟫🟫🟫🟫🟫🟫🟫🟫🟫🟫🟫🟫🟫🟫🌲🟫🟫🟫🟫🟫🟫🟫🟫🟫🟫🟫🟫🟫🟫🟫🟫🟫🟫🟫🟫\n",
      "🟫🟫🟫🟫🟫🟫🟫🟫🟫🟫🟫🟫🟫🟫🟫🟫🟫🟫🟫🟫🟫🟫🟫🟫🟫🟫🟫🟫🟫🟫🟫🟫🟫🟫🟫🟫🟫🟫🟫🟫🟫🟫🟫🟫🟫🟫🟫🟫🟫🟫🟫🟫🟫🟫🟫🟫🟫🟫🟫🟫🟫🟫🟫🟫\n",
      "🟫🟫🟫🟫🟫🟫🟫🟫🟫🟫🟫🟫🟫🟫🟫🟫🟫🟫🟫🟫🟫🟫🟫🟫🟫🟫🟫🟫🟫🌲🟫🟫🟫🟫🟫🟫🟫🟫🟫🟫🟫🟫🟫🟫🟫🟫🟫🟫🟫🟫🟫🟫🟫🟫🟫🟫🟫🟫🌲🟫🟫🟫🟫🟫\n",
      "🟫🟫🟫🟫🟫🟫🟫🟫🟫🟫🟫🟫🟫🟫🟫🟫🟫🟫🟫🟫🟫🟫🟫🟫🟫🟫🟫🟫🟫🟫🟫🟫🟫🟫🟫🟫🟫🟫🟫🟫🟫🟫🟫🟫🟫🟫🟫🟫🟫🟫🟫🟫🟫🟫🟫🟫🟫🟫🟫🟫🟫🟫🟫🟫\n",
      "🟫🟫🟫🟫🟫🟫🟫🟫🟫🟫🟫🟫🌲🟫🟫🟫🟫🟫🟫🟫🟫🟫🟫🟫🟫🟫🟫🟫🟫🟫🟫🟫🟫🟫🟫🟫🟫🟫🟫🟫🟫🟫🟫🟫🟫🟫🟫🟫🟫🟫🌲🟫🟫🟫🟫🟫🟫🟫🟫🟫🟫🟫🟫🟫\n",
      "🟫🟫🌲🟫🟫🟫🟫🟫🟫🟫🟫🟫🟫🟫🟫🟫🟫🟫🟫🟫🟫🟫🟫🟫🟫🟫🟫🟫🟫🟫🟫🟫🟫🟫🟫🟫🟫🟫🟫🟫🟫🟫🟫🟫🟫🟫🟫🟫🟫🟫🟫🟫🟫🟫🟫🟫🟫🟫🟫🟫🟫🟫🟫🟫\n",
      "🟫🟫🟫🟫🟫🟫🟫🟫🟫🟫🟫🟫🟫🟫🟫🟫🟫🟫🟫🌲🟫🟫🟫🟫🟫🟫🟫🟫🟫🟫🟫🟫🟫🟫🟫🟫🟫🟫🟫🌲🟫🟫🟫🟫🟫🟫🟫🟫🟫🟫🟫🟫🟫🟫🟫🟫🟫🟫🟫🟫🟫🟫🟫🟫\n",
      "🟫🟫🟫🟫🟫🟫🟫🟫🟫🟫🟫🟫🟫🟫🟫🟫🟫🟫🟫🟫🟫🟫🟫🟫🟫🟫🟫🟫🟫🟫🟫🟫🟫🌲🟫🟫🟫🟫🟫🟫🟫🟫🟫🟫🟫🟫🟫🟫🟫🟫🟫🟫🟫🟫🟫🟫🟫🟫🟫🟫🟫🟫🟫🟫\n",
      "🟫🟫🟫🟫🟫🟫🟫🟫🟫🟫🟫🟫🟫🟫🟫🟫🟫🟫🟫🟫🟫🟫🟫🟫🟫🌲🟫🟫🟫🟫🟫🟫🟫🟫🟫🟫🟫🟫🟫🟫🟫🟫🟫🟫🟫🟫🟫🟫🟫🟫🟫🟫🟫🟫🟫🟫🟫🟫🟫🟫🟫🟫🟫🌲\n",
      "🟫🟫🟫🟫🟫🟫🟫🟫🟫🟫🟫🟫🟫🟫🟫🟫🟫🟫🟫🟫🟫🟫🟫🟫🟫🟫🟫🟫🟫🟫🟫🟫🟫🟫🟫🟫🟫🟫🟫🟫🟫🟫🟫🟫🟫🟫🟫🟫🟫🟫🟫🟫🟫🟫🟫🟫🟫🟫🟫🟫🟫🟫🟫🟫\n",
      "🟫🟫🟫🟫🟫🟫🟫🟫🟫🟫🟫🟫🟫🟫🟫🟫🟫🟫🟫🟫🟫🟫🟫🟫🟫🟫🟫🟫🟫🟫🟫🟫🟫🟫🟫🟫🟫🟫🟫🟫🟫🟫🟫🟫🟫🟫🟫🟫🌲🟫🟫🟫🟫🟫🟫🟫🟫🟫🟫🟫🟫🟫🟫🟫\n",
      "🟫🟫🟫🟫🟫🟫🟫🟫🟫🟫🟫🟫🟫🟫🟫🟫🟫🟫🟫🟫🟫🟫🟫🟫🟫🟫🟫🟫🟫🟫🟫🟫🟫🟫🟫🟫🟫🟫🟫🟫🟫🟫🌲🟫🟫🟫🟫🟫🟫🟫🟫🟫🟫🟫🟫🟫🟫🟫🟫🟫🟫🟫🟫🟫\n",
      "🟫🟫🟫🟫🟫🟫🟫🟫🟫🟫🟫🟫🌲🟫🟫🟫🟫🟫🟫🟫🌲🟫🟫🟫🟫🟫🟫🟫🟫🟫🟫🟫🟫🟫🟫🟫🟫🟫🟫🟫🟫🟫🟫🟫🟫🟫🟫🟫🟫🟫🟫🟫🟫🟫🟫🟫🌲🟫🟫🟫🟫🟫🟫🟫\n",
      "🟫🟫🟫🟫🟫🟫🟫🟫🟫🟫🟫🟫🟫🟫🟫🟫🟫🟫🟫🟫🟫🟫🟫🟫🟫🟫🟫🟫🟫🟫🟫🟫🟫🟫🟫🟫🟫🟫🟫🟫🟫🟫🟫🟫🟫🟫🟫🟫🟫🟫🟫🟫🟫🟫🟫🟫🟫🟫🟫🟫🟫🟫🟫🟫\n",
      "🟫🟫🟫🟫🟫🟫🟫🟫🟫🟫🟫🟫🟫🟫🟫🟫🟫🟫🟫🟫🟫🟫🟫🟫🟫🟫🟫🟫🟫🟫🟫🟫🟫🟫🟫🟫🟫🟫🟫🟫🟫🟫🟫🟫🟫🟫🟫🟫🟫🟫🟫🟫🟫🟫🟫🟫🟫🟫🟫🟫🟫🟫🟫🟫\n",
      "🟫🟫🟫🟫🟫🌲🟫🟫🟫🟫🟫🟫🟫🟫🟫🟫🟫🟫🟫🟫🟫🟫🟫🟫🟫🟫🟫🟫🟫🟫🟫🟫🟫🟫🟫🟫🟫🟫🟫🟫🟫🟫🟫🟫🟫🟫🟫🟫🟫🟫🟫🟫🟫🟫🟫🟫🟫🟫🟫🟫🟫🟫🟫🟫\n",
      "🟫🟫🟫🟫🟫🟫🟫🟫🟫🟫🟫🟫🟫🟫🟫🟫🟫🟫🟫🟫🟫🟫🟫🟫🟫🟫🟫🟫🟫🟫🟫🟫🟫🌲🟫🟫🟫🟫🟫🟫🟫🟫🟫🟫🟫🟫🟫🟫🟫🟫🟫🌲🟫🟫🟫🟫🟫🟫🟫🟫🟫🟫🟫🌲\n",
      "🟫🟫🟫🟫🟫🟫🟫🟫🟫🟫🟫🟫🟫🟫🟫🟫🟫🟫🟫🟫🟫🟫🟫🟫🟫🌲🟫🟫🟫🟫🟫🟫🟫🟫🟫🟫🟫🟫🟫🟫🟫🌲🟫🟫🟫🟫🟫🟫🟫🟫🟫🟫🟫🟫🟫🟫🟫🟫🟫🟫🟫🟫🟫🟫\n"
     ]
    }
   ],
   "source": [
    "resultado = a.poisson_disc_sampling(6,30)\n",
    "for r in resultado:\n",
    "    print(\"\".join([str(\"🌲\" if j==1 else \"🟫\") for j in list(r.flatten())][0:64]))"
   ]
  }
 ],
 "metadata": {
  "kernelspec": {
   "display_name": ".venv",
   "language": "python",
   "name": "python3"
  },
  "language_info": {
   "codemirror_mode": {
    "name": "ipython",
    "version": 3
   },
   "file_extension": ".py",
   "mimetype": "text/x-python",
   "name": "python",
   "nbconvert_exporter": "python",
   "pygments_lexer": "ipython3",
   "version": "3.12.3"
  }
 },
 "nbformat": 4,
 "nbformat_minor": 2
}
