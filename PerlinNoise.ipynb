{
 "cells": [
  {
   "cell_type": "code",
   "execution_count": 44,
   "metadata": {},
   "outputs": [],
   "source": [
    "import opensimplex\n",
    "import numpy as np\n",
    "import matplotlib.pyplot as plt\n",
    "import math\n",
    "from random import randint\n",
    "import os\n",
    "import multiprocessing as mp\n",
    "import plotly.express as px\n",
    "from random import randint"
   ]
  },
  {
   "cell_type": "markdown",
   "metadata": {},
   "source": [
    "biomas = np.empty(shape=(128,128,128), dtype=np.uint8)\n",
    "for i in range(128):\n",
    "    for j in range(128):\n",
    "        for k in range(128):\n",
    "            mejor = float('inf')\n",
    "            for r in generator.BIOMAS.keys():\n",
    "                a = np.linalg.norm(np.array(generator.BIOMAS[r][0]) - np.array([i/128, j/128, k/128]))\n",
    "                if a < mejor:\n",
    "                    mejor = a\n",
    "                    biomas[i, j, k] = r\n",
    "    print(i)\n",
    "print(biomas)\n",
    "np.save(f\"CERCANIA_BIOMAS.npy\", biomas)\n"
   ]
  },
  {
   "cell_type": "code",
   "execution_count": 25,
   "metadata": {},
   "outputs": [],
   "source": [
    "class generator:\n",
    "    #(Humedad altura temperatura), nombre del bioma, color, {objetos que pueden aparecer, probabilidades}\n",
    "    BIOMAS = {\n",
    "        0: ([-1, -1, -1], 'Oceano', (56, 148, 194), {}),\n",
    "        1: ([-1, -1, -1], 'Oceano profundo', (27, 59, 140), {}),\n",
    "        2: ([-1, -1, -1], 'Rios y lagos', (126, 180, 237), {}),\n",
    "        3: ([0.5, 0.0, 0.5], 'Costa', (245, 240, 108), {\"Palmera\": 0.7, \"Piedra pequeña\": 0.3}),\n",
    "        4: ([0.85, 0.05, 0.45], 'Marismas', (171, 222, 32), {\"Arbusto\": 1}),\n",
    "        5: ([0.75, 0.1, 0.05], 'Polo', (250, 250, 250), {\"Tempano\": 0.5, \"Piedra congelada\": 0.5}),\n",
    "        6: ([0.8, 0.15, 0.45], 'Pantano', (33, 133, 99), {\"Arbusto\": 0.2, \"Piedra pequeña\": 0.2, \"Arbol\": 0.6}),\n",
    "        7: ([0.5, 0.2, 0.5], 'Bosque', (53, 118, 43), {\"Arbol\": 0.6, \"Arbusto\": 0.2, \"Flores\": 0.2}),\n",
    "        8: ([0.6, 0.2, 0.55], 'Selva', (0, 183, 10), {\"Arbol\": 0.7, \"Helecho\": 0.3}),\n",
    "        9: ([0.35, 0.2, 0.55], 'Dehesa', (128, 179, 30), {\"Arbol\": 0.5, \"Arbusto\": 0.5}),\n",
    "        10: ([0.2, 0.2, 0.6], 'Savana', (228, 125, 28), {\"Arbol\": 0.3, \"Arbusto\": 0.7}),\n",
    "        12: ([0.75, 0.25, 0.75], 'Termales', (39, 156, 121), {\"Geiser\": 0.5, \"Piedra pequeña\": 0.5}),\n",
    "        11: ([0.0, 0.3, 0.8], 'Desierto', (255, 211, 29), {\"Cactus\": 0.7, \"Arbusto muerto\": 0.3}),\n",
    "        13: ([0.4, 0.4, 0.4], 'Valle', (144, 219, 148), {\"Arbol\": 0.8, \"Arbusto\": 0.2}),\n",
    "        14: ([0.2, 0.65, 0.55], 'Meseta', (110, 88, 66), {\"Roca grande\": 0.1, \"Arbusto\": 0.5, \"Roca pequeña\": 0.4}),\n",
    "        15: ([0.7, 0.8, 0.2], 'Tundra', (208, 208, 240), {\"Piedra pequeña\": 0.5, \"Flores\": 0.5}),\n",
    "        16: ([0.15, 0.8, 0.85], 'Volcanico', (159, 16, 16), {\"Arbol carbonizado\": 0.6, \"Charco de lava\": 0.4}),\n",
    "        17: ([0.35, 9, 0.35], 'Montaña', (125, 125, 125), {\"Roca grande\": 0.3, \"Roca pequeña\": 0.7}),\n",
    "    }\n",
    "    CHUNK_SIZE = 128\n",
    "    CERCANIA_BIOMAS = np.load(\"./CERCANIA_BIOMAS.npy\" )\n",
    "\n",
    "    def __init__(self, seedTemp = None, seedAltu = None, seedHume = None):\n",
    "        self.SEEDTEMP = seedTemp if seedTemp != None else randint(-2**30, 2**30)\n",
    "        self.SEEDALTU = seedAltu if seedTemp != None else randint(-2**30, 2**30)\n",
    "        self.SEEDHUME = seedHume if seedTemp != None else randint(-2**30, 2**30)\n",
    "\n",
    "    def getNoise(self, seed: int, x_in: int, y_in: int, iterations: int, size: int, disparity: int = 3):\n",
    "        opensimplex.seed(seed)\n",
    "        ruido = 0\n",
    "        for r in range(iterations):\n",
    "            divisor = (size/2**r)\n",
    "            exponenciador = (2**r)\n",
    "            ruido += opensimplex.noise2(x=(x_in)/divisor, y=(y_in)/divisor)/exponenciador\n",
    "            \n",
    "        maximo = sum([2/(2**r) for r in range(iterations)])\n",
    "        ruido = (ruido + maximo)/(2*maximo)     \n",
    "        for r in range(disparity):\n",
    "            ruido = 0.5 + math.sin(math.pi*ruido - math.pi/2)/2\n",
    "        return ruido\n",
    "\n",
    "    def getNoiseArray(self, seed: int, x_in: int, y_in: int, iterations: int, size: int, disparity: int = 3):\n",
    "        \"\"\"\n",
    "        Generates a 2D noise array using OpenSimplex noise with multi-level detail and smoothing.\n",
    "\n",
    "        Args:\n",
    "            seed (int): The seed used to initialize the noise generation.\n",
    "            x_in (int): The x-coordinate index for the chunk, which determines the chunk's location in the noise grid.\n",
    "            y_in (int): The y-coordinate index for the chunk, which determines the chunk's location in the noise grid.\n",
    "            iterations (int): The number of levels of detail or layers to add to the noise. Higher values create more detailed noise.\n",
    "            size (int): The scale factor for the noise. Larger values make the noise features larger.\n",
    "            disparity (int, optional): The number of smoothing iterations applied to the generated noise values. Defaults to 3.\n",
    "\n",
    "        Returns:\n",
    "            np.ndarray: A 2D array of floats representing the generated noise values, normalized and smoothed.\n",
    "\n",
    "        Details:\n",
    "            1. The noise is generated using the OpenSimplex algorithm. For each iteration, the noise is calculated at different scales \n",
    "            and added to the `noise_array` with decreasing impact for each iteration.\n",
    "            2. The noise values are normalized based on the maximum possible summed noise value across all iterations.\n",
    "            3. After generating the noise, the function applies sinusoidal smoothing multiple times (based on the `disparity` value) to \n",
    "            create smoother transitions in the noise.\n",
    "            4. The output is a chunk of noise, determined by the size of the chunk (`self.CHUNK_SIZE`) and its position (`x_in`, `y_in`).\n",
    "\n",
    "        Example:\n",
    "            noise = getNoiseArray(seed=42, x_in=1, y_in=2, iterations=4, size=100, disparity=3)\n",
    "        \"\"\"\n",
    "        x = self.CHUNK_SIZE*x_in\n",
    "        y = self.CHUNK_SIZE*y_in\n",
    "        opensimplex.seed(seed)\n",
    "\n",
    "        rango = range(0,self.CHUNK_SIZE)\n",
    "        noise_array = np.zeros(dtype=float, shape=(self.CHUNK_SIZE, self.CHUNK_SIZE))\n",
    "\n",
    "        for r in range(iterations):\n",
    "            divisor = (size/2**r)\n",
    "            exponenciador = (2**r)\n",
    "            for i in rango:\n",
    "                for j in rango:\n",
    "                    noise_array[j, i] += opensimplex.noise2(x=(i+x)/divisor, y=(y+j)/divisor)/exponenciador\n",
    "        \n",
    "        maximo = sum([2/(2**r) for r in range(iterations)])\n",
    "        for i in rango:\n",
    "            for j in rango:\n",
    "                valor = (noise_array[j, i] + maximo)/(2*maximo)     \n",
    "                for r in range(disparity):\n",
    "                    valor = 0.5 + math.sin(math.pi*valor - math.pi/2)/2\n",
    "                noise_array[j, i] = valor\n",
    "        return noise_array\n",
    "    \n",
    "    def getBioma(self, temp, altu, hume):\n",
    "        \"\"\"\n",
    "        Determines the biome type based on temperature, altitude, and humidity.\n",
    "\n",
    "        Args:\n",
    "            temp (float): The temperature value, expected to be in the range [0, 1].\n",
    "            altu (float): The altitude value, expected to be in the range [0, 1].\n",
    "            hume (float): The humidity value, expected to be in the range [0, 1].\n",
    "\n",
    "        Returns:\n",
    "            int: An integer representing the biome type.\n",
    "                 0 - Ocean\n",
    "                 1 - Deep Ocean\n",
    "                 Other values are determined by the CERCANIA_BIOMAS lookup table.\n",
    "        \"\"\"\n",
    "        if(altu < 0.5):\n",
    "            if (altu <= 0.4):\n",
    "                return 0 #Oceano\n",
    "            else:\n",
    "                return 1 #Oceano profundo\n",
    "        else:\n",
    "            alt = math.floor(128*(altu-0.5)*2)\n",
    "            temp = math.floor(128*temp)\n",
    "            hum = math.floor(128*hume)\n",
    "            return self.CERCANIA_BIOMAS[hum, alt, temp]\n",
    "\n",
    "    def getChunk(self, x: int, y: int):\n",
    "        \"\"\"\n",
    "        Retrieves or generates a chunk of terrain data based on the given coordinates.\n",
    "\n",
    "        If the chunk data already exists in the specified file path, it loads and returns the data.\n",
    "        Otherwise, it generates new terrain data using Perlin noise, saves it to the file path, and returns the generated data.\n",
    "\n",
    "        Parameters:\n",
    "        x (int): The x-coordinate of the chunk.\n",
    "        y (int): The y-coordinate of the chunk.\n",
    "\n",
    "        Returns:\n",
    "        numpy.ndarray: A 2D array representing the terrain data for the specified chunk.\n",
    "        \"\"\"\n",
    "        if os.path.exists(f\"./Chunks/T_{self.SEEDTEMP}A_{self.SEEDTEMP}H_{self.SEEDTEMP}/{x}/{y}.npy\"):\n",
    "            return np.load(f\"./Chunks/T_{self.SEEDTEMP}A_{self.SEEDTEMP}H_{self.SEEDTEMP}/{x}/{y}.npy\")\n",
    "        else:\n",
    "            temp = self.getNoiseArray(self.SEEDTEMP, x, y, 3, 128, 2)\n",
    "            altu = self.getNoiseArray(self.SEEDALTU, x, y, 6, 512, 4)\n",
    "            hume = self.getNoiseArray(self.SEEDHUME, x, y, 3, 256, 2)\n",
    "            array_biomas = np.zeros(dtype=np.uint8, shape=(self.CHUNK_SIZE,self.CHUNK_SIZE))\n",
    "\n",
    "            for i in range(self.CHUNK_SIZE):\n",
    "                for j in range(self.CHUNK_SIZE):\n",
    "                    array_biomas[i, j] = self.getBioma(hume[i, j], altu[i, j], temp[i, j])\n",
    "            os.makedirs(f\"./Chunks/T_{self.SEEDTEMP}A_{self.SEEDTEMP}H_{self.SEEDTEMP}/{x}\", exist_ok=True)\n",
    "            np.save(f\"./Chunks/T_{self.SEEDTEMP}A_{self.SEEDTEMP}H_{self.SEEDTEMP}/{x}/{y}\", array_biomas)\n",
    "            return array_biomas\n",
    "    \n",
    "    def getChunksInRange(self, x_range: tuple[int, int], y_range: tuple[int, int]):\n",
    "        \"\"\"\n",
    "        Generates a 2D array of chunks within the specified x and y ranges.\n",
    "        This method creates and starts multiple processes to generate chunks in parallel,\n",
    "        then joins the processes and combines the resulting chunks into a single 2D array.\n",
    "        Args:\n",
    "            x_range (tuple[int, int]): A tuple specifying the start and end of the x range.\n",
    "            y_range (tuple[int, int]): A tuple specifying the start and end of the y range.\n",
    "        Returns:\n",
    "            numpy.ndarray: A 2D array containing the combined chunks.\n",
    "        \"\"\"\n",
    "        arr = None\n",
    "        for i in range(x_range[0], x_range[1]):\n",
    "            arr_proc = []\n",
    "            for j in range(y_range[0], y_range[1]):\n",
    "                arr_proc.append(mp.Process(target=self.getChunk, args=(i, j)))\n",
    "                arr_proc[-1].start()\n",
    "            for proc in arr_proc:\n",
    "                proc.join()\n",
    "\n",
    "            arr_line = None\n",
    "            for j in range(y_range[0], y_range[1]):\n",
    "                if arr_line is None:\n",
    "                    arr_line = self.getChunk(i, j)\n",
    "                else:\n",
    "                    arr_line = np.vstack((arr_line, self.getChunk(i, j)))\n",
    "\n",
    "            if arr is None:\n",
    "                arr = arr_line\n",
    "            else:\n",
    "                arr = np.hstack((arr, arr_line))\n",
    "        return arr\n",
    "\n",
    "    def representation(self, x_range: tuple[int, int], y_range: tuple[int, int]):\n",
    "        \"\"\"\n",
    "        Generates a visual representation of the terrain based on Perlin noise.\n",
    "        Args:\n",
    "            x_range (tuple[int, int]): The range of x-coordinates to generate the terrain for.\n",
    "            y_range (tuple[int, int]): The range of y-coordinates to generate the terrain for.\n",
    "        Returns:\n",
    "            np.ndarray: A 3D numpy array representing the RGB values of the terrain.\n",
    "        The function performs the following steps:\n",
    "        1. Retrieves the terrain chunks within the specified x and y ranges.\n",
    "        2. Initializes an empty array to store the RGB values of the terrain.\n",
    "        3. Iterates through the terrain chunks and assigns the corresponding RGB values from the BIOMAS dictionary.\n",
    "        4. Creates an image of the terrain using Plotly's imshow function.\n",
    "        5. Adjusts the figure size to match the dimensions of the terrain array.\n",
    "        6. Adds a legend to the figure, representing different biomes with their respective colors.\n",
    "        7. Displays the figure.\n",
    "        8. Returns the RGB array of the terrain.\n",
    "        \"\"\"\n",
    "        arr = self.getChunksInRange(x_range, y_range)\n",
    "        arr2 = np.zeros((arr.shape[0], arr.shape[1], 3), dtype=np.uint8)\n",
    "\n",
    "        for i in range(arr.shape[0]):\n",
    "            for j in range(arr.shape[1]):\n",
    "                arr2[i, j] = generator.BIOMAS[arr[i, j]][2]\n",
    "        \n",
    "        fig = px.imshow(arr2)\n",
    "        fig.update_layout(width=arr.shape[0], height=arr.shape[1])  # Adjust the figure size here\n",
    "\n",
    "        # Add legend\n",
    "        legend_items = []\n",
    "        for key, value in generator.BIOMAS.items():\n",
    "            legend_items.append(\n",
    "                dict(\n",
    "                    name=value[1],\n",
    "                    marker=dict(color=f\"rgb{value[2]}\", size=20),\n",
    "                    mode='markers',\n",
    "                    type='scatter',\n",
    "                    x=[None],\n",
    "                    y=[None]\n",
    "                )\n",
    "            )\n",
    "        fig.add_traces(legend_items)\n",
    "        fig.show()\n",
    "        return arr2"
   ]
  },
  {
   "cell_type": "code",
   "execution_count": 20,
   "metadata": {},
   "outputs": [],
   "source": [
    "a = generator(1,2,3)"
   ]
  },
  {
   "cell_type": "code",
   "execution_count": 21,
   "metadata": {},
   "outputs": [
    {
     "data": {
      "application/vnd.plotly.v1+json": {
       "config": {
        "plotlyServerURL": "https://plot.ly"
       },
       "data": [
        {
         "hovertemplate": "x: %{x}<br>y: %{y}<br>color: [%{z[0]}, %{z[1]}, %{z[2]}]<extra></extra>",
         "name": "0",
         "source": "data:image/png;base64,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",
         "type": "image",
         "xaxis": "x",
         "yaxis": "y"
        },
        {
         "marker": {
          "color": "rgb(56, 148, 194)",
          "size": 20
         },
         "mode": "markers",
         "name": "Oceano",
         "type": "scatter",
         "x": [
          null
         ],
         "y": [
          null
         ]
        },
        {
         "marker": {
          "color": "rgb(27, 59, 140)",
          "size": 20
         },
         "mode": "markers",
         "name": "Oceano profundo",
         "type": "scatter",
         "x": [
          null
         ],
         "y": [
          null
         ]
        },
        {
         "marker": {
          "color": "rgb(126, 180, 237)",
          "size": 20
         },
         "mode": "markers",
         "name": "Rios y lagos",
         "type": "scatter",
         "x": [
          null
         ],
         "y": [
          null
         ]
        },
        {
         "marker": {
          "color": "rgb(245, 240, 108)",
          "size": 20
         },
         "mode": "markers",
         "name": "Costa",
         "type": "scatter",
         "x": [
          null
         ],
         "y": [
          null
         ]
        },
        {
         "marker": {
          "color": "rgb(171, 222, 32)",
          "size": 20
         },
         "mode": "markers",
         "name": "Marismas",
         "type": "scatter",
         "x": [
          null
         ],
         "y": [
          null
         ]
        },
        {
         "marker": {
          "color": "rgb(250, 250, 250)",
          "size": 20
         },
         "mode": "markers",
         "name": "Polo",
         "type": "scatter",
         "x": [
          null
         ],
         "y": [
          null
         ]
        },
        {
         "marker": {
          "color": "rgb(33, 133, 99)",
          "size": 20
         },
         "mode": "markers",
         "name": "Pantano",
         "type": "scatter",
         "x": [
          null
         ],
         "y": [
          null
         ]
        },
        {
         "marker": {
          "color": "rgb(53, 118, 43)",
          "size": 20
         },
         "mode": "markers",
         "name": "Bosque",
         "type": "scatter",
         "x": [
          null
         ],
         "y": [
          null
         ]
        },
        {
         "marker": {
          "color": "rgb(0, 183, 10)",
          "size": 20
         },
         "mode": "markers",
         "name": "Selva",
         "type": "scatter",
         "x": [
          null
         ],
         "y": [
          null
         ]
        },
        {
         "marker": {
          "color": "rgb(128, 179, 30)",
          "size": 20
         },
         "mode": "markers",
         "name": "Dehesa",
         "type": "scatter",
         "x": [
          null
         ],
         "y": [
          null
         ]
        },
        {
         "marker": {
          "color": "rgb(228, 125, 28)",
          "size": 20
         },
         "mode": "markers",
         "name": "Savana",
         "type": "scatter",
         "x": [
          null
         ],
         "y": [
          null
         ]
        },
        {
         "marker": {
          "color": "rgb(39, 156, 121)",
          "size": 20
         },
         "mode": "markers",
         "name": "Termales",
         "type": "scatter",
         "x": [
          null
         ],
         "y": [
          null
         ]
        },
        {
         "marker": {
          "color": "rgb(255, 211, 29)",
          "size": 20
         },
         "mode": "markers",
         "name": "Desierto",
         "type": "scatter",
         "x": [
          null
         ],
         "y": [
          null
         ]
        },
        {
         "marker": {
          "color": "rgb(144, 219, 148)",
          "size": 20
         },
         "mode": "markers",
         "name": "Valle",
         "type": "scatter",
         "x": [
          null
         ],
         "y": [
          null
         ]
        },
        {
         "marker": {
          "color": "rgb(110, 88, 66)",
          "size": 20
         },
         "mode": "markers",
         "name": "Meseta",
         "type": "scatter",
         "x": [
          null
         ],
         "y": [
          null
         ]
        },
        {
         "marker": {
          "color": "rgb(208, 208, 240)",
          "size": 20
         },
         "mode": "markers",
         "name": "Tundra",
         "type": "scatter",
         "x": [
          null
         ],
         "y": [
          null
         ]
        },
        {
         "marker": {
          "color": "rgb(159, 16, 16)",
          "size": 20
         },
         "mode": "markers",
         "name": "Volcanico",
         "type": "scatter",
         "x": [
          null
         ],
         "y": [
          null
         ]
        },
        {
         "marker": {
          "color": "rgb(125, 125, 125)",
          "size": 20
         },
         "mode": "markers",
         "name": "Montaña",
         "type": "scatter",
         "x": [
          null
         ],
         "y": [
          null
         ]
        }
       ],
       "layout": {
        "height": 512,
        "margin": {
         "t": 60
        },
        "template": {
         "data": {
          "bar": [
           {
            "error_x": {
             "color": "#2a3f5f"
            },
            "error_y": {
             "color": "#2a3f5f"
            },
            "marker": {
             "line": {
              "color": "#E5ECF6",
              "width": 0.5
             },
             "pattern": {
              "fillmode": "overlay",
              "size": 10,
              "solidity": 0.2
             }
            },
            "type": "bar"
           }
          ],
          "barpolar": [
           {
            "marker": {
             "line": {
              "color": "#E5ECF6",
              "width": 0.5
             },
             "pattern": {
              "fillmode": "overlay",
              "size": 10,
              "solidity": 0.2
             }
            },
            "type": "barpolar"
           }
          ],
          "carpet": [
           {
            "aaxis": {
             "endlinecolor": "#2a3f5f",
             "gridcolor": "white",
             "linecolor": "white",
             "minorgridcolor": "white",
             "startlinecolor": "#2a3f5f"
            },
            "baxis": {
             "endlinecolor": "#2a3f5f",
             "gridcolor": "white",
             "linecolor": "white",
             "minorgridcolor": "white",
             "startlinecolor": "#2a3f5f"
            },
            "type": "carpet"
           }
          ],
          "choropleth": [
           {
            "colorbar": {
             "outlinewidth": 0,
             "ticks": ""
            },
            "type": "choropleth"
           }
          ],
          "contour": [
           {
            "colorbar": {
             "outlinewidth": 0,
             "ticks": ""
            },
            "colorscale": [
             [
              0,
              "#0d0887"
             ],
             [
              0.1111111111111111,
              "#46039f"
             ],
             [
              0.2222222222222222,
              "#7201a8"
             ],
             [
              0.3333333333333333,
              "#9c179e"
             ],
             [
              0.4444444444444444,
              "#bd3786"
             ],
             [
              0.5555555555555556,
              "#d8576b"
             ],
             [
              0.6666666666666666,
              "#ed7953"
             ],
             [
              0.7777777777777778,
              "#fb9f3a"
             ],
             [
              0.8888888888888888,
              "#fdca26"
             ],
             [
              1,
              "#f0f921"
             ]
            ],
            "type": "contour"
           }
          ],
          "contourcarpet": [
           {
            "colorbar": {
             "outlinewidth": 0,
             "ticks": ""
            },
            "type": "contourcarpet"
           }
          ],
          "heatmap": [
           {
            "colorbar": {
             "outlinewidth": 0,
             "ticks": ""
            },
            "colorscale": [
             [
              0,
              "#0d0887"
             ],
             [
              0.1111111111111111,
              "#46039f"
             ],
             [
              0.2222222222222222,
              "#7201a8"
             ],
             [
              0.3333333333333333,
              "#9c179e"
             ],
             [
              0.4444444444444444,
              "#bd3786"
             ],
             [
              0.5555555555555556,
              "#d8576b"
             ],
             [
              0.6666666666666666,
              "#ed7953"
             ],
             [
              0.7777777777777778,
              "#fb9f3a"
             ],
             [
              0.8888888888888888,
              "#fdca26"
             ],
             [
              1,
              "#f0f921"
             ]
            ],
            "type": "heatmap"
           }
          ],
          "heatmapgl": [
           {
            "colorbar": {
             "outlinewidth": 0,
             "ticks": ""
            },
            "colorscale": [
             [
              0,
              "#0d0887"
             ],
             [
              0.1111111111111111,
              "#46039f"
             ],
             [
              0.2222222222222222,
              "#7201a8"
             ],
             [
              0.3333333333333333,
              "#9c179e"
             ],
             [
              0.4444444444444444,
              "#bd3786"
             ],
             [
              0.5555555555555556,
              "#d8576b"
             ],
             [
              0.6666666666666666,
              "#ed7953"
             ],
             [
              0.7777777777777778,
              "#fb9f3a"
             ],
             [
              0.8888888888888888,
              "#fdca26"
             ],
             [
              1,
              "#f0f921"
             ]
            ],
            "type": "heatmapgl"
           }
          ],
          "histogram": [
           {
            "marker": {
             "pattern": {
              "fillmode": "overlay",
              "size": 10,
              "solidity": 0.2
             }
            },
            "type": "histogram"
           }
          ],
          "histogram2d": [
           {
            "colorbar": {
             "outlinewidth": 0,
             "ticks": ""
            },
            "colorscale": [
             [
              0,
              "#0d0887"
             ],
             [
              0.1111111111111111,
              "#46039f"
             ],
             [
              0.2222222222222222,
              "#7201a8"
             ],
             [
              0.3333333333333333,
              "#9c179e"
             ],
             [
              0.4444444444444444,
              "#bd3786"
             ],
             [
              0.5555555555555556,
              "#d8576b"
             ],
             [
              0.6666666666666666,
              "#ed7953"
             ],
             [
              0.7777777777777778,
              "#fb9f3a"
             ],
             [
              0.8888888888888888,
              "#fdca26"
             ],
             [
              1,
              "#f0f921"
             ]
            ],
            "type": "histogram2d"
           }
          ],
          "histogram2dcontour": [
           {
            "colorbar": {
             "outlinewidth": 0,
             "ticks": ""
            },
            "colorscale": [
             [
              0,
              "#0d0887"
             ],
             [
              0.1111111111111111,
              "#46039f"
             ],
             [
              0.2222222222222222,
              "#7201a8"
             ],
             [
              0.3333333333333333,
              "#9c179e"
             ],
             [
              0.4444444444444444,
              "#bd3786"
             ],
             [
              0.5555555555555556,
              "#d8576b"
             ],
             [
              0.6666666666666666,
              "#ed7953"
             ],
             [
              0.7777777777777778,
              "#fb9f3a"
             ],
             [
              0.8888888888888888,
              "#fdca26"
             ],
             [
              1,
              "#f0f921"
             ]
            ],
            "type": "histogram2dcontour"
           }
          ],
          "mesh3d": [
           {
            "colorbar": {
             "outlinewidth": 0,
             "ticks": ""
            },
            "type": "mesh3d"
           }
          ],
          "parcoords": [
           {
            "line": {
             "colorbar": {
              "outlinewidth": 0,
              "ticks": ""
             }
            },
            "type": "parcoords"
           }
          ],
          "pie": [
           {
            "automargin": true,
            "type": "pie"
           }
          ],
          "scatter": [
           {
            "fillpattern": {
             "fillmode": "overlay",
             "size": 10,
             "solidity": 0.2
            },
            "type": "scatter"
           }
          ],
          "scatter3d": [
           {
            "line": {
             "colorbar": {
              "outlinewidth": 0,
              "ticks": ""
             }
            },
            "marker": {
             "colorbar": {
              "outlinewidth": 0,
              "ticks": ""
             }
            },
            "type": "scatter3d"
           }
          ],
          "scattercarpet": [
           {
            "marker": {
             "colorbar": {
              "outlinewidth": 0,
              "ticks": ""
             }
            },
            "type": "scattercarpet"
           }
          ],
          "scattergeo": [
           {
            "marker": {
             "colorbar": {
              "outlinewidth": 0,
              "ticks": ""
             }
            },
            "type": "scattergeo"
           }
          ],
          "scattergl": [
           {
            "marker": {
             "colorbar": {
              "outlinewidth": 0,
              "ticks": ""
             }
            },
            "type": "scattergl"
           }
          ],
          "scattermapbox": [
           {
            "marker": {
             "colorbar": {
              "outlinewidth": 0,
              "ticks": ""
             }
            },
            "type": "scattermapbox"
           }
          ],
          "scatterpolar": [
           {
            "marker": {
             "colorbar": {
              "outlinewidth": 0,
              "ticks": ""
             }
            },
            "type": "scatterpolar"
           }
          ],
          "scatterpolargl": [
           {
            "marker": {
             "colorbar": {
              "outlinewidth": 0,
              "ticks": ""
             }
            },
            "type": "scatterpolargl"
           }
          ],
          "scatterternary": [
           {
            "marker": {
             "colorbar": {
              "outlinewidth": 0,
              "ticks": ""
             }
            },
            "type": "scatterternary"
           }
          ],
          "surface": [
           {
            "colorbar": {
             "outlinewidth": 0,
             "ticks": ""
            },
            "colorscale": [
             [
              0,
              "#0d0887"
             ],
             [
              0.1111111111111111,
              "#46039f"
             ],
             [
              0.2222222222222222,
              "#7201a8"
             ],
             [
              0.3333333333333333,
              "#9c179e"
             ],
             [
              0.4444444444444444,
              "#bd3786"
             ],
             [
              0.5555555555555556,
              "#d8576b"
             ],
             [
              0.6666666666666666,
              "#ed7953"
             ],
             [
              0.7777777777777778,
              "#fb9f3a"
             ],
             [
              0.8888888888888888,
              "#fdca26"
             ],
             [
              1,
              "#f0f921"
             ]
            ],
            "type": "surface"
           }
          ],
          "table": [
           {
            "cells": {
             "fill": {
              "color": "#EBF0F8"
             },
             "line": {
              "color": "white"
             }
            },
            "header": {
             "fill": {
              "color": "#C8D4E3"
             },
             "line": {
              "color": "white"
             }
            },
            "type": "table"
           }
          ]
         },
         "layout": {
          "annotationdefaults": {
           "arrowcolor": "#2a3f5f",
           "arrowhead": 0,
           "arrowwidth": 1
          },
          "autotypenumbers": "strict",
          "coloraxis": {
           "colorbar": {
            "outlinewidth": 0,
            "ticks": ""
           }
          },
          "colorscale": {
           "diverging": [
            [
             0,
             "#8e0152"
            ],
            [
             0.1,
             "#c51b7d"
            ],
            [
             0.2,
             "#de77ae"
            ],
            [
             0.3,
             "#f1b6da"
            ],
            [
             0.4,
             "#fde0ef"
            ],
            [
             0.5,
             "#f7f7f7"
            ],
            [
             0.6,
             "#e6f5d0"
            ],
            [
             0.7,
             "#b8e186"
            ],
            [
             0.8,
             "#7fbc41"
            ],
            [
             0.9,
             "#4d9221"
            ],
            [
             1,
             "#276419"
            ]
           ],
           "sequential": [
            [
             0,
             "#0d0887"
            ],
            [
             0.1111111111111111,
             "#46039f"
            ],
            [
             0.2222222222222222,
             "#7201a8"
            ],
            [
             0.3333333333333333,
             "#9c179e"
            ],
            [
             0.4444444444444444,
             "#bd3786"
            ],
            [
             0.5555555555555556,
             "#d8576b"
            ],
            [
             0.6666666666666666,
             "#ed7953"
            ],
            [
             0.7777777777777778,
             "#fb9f3a"
            ],
            [
             0.8888888888888888,
             "#fdca26"
            ],
            [
             1,
             "#f0f921"
            ]
           ],
           "sequentialminus": [
            [
             0,
             "#0d0887"
            ],
            [
             0.1111111111111111,
             "#46039f"
            ],
            [
             0.2222222222222222,
             "#7201a8"
            ],
            [
             0.3333333333333333,
             "#9c179e"
            ],
            [
             0.4444444444444444,
             "#bd3786"
            ],
            [
             0.5555555555555556,
             "#d8576b"
            ],
            [
             0.6666666666666666,
             "#ed7953"
            ],
            [
             0.7777777777777778,
             "#fb9f3a"
            ],
            [
             0.8888888888888888,
             "#fdca26"
            ],
            [
             1,
             "#f0f921"
            ]
           ]
          },
          "colorway": [
           "#636efa",
           "#EF553B",
           "#00cc96",
           "#ab63fa",
           "#FFA15A",
           "#19d3f3",
           "#FF6692",
           "#B6E880",
           "#FF97FF",
           "#FECB52"
          ],
          "font": {
           "color": "#2a3f5f"
          },
          "geo": {
           "bgcolor": "white",
           "lakecolor": "white",
           "landcolor": "#E5ECF6",
           "showlakes": true,
           "showland": true,
           "subunitcolor": "white"
          },
          "hoverlabel": {
           "align": "left"
          },
          "hovermode": "closest",
          "mapbox": {
           "style": "light"
          },
          "paper_bgcolor": "white",
          "plot_bgcolor": "#E5ECF6",
          "polar": {
           "angularaxis": {
            "gridcolor": "white",
            "linecolor": "white",
            "ticks": ""
           },
           "bgcolor": "#E5ECF6",
           "radialaxis": {
            "gridcolor": "white",
            "linecolor": "white",
            "ticks": ""
           }
          },
          "scene": {
           "xaxis": {
            "backgroundcolor": "#E5ECF6",
            "gridcolor": "white",
            "gridwidth": 2,
            "linecolor": "white",
            "showbackground": true,
            "ticks": "",
            "zerolinecolor": "white"
           },
           "yaxis": {
            "backgroundcolor": "#E5ECF6",
            "gridcolor": "white",
            "gridwidth": 2,
            "linecolor": "white",
            "showbackground": true,
            "ticks": "",
            "zerolinecolor": "white"
           },
           "zaxis": {
            "backgroundcolor": "#E5ECF6",
            "gridcolor": "white",
            "gridwidth": 2,
            "linecolor": "white",
            "showbackground": true,
            "ticks": "",
            "zerolinecolor": "white"
           }
          },
          "shapedefaults": {
           "line": {
            "color": "#2a3f5f"
           }
          },
          "ternary": {
           "aaxis": {
            "gridcolor": "white",
            "linecolor": "white",
            "ticks": ""
           },
           "baxis": {
            "gridcolor": "white",
            "linecolor": "white",
            "ticks": ""
           },
           "bgcolor": "#E5ECF6",
           "caxis": {
            "gridcolor": "white",
            "linecolor": "white",
            "ticks": ""
           }
          },
          "title": {
           "x": 0.05
          },
          "xaxis": {
           "automargin": true,
           "gridcolor": "white",
           "linecolor": "white",
           "ticks": "",
           "title": {
            "standoff": 15
           },
           "zerolinecolor": "white",
           "zerolinewidth": 2
          },
          "yaxis": {
           "automargin": true,
           "gridcolor": "white",
           "linecolor": "white",
           "ticks": "",
           "title": {
            "standoff": 15
           },
           "zerolinecolor": "white",
           "zerolinewidth": 2
          }
         }
        },
        "width": 512,
        "xaxis": {
         "anchor": "y",
         "domain": [
          0,
          1
         ]
        },
        "yaxis": {
         "anchor": "x",
         "domain": [
          0,
          1
         ]
        }
       }
      }
     },
     "metadata": {},
     "output_type": "display_data"
    },
    {
     "data": {
      "text/plain": [
       "array([[[245, 240, 108],\n",
       "        [245, 240, 108],\n",
       "        [245, 240, 108],\n",
       "        ...,\n",
       "        [ 56, 148, 194],\n",
       "        [ 56, 148, 194],\n",
       "        [ 56, 148, 194]],\n",
       "\n",
       "       [[ 27,  59, 140],\n",
       "        [ 27,  59, 140],\n",
       "        [ 27,  59, 140],\n",
       "        ...,\n",
       "        [ 56, 148, 194],\n",
       "        [ 56, 148, 194],\n",
       "        [ 56, 148, 194]],\n",
       "\n",
       "       [[ 27,  59, 140],\n",
       "        [ 27,  59, 140],\n",
       "        [ 27,  59, 140],\n",
       "        ...,\n",
       "        [ 56, 148, 194],\n",
       "        [ 56, 148, 194],\n",
       "        [ 56, 148, 194]],\n",
       "\n",
       "       ...,\n",
       "\n",
       "       [[ 56, 148, 194],\n",
       "        [ 56, 148, 194],\n",
       "        [ 56, 148, 194],\n",
       "        ...,\n",
       "        [110,  88,  66],\n",
       "        [110,  88,  66],\n",
       "        [110,  88,  66]],\n",
       "\n",
       "       [[ 56, 148, 194],\n",
       "        [ 56, 148, 194],\n",
       "        [ 56, 148, 194],\n",
       "        ...,\n",
       "        [110,  88,  66],\n",
       "        [110,  88,  66],\n",
       "        [110,  88,  66]],\n",
       "\n",
       "       [[ 56, 148, 194],\n",
       "        [ 56, 148, 194],\n",
       "        [ 56, 148, 194],\n",
       "        ...,\n",
       "        [110,  88,  66],\n",
       "        [110,  88,  66],\n",
       "        [110,  88,  66]]], dtype=uint8)"
      ]
     },
     "execution_count": 21,
     "metadata": {},
     "output_type": "execute_result"
    }
   ],
   "source": [
    "a.representation((0,4),(0,4))"
   ]
  },
  {
   "cell_type": "code",
   "execution_count": 26,
   "metadata": {},
   "outputs": [],
   "source": [
    "a = generator(1,2,3)\n",
    "b = a.getChunk(0,0)\n",
    "b_noise_Temp = a.getNoiseArray(1, 0, 0, 5, 128, 2)\n",
    "b_noise_Altu = a.getNoiseArray(2, 0, 0, 3, 512, 4)\n",
    "b_noise_Hume = a.getNoiseArray(3, 0, 0, 3, 256, 2)"
   ]
  },
  {
   "cell_type": "code",
   "execution_count": 29,
   "metadata": {},
   "outputs": [
    {
     "name": "stdout",
     "output_type": "stream",
     "text": [
      "0.5579839951516736\n",
      "0.5579839951516736\n"
     ]
    }
   ],
   "source": [
    "print(b_noise_Altu[0,17])\n",
    "print(a.getNoise(2,17,0,3,512,4))"
   ]
  },
  {
   "cell_type": "code",
   "execution_count": 51,
   "metadata": {},
   "outputs": [
    {
     "name": "stdout",
     "output_type": "stream",
     "text": [
      "[[0. 1. 1. 0.]\n",
      " [1. 1. 0. 1.]\n",
      " [1. 0. 0. 1.]\n",
      " [0. 1. 1. 0.]]\n"
     ]
    }
   ],
   "source": [
    "def generate_random_matrix(object_number: int):\n",
    "    array = np.zeros(shape=(4, 4))\n",
    "    elements = set([r for r in range(16)])\n",
    "    while len(elements) != object_number:\n",
    "        actual = randint(0, 15)\n",
    "        if actual in elements:\n",
    "            elements.remove(actual)\n",
    "    for i in elements:\n",
    "        array[i // 4, i % 4] = 1\n",
    "    return array\n",
    "\n",
    "# Call the function and print the result\n",
    "ggg = generate_random_matrix(9)\n",
    "print(ggg)"
   ]
  },
  {
   "cell_type": "code",
   "execution_count": 60,
   "metadata": {},
   "outputs": [
    {
     "name": "stdout",
     "output_type": "stream",
     "text": [
      "[[0 1 0 1 0 1 1 0 1 0 0 0 1 1 0 0 0 0 0 1]\n",
      " [0 0 0 0 0 0 0 0 0 1 1 0 1 0 1 0 1 0 1 0]\n",
      " [0 0 1 0 0 0 1 0 0 1 0 0 1 0 0 0 1 0 1 0]\n",
      " [1 0 1 0 1 0 0 1 0 0 0 1 0 0 0 0 0 0 0 0]\n",
      " [0 0 0 1 0 1 0 1 1 1 0 0 0 0 0 0 1 0 0 0]\n",
      " [0 0 0 0 0 0 1 0 0 1 0 0 1 0 1 0 0 0 0 0]\n",
      " [0 1 1 0 0 1 0 0 0 0 1 0 1 0 0 1 0 1 0 1]\n",
      " [1 0 1 0 1 0 0 0 1 0 0 0 1 0 0 0 1 0 0 1]\n",
      " [0 0 0 0 0 0 1 1 1 0 1 0 0 0 1 1 0 1 0 0]\n",
      " [0 0 1 0 1 0 0 0 0 1 1 0 0 0 1 0 1 0 0 0]\n",
      " [0 0 0 0 0 0 0 1 0 0 0 0 0 1 0 0 0 0 1 1]\n",
      " [1 1 1 1 0 0 1 0 1 0 0 0 0 1 0 0 0 0 0 1]\n",
      " [0 0 1 0 0 0 0 1 0 0 0 0 0 0 0 1 0 0 0 1]\n",
      " [0 1 0 0 0 0 1 1 0 1 0 0 0 0 1 0 0 0 0 0]\n",
      " [0 0 1 0 0 0 0 0 0 0 1 0 1 0 0 0 1 1 0 0]\n",
      " [0 1 0 1 0 0 1 1 1 0 1 1 0 0 1 1 1 1 0 0]\n",
      " [1 0 0 1 1 0 0 0 1 0 1 1 0 0 1 0 1 1 0 1]\n",
      " [0 0 1 0 0 0 1 1 0 1 0 0 0 0 0 1 0 0 1 0]\n",
      " [1 0 0 1 0 0 0 0 0 1 0 0 1 0 0 0 1 0 0 0]\n",
      " [0 0 0 0 1 0 1 0 0 0 0 0 0 1 1 0 0 0 0 0]]\n"
     ]
    }
   ],
   "source": [
    "from collections import Counter\n",
    "\n",
    "arrdemo = np.empty(shape=(b.shape[0], b.shape[1]), dtype=np.uint8)\n",
    "for i in range(0, b.shape[0], 4):\n",
    "    for j in range(0, b.shape[1], 4):\n",
    "        ggg = generate_random_matrix(5)\n",
    "        arrdemo[i:i+4, j:j+4] = ggg\n",
    "print(arrdemo[0:20,0:20])"
   ]
  }
 ],
 "metadata": {
  "kernelspec": {
   "display_name": ".venv",
   "language": "python",
   "name": "python3"
  },
  "language_info": {
   "codemirror_mode": {
    "name": "ipython",
    "version": 3
   },
   "file_extension": ".py",
   "mimetype": "text/x-python",
   "name": "python",
   "nbconvert_exporter": "python",
   "pygments_lexer": "ipython3",
   "version": "3.12.3"
  }
 },
 "nbformat": 4,
 "nbformat_minor": 2
}
