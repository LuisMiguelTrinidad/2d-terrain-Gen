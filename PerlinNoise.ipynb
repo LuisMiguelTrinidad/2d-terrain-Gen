{
 "cells": [
  {
   "cell_type": "code",
   "execution_count": 2,
   "metadata": {},
   "outputs": [],
   "source": [
    "import opensimplex\n",
    "import numpy as np\n",
    "import matplotlib.pyplot as plt\n",
    "import math\n",
    "from random import randint\n",
    "import os\n",
    "import multiprocessing as mp\n",
    "import plotly.express as px\n",
    "from random import randint, random, uniform"
   ]
  },
  {
   "cell_type": "markdown",
   "metadata": {},
   "source": [
    "biomas = np.empty(shape=(128,128,128), dtype=np.uint8)\n",
    "for i in range(128):\n",
    "    for j in range(128):\n",
    "        for k in range(128):\n",
    "            mejor = float('inf')\n",
    "            for r in generator.BIOMAS.keys():\n",
    "                a = np.linalg.norm(np.array(generator.BIOMAS[r][0]) - np.array([i/128, j/128, k/128]))\n",
    "                if a < mejor:\n",
    "                    mejor = a\n",
    "                    biomas[i, j, k] = r\n",
    "    print(i)\n",
    "print(biomas)\n",
    "np.save(f\"CERCANIA_BIOMAS.npy\", biomas)\n"
   ]
  },
  {
   "cell_type": "code",
   "execution_count": 50,
   "metadata": {},
   "outputs": [],
   "source": [
    "class generator:\n",
    "    #(Humedad altura temperatura), nombre del bioma, color, {objetos que pueden aparecer, probabilidades}\n",
    "    BIOMAS = {\n",
    "        0: ([-1, -1, -1], 'Oceano', (56, 148, 194), {}, ),\n",
    "        1: ([-1, -1, -1], 'Oceano profundo', (27, 59, 140), {}),\n",
    "        2: ([-1, -1, -1], 'Rios y lagos', (126, 180, 237), {}),\n",
    "        3: ([0.5, 0.0, 0.5], 'Costa', (245, 240, 108), {\"Palmera\": 0.7, \"Piedra pequeña\": 0.3}),\n",
    "        4: ([0.85, 0.05, 0.45], 'Marismas', (171, 222, 32), {\"Arbusto\": 1}),\n",
    "        5: ([0.75, 0.1, 0.05], 'Polo', (250, 250, 250), {\"Tempano\": 0.5, \"Piedra congelada\": 0.5}),\n",
    "        6: ([0.8, 0.15, 0.45], 'Pantano', (33, 133, 99), {\"Arbusto\": 0.2, \"Piedra pequeña\": 0.2, \"Arbol\": 0.6}),\n",
    "        7: ([0.5, 0.2, 0.5], 'Bosque', (53, 118, 43), {\"Arbol\": 0.6, \"Arbusto\": 0.2, \"Flores\": 0.2}),\n",
    "        8: ([0.6, 0.2, 0.55], 'Selva', (0, 183, 10), {\"Arbol\": 0.7, \"Helecho\": 0.3}),\n",
    "        9: ([0.35, 0.2, 0.55], 'Dehesa', (128, 179, 30), {\"Arbol\": 0.5, \"Arbusto\": 0.5}),\n",
    "        10: ([0.2, 0.2, 0.6], 'Savana', (228, 125, 28), {\"Arbol\": 0.3, \"Arbusto\": 0.7}),\n",
    "        12: ([0.75, 0.25, 0.75], 'Termales', (39, 156, 121), {\"Geiser\": 0.5, \"Piedra pequeña\": 0.5}),\n",
    "        11: ([0.0, 0.3, 0.8], 'Desierto', (255, 211, 29), {\"Cactus\": 0.7, \"Arbusto muerto\": 0.3}),\n",
    "        13: ([0.4, 0.4, 0.4], 'Valle', (144, 219, 148), {\"Arbol\": 0.8, \"Arbusto\": 0.2}),\n",
    "        14: ([0.2, 0.65, 0.55], 'Meseta', (110, 88, 66), {\"Roca grande\": 0.1, \"Arbusto\": 0.5, \"Roca pequeña\": 0.4}),\n",
    "        15: ([0.7, 0.8, 0.2], 'Tundra', (208, 208, 240), {\"Piedra pequeña\": 0.5, \"Flores\": 0.5}),\n",
    "        16: ([0.15, 0.8, 0.85], 'Volcanico', (159, 16, 16), {\"Arbol carbonizado\": 0.6, \"Charco de lava\": 0.4}),\n",
    "        17: ([0.35, 9, 0.35], 'Montaña', (125, 125, 125), {\"Roca grande\": 0.3, \"Roca pequeña\": 0.7}),\n",
    "    }\n",
    "    CHUNK_SIZE = 64\n",
    "    CERCANIA_BIOMAS = np.load(\"./CERCANIA_BIOMAS.npy\" )\n",
    "\n",
    "    def __init__(self, seedTemp = None, seedAltu = None, seedHume = None, seedRios = None):\n",
    "        self.SEEDTEMP = seedTemp if seedTemp != None else randint(-2**30, 2**30)\n",
    "        self.SEEDALTU = seedAltu if seedTemp != None else randint(-2**30, 2**30)\n",
    "        self.SEEDHUME = seedHume if seedTemp != None else randint(-2**30, 2**30)\n",
    "        self.SEEDRIOS = seedRios if seedTemp != None else randint(-2**30, 2**30)\n",
    "\n",
    "    def getNoise(self, seed: int, x_in: int, y_in: int, iterations: int, size: int, disparity: int = 3) -> float:\n",
    "        \"\"\"\n",
    "        Generates Perlin noise based on the given parameters.\n",
    "        Args:\n",
    "            seed (int): The seed value for the noise generation.\n",
    "            x_in (int): The x-coordinate input for the noise function.\n",
    "            y_in (int): The y-coordinate input for the noise function.\n",
    "            iterations (int): The number of iterations to perform for noise generation.\n",
    "            size (int): The size parameter that affects the noise scale.\n",
    "            disparity (int, optional): The number of disparity adjustments to apply. Default is 3.\n",
    "        Returns:\n",
    "            float: The generated noise value, normalized between 0 and 1.\n",
    "        \"\"\"\n",
    "        opensimplex.seed(seed)\n",
    "        ruido = 0\n",
    "        for r in range(iterations):\n",
    "            divisor = (size/2**r)\n",
    "            exponenciador = (2**r)\n",
    "            ruido += opensimplex.noise2(x=(x_in)/divisor, y=(y_in)/divisor)/exponenciador\n",
    "            \n",
    "        maximo = sum([2/(2**r) for r in range(iterations)])\n",
    "        ruido = (ruido + maximo)/(2*maximo)     \n",
    "        for r in range(disparity):\n",
    "            ruido = 0.5 + math.sin(math.pi*ruido - math.pi/2)/2\n",
    "        return ruido\n",
    "\n",
    "    def getNoiseArray(self, seed: int, x_in: int, y_in: int, iterations: int, size: int, disparity: int = 3) -> np.ndarray:\n",
    "        \"\"\"\n",
    "        Generates a 2D noise array using OpenSimplex noise with multi-level detail and smoothing.\n",
    "\n",
    "        Args:\n",
    "            seed (int): The seed used to initialize the noise generation.\n",
    "            x_in (int): The x-coordinate index for the chunk, which determines the chunk's location in the noise grid.\n",
    "            y_in (int): The y-coordinate index for the chunk, which determines the chunk's location in the noise grid.\n",
    "            iterations (int): The number of levels of detail or layers to add to the noise. Higher values create more detailed noise.\n",
    "            size (int): The scale factor for the noise. Larger values make the noise features larger.\n",
    "            disparity (int, optional): The number of smoothing iterations applied to the generated noise values. Defaults to 3.\n",
    "\n",
    "        Returns:\n",
    "            np.ndarray: A 2D array of floats representing the generated noise values, normalized and smoothed.\n",
    "\n",
    "        Details:\n",
    "            1. The noise is generated using the OpenSimplex algorithm. For each iteration, the noise is calculated at different scales \n",
    "            and added to the `noise_array` with decreasing impact for each iteration.\n",
    "            2. The noise values are normalized based on the maximum possible summed noise value across all iterations.\n",
    "            3. After generating the noise, the function applies sinusoidal smoothing multiple times (based on the `disparity` value) to \n",
    "            create smoother transitions in the noise.\n",
    "            4. The output is a chunk of noise, determined by the size of the chunk (`self.CHUNK_SIZE`) and its position (`x_in`, `y_in`).\n",
    "\n",
    "        Example:\n",
    "            noise = getNoiseArray(seed=42, x_in=1, y_in=2, iterations=4, size=100, disparity=3)\n",
    "        \"\"\"\n",
    "        x = self.CHUNK_SIZE*x_in\n",
    "        y = self.CHUNK_SIZE*y_in\n",
    "        opensimplex.seed(seed)\n",
    "\n",
    "        rango = range(0,self.CHUNK_SIZE)\n",
    "        noise_array = np.zeros(dtype=float, shape=(self.CHUNK_SIZE, self.CHUNK_SIZE))\n",
    "\n",
    "        for r in range(iterations):\n",
    "            divisor = (size/2**r)\n",
    "            exponenciador = (2**r)\n",
    "            for i in rango:\n",
    "                for j in rango:\n",
    "                    noise_array[j, i] += opensimplex.noise2(x=(i+x)/divisor, y=(y+j)/divisor)/exponenciador\n",
    "        \n",
    "        maximo = sum([2/(2**r) for r in range(iterations)])\n",
    "        for i in rango:\n",
    "            for j in rango:\n",
    "                valor = (noise_array[j, i] + maximo)/(2*maximo)     \n",
    "                for r in range(disparity):\n",
    "                    valor = 0.5 + math.sin(math.pi*valor - math.pi/2)/2\n",
    "                noise_array[j, i] = valor\n",
    "        return noise_array\n",
    "    \n",
    "    def getBioma(self, temp, altu, hume, rios) -> np.uint8:\n",
    "        \"\"\"\n",
    "        Determines the biome type based on temperature, altitude, and humidity.\n",
    "\n",
    "        Args:\n",
    "            temp (float): The temperature value, expected to be in the range [0, 1].\n",
    "            altu (float): The altitude value, expected to be in the range [0, 1].\n",
    "            hume (float): The humidity value, expected to be in the range [0, 1].\n",
    "\n",
    "        Returns:\n",
    "            int: An integer representing the biome type.\n",
    "                 0 - Ocean\n",
    "                 1 - Deep Ocean\n",
    "                 Other values are determined by the CERCANIA_BIOMAS lookup table.\n",
    "        \"\"\"\n",
    "        if(altu < 0.5):\n",
    "            if (altu <= 0.4):\n",
    "                return 1 #Oceano profundo\n",
    "            else:\n",
    "                return 0 #Oceano\n",
    "        elif(0.45 < rios < 0.55):\n",
    "            return 2 #Rios y lagos\n",
    "        else:\n",
    "            alt = math.floor(128*(altu-0.5)*2)\n",
    "            temp = math.floor(128*temp)\n",
    "            hum = math.floor(128*hume)\n",
    "            return np.uint8(self.CERCANIA_BIOMAS[hum, alt, temp])\n",
    "\n",
    "    def getChunk(self, x: int, y: int) -> np.ndarray:\n",
    "        \"\"\"\n",
    "        Retrieves or generates a chunk of terrain data based on the given coordinates.\n",
    "\n",
    "        If the chunk data already exists in the specified file path, it loads and returns the data.\n",
    "        Otherwise, it generates new terrain data using Perlin noise, saves it to the file path, and returns the generated data.\n",
    "\n",
    "        Parameters:\n",
    "        x (int): The x-coordinate of the chunk.\n",
    "        y (int): The y-coordinate of the chunk.\n",
    "\n",
    "        Returns:\n",
    "        numpy.ndarray: A 2D array representing the terrain data for the specified chunk.\n",
    "        \"\"\"\n",
    "        if os.path.exists(f\"./Chunks/T_{self.SEEDTEMP}A_{self.SEEDTEMP}H_{self.SEEDTEMP}/{x}/{y}.npy\"):\n",
    "            return np.load(f\"./Chunks/T_{self.SEEDTEMP}A_{self.SEEDTEMP}H_{self.SEEDTEMP}/{x}/{y}.npy\")\n",
    "        else:\n",
    "            temp = self.getNoiseArray(self.SEEDTEMP, x, y, 3, 256, 2)\n",
    "            altu = self.getNoiseArray(self.SEEDALTU, x, y, 6, 512, 4)\n",
    "            hume = self.getNoiseArray(self.SEEDHUME, x, y, 3, 512, 2)\n",
    "            rios = self.getNoiseArray(self.SEEDRIOS, x, y, 3, 128, 4)\n",
    "            array_biomas = np.zeros(dtype=np.uint8, shape=(self.CHUNK_SIZE,self.CHUNK_SIZE))\n",
    "\n",
    "            for i in range(self.CHUNK_SIZE):\n",
    "                for j in range(self.CHUNK_SIZE):\n",
    "                    array_biomas[i, j] = self.getBioma(hume[i, j], altu[i, j], temp[i, j], rios[i, j])\n",
    "            os.makedirs(f\"./Chunks/T_{self.SEEDTEMP}A_{self.SEEDTEMP}H_{self.SEEDTEMP}/{x}\", exist_ok=True)\n",
    "            np.save(f\"./Chunks/T_{self.SEEDTEMP}A_{self.SEEDTEMP}H_{self.SEEDTEMP}/{x}/{y}\", array_biomas)\n",
    "            return array_biomas\n",
    "    \n",
    "    def getChunksInRange(self, x_range: tuple[int, int], y_range: tuple[int, int]) -> np.ndarray:\n",
    "        \"\"\"\n",
    "        Generates a 2D array of chunks within the specified x and y ranges.\n",
    "        This method creates and starts multiple processes to generate chunks in parallel,\n",
    "        then joins the processes and combines the resulting chunks into a single 2D array.\n",
    "        Args:\n",
    "            x_range (tuple[int, int]): A tuple specifying the start and end of the x range.\n",
    "            y_range (tuple[int, int]): A tuple specifying the start and end of the y range.\n",
    "        Returns:\n",
    "            numpy.ndarray: A 2D array containing the combined chunks.\n",
    "        \"\"\"\n",
    "        arr = None\n",
    "        for i in range(x_range[0], x_range[1]):\n",
    "            arr_proc = []\n",
    "            for j in range(y_range[0], y_range[1]):\n",
    "                arr_proc.append(mp.Process(target=self.getChunk, args=(i, j)))\n",
    "                arr_proc[-1].start()\n",
    "            for proc in arr_proc:\n",
    "                proc.join()\n",
    "\n",
    "            arr_line = None\n",
    "            for j in range(y_range[0], y_range[1]):\n",
    "                if arr_line is None:\n",
    "                    arr_line = self.getChunk(i, j)\n",
    "                else:\n",
    "                    arr_line = np.vstack((arr_line, self.getChunk(i, j)))\n",
    "\n",
    "            if arr is None:\n",
    "                arr = arr_line\n",
    "            else:\n",
    "                arr = np.hstack((arr, arr_line))\n",
    "        return arr\n",
    "\n",
    "    def representation(self, x_range: tuple[int, int], y_range: tuple[int, int]) -> None:\n",
    "        \"\"\"\n",
    "        Generates a visual representation of the terrain based on Perlin noise.\n",
    "        Args:\n",
    "            x_range (tuple[int, int]): The range of x-coordinates to generate the terrain for.\n",
    "            y_range (tuple[int, int]): The range of y-coordinates to generate the terrain for.\n",
    "        The function performs the following steps:\n",
    "        1. Retrieves the terrain chunks within the specified x and y ranges.\n",
    "        2. Initializes an empty array to store the RGB values of the terrain.\n",
    "        3. Iterates through the terrain chunks and assigns the corresponding RGB values from the BIOMAS dictionary.\n",
    "        4. Creates an image of the terrain using Plotly's imshow function.\n",
    "        5. Adjusts the figure size to match the dimensions of the terrain array.\n",
    "        6. Adds a legend to the figure, representing different biomes with their respective colors.\n",
    "        7. Displays the figure.\n",
    "        8. Returns the RGB array of the terrain.\n",
    "        \"\"\"\n",
    "        arr = self.getChunksInRange(x_range, y_range)\n",
    "        color_arr = np.zeros((arr.shape[0], arr.shape[1], 3), dtype=np.uint8)\n",
    "\n",
    "        for i in range(arr.shape[0]):\n",
    "            for j in range(arr.shape[1]):\n",
    "                color_arr[i, j] = generator.BIOMAS[arr[i, j]][2]\n",
    "        \n",
    "        fig = px.imshow(color_arr)\n",
    "        # Adjust the figure size here, considering the legend size\n",
    "        fig.update_layout(\n",
    "            width=arr.shape[1] + 300,  # Add extra width for the legend\n",
    "            height=arr.shape[0] + 300  # Add extra height for the legend\n",
    "        )\n",
    "\n",
    "        # Add legend\n",
    "        legend_items = []\n",
    "        for key, value in generator.BIOMAS.items():\n",
    "            legend_items.append(\n",
    "                dict(\n",
    "                    name=value[1],\n",
    "                    marker=dict(color=f\"rgb{value[2]}\", size=20),\n",
    "                    mode='markers',\n",
    "                    type='scatter',\n",
    "                    x=[None],\n",
    "                    y=[None]\n",
    "                )\n",
    "            )\n",
    "        fig.add_traces(legend_items)\n",
    "        fig.show()\n",
    "    \n",
    "    def poisson_disc_sampling(self, radius: int, k: int) -> np.ndarray:\n",
    "        \"\"\"\n",
    "        Generates a 2D grid of points using Poisson-disc sampling.\n",
    "\n",
    "        Parameters:\n",
    "        width (int): The width of the grid.\n",
    "        height (int): The height of the grid.\n",
    "        radius (float): The minimum distance between points.\n",
    "        k (int): The number of attempts to generate a valid point around an existing point.\n",
    "\n",
    "        Returns:\n",
    "        numpy.ndarray: A 2D numpy array where cells with a point are marked with 1, and empty cells are marked with 0.\n",
    "\n",
    "        Notes:\n",
    "        - The algorithm uses a grid to keep track of points and their neighbors.\n",
    "        - The grid cells are sized such that each cell can contain at most one point.\n",
    "        - The algorithm starts with a random initial point and iteratively generates new points around active points.\n",
    "        - If a valid point is found within the specified number of attempts, it is added to the list of points and marked as active.\n",
    "        - If no valid point is found, the active point is removed from the list.\n",
    "        \"\"\"\n",
    "        GRID_SIZE = int(radius / math.sqrt(2))\n",
    "        columnas, filas = self.CHUNK_SIZE // GRID_SIZE, self.CHUNK_SIZE // GRID_SIZE\n",
    "\n",
    "        def generate_point_around(point):\n",
    "            r = radius * (random() + 1)\n",
    "            angle = 2 * math.pi * random()\n",
    "            new_x = point[0] + r * math.cos(angle)\n",
    "            new_y = point[1] + r * math.sin(angle)\n",
    "            return new_x, new_y\n",
    "\n",
    "        def in_bounds(point):\n",
    "            return 0 <= point[0] < self.CHUNK_SIZE and 0 <= point[1] < self.CHUNK_SIZE\n",
    "\n",
    "        def fits(point):\n",
    "            col = int(point[0] / GRID_SIZE)\n",
    "            row = int(point[1] / GRID_SIZE)\n",
    "            for i in range(max(col - 2, 0), min(col + 3, columnas)):\n",
    "                for j in range(max(row - 2, 0), min(row + 3, filas)):\n",
    "                    neighbor = grid[i, j]\n",
    "                    if neighbor is not None and np.hypot(point[0] - neighbor[0], point[1] - neighbor[1]) < radius:\n",
    "                        return False\n",
    "            return True\n",
    "\n",
    "        def restart_simulation(start_point):\n",
    "            nonlocal grid, active, points\n",
    "            grid = np.empty((columnas, filas), dtype=object)\n",
    "            points = [start_point]\n",
    "            active = [start_point]\n",
    "            col = int(start_point[0] / GRID_SIZE)\n",
    "            row = int(start_point[1] / GRID_SIZE)\n",
    "            grid[col, row] = start_point\n",
    "\n",
    "        # Create a grid to store points\n",
    "        grid = np.zeros((columnas, filas), dtype=object)\n",
    "\n",
    "        # List to store active points\n",
    "        active = []\n",
    "        points = []\n",
    "\n",
    "        # Initialize with a random point\n",
    "        initial_point = (uniform(0, self.CHUNK_SIZE), uniform(0, self.CHUNK_SIZE))\n",
    "        restart_simulation(initial_point)\n",
    "\n",
    "        # Main loop\n",
    "        while active:\n",
    "            rand_index = randint(0, len(active) - 1)\n",
    "            point = active[rand_index]\n",
    "            found = False\n",
    "\n",
    "            for _ in range(k):\n",
    "                new_point = generate_point_around(point)\n",
    "                if in_bounds(new_point) and fits(new_point):\n",
    "                    points.append(new_point)\n",
    "                    active.append(new_point)\n",
    "                    col = int(new_point[0] / GRID_SIZE)\n",
    "                    row = int(new_point[1] / GRID_SIZE)\n",
    "                    grid[col, row] = new_point\n",
    "                    found = True\n",
    "                    break\n",
    "\n",
    "            if not found:\n",
    "                active.pop(rand_index)\n",
    "                # Create a 2D numpy array representation\n",
    "        matrix = np.zeros((self.CHUNK_SIZE, self.CHUNK_SIZE), dtype=np.uint8)\n",
    "        for p in points:\n",
    "            x, y = int(p[0]), int(p[1])\n",
    "            matrix[y, x] = 1\n",
    "\n",
    "        return matrix\n"
   ]
  },
  {
   "cell_type": "code",
   "execution_count": 51,
   "metadata": {},
   "outputs": [],
   "source": [
    "a = generator(1,2,3,4)"
   ]
  },
  {
   "cell_type": "code",
   "execution_count": 52,
   "metadata": {},
   "outputs": [
    {
     "data": {
      "application/vnd.plotly.v1+json": {
       "config": {
        "plotlyServerURL": "https://plot.ly"
       },
       "data": [
        {
         "hovertemplate": "x: %{x}<br>y: %{y}<br>color: [%{z[0]}, %{z[1]}, %{z[2]}]<extra></extra>",
         "name": "0",
         "source": "data:image/png;base64,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",
         "type": "image",
         "xaxis": "x",
         "yaxis": "y"
        },
        {
         "marker": {
          "color": "rgb(56, 148, 194)",
          "size": 20
         },
         "mode": "markers",
         "name": "Oceano",
         "type": "scatter",
         "x": [
          null
         ],
         "y": [
          null
         ]
        },
        {
         "marker": {
          "color": "rgb(27, 59, 140)",
          "size": 20
         },
         "mode": "markers",
         "name": "Oceano profundo",
         "type": "scatter",
         "x": [
          null
         ],
         "y": [
          null
         ]
        },
        {
         "marker": {
          "color": "rgb(126, 180, 237)",
          "size": 20
         },
         "mode": "markers",
         "name": "Rios y lagos",
         "type": "scatter",
         "x": [
          null
         ],
         "y": [
          null
         ]
        },
        {
         "marker": {
          "color": "rgb(245, 240, 108)",
          "size": 20
         },
         "mode": "markers",
         "name": "Costa",
         "type": "scatter",
         "x": [
          null
         ],
         "y": [
          null
         ]
        },
        {
         "marker": {
          "color": "rgb(171, 222, 32)",
          "size": 20
         },
         "mode": "markers",
         "name": "Marismas",
         "type": "scatter",
         "x": [
          null
         ],
         "y": [
          null
         ]
        },
        {
         "marker": {
          "color": "rgb(250, 250, 250)",
          "size": 20
         },
         "mode": "markers",
         "name": "Polo",
         "type": "scatter",
         "x": [
          null
         ],
         "y": [
          null
         ]
        },
        {
         "marker": {
          "color": "rgb(33, 133, 99)",
          "size": 20
         },
         "mode": "markers",
         "name": "Pantano",
         "type": "scatter",
         "x": [
          null
         ],
         "y": [
          null
         ]
        },
        {
         "marker": {
          "color": "rgb(53, 118, 43)",
          "size": 20
         },
         "mode": "markers",
         "name": "Bosque",
         "type": "scatter",
         "x": [
          null
         ],
         "y": [
          null
         ]
        },
        {
         "marker": {
          "color": "rgb(0, 183, 10)",
          "size": 20
         },
         "mode": "markers",
         "name": "Selva",
         "type": "scatter",
         "x": [
          null
         ],
         "y": [
          null
         ]
        },
        {
         "marker": {
          "color": "rgb(128, 179, 30)",
          "size": 20
         },
         "mode": "markers",
         "name": "Dehesa",
         "type": "scatter",
         "x": [
          null
         ],
         "y": [
          null
         ]
        },
        {
         "marker": {
          "color": "rgb(228, 125, 28)",
          "size": 20
         },
         "mode": "markers",
         "name": "Savana",
         "type": "scatter",
         "x": [
          null
         ],
         "y": [
          null
         ]
        },
        {
         "marker": {
          "color": "rgb(39, 156, 121)",
          "size": 20
         },
         "mode": "markers",
         "name": "Termales",
         "type": "scatter",
         "x": [
          null
         ],
         "y": [
          null
         ]
        },
        {
         "marker": {
          "color": "rgb(255, 211, 29)",
          "size": 20
         },
         "mode": "markers",
         "name": "Desierto",
         "type": "scatter",
         "x": [
          null
         ],
         "y": [
          null
         ]
        },
        {
         "marker": {
          "color": "rgb(144, 219, 148)",
          "size": 20
         },
         "mode": "markers",
         "name": "Valle",
         "type": "scatter",
         "x": [
          null
         ],
         "y": [
          null
         ]
        },
        {
         "marker": {
          "color": "rgb(110, 88, 66)",
          "size": 20
         },
         "mode": "markers",
         "name": "Meseta",
         "type": "scatter",
         "x": [
          null
         ],
         "y": [
          null
         ]
        },
        {
         "marker": {
          "color": "rgb(208, 208, 240)",
          "size": 20
         },
         "mode": "markers",
         "name": "Tundra",
         "type": "scatter",
         "x": [
          null
         ],
         "y": [
          null
         ]
        },
        {
         "marker": {
          "color": "rgb(159, 16, 16)",
          "size": 20
         },
         "mode": "markers",
         "name": "Volcanico",
         "type": "scatter",
         "x": [
          null
         ],
         "y": [
          null
         ]
        },
        {
         "marker": {
          "color": "rgb(125, 125, 125)",
          "size": 20
         },
         "mode": "markers",
         "name": "Montaña",
         "type": "scatter",
         "x": [
          null
         ],
         "y": [
          null
         ]
        }
       ],
       "layout": {
        "height": 1324,
        "margin": {
         "t": 60
        },
        "template": {
         "data": {
          "bar": [
           {
            "error_x": {
             "color": "#2a3f5f"
            },
            "error_y": {
             "color": "#2a3f5f"
            },
            "marker": {
             "line": {
              "color": "#E5ECF6",
              "width": 0.5
             },
             "pattern": {
              "fillmode": "overlay",
              "size": 10,
              "solidity": 0.2
             }
            },
            "type": "bar"
           }
          ],
          "barpolar": [
           {
            "marker": {
             "line": {
              "color": "#E5ECF6",
              "width": 0.5
             },
             "pattern": {
              "fillmode": "overlay",
              "size": 10,
              "solidity": 0.2
             }
            },
            "type": "barpolar"
           }
          ],
          "carpet": [
           {
            "aaxis": {
             "endlinecolor": "#2a3f5f",
             "gridcolor": "white",
             "linecolor": "white",
             "minorgridcolor": "white",
             "startlinecolor": "#2a3f5f"
            },
            "baxis": {
             "endlinecolor": "#2a3f5f",
             "gridcolor": "white",
             "linecolor": "white",
             "minorgridcolor": "white",
             "startlinecolor": "#2a3f5f"
            },
            "type": "carpet"
           }
          ],
          "choropleth": [
           {
            "colorbar": {
             "outlinewidth": 0,
             "ticks": ""
            },
            "type": "choropleth"
           }
          ],
          "contour": [
           {
            "colorbar": {
             "outlinewidth": 0,
             "ticks": ""
            },
            "colorscale": [
             [
              0,
              "#0d0887"
             ],
             [
              0.1111111111111111,
              "#46039f"
             ],
             [
              0.2222222222222222,
              "#7201a8"
             ],
             [
              0.3333333333333333,
              "#9c179e"
             ],
             [
              0.4444444444444444,
              "#bd3786"
             ],
             [
              0.5555555555555556,
              "#d8576b"
             ],
             [
              0.6666666666666666,
              "#ed7953"
             ],
             [
              0.7777777777777778,
              "#fb9f3a"
             ],
             [
              0.8888888888888888,
              "#fdca26"
             ],
             [
              1,
              "#f0f921"
             ]
            ],
            "type": "contour"
           }
          ],
          "contourcarpet": [
           {
            "colorbar": {
             "outlinewidth": 0,
             "ticks": ""
            },
            "type": "contourcarpet"
           }
          ],
          "heatmap": [
           {
            "colorbar": {
             "outlinewidth": 0,
             "ticks": ""
            },
            "colorscale": [
             [
              0,
              "#0d0887"
             ],
             [
              0.1111111111111111,
              "#46039f"
             ],
             [
              0.2222222222222222,
              "#7201a8"
             ],
             [
              0.3333333333333333,
              "#9c179e"
             ],
             [
              0.4444444444444444,
              "#bd3786"
             ],
             [
              0.5555555555555556,
              "#d8576b"
             ],
             [
              0.6666666666666666,
              "#ed7953"
             ],
             [
              0.7777777777777778,
              "#fb9f3a"
             ],
             [
              0.8888888888888888,
              "#fdca26"
             ],
             [
              1,
              "#f0f921"
             ]
            ],
            "type": "heatmap"
           }
          ],
          "heatmapgl": [
           {
            "colorbar": {
             "outlinewidth": 0,
             "ticks": ""
            },
            "colorscale": [
             [
              0,
              "#0d0887"
             ],
             [
              0.1111111111111111,
              "#46039f"
             ],
             [
              0.2222222222222222,
              "#7201a8"
             ],
             [
              0.3333333333333333,
              "#9c179e"
             ],
             [
              0.4444444444444444,
              "#bd3786"
             ],
             [
              0.5555555555555556,
              "#d8576b"
             ],
             [
              0.6666666666666666,
              "#ed7953"
             ],
             [
              0.7777777777777778,
              "#fb9f3a"
             ],
             [
              0.8888888888888888,
              "#fdca26"
             ],
             [
              1,
              "#f0f921"
             ]
            ],
            "type": "heatmapgl"
           }
          ],
          "histogram": [
           {
            "marker": {
             "pattern": {
              "fillmode": "overlay",
              "size": 10,
              "solidity": 0.2
             }
            },
            "type": "histogram"
           }
          ],
          "histogram2d": [
           {
            "colorbar": {
             "outlinewidth": 0,
             "ticks": ""
            },
            "colorscale": [
             [
              0,
              "#0d0887"
             ],
             [
              0.1111111111111111,
              "#46039f"
             ],
             [
              0.2222222222222222,
              "#7201a8"
             ],
             [
              0.3333333333333333,
              "#9c179e"
             ],
             [
              0.4444444444444444,
              "#bd3786"
             ],
             [
              0.5555555555555556,
              "#d8576b"
             ],
             [
              0.6666666666666666,
              "#ed7953"
             ],
             [
              0.7777777777777778,
              "#fb9f3a"
             ],
             [
              0.8888888888888888,
              "#fdca26"
             ],
             [
              1,
              "#f0f921"
             ]
            ],
            "type": "histogram2d"
           }
          ],
          "histogram2dcontour": [
           {
            "colorbar": {
             "outlinewidth": 0,
             "ticks": ""
            },
            "colorscale": [
             [
              0,
              "#0d0887"
             ],
             [
              0.1111111111111111,
              "#46039f"
             ],
             [
              0.2222222222222222,
              "#7201a8"
             ],
             [
              0.3333333333333333,
              "#9c179e"
             ],
             [
              0.4444444444444444,
              "#bd3786"
             ],
             [
              0.5555555555555556,
              "#d8576b"
             ],
             [
              0.6666666666666666,
              "#ed7953"
             ],
             [
              0.7777777777777778,
              "#fb9f3a"
             ],
             [
              0.8888888888888888,
              "#fdca26"
             ],
             [
              1,
              "#f0f921"
             ]
            ],
            "type": "histogram2dcontour"
           }
          ],
          "mesh3d": [
           {
            "colorbar": {
             "outlinewidth": 0,
             "ticks": ""
            },
            "type": "mesh3d"
           }
          ],
          "parcoords": [
           {
            "line": {
             "colorbar": {
              "outlinewidth": 0,
              "ticks": ""
             }
            },
            "type": "parcoords"
           }
          ],
          "pie": [
           {
            "automargin": true,
            "type": "pie"
           }
          ],
          "scatter": [
           {
            "fillpattern": {
             "fillmode": "overlay",
             "size": 10,
             "solidity": 0.2
            },
            "type": "scatter"
           }
          ],
          "scatter3d": [
           {
            "line": {
             "colorbar": {
              "outlinewidth": 0,
              "ticks": ""
             }
            },
            "marker": {
             "colorbar": {
              "outlinewidth": 0,
              "ticks": ""
             }
            },
            "type": "scatter3d"
           }
          ],
          "scattercarpet": [
           {
            "marker": {
             "colorbar": {
              "outlinewidth": 0,
              "ticks": ""
             }
            },
            "type": "scattercarpet"
           }
          ],
          "scattergeo": [
           {
            "marker": {
             "colorbar": {
              "outlinewidth": 0,
              "ticks": ""
             }
            },
            "type": "scattergeo"
           }
          ],
          "scattergl": [
           {
            "marker": {
             "colorbar": {
              "outlinewidth": 0,
              "ticks": ""
             }
            },
            "type": "scattergl"
           }
          ],
          "scattermapbox": [
           {
            "marker": {
             "colorbar": {
              "outlinewidth": 0,
              "ticks": ""
             }
            },
            "type": "scattermapbox"
           }
          ],
          "scatterpolar": [
           {
            "marker": {
             "colorbar": {
              "outlinewidth": 0,
              "ticks": ""
             }
            },
            "type": "scatterpolar"
           }
          ],
          "scatterpolargl": [
           {
            "marker": {
             "colorbar": {
              "outlinewidth": 0,
              "ticks": ""
             }
            },
            "type": "scatterpolargl"
           }
          ],
          "scatterternary": [
           {
            "marker": {
             "colorbar": {
              "outlinewidth": 0,
              "ticks": ""
             }
            },
            "type": "scatterternary"
           }
          ],
          "surface": [
           {
            "colorbar": {
             "outlinewidth": 0,
             "ticks": ""
            },
            "colorscale": [
             [
              0,
              "#0d0887"
             ],
             [
              0.1111111111111111,
              "#46039f"
             ],
             [
              0.2222222222222222,
              "#7201a8"
             ],
             [
              0.3333333333333333,
              "#9c179e"
             ],
             [
              0.4444444444444444,
              "#bd3786"
             ],
             [
              0.5555555555555556,
              "#d8576b"
             ],
             [
              0.6666666666666666,
              "#ed7953"
             ],
             [
              0.7777777777777778,
              "#fb9f3a"
             ],
             [
              0.8888888888888888,
              "#fdca26"
             ],
             [
              1,
              "#f0f921"
             ]
            ],
            "type": "surface"
           }
          ],
          "table": [
           {
            "cells": {
             "fill": {
              "color": "#EBF0F8"
             },
             "line": {
              "color": "white"
             }
            },
            "header": {
             "fill": {
              "color": "#C8D4E3"
             },
             "line": {
              "color": "white"
             }
            },
            "type": "table"
           }
          ]
         },
         "layout": {
          "annotationdefaults": {
           "arrowcolor": "#2a3f5f",
           "arrowhead": 0,
           "arrowwidth": 1
          },
          "autotypenumbers": "strict",
          "coloraxis": {
           "colorbar": {
            "outlinewidth": 0,
            "ticks": ""
           }
          },
          "colorscale": {
           "diverging": [
            [
             0,
             "#8e0152"
            ],
            [
             0.1,
             "#c51b7d"
            ],
            [
             0.2,
             "#de77ae"
            ],
            [
             0.3,
             "#f1b6da"
            ],
            [
             0.4,
             "#fde0ef"
            ],
            [
             0.5,
             "#f7f7f7"
            ],
            [
             0.6,
             "#e6f5d0"
            ],
            [
             0.7,
             "#b8e186"
            ],
            [
             0.8,
             "#7fbc41"
            ],
            [
             0.9,
             "#4d9221"
            ],
            [
             1,
             "#276419"
            ]
           ],
           "sequential": [
            [
             0,
             "#0d0887"
            ],
            [
             0.1111111111111111,
             "#46039f"
            ],
            [
             0.2222222222222222,
             "#7201a8"
            ],
            [
             0.3333333333333333,
             "#9c179e"
            ],
            [
             0.4444444444444444,
             "#bd3786"
            ],
            [
             0.5555555555555556,
             "#d8576b"
            ],
            [
             0.6666666666666666,
             "#ed7953"
            ],
            [
             0.7777777777777778,
             "#fb9f3a"
            ],
            [
             0.8888888888888888,
             "#fdca26"
            ],
            [
             1,
             "#f0f921"
            ]
           ],
           "sequentialminus": [
            [
             0,
             "#0d0887"
            ],
            [
             0.1111111111111111,
             "#46039f"
            ],
            [
             0.2222222222222222,
             "#7201a8"
            ],
            [
             0.3333333333333333,
             "#9c179e"
            ],
            [
             0.4444444444444444,
             "#bd3786"
            ],
            [
             0.5555555555555556,
             "#d8576b"
            ],
            [
             0.6666666666666666,
             "#ed7953"
            ],
            [
             0.7777777777777778,
             "#fb9f3a"
            ],
            [
             0.8888888888888888,
             "#fdca26"
            ],
            [
             1,
             "#f0f921"
            ]
           ]
          },
          "colorway": [
           "#636efa",
           "#EF553B",
           "#00cc96",
           "#ab63fa",
           "#FFA15A",
           "#19d3f3",
           "#FF6692",
           "#B6E880",
           "#FF97FF",
           "#FECB52"
          ],
          "font": {
           "color": "#2a3f5f"
          },
          "geo": {
           "bgcolor": "white",
           "lakecolor": "white",
           "landcolor": "#E5ECF6",
           "showlakes": true,
           "showland": true,
           "subunitcolor": "white"
          },
          "hoverlabel": {
           "align": "left"
          },
          "hovermode": "closest",
          "mapbox": {
           "style": "light"
          },
          "paper_bgcolor": "white",
          "plot_bgcolor": "#E5ECF6",
          "polar": {
           "angularaxis": {
            "gridcolor": "white",
            "linecolor": "white",
            "ticks": ""
           },
           "bgcolor": "#E5ECF6",
           "radialaxis": {
            "gridcolor": "white",
            "linecolor": "white",
            "ticks": ""
           }
          },
          "scene": {
           "xaxis": {
            "backgroundcolor": "#E5ECF6",
            "gridcolor": "white",
            "gridwidth": 2,
            "linecolor": "white",
            "showbackground": true,
            "ticks": "",
            "zerolinecolor": "white"
           },
           "yaxis": {
            "backgroundcolor": "#E5ECF6",
            "gridcolor": "white",
            "gridwidth": 2,
            "linecolor": "white",
            "showbackground": true,
            "ticks": "",
            "zerolinecolor": "white"
           },
           "zaxis": {
            "backgroundcolor": "#E5ECF6",
            "gridcolor": "white",
            "gridwidth": 2,
            "linecolor": "white",
            "showbackground": true,
            "ticks": "",
            "zerolinecolor": "white"
           }
          },
          "shapedefaults": {
           "line": {
            "color": "#2a3f5f"
           }
          },
          "ternary": {
           "aaxis": {
            "gridcolor": "white",
            "linecolor": "white",
            "ticks": ""
           },
           "baxis": {
            "gridcolor": "white",
            "linecolor": "white",
            "ticks": ""
           },
           "bgcolor": "#E5ECF6",
           "caxis": {
            "gridcolor": "white",
            "linecolor": "white",
            "ticks": ""
           }
          },
          "title": {
           "x": 0.05
          },
          "xaxis": {
           "automargin": true,
           "gridcolor": "white",
           "linecolor": "white",
           "ticks": "",
           "title": {
            "standoff": 15
           },
           "zerolinecolor": "white",
           "zerolinewidth": 2
          },
          "yaxis": {
           "automargin": true,
           "gridcolor": "white",
           "linecolor": "white",
           "ticks": "",
           "title": {
            "standoff": 15
           },
           "zerolinecolor": "white",
           "zerolinewidth": 2
          }
         }
        },
        "width": 1324,
        "xaxis": {
         "anchor": "y",
         "domain": [
          0,
          1
         ]
        },
        "yaxis": {
         "anchor": "x",
         "domain": [
          0,
          1
         ]
        }
       }
      }
     },
     "metadata": {},
     "output_type": "display_data"
    }
   ],
   "source": [
    "a.representation((0,16),(0,16))"
   ]
  },
  {
   "cell_type": "code",
   "execution_count": 5,
   "metadata": {},
   "outputs": [],
   "source": [
    "a = generator(1,2,3)\n",
    "b = a.getChunk(0,0)\n",
    "b_noise_Temp = a.getNoiseArray(1, 0, 0, 5, 128, 2)\n",
    "b_noise_Altu = a.getNoiseArray(2, 0, 0, 3, 512, 4)\n",
    "b_noise_Hume = a.getNoiseArray(3, 0, 0, 3, 256, 2)"
   ]
  },
  {
   "cell_type": "code",
   "execution_count": 185,
   "metadata": {},
   "outputs": [
    {
     "name": "stdout",
     "output_type": "stream",
     "text": [
      "🟫🟫🟫🟫🌲🟫🟫🟫🟫🟫🟫🌲🟫🟫🟫🟫🟫🟫🟫🟫🟫🟫🌲🟫🟫🌲🟫🟫🟫🟫🟫🟫🟫🌲🟫🟫🟫🟫🌲🟫🟫🌲🟫🟫🌲🟫🟫🟫🌲🟫🟫🟫🟫🟫🟫🌲🟫🟫🟫🟫🟫🟫🟫🟫\n",
      "🟫🟫🟫🟫🟫🟫🟫🟫🌲🟫🟫🟫🟫🟫🟫🌲🟫🟫🟫🌲🟫🟫🟫🟫🟫🟫🟫🌲🟫🟫🟫🌲🟫🟫🟫🌲🟫🟫🟫🟫🟫🟫🟫🟫🟫🟫🟫🌲🟫🟫🟫🟫🌲🟫🟫🟫🟫🌲🟫🟫🌲🟫🟫🟫\n",
      "🟫🌲🟫🟫🟫🌲🟫🟫🟫🟫🌲🟫🟫🟫🟫🟫🌲🟫🟫🟫🟫🟫🌲🟫🟫🟫🟫🟫🟫🌲🟫🟫🟫🟫🟫🟫🟫🟫🟫🟫🟫🟫🟫🟫🟫🟫🟫🟫🟫🟫🟫🟫🟫🟫🟫🟫🟫🟫🟫🟫🟫🟫🌲🟫\n",
      "🟫🟫🟫🟫🟫🟫🟫🟫🟫🟫🟫🟫🌲🟫🌲🟫🟫🟫🟫🟫🟫🟫🟫🟫🟫🌲🟫🟫🟫🟫🟫🟫🟫🌲🟫🌲🟫🟫🌲🟫🟫🌲🟫🟫🌲🟫🟫🟫🟫🌲🟫🟫🌲🟫🟫🌲🟫🟫🟫🌲🟫🟫🟫🟫\n",
      "🌲🟫🌲🟫🌲🟫🟫🌲🟫🟫🟫🟫🟫🟫🟫🟫🟫🟫🌲🟫🌲🟫🟫🟫🟫🟫🟫🟫🌲🟫🟫🟫🌲🟫🟫🟫🟫🟫🟫🌲🟫🟫🟫🟫🟫🟫🟫🟫🟫🟫🟫🟫🟫🟫🟫🟫🟫🟫🟫🟫🌲🟫🟫🌲\n",
      "🟫🟫🟫🟫🟫🟫🟫🟫🟫🌲🟫🟫🌲🟫🟫🟫🟫🟫🟫🟫🟫🟫🟫🌲🟫🟫🟫🟫🟫🟫🟫🟫🟫🟫🟫🌲🟫🌲🟫🟫🟫🟫🌲🟫🟫🟫🟫🌲🟫🟫🟫🟫🟫🟫🟫🌲🟫🟫🟫🟫🟫🟫🟫🟫\n",
      "🟫🟫🟫🟫🟫🌲🟫🌲🟫🟫🟫🟫🟫🟫🟫🟫🌲🟫🟫🌲🟫🟫🟫🟫🟫🟫🟫🟫🟫🟫🟫🟫🟫🌲🟫🟫🟫🟫🟫🟫🟫🟫🟫🟫🟫🟫🟫🟫🟫🟫🌲🟫🟫🟫🟫🟫🟫🌲🟫🟫🟫🟫🟫🟫\n",
      "🟫🌲🟫🟫🟫🟫🟫🟫🟫🟫🟫🟫🟫🟫🌲🟫🟫🌲🟫🟫🟫🟫🟫🟫🟫🟫🌲🟫🌲🟫🟫🌲🟫🟫🟫🟫🌲🟫🌲🟫🟫🌲🟫🟫🟫🌲🟫🟫🟫🟫🟫🟫🟫🟫🌲🟫🟫🟫🟫🟫🟫🟫🟫🟫\n",
      "🟫🟫🟫🟫🟫🌲🟫🟫🟫🟫🟫🌲🟫🟫🟫🟫🟫🟫🟫🟫🟫🌲🟫🟫🌲🟫🟫🟫🟫🟫🟫🟫🟫🟫🟫🟫🟫🟫🟫🟫🟫🟫🟫🌲🟫🟫🟫🟫🌲🟫🟫🟫🟫🟫🟫🟫🌲🟫🟫🟫🟫🟫🌲🟫\n",
      "🌲🟫🟫🟫🟫🟫🟫🟫🟫🌲🟫🟫🟫🟫🟫🟫🟫🟫🟫🟫🟫🟫🟫🟫🟫🟫🟫🟫🟫🟫🟫🌲🟫🟫🌲🟫🟫🟫🟫🟫🟫🟫🟫🟫🟫🟫🌲🟫🟫🟫🟫🌲🟫🌲🟫🟫🟫🟫🌲🟫🟫🟫🟫🟫\n",
      "🟫🟫🟫🌲🟫🟫🌲🟫🟫🟫🟫🟫🟫🟫🟫🌲🟫🟫🟫🌲🟫🟫🟫🌲🟫🟫🟫🌲🟫🟫🟫🟫🟫🟫🟫🟫🟫🌲🟫🟫🌲🟫🌲🟫🟫🟫🟫🟫🟫🟫🟫🟫🟫🟫🟫🌲🟫🟫🟫🟫🟫🌲🟫🟫\n",
      "🟫🌲🟫🟫🟫🟫🟫🟫🟫🟫🌲🟫🟫🌲🟫🟫🟫🌲🟫🟫🟫🟫🟫🟫🟫🟫🟫🟫🟫🟫🟫🟫🟫🟫🟫🟫🟫🟫🟫🟫🟫🟫🟫🟫🟫🌲🟫🟫🟫🌲🟫🟫🟫🌲🟫🟫🟫🟫🟫🌲🟫🟫🟫🟫\n",
      "🟫🟫🟫🟫🟫🟫🟫🌲🟫🟫🟫🟫🟫🟫🌲🟫🟫🟫🟫🟫🌲🟫🌲🟫🟫🌲🟫🟫🟫🟫🌲🟫🌲🟫🌲🟫🌲🟫🟫🟫🟫🌲🟫🟫🟫🟫🟫🟫🟫🟫🟫🟫🟫🟫🟫🟫🟫🌲🟫🟫🟫🌲🟫🟫\n",
      "🟫🟫🌲🟫🟫🌲🟫🟫🟫🌲🟫🟫🟫🟫🟫🟫🟫🟫🌲🟫🟫🟫🟫🟫🟫🟫🟫🟫🌲🟫🟫🟫🟫🟫🟫🟫🟫🟫🟫🟫🟫🟫🟫🟫🟫🌲🟫🌲🟫🟫🌲🟫🟫🟫🟫🌲🟫🟫🟫🟫🟫🟫🟫🟫\n",
      "🌲🟫🟫🟫🟫🟫🟫🌲🟫🟫🟫🟫🟫🌲🟫🟫🌲🟫🟫🟫🌲🟫🟫🟫🟫🟫🟫🟫🟫🟫🟫🟫🟫🟫🌲🟫🌲🟫🟫🌲🟫🌲🟫🌲🟫🟫🟫🟫🟫🟫🟫🟫🟫🌲🟫🟫🟫🌲🟫🌲🟫🟫🟫🌲\n",
      "🟫🟫🟫🟫🟫🟫🟫🟫🟫🟫🟫🌲🟫🟫🟫🟫🟫🟫🟫🌲🟫🟫🌲🟫🟫🌲🟫🟫🌲🟫🟫🟫🟫🟫🟫🟫🟫🟫🟫🟫🟫🟫🟫🟫🟫🟫🟫🟫🟫🟫🟫🟫🟫🟫🟫🌲🟫🟫🟫🟫🟫🟫🟫🟫\n",
      "🌲🟫🌲🟫🟫🟫🌲🟫🟫🟫🟫🟫🟫🌲🟫🟫🟫🌲🟫🟫🟫🟫🟫🟫🟫🟫🟫🟫🟫🟫🟫🌲🟫🟫🟫🟫🟫🌲🟫🟫🌲🟫🌲🟫🟫🟫🌲🟫🌲🟫🟫🟫🟫🟫🟫🟫🟫🟫🟫🟫🌲🟫🟫🌲\n",
      "🟫🟫🟫🟫🟫🟫🟫🟫🟫🌲🟫🟫🌲🟫🟫🌲🟫🟫🟫🟫🟫🟫🟫🟫🌲🟫🟫🟫🟫🟫🟫🟫🟫🟫🌲🟫🟫🟫🟫🟫🟫🟫🟫🟫🟫🟫🟫🟫🟫🟫🟫🟫🌲🟫🟫🟫🟫🟫🌲🟫🟫🟫🟫🟫\n",
      "🟫🟫🟫🌲🟫🟫🟫🟫🟫🟫🟫🟫🟫🟫🟫🟫🟫🟫🟫🟫🌲🟫🟫🌲🟫🟫🟫🟫🌲🟫🌲🟫🟫🟫🟫🟫🟫🟫🌲🟫🟫🟫🟫🟫🟫🌲🟫🟫🟫🟫🌲🟫🟫🟫🟫🌲🟫🟫🟫🟫🌲🟫🌲🟫\n",
      "🟫🟫🟫🟫🟫🟫🌲🟫🟫🟫🟫🟫🟫🌲🟫🟫🟫🟫🌲🟫🟫🟫🟫🟫🟫🟫🟫🟫🟫🟫🟫🟫🌲🟫🟫🌲🟫🟫🟫🟫🌲🟫🟫🌲🟫🟫🟫🌲🟫🟫🟫🟫🌲🟫🟫🟫🟫🟫🌲🟫🟫🟫🟫🟫\n",
      "🟫🌲🟫🟫🟫🟫🟫🟫🌲🟫🟫🌲🟫🟫🟫🟫🟫🟫🟫🟫🟫🟫🟫🟫🟫🟫🌲🟫🟫🟫🌲🟫🟫🟫🌲🟫🟫🟫🟫🟫🟫🌲🟫🟫🟫🟫🟫🟫🟫🟫🟫🟫🟫🟫🟫🌲🟫🟫🟫🟫🟫🟫🟫🌲\n",
      "🟫🟫🟫🟫🌲🟫🟫🟫🟫🟫🟫🟫🟫🟫🌲🟫🟫🟫🟫🟫🌲🟫🌲🟫🟫🟫🟫🌲🟫🟫🟫🟫🟫🟫🟫🟫🟫🌲🟫🟫🟫🟫🟫🟫🌲🟫🟫🟫🟫🟫🟫🟫🟫🌲🟫🟫🟫🟫🌲🟫🌲🟫🟫🟫\n",
      "🟫🟫🟫🟫🟫🟫🟫🌲🟫🟫🌲🟫🟫🌲🟫🟫🟫🟫🟫🟫🟫🟫🟫🟫🟫🟫🟫🟫🟫🟫🟫🌲🟫🟫🟫🟫🟫🟫🟫🌲🟫🟫🌲🟫🟫🟫🌲🟫🟫🌲🟫🌲🟫🟫🟫🟫🌲🟫🟫🟫🟫🟫🌲🟫\n",
      "🟫🟫🟫🌲🟫🟫🟫🟫🟫🟫🟫🟫🟫🟫🟫🌲🟫🟫🌲🟫🟫🌲🟫🟫🟫🟫🌲🟫🟫🌲🟫🟫🟫🟫🟫🟫🟫🌲🟫🟫🟫🟫🟫🟫🟫🟫🟫🟫🟫🟫🟫🟫🟫🟫🟫🟫🟫🟫🟫🟫🟫🟫🟫🟫\n",
      "🌲🟫🟫🟫🟫🟫🟫🟫🟫🌲🟫🟫🟫🟫🟫🟫🟫🟫🟫🟫🟫🟫🟫🟫🟫🟫🟫🟫🟫🟫🟫🟫🟫🌲🟫🌲🟫🟫🟫🌲🟫🟫🟫🌲🟫🟫🟫🟫🌲🟫🟫🟫🟫🟫🌲🟫🟫🟫🌲🟫🟫🌲🟫🟫\n",
      "🟫🟫🟫🟫🟫🌲🟫🟫🟫🟫🟫🟫🌲🟫🟫🟫🟫🟫🟫🟫🟫🟫🟫🟫🌲🟫🟫🟫🟫🟫🌲🟫🟫🟫🟫🟫🟫🟫🟫🟫🟫🌲🟫🟫🟫🟫🟫🟫🟫🟫🟫🟫🟫🟫🟫🟫🟫🟫🟫🟫🟫🟫🟫🟫\n",
      "🟫🟫🌲🟫🟫🟫🟫🟫🟫🟫🌲🟫🟫🟫🟫🌲🟫🟫🌲🟫🟫🌲🟫🟫🟫🟫🟫🌲🟫🟫🟫🟫🟫🟫🌲🟫🌲🟫🌲🟫🟫🟫🟫🟫🌲🟫🌲🟫🟫🟫🟫🟫🌲🟫🟫🟫🌲🟫🟫🟫🟫🌲🟫🌲\n",
      "🌲🟫🟫🟫🟫🌲🟫🟫🟫🟫🟫🟫🟫🟫🟫🟫🟫🟫🟫🟫🟫🟫🟫🟫🟫🌲🟫🟫🟫🟫🟫🟫🌲🟫🟫🟫🟫🟫🟫🟫🟫🟫🟫🟫🟫🟫🟫🟫🟫🟫🌲🟫🟫🟫🌲🟫🟫🟫🟫🟫🟫🟫🟫🟫\n",
      "🟫🟫🟫🟫🟫🟫🌲🟫🟫🟫🟫🟫🟫🌲🟫🌲🟫🟫🟫🟫🌲🟫🟫🟫🟫🟫🟫🌲🟫🟫🌲🟫🟫🟫🟫🌲🟫🌲🟫🟫🌲🟫🟫🌲🟫🟫🟫🌲🟫🟫🟫🟫🌲🟫🟫🟫🟫🟫🟫🌲🟫🌲🟫🟫\n",
      "🌲🟫🟫🟫🟫🌲🟫🟫🟫🟫🌲🟫🟫🟫🟫🟫🟫🟫🟫🟫🟫🟫🌲🟫🌲🟫🟫🟫🟫🌲🟫🟫🟫🟫🟫🟫🟫🟫🟫🟫🟫🟫🟫🟫🟫🟫🟫🟫🟫🟫🌲🟫🟫🟫🟫🌲🟫🟫🟫🟫🟫🟫🟫🌲\n",
      "🟫🟫🌲🟫🟫🟫🟫🟫🌲🟫🟫🟫🌲🟫🌲🟫🟫🟫🌲🟫🟫🟫🟫🟫🟫🟫🟫🟫🟫🟫🟫🟫🟫🟫🌲🟫🌲🟫🟫🟫🟫🟫🌲🟫🟫🟫🟫🟫🟫🟫🟫🟫🟫🌲🟫🟫🟫🟫🟫🟫🟫🟫🟫🟫\n",
      "🟫🟫🟫🟫🟫🟫🟫🟫🟫🟫🟫🟫🟫🟫🟫🟫🟫🟫🟫🟫🟫🟫🟫🟫🟫🟫🟫🟫🟫🟫🌲🟫🌲🟫🟫🟫🟫🟫🟫🟫🌲🟫🟫🟫🟫🌲🟫🟫🌲🟫🌲🟫🟫🟫🟫🟫🟫🌲🟫🌲🟫🟫🌲🟫\n",
      "🟫🟫🟫🌲🟫🌲🟫🟫🟫🌲🟫🌲🟫🟫🟫🟫🟫🟫🟫🟫🟫🟫🟫🟫🌲🟫🟫🌲🟫🟫🟫🟫🟫🟫🌲🟫🌲🟫🌲🟫🟫🟫🟫🟫🟫🟫🟫🟫🟫🟫🟫🟫🟫🌲🟫🟫🟫🟫🟫🟫🟫🟫🟫🟫\n",
      "🟫🌲🟫🟫🟫🟫🟫🌲🟫🟫🟫🟫🟫🟫🟫🌲🟫🟫🌲🟫🟫🌲🟫🟫🟫🌲🟫🟫🟫🌲🟫🟫🟫🟫🟫🟫🟫🟫🟫🟫🟫🟫🌲🟫🟫🟫🟫🟫🌲🟫🟫🟫🟫🟫🟫🟫🌲🟫🟫🟫🟫🟫🟫🟫\n",
      "🟫🟫🟫🟫🟫🌲🟫🟫🟫🟫🟫🟫🟫🟫🟫🟫🟫🟫🟫🟫🟫🟫🟫🌲🟫🟫🟫🌲🟫🟫🟫🟫🌲🟫🟫🟫🟫🟫🟫🟫🟫🟫🟫🟫🟫🟫🌲🟫🟫🟫🟫🟫🟫🌲🟫🟫🟫🟫🟫🟫🌲🟫🟫🟫\n",
      "🟫🟫🟫🟫🟫🟫🟫🟫🟫🟫🟫🌲🟫🌲🟫🟫🟫🌲🟫🟫🟫🟫🟫🟫🟫🟫🟫🟫🟫🌲🟫🟫🟫🟫🟫🌲🟫🟫🟫🌲🟫🟫🟫🟫🌲🟫🟫🟫🟫🟫🟫🌲🟫🟫🟫🌲🟫🟫🟫🟫🟫🟫🟫🌲\n",
      "🟫🌲🟫🟫🌲🟫🟫🟫🟫🌲🟫🟫🟫🟫🟫🟫🟫🟫🟫🟫🌲🟫🟫🟫🟫🌲🟫🟫🟫🟫🟫🟫🌲🟫🟫🟫🟫🟫🟫🟫🟫🌲🟫🟫🟫🟫🟫🟫🌲🟫🟫🟫🟫🟫🟫🟫🟫🌲🟫🟫🟫🟫🟫🟫\n",
      "🟫🟫🟫🟫🟫🟫🟫🟫🟫🟫🟫🟫🟫🟫🟫🟫🟫🟫🟫🟫🟫🟫🌲🟫🟫🟫🟫🟫🌲🟫🟫🟫🟫🟫🟫🟫🟫🟫🟫🌲🟫🟫🟫🟫🟫🌲🟫🟫🟫🟫🟫🌲🟫🟫🟫🟫🟫🟫🟫🟫🟫🌲🟫🟫\n",
      "🟫🟫🟫🟫🟫🟫🟫🟫🌲🟫🟫🌲🟫🟫🟫🌲🟫🟫🟫🟫🟫🟫🟫🟫🟫🌲🟫🟫🟫🟫🟫🟫🟫🟫🟫🌲🟫🟫🟫🟫🟫🌲🟫🌲🟫🟫🟫🟫🟫🟫🟫🟫🟫🟫🌲🟫🟫🟫🟫🟫🟫🟫🌲🟫\n",
      "🌲🟫🟫🌲🟫🟫🌲🟫🟫🟫🟫🟫🟫🟫🌲🟫🟫🟫🟫🌲🟫🟫🌲🟫🟫🟫🟫🟫🌲🟫🟫🌲🟫🟫🟫🟫🟫🟫🌲🟫🟫🟫🟫🟫🟫🟫🟫🌲🟫🟫🟫🟫🟫🟫🟫🟫🌲🟫🟫🟫🟫🟫🟫🟫\n",
      "🟫🟫🟫🟫🟫🟫🟫🟫🌲🟫🟫🟫🌲🟫🟫🟫🌲🟫🟫🟫🟫🟫🟫🟫🟫🟫🟫🟫🟫🟫🟫🟫🟫🟫🟫🟫🟫🟫🟫🟫🟫🟫🟫🟫🌲🟫🟫🟫🟫🟫🟫🌲🟫🟫🟫🟫🟫🟫🌲🟫🟫🟫🟫🟫\n",
      "🟫🌲🟫🌲🟫🟫🌲🟫🟫🟫🌲🟫🟫🟫🟫🟫🟫🌲🟫🟫🟫🟫🟫🌲🟫🌲🟫🌲🟫🟫🟫🟫🌲🟫🟫🌲🟫🟫🌲🟫🟫🟫🟫🟫🟫🟫🟫🟫🌲🟫🟫🟫🟫🟫🟫🟫🟫🟫🟫🟫🟫🌲🟫🟫\n",
      "🟫🟫🟫🟫🟫🟫🟫🟫🟫🟫🟫🟫🟫🌲🟫🟫🌲🟫🟫🟫🟫🌲🟫🟫🟫🟫🟫🟫🟫🟫🌲🟫🟫🌲🟫🟫🟫🟫🟫🟫🌲🟫🌲🟫🟫🟫🌲🟫🟫🟫🟫🟫🟫🟫🟫🟫🟫🟫🟫🌲🟫🟫🟫🟫\n",
      "🌲🟫🟫🟫🟫🟫🌲🟫🌲🟫🟫🟫🟫🟫🟫🟫🟫🟫🟫🌲🟫🟫🟫🌲🟫🟫🟫🟫🟫🟫🟫🟫🌲🟫🟫🟫🌲🟫🟫🟫🟫🟫🟫🟫🟫🟫🟫🟫🟫🟫🟫🌲🟫🌲🟫🟫🌲🟫🌲🟫🟫🌲🟫🟫\n",
      "🟫🟫🌲🟫🟫🟫🟫🟫🟫🟫🟫🌲🟫🟫🟫🟫🟫🟫🟫🟫🟫🟫🟫🟫🟫🟫🟫🌲🟫🟫🟫🟫🟫🟫🟫🟫🟫🌲🟫🟫🟫🟫🟫🟫🟫🌲🟫🟫🟫🟫🟫🟫🟫🟫🟫🟫🟫🟫🟫🟫🟫🟫🟫🌲\n",
      "🟫🟫🟫🟫🟫🟫🟫🟫🟫🟫🌲🟫🟫🌲🟫🟫🟫🌲🟫🟫🟫🌲🟫🟫🌲🟫🟫🟫🟫🌲🟫🟫🟫🌲🟫🟫🟫🟫🟫🟫🌲🟫🟫🟫🟫🟫🌲🟫🟫🟫🌲🟫🟫🟫🟫🟫🌲🟫🟫🌲🟫🟫🟫🟫\n",
      "🌲🟫🟫🟫🌲🟫🌲🟫🟫🟫🟫🟫🟫🟫🟫🌲🟫🟫🟫🟫🟫🟫🟫🟫🟫🟫🟫🟫🟫🟫🟫🟫🟫🟫🟫🟫🟫🌲🟫🟫🟫🟫🟫🟫🟫🟫🟫🟫🟫🟫🟫🟫🟫🟫🟫🟫🟫🟫🟫🟫🟫🟫🌲🟫\n",
      "🟫🟫🌲🟫🟫🟫🟫🟫🟫🟫🟫🟫🌲🟫🟫🟫🟫🟫🟫🟫🟫🟫🟫🌲🟫🌲🟫🌲🟫🟫🌲🟫🟫🟫🟫🟫🟫🟫🟫🟫🌲🟫🟫🌲🟫🟫🌲🟫🟫🟫🟫🟫🟫🌲🟫🌲🟫🟫🟫🟫🟫🌲🟫🟫\n",
      "🟫🟫🟫🟫🟫🟫🌲🟫🟫🌲🟫🟫🟫🟫🌲🟫🟫🌲🟫🌲🟫🟫🟫🟫🟫🟫🟫🟫🟫🟫🟫🟫🟫🌲🟫🌲🟫🟫🟫🟫🟫🟫🟫🟫🟫🟫🟫🟫🟫🌲🟫🟫🌲🟫🟫🟫🟫🟫🟫🟫🟫🟫🟫🟫\n",
      "🌲🟫🟫🟫🌲🟫🟫🟫🟫🟫🟫🟫🟫🟫🟫🟫🟫🟫🟫🟫🟫🟫🟫🌲🟫🟫🌲🟫🟫🟫🟫🟫🟫🟫🟫🟫🟫🌲🟫🟫🟫🟫🟫🟫🟫🌲🟫🟫🟫🟫🟫🟫🟫🟫🌲🟫🟫🟫🌲🟫🟫🟫🟫🌲\n",
      "🟫🟫🌲🟫🟫🟫🌲🟫🟫🟫🟫🌲🟫🟫🌲🟫🟫🟫🟫🟫🌲🟫🟫🟫🟫🟫🟫🟫🌲🟫🟫🌲🟫🌲🟫🟫🟫🟫🟫🟫🟫🟫🌲🟫🟫🟫🟫🟫🟫🌲🟫🌲🟫🟫🟫🟫🟫🟫🟫🟫🌲🟫🟫🟫\n",
      "🟫🟫🟫🟫🟫🟫🟫🟫🟫🟫🟫🟫🟫🟫🟫🟫🟫🟫🌲🟫🟫🟫🟫🌲🟫🟫🟫🟫🟫🟫🟫🟫🟫🟫🟫🌲🟫🌲🟫🟫🌲🟫🟫🟫🟫🟫🌲🟫🟫🟫🟫🟫🟫🟫🟫🟫🟫🌲🟫🟫🟫🟫🟫🟫\n",
      "🟫🌲🟫🌲🟫🟫🟫🟫🌲🟫🟫🟫🌲🟫🟫🌲🟫🟫🟫🟫🟫🌲🟫🟫🟫🌲🟫🟫🟫🟫🟫🟫🟫🟫🟫🟫🟫🟫🟫🟫🟫🟫🟫🟫🟫🟫🟫🟫🟫🟫🟫🟫🟫🌲🟫🟫🟫🟫🟫🟫🟫🌲🟫🟫\n",
      "🟫🟫🟫🟫🟫🟫🌲🟫🟫🟫🟫🟫🟫🟫🟫🟫🟫🟫🟫🟫🟫🟫🟫🟫🟫🟫🟫🌲🟫🟫🟫🌲🟫🌲🟫🟫🟫🟫🌲🟫🟫🟫🌲🟫🟫🌲🟫🟫🌲🟫🟫🟫🟫🟫🟫🟫🟫🟫🟫🟫🌲🟫🟫🟫\n",
      "🟫🟫🟫🌲🟫🟫🟫🟫🟫🟫🟫🟫🌲🟫🟫🌲🟫🟫🌲🟫🟫🟫🟫🌲🟫🌲🟫🟫🟫🌲🟫🟫🟫🟫🟫🟫🟫🟫🟫🟫🟫🟫🟫🟫🟫🟫🟫🟫🟫🟫🟫🌲🟫🟫🟫🌲🟫🟫🟫🟫🟫🟫🟫🌲\n",
      "🌲🟫🟫🟫🟫🌲🟫🟫🟫🌲🟫🟫🟫🟫🟫🟫🟫🟫🟫🟫🟫🟫🟫🟫🟫🟫🟫🟫🟫🟫🟫🟫🌲🟫🟫🟫🌲🟫🟫🟫🌲🟫🟫🟫🟫🟫🌲🟫🟫🌲🟫🟫🟫🌲🟫🟫🟫🟫🌲🟫🟫🟫🟫🟫\n",
      "🟫🟫🟫🟫🟫🟫🟫🟫🟫🟫🟫🟫🟫🟫🟫🟫🟫🟫🟫🟫🟫🟫🟫🟫🟫🟫🟫🌲🟫🟫🌲🟫🟫🟫🟫🟫🟫🟫🟫🟫🟫🟫🌲🟫🟫🟫🟫🟫🟫🟫🟫🌲🟫🟫🟫🟫🟫🟫🟫🟫🟫🌲🟫🟫\n",
      "🟫🟫🟫🌲🟫🟫🟫🌲🟫🟫🟫🌲🟫🟫🌲🟫🟫🌲🟫🌲🟫🌲🟫🟫🟫🌲🟫🟫🟫🟫🟫🟫🟫🟫🟫🌲🟫🟫🌲🟫🟫🟫🟫🟫🟫🟫🟫🌲🟫🟫🟫🟫🟫🟫🟫🟫🌲🟫🟫🌲🟫🟫🟫🟫\n",
      "🟫🌲🟫🟫🟫🟫🟫🟫🟫🟫🟫🟫🟫🟫🟫🟫🟫🟫🟫🟫🟫🟫🟫🟫🟫🟫🟫🟫🟫🟫🟫🟫🟫🟫🟫🟫🟫🟫🟫🟫🌲🟫🟫🌲🟫🟫🟫🟫🟫🟫🟫🟫🟫🌲🟫🟫🟫🟫🟫🟫🟫🟫🟫🟫\n",
      "🟫🟫🟫🟫🌲🟫🟫🌲🟫🟫🌲🟫🟫🟫🟫🌲🟫🟫🟫🌲🟫🟫🟫🟫🟫🟫🟫🌲🟫🟫🌲🟫🟫🌲🟫🟫🟫🟫🟫🟫🟫🟫🟫🟫🟫🌲🟫🟫🟫🌲🟫🟫🟫🟫🟫🟫🟫🟫🟫🟫🟫🟫🟫🌲\n",
      "🟫🟫🌲🟫🟫🟫🟫🟫🟫🟫🟫🟫🟫🌲🟫🟫🟫🟫🟫🟫🟫🌲🟫🟫🌲🟫🟫🟫🟫🟫🟫🟫🟫🟫🟫🟫🌲🟫🟫🌲🟫🌲🟫🟫🟫🟫🟫🟫🟫🟫🟫🟫🟫🌲🟫🌲🟫🌲🟫🟫🟫🌲🟫🟫\n",
      "🟫🟫🟫🟫🌲🟫🟫🟫🟫🟫🟫🌲🟫🟫🟫🟫🟫🌲🟫🟫🟫🟫🟫🟫🟫🌲🟫🟫🟫🟫🟫🟫🌲🟫🟫🟫🟫🟫🟫🟫🟫🟫🟫🟫🟫🌲🟫🟫🌲🟫🟫🟫🌲🟫🟫🟫🟫🟫🟫🌲🟫🟫🟫🟫\n",
      "🌲🟫🟫🟫🟫🟫🟫🟫🟫🌲🟫🟫🟫🟫🟫🟫🟫🟫🟫🟫🌲🟫🌲🟫🟫🟫🟫🟫🟫🟫🟫🟫🟫🟫🟫🌲🟫🌲🟫🟫🟫🌲🟫🟫🟫🟫🟫🟫🟫🟫🟫🟫🟫🟫🟫🟫🟫🟫🟫🟫🟫🌲🟫🟫\n",
      "🟫🟫🌲🟫🟫🟫🟫🟫🟫🟫🟫🟫🌲🟫🟫🌲🟫🟫🟫🟫🟫🟫🟫🟫🟫🟫🌲🟫🟫🌲🟫🟫🟫🟫🟫🟫🟫🟫🟫🟫🟫🟫🟫🟫🌲🟫🟫🟫🌲🟫🟫🌲🟫🟫🟫🟫🌲🟫🌲🟫🟫🟫🟫🟫\n",
      "🟫🟫🟫🟫🟫🟫🌲🟫🟫🌲🟫🟫🟫🟫🟫🟫🟫🌲🟫🟫🌲🟫🟫🌲🟫🟫🟫🟫🟫🟫🟫🟫🟫🌲🟫🟫🌲🟫🌲🟫🟫🟫🟫🟫🟫🟫🟫🟫🟫🟫🟫🟫🟫🟫🌲🟫🟫🟫🟫🟫🟫🟫🟫🟫\n",
      "🌲🟫🌲🟫🟫🟫🟫🟫🟫🟫🟫🟫🟫🟫🌲🟫🟫🟫🟫🟫🟫🟫🟫🟫🟫🟫🟫🟫🌲🟫🟫🟫🟫🟫🟫🟫🟫🟫🟫🟫🟫🌲🟫🌲🟫🌲🟫🟫🟫🌲🟫🟫🌲🟫🟫🟫🟫🌲🟫🟫🟫🌲🟫🟫\n",
      "🟫🟫🟫🟫🟫🌲🟫🌲🟫🟫🟫🌲🟫🟫🟫🟫🟫🌲🟫🟫🟫🌲🟫🟫🌲🟫🟫🟫🟫🟫🟫🌲🟫🟫🟫🟫🟫🟫🟫🟫🟫🟫🟫🟫🟫🟫🟫🌲🟫🟫🟫🟫🟫🟫🟫🌲🟫🟫🟫🟫🟫🟫🟫🟫\n",
      "🟫🟫🟫🟫🟫🟫🟫🟫🟫🟫🟫🟫🟫🌲🟫🟫🟫🟫🟫🌲🟫🟫🟫🟫🟫🟫🟫🟫🟫🌲🟫🟫🟫🌲🟫🌲🟫🟫🟫🌲🟫🌲🟫🟫🌲🟫🟫🟫🟫🟫🟫🟫🟫🌲🟫🟫🟫🟫🟫🌲🟫🟫🟫🟫\n",
      "🌲🟫🟫🟫🟫🟫🟫🟫🌲🟫🟫🟫🟫🟫🟫🟫🟫🟫🟫🟫🟫🟫🟫🟫🌲🟫🟫🌲🟫🟫🟫🟫🟫🟫🟫🟫🟫🟫🟫🟫🟫🟫🟫🟫🟫🟫🟫🌲🟫🟫🌲🟫🟫🟫🟫🟫🟫🟫🟫🟫🟫🟫🌲🟫\n",
      "🟫🟫🟫🌲🟫🌲🟫🟫🟫🟫🟫🟫🌲🟫🟫🟫🟫🟫🌲🟫🌲🟫🟫🟫🟫🟫🟫🟫🟫🟫🟫🌲🟫🟫🟫🌲🟫🟫🌲🟫🟫🟫🌲🟫🟫🌲🟫🟫🟫🟫🟫🟫🟫🟫🟫🟫🌲🟫🟫🟫🟫🟫🟫🟫\n",
      "🌲🟫🟫🟫🟫🟫🟫🟫🌲🟫🟫🟫🟫🌲🟫🟫🌲🟫🟫🟫🟫🟫🟫🟫🟫🌲🟫🟫🟫🟫🟫🟫🟫🟫🟫🟫🟫🟫🟫🟫🟫🟫🟫🟫🟫🟫🟫🟫🟫🟫🟫🌲🟫🟫🟫🟫🟫🟫🌲🟫🌲🟫🟫🟫\n",
      "🟫🟫🟫🟫🌲🟫🟫🟫🟫🟫🌲🟫🟫🟫🟫🟫🟫🟫🟫🟫🟫🟫🟫🌲🟫🟫🟫🟫🟫🟫🟫🟫🟫🌲🟫🟫🟫🌲🟫🟫🟫🟫🟫🟫🟫🟫🟫🟫🌲🟫🟫🟫🟫🟫🌲🟫🌲🟫🟫🟫🟫🟫🟫🟫\n",
      "🟫🟫🟫🟫🟫🟫🌲🟫🟫🟫🟫🟫🟫🟫🟫🟫🟫🟫🟫🟫🟫🌲🟫🟫🟫🟫🟫🌲🟫🌲🟫🟫🟫🟫🟫🟫🟫🟫🟫🟫🌲🟫🟫🌲🟫🟫🌲🟫🟫🟫🟫🟫🟫🟫🟫🟫🟫🟫🟫🟫🟫🟫🌲🟫\n",
      "🟫🟫🌲🟫🌲🟫🟫🟫🟫🟫🟫🌲🟫🟫🟫🌲🟫🟫🌲🟫🟫🟫🟫🟫🟫🟫🟫🟫🟫🟫🟫🟫🟫🟫🟫🟫🟫🟫🟫🟫🟫🟫🟫🟫🟫🟫🟫🟫🟫🌲🟫🌲🟫🟫🟫🌲🟫🟫🟫🟫🌲🟫🟫🟫\n",
      "🌲🟫🟫🟫🟫🟫🟫🟫🟫🌲🟫🟫🟫🟫🟫🟫🟫🟫🟫🟫🟫🟫🟫🟫🟫🟫🌲🟫🌲🟫🌲🟫🟫🟫🟫🌲🟫🟫🌲🟫🟫🟫🌲🟫🟫🟫🌲🟫🟫🟫🟫🟫🟫🟫🟫🟫🟫🌲🟫🟫🟫🟫🟫🌲\n",
      "🟫🟫🟫🟫🟫🟫🌲🟫🟫🟫🟫🟫🟫🟫🟫🟫🌲🟫🟫🌲🟫🟫🌲🟫🟫🟫🟫🟫🟫🟫🟫🟫🌲🟫🟫🟫🟫🟫🟫🟫🟫🟫🟫🟫🌲🟫🟫🟫🟫🟫🌲🟫🌲🟫🟫🟫🟫🟫🟫🟫🟫🟫🟫🟫\n",
      "🟫🟫🟫🟫🌲🟫🟫🟫🟫🌲🟫🟫🟫🌲🟫🟫🟫🟫🌲🟫🟫🟫🟫🟫🟫🟫🌲🟫🟫🟫🌲🟫🟫🟫🟫🟫🌲🟫🟫🌲🟫🟫🟫🟫🟫🟫🟫🟫🟫🟫🟫🟫🟫🟫🌲🟫🟫🟫🟫🟫🌲🟫🟫🟫\n",
      "🟫🟫🌲🟫🟫🟫🌲🟫🟫🟫🌲🟫🟫🟫🟫🟫🟫🟫🟫🟫🟫🟫🟫🌲🟫🟫🟫🟫🌲🟫🟫🟫🟫🟫🌲🟫🟫🌲🟫🟫🟫🌲🟫🟫🌲🟫🟫🌲🟫🟫🟫🟫🟫🟫🟫🟫🟫🟫🌲🟫🟫🟫🟫🌲\n",
      "🟫🟫🟫🟫🟫🟫🟫🟫🟫🟫🟫🟫🟫🟫🌲🟫🟫🟫🟫🟫🌲🟫🟫🟫🟫🌲🟫🟫🟫🟫🟫🌲🟫🟫🟫🟫🟫🟫🟫🟫🟫🟫🟫🟫🟫🌲🟫🟫🟫🟫🌲🟫🟫🌲🟫🟫🌲🟫🟫🟫🟫🟫🟫🟫\n",
      "🌲🟫🟫🟫🌲🟫🟫🌲🟫🟫🟫🌲🟫🟫🟫🌲🟫🟫🌲🟫🟫🟫🟫🟫🌲🟫🟫🟫🌲🟫🟫🟫🟫🌲🟫🌲🟫🟫🟫🟫🌲🟫🟫🟫🟫🟫🟫🌲🟫🟫🟫🟫🟫🟫🟫🟫🟫🟫🟫🟫🟫🟫🌲🟫\n",
      "🟫🟫🟫🌲🟫🟫🟫🟫🟫🟫🌲🟫🟫🟫🟫🟫🟫🟫🟫🟫🟫🟫🟫🟫🟫🟫🟫🟫🟫🟫🟫🟫🟫🟫🟫🟫🟫🟫🌲🟫🟫🟫🌲🟫🟫🟫🟫🟫🟫🟫🟫🌲🟫🟫🌲🟫🌲🟫🟫🌲🟫🟫🟫🟫\n",
      "🟫🌲🟫🟫🟫🟫🌲🟫🌲🟫🟫🟫🟫🌲🟫🟫🟫🟫🟫🌲🟫🌲🟫🌲🟫🟫🟫🟫🌲🟫🌲🟫🟫🟫🟫🟫🟫🟫🟫🟫🟫🌲🟫🟫🟫🌲🟫🟫🟫🟫🟫🟫🟫🟫🟫🟫🟫🌲🟫🟫🟫🟫🌲🟫\n",
      "🟫🟫🟫🟫🟫🟫🟫🟫🟫🟫🟫🟫🟫🟫🟫🟫🌲🟫🟫🟫🟫🟫🟫🟫🟫🌲🟫🟫🟫🟫🟫🟫🌲🟫🟫🟫🌲🟫🟫🟫🟫🟫🟫🟫🟫🟫🟫🌲🟫🌲🟫🟫🌲🟫🌲🟫🟫🟫🟫🟫🌲🟫🟫🟫\n",
      "🟫🟫🟫🌲🟫🟫🟫🟫🟫🌲🟫🟫🟫🟫🌲🟫🟫🟫🟫🟫🟫🌲🟫🟫🟫🟫🟫🟫🟫🟫🌲🟫🟫🟫🟫🟫🟫🟫🟫🟫🟫🟫🟫🟫🟫🟫🟫🟫🟫🟫🟫🟫🟫🟫🟫🟫🟫🟫🟫🟫🟫🟫🟫🟫\n",
      "🟫🟫🟫🟫🟫🟫🌲🟫🟫🟫🟫🟫🌲🟫🟫🟫🟫🟫🟫🌲🟫🟫🟫🌲🟫🌲🟫🌲🟫🟫🟫🟫🟫🟫🌲🟫🟫🌲🟫🌲🟫🌲🟫🟫🟫🟫🟫🟫🟫🌲🟫🟫🟫🌲🟫🌲🟫🟫🌲🟫🟫🌲🟫🌲\n",
      "🌲🟫🟫🟫🌲🟫🟫🟫🟫🟫🌲🟫🟫🟫🟫🟫🌲🟫🟫🟫🟫🟫🟫🟫🟫🟫🟫🟫🟫🟫🟫🌲🟫🟫🟫🟫🟫🟫🟫🟫🟫🟫🟫🟫🌲🟫🌲🟫🟫🟫🟫🟫🟫🟫🟫🟫🟫🟫🟫🟫🟫🟫🟫🟫\n",
      "🟫🟫🌲🟫🟫🟫🟫🟫🟫🟫🟫🟫🌲🟫🟫🟫🟫🟫🟫🌲🟫🟫🟫🌲🟫🟫🌲🟫🟫🟫🟫🟫🟫🟫🟫🟫🌲🟫🟫🟫🌲🟫🌲🟫🟫🟫🟫🟫🟫🌲🟫🟫🌲🟫🟫🟫🟫🟫🌲🟫🌲🟫🟫🟫\n",
      "🟫🟫🟫🟫🟫🟫🌲🟫🟫🟫🌲🟫🟫🟫🌲🟫🟫🟫🟫🟫🟫🟫🌲🟫🟫🟫🟫🟫🟫🌲🟫🟫🌲🟫🟫🟫🟫🟫🟫🌲🟫🟫🟫🟫🟫🟫🟫🟫🟫🟫🟫🟫🟫🟫🟫🟫🟫🟫🟫🟫🟫🟫🟫🌲\n",
      "🟫🌲🟫🌲🟫🟫🟫🟫🌲🟫🟫🟫🟫🟫🟫🟫🟫🟫🟫🌲🟫🟫🟫🟫🟫🟫🌲🟫🟫🟫🟫🟫🟫🟫🌲🟫🟫🟫🟫🟫🟫🟫🟫🌲🟫🟫🟫🌲🟫🟫🟫🌲🟫🌲🟫🌲🟫🟫🟫🟫🟫🌲🟫🟫\n",
      "🟫🟫🟫🟫🟫🟫🟫🟫🟫🟫🌲🟫🟫🟫🌲🟫🟫🌲🟫🟫🟫🟫🟫🌲🟫🟫🟫🟫🟫🟫🟫🟫🟫🟫🟫🟫🌲🟫🟫🟫🟫🌲🟫🟫🟫🌲🟫🟫🟫🟫🟫🟫🟫🟫🟫🟫🟫🟫🟫🌲🟫🟫🟫🟫\n",
      "🟫🌲🟫🟫🟫🟫🌲🟫🟫🟫🟫🟫🟫🟫🟫🟫🟫🟫🟫🟫🌲🟫🟫🟫🟫🟫🟫🟫🟫🟫🟫🌲🟫🌲🟫🟫🟫🟫🟫🌲🟫🟫🟫🟫🟫🟫🟫🟫🟫🌲🟫🟫🟫🌲🟫🟫🟫🟫🟫🟫🟫🟫🟫🌲\n",
      "🟫🟫🟫🌲🟫🟫🟫🟫🌲🟫🟫🌲🟫🟫🌲🟫🟫🟫🌲🟫🟫🟫🌲🟫🟫🟫🟫🌲🟫🟫🟫🟫🟫🟫🟫🟫🌲🟫🟫🟫🟫🟫🟫🟫🟫🟫🟫🌲🟫🟫🟫🟫🟫🟫🟫🟫🟫🟫🟫🌲🟫🌲🟫🟫\n",
      "🌲🟫🟫🟫🟫🟫🟫🟫🟫🟫🟫🟫🟫🟫🟫🟫🌲🟫🟫🟫🟫🟫🟫🟫🟫🟫🌲🟫🟫🟫🟫🟫🟫🟫🌲🟫🟫🟫🟫🟫🌲🟫🟫🌲🟫🟫🟫🟫🟫🟫🟫🌲🟫🟫🟫🟫🟫🌲🟫🟫🟫🟫🌲🟫\n",
      "🟫🟫🟫🟫🟫🟫🟫🌲🟫🟫🌲🟫🟫🌲🟫🟫🟫🟫🟫🟫🟫🌲🟫🌲🟫🟫🟫🟫🟫🌲🟫🟫🟫🟫🟫🟫🟫🟫🟫🟫🟫🟫🟫🟫🟫🟫🌲🟫🟫🟫🟫🟫🟫🟫🟫🟫🟫🟫🟫🟫🟫🌲🟫🟫\n",
      "🟫🟫🟫🟫🟫🌲🟫🟫🟫🟫🟫🌲🟫🟫🟫🌲🟫🟫🟫🌲🟫🟫🟫🟫🟫🟫🟫🟫🟫🟫🟫🌲🟫🟫🟫🟫🌲🟫🟫🟫🟫🟫🟫🟫🟫🟫🟫🟫🟫🟫🌲🟫🌲🟫🟫🟫🟫🟫🌲🟫🟫🟫🟫🟫\n",
      "🟫🌲🟫🌲🟫🟫🌲🟫🟫🌲🟫🟫🟫🟫🟫🟫🟫🟫🟫🟫🟫🟫🟫🟫🌲🟫🟫🌲🟫🟫🟫🟫🟫🟫🌲🟫🟫🟫🟫🟫🌲🟫🌲🟫🟫🌲🟫🌲🟫🟫🟫🟫🟫🟫🌲🟫🟫🟫🟫🟫🟫🟫🌲🟫\n",
      "🟫🟫🟫🟫🟫🟫🟫🟫🟫🟫🟫🟫🟫🌲🟫🟫🟫🌲🟫🟫🟫🟫🟫🟫🟫🌲🟫🟫🟫🟫🌲🟫🌲🟫🟫🟫🟫🟫🟫🟫🟫🟫🟫🟫🟫🟫🟫🟫🟫🟫🟫🌲🟫🌲🟫🟫🌲🟫🟫🟫🟫🟫🟫🟫\n",
      "🌲🟫🟫🟫🟫🌲🟫🟫🟫🟫🟫🟫🟫🟫🟫🟫🟫🟫🟫🟫🌲🟫🟫🟫🟫🟫🟫🟫🟫🟫🟫🟫🟫🟫🟫🟫🟫🌲🟫🟫🟫🟫🟫🟫🟫🟫🟫🟫🟫🟫🟫🟫🟫🟫🟫🟫🟫🟫🟫🌲🟫🟫🟫🟫\n",
      "🟫🟫🌲🟫🟫🟫🟫🟫🟫🟫🟫🌲🟫🟫🟫🟫🌲🟫🟫🟫🟫🟫🟫🟫🟫🟫🟫🌲🟫🟫🟫🟫🟫🟫🟫🌲🟫🟫🟫🟫🌲🟫🟫🟫🟫🟫🌲🟫🟫🌲🟫🟫🟫🟫🟫🟫🟫🌲🟫🟫🟫🟫🌲🟫\n",
      "🟫🟫🟫🟫🟫🟫🌲🟫🟫🌲🟫🟫🟫🌲🟫🟫🟫🟫🌲🟫🟫🌲🟫🟫🟫🌲🟫🟫🟫🟫🌲🟫🟫🌲🟫🟫🟫🟫🟫🟫🟫🟫🟫🌲🟫🟫🟫🟫🟫🟫🟫🟫🟫🌲🟫🟫🟫🟫🟫🟫🟫🟫🟫🌲\n",
      "🟫🌲🟫🟫🌲🟫🟫🟫🟫🟫🟫🌲🟫🟫🟫🌲🟫🟫🟫🟫🟫🟫🟫🟫🟫🟫🟫🟫🟫🟫🟫🌲🟫🟫🟫🟫🌲🟫🟫🟫🟫🟫🟫🟫🟫🟫🌲🟫🌲🟫🟫🌲🟫🟫🟫🟫🟫🟫🌲🟫🟫🌲🟫🟫\n",
      "🟫🟫🟫🟫🟫🟫🌲🟫🟫🌲🟫🟫🟫🟫🟫🟫🟫🟫🟫🟫🟫🟫🟫🌲🟫🟫🌲🟫🌲🟫🟫🟫🟫🟫🟫🟫🟫🟫🌲🟫🟫🟫🟫🌲🟫🟫🟫🟫🟫🌲🟫🟫🌲🟫🟫🌲🟫🟫🟫🟫🟫🟫🟫🟫\n",
      "🟫🌲🟫🟫🟫🟫🟫🟫🟫🟫🟫🌲🟫🟫🌲🟫🟫🌲🟫🌲🟫🟫🟫🟫🟫🟫🟫🟫🟫🟫🟫🟫🟫🌲🟫🟫🟫🟫🟫🟫🌲🟫🟫🟫🟫🟫🟫🟫🟫🟫🟫🟫🟫🟫🟫🟫🟫🟫🟫🟫🟫🟫🌲🟫\n",
      "🟫🟫🟫🟫🟫🟫🟫🌲🟫🟫🟫🟫🟫🟫🟫🟫🟫🟫🟫🟫🟫🟫🟫🟫🟫🟫🟫🟫🟫🟫🟫🟫🟫🟫🟫🟫🌲🟫🟫🟫🟫🟫🟫🟫🟫🌲🟫🌲🟫🟫🟫🟫🟫🟫🟫🟫🌲🟫🟫🌲🟫🟫🟫🟫\n",
      "🟫🟫🟫🌲🟫🟫🟫🟫🟫🟫🌲🟫🟫🌲🟫🟫🟫🟫🟫🌲🟫🟫🌲🟫🟫🌲🟫🟫🌲🟫🟫🌲🟫🟫🟫🟫🟫🟫🟫🟫🌲🟫🟫🌲🟫🟫🟫🟫🟫🟫🟫🟫🌲🟫🌲🟫🟫🟫🟫🟫🟫🟫🟫🟫\n",
      "🟫🟫🟫🟫🌲🟫🟫🟫🟫🟫🟫🟫🟫🟫🟫🟫🌲🟫🟫🟫🟫🟫🟫🟫🟫🟫🟫🟫🟫🟫🟫🟫🟫🌲🟫🟫🌲🟫🌲🟫🟫🟫🟫🟫🟫🟫🟫🟫🟫🟫🌲🟫🟫🟫🟫🟫🟫🌲🟫🟫🟫🟫🟫🟫\n",
      "🟫🌲🟫🟫🟫🟫🟫🟫🟫🟫🟫🟫🟫🟫🟫🟫🟫🟫🟫🟫🌲🟫🌲🟫🟫🟫🟫🟫🌲🟫🟫🌲🟫🟫🟫🟫🟫🟫🟫🟫🟫🌲🟫🟫🌲🟫🟫🌲🟫🟫🟫🟫🟫🌲🟫🟫🟫🟫🟫🟫🟫🌲🟫🟫\n",
      "🟫🟫🟫🟫🟫🟫🌲🟫🌲🟫🟫🟫🟫🌲🟫🟫🟫🟫🌲🟫🟫🟫🟫🟫🟫🌲🟫🟫🟫🟫🟫🟫🟫🌲🟫🟫🟫🌲🟫🟫🌲🟫🟫🟫🟫🟫🟫🟫🟫🟫🟫🟫🌲🟫🟫🟫🟫🟫🟫🟫🟫🟫🟫🟫\n",
      "🌲🌲🟫🌲🟫🟫🟫🟫🟫🟫🌲🟫🟫🟫🌲🟫🟫🟫🟫🌲🟫🟫🟫🟫🟫🟫🟫🟫🟫🟫🟫🟫🟫🟫🟫🌲🟫🟫🟫🟫🟫🟫🟫🟫🟫🌲🟫🟫🌲🟫🟫🟫🟫🟫🌲🟫🟫🟫🌲🟫🟫🟫🟫🟫\n",
      "🟫🟫🟫🟫🟫🟫🟫🟫🟫🟫🟫🟫🟫🟫🟫🟫🌲🟫🟫🟫🟫🟫🟫🟫🟫🌲🟫🌲🟫🌲🟫🌲🟫🟫🟫🟫🟫🟫🟫🟫🟫🟫🟫🟫🌲🟫🟫🟫🟫🟫🟫🌲🟫🌲🟫🟫🟫🟫🟫🟫🟫🌲🟫🟫\n",
      "🟫🟫🟫🌲🟫🌲🟫🟫🟫🟫🟫🌲🟫🟫🟫🟫🟫🟫🟫🟫🟫🌲🟫🟫🌲🟫🟫🟫🟫🟫🟫🟫🟫🟫🟫🟫🟫🌲🟫🟫🟫🌲🟫🟫🟫🟫🟫🌲🟫🟫🟫🟫🟫🟫🌲🟫🟫🟫🟫🟫🟫🟫🟫🟫\n",
      "🟫🌲🟫🟫🟫🟫🟫🟫🌲🟫🟫🟫🟫🟫🟫🌲🟫🟫🟫🌲🟫🟫🟫🟫🟫🟫🟫🟫🟫🟫🌲🟫🟫🟫🌲🟫🟫🟫🟫🟫🟫🟫🟫🟫🟫🟫🟫🟫🟫🟫🟫🟫🟫🟫🟫🟫🌲🟫🟫🟫🌲🟫🟫🟫\n",
      "🟫🟫🟫🟫🟫🟫🟫🟫🟫🟫🟫🟫🟫🌲🟫🟫🟫🌲🟫🟫🟫🌲🟫🌲🟫🟫🟫🌲🟫🟫🟫🟫🟫🟫🟫🟫🌲🟫🟫🟫🟫🟫🟫🟫🟫🟫🌲🟫🌲🟫🟫🌲🟫🌲🟫🟫🟫🟫🌲🟫🟫🟫🌲🟫\n",
      "🟫🟫🌲🟫🟫🌲🟫🟫🌲🟫🟫🟫🟫🟫🟫🟫🟫🟫🟫🟫🟫🟫🟫🟫🟫🟫🟫🟫🟫🟫🟫🟫🟫🟫🟫🟫🟫🟫🟫🌲🟫🟫🟫🌲🟫🟫🟫🟫🟫🟫🟫🟫🟫🟫🟫🌲🟫🟫🟫🟫🟫🟫🟫🟫\n",
      "🟫🟫🟫🟫🟫🟫🟫🟫🟫🟫🌲🟫🟫🟫🌲🟫🟫🟫🟫🌲🟫🟫🌲🟫🌲🟫🟫🟫🟫🟫🌲🟫🟫🌲🟫🟫🌲🟫🌲🟫🟫🟫🟫🟫🟫🟫🟫🟫🟫🌲🟫🟫🌲🟫🟫🟫🟫🟫🟫🟫🌲🟫🌲🟫\n",
      "🟫🟫🟫🟫🌲🟫🟫🟫🟫🟫🟫🟫🟫🟫🟫🟫🟫🌲🟫🟫🟫🟫🟫🟫🟫🟫🌲🟫🟫🟫🟫🟫🟫🟫🟫🟫🟫🟫🟫🟫🟫🟫🌲🟫🟫🟫🌲🟫🟫🟫🟫🟫🟫🟫🟫🟫🌲🟫🟫🟫🟫🟫🟫🟫\n",
      "🌲🟫🟫🟫🟫🟫🌲🟫🟫🌲🟫🟫🌲🟫🟫🟫🟫🟫🟫🟫🟫🟫🟫🌲🟫🟫🟫🟫🌲🟫🟫🌲🟫🟫🟫🟫🟫🟫🟫🟫🌲🟫🟫🟫🟫🟫🟫🟫🟫🟫🟫🟫🟫🟫🌲🟫🟫🟫🟫🟫🟫🟫🟫🟫\n",
      "🟫🟫🌲🟫🟫🟫🟫🟫🟫🟫🟫🟫🟫🟫🟫🌲🟫🟫🟫🟫🌲🟫🟫🟫🟫🟫🟫🟫🟫🟫🟫🟫🟫🌲🟫🟫🌲🟫🌲🟫🟫🟫🟫🌲🟫🟫🟫🟫🌲🟫🟫🟫🟫🟫🟫🟫🟫🟫🌲🟫🟫🌲🟫🟫\n",
      "🟫🟫🟫🟫🟫🌲🟫🟫🌲🟫🟫🟫🟫🟫🟫🟫🟫🌲🟫🟫🟫🟫🟫🟫🟫🟫🟫🟫🟫🟫🟫🟫🟫🟫🟫🟫🟫🟫🟫🟫🟫🟫🟫🟫🟫🟫🟫🟫🟫🟫🟫🌲🟫🟫🌲🟫🟫🟫🟫🌲🟫🟫🟫🟫\n",
      "🟫🟫🟫🌲🟫🟫🟫🟫🟫🟫🌲🟫🟫🟫🟫🟫🟫🟫🟫🟫🟫🟫🟫🌲🟫🟫🌲🟫🟫🌲🟫🟫🌲🟫🟫🟫🌲🟫🟫🟫🌲🟫🟫🟫🟫🟫🌲🟫🟫🟫🟫🟫🟫🟫🟫🟫🌲🟫🟫🟫🟫🟫🟫🌲\n",
      "🟫🟫🟫🟫🟫🟫🟫🟫🟫🟫🟫🟫🟫🌲🟫🟫🌲🟫🟫🟫🟫🟫🟫🟫🟫🟫🟫🟫🟫🟫🌲🟫🟫🟫🌲🟫🟫🌲🟫🟫🟫🟫🌲🟫🟫🟫🟫🟫🟫🌲🟫🟫🟫🌲🟫🟫🟫🟫🟫🟫🟫🌲🟫🟫\n",
      "🟫🌲🟫🟫🌲🟫🟫🌲🟫🟫🟫🟫🟫🟫🟫🟫🟫🟫🟫🌲🟫🌲🟫🟫🟫🟫🌲🟫🌲🟫🟫🟫🟫🟫🟫🟫🟫🟫🟫🟫🌲🟫🟫🌲🟫🟫🟫🟫🟫🟫🟫🟫🟫🟫🟫🌲🟫🟫🟫🟫🟫🟫🟫🟫\n",
      "🟫🟫🟫🟫🟫🟫🟫🟫🟫🟫🌲🟫🟫🌲🟫🟫🟫🌲🟫🟫🟫🟫🟫🌲🟫🟫🟫🟫🟫🟫🟫🟫🟫🟫🌲🟫🟫🟫🟫🟫🟫🟫🟫🟫🟫🟫🌲🟫🟫🌲🟫🟫🌲🟫🟫🟫🟫🟫🌲🟫🟫🟫🟫🟫\n",
      "🟫🌲🟫🟫🟫🟫🟫🟫🟫🟫🟫🟫🟫🟫🌲🟫🟫🟫🟫🟫🟫🟫🟫🟫🟫🟫🌲🟫🟫🟫🟫🟫🌲🟫🟫🟫🌲🟫🟫🟫🟫🟫🟫🟫🟫🟫🟫🟫🟫🟫🌲🟫🟫🟫🌲🟫🌲🟫🟫🟫🟫🌲🟫🟫\n",
      "🟫🟫🟫🟫🌲🟫🌲🟫🟫🟫🟫🟫🌲🟫🟫🟫🟫🌲🟫🟫🟫🟫🌲🟫🟫🟫🟫🟫🌲🟫🟫🟫🟫🟫🌲🟫🟫🟫🟫🌲🟫🟫🌲🟫🟫🟫🟫🌲🟫🟫🟫🟫🟫🟫🟫🟫🟫🟫🟫🟫🟫🟫🟫🟫\n",
      "🟫🟫🌲🟫🟫🟫🟫🟫🟫🌲🟫🟫🟫🟫🟫🟫🟫🟫🟫🟫🌲🟫🟫🌲🟫🟫🟫🟫🟫🟫🟫🟫🟫🟫🟫🟫🟫🟫🟫🟫🟫🟫🟫🟫🟫🌲🟫🟫🟫🟫🟫🌲🟫🟫🟫🟫🟫🌲🟫🌲🟫🟫🟫🟫\n",
      "🟫🟫🟫🟫🟫🟫🟫🌲🟫🟫🌲🟫🟫🌲🟫🌲🟫🟫🟫🟫🟫🟫🌲🟫🟫🟫🟫🌲🟫🟫🌲🟫🌲🟫🟫🟫🟫🌲🟫🟫🌲🟫🟫🟫🟫🟫🟫🟫🟫🟫🟫🟫🟫🌲🟫🟫🟫🟫🟫🟫🟫🟫🌲🟫\n",
      "🟫🟫🌲🟫🟫🟫🟫🟫🟫🟫🟫🟫🟫🟫🟫🟫🟫🌲🟫🟫🟫🟫🟫🟫🟫🌲🟫🟫🟫🟫🟫🟫🟫🟫🌲🟫🟫🟫🟫🌲🟫🟫🟫🌲🟫🟫🌲🟫🌲🟫🟫🟫🟫🟫🟫🌲🟫🟫🟫🌲🟫🟫🟫🟫\n"
     ]
    }
   ],
   "source": [
    "resultado = a.poisson_disc_sampling(2,10)\n",
    "for r in resultado:\n",
    "    print(\"\".join([str(\"🌲\" if j==1 else \"🟫\") for j in list(r.flatten())][0:64]))"
   ]
  },
  {
   "cell_type": "code",
   "execution_count": 164,
   "metadata": {},
   "outputs": [
    {
     "name": "stdout",
     "output_type": "stream",
     "text": [
      "[[0.00083511 0.00100262 0.00152401 ... 0.00072446 0.00132693 0.00284349]\n",
      " [0.00127895 0.00193673 0.00222237 ... 0.00065001 0.00119148 0.0034454 ]\n",
      " [0.00188962 0.0029825  0.00283211 ... 0.00064732 0.00154927 0.00407253]\n",
      " ...\n",
      " [0.00190146 0.00134237 0.00083732 ... 0.20210423 0.1821459  0.10127136]\n",
      " [0.00264083 0.00228841 0.0016737  ... 0.1914461  0.14352661 0.07405585]\n",
      " [0.00324761 0.00336357 0.00395281 ... 0.14387918 0.09265979 0.04945236]]\n"
     ]
    }
   ],
   "source": [
    "gtr = a.getFractalNoiseArray(123,34,7,4,16,3)\n",
    "print(gtr)"
   ]
  },
  {
   "cell_type": "code",
   "execution_count": 30,
   "metadata": {},
   "outputs": [
    {
     "data": {
      "image/png": "[encoded data removed]",
      "text/plain": [
       "<Figure size 640x480 with 2 Axes>"
      ]
     },
     "metadata": {},
     "output_type": "display_data"
    }
   ],
   "source": [
    "CHUNK_SIZE = 128\n",
    "def getNoiseArray( seed: int, x_in: int, y_in: int, iterations: int, size: int, disparity: int = 3) -> np.ndarray:\n",
    "    x = CHUNK_SIZE*x_in\n",
    "    y = CHUNK_SIZE*y_in\n",
    "    opensimplex.seed(seed)\n",
    "\n",
    "    rango = range(0,CHUNK_SIZE)\n",
    "    noise_array = np.zeros(dtype=float, shape=(CHUNK_SIZE, CHUNK_SIZE))\n",
    "\n",
    "    for r in range(iterations):\n",
    "        divisor = (size/2**r)\n",
    "        exponenciador = (2**r)\n",
    "        for i in rango:\n",
    "            for j in rango:\n",
    "                noise_array[j, i] += opensimplex.noise2(x=(i+x)/divisor, y=(y+j)/divisor)/exponenciador\n",
    "        \n",
    "    maximo = sum([2/(2**r) for r in range(iterations)])\n",
    "    for i in rango:\n",
    "        for j in rango:\n",
    "            valor = (noise_array[j, i] + maximo)/(2*maximo)     \n",
    "            for r in range(disparity):\n",
    "                valor = 0.5 + math.sin(math.pi*valor - math.pi/2)/2\n",
    "            noise_array[j, i] = valor\n",
    "\n",
    "    noise_array_int = np.empty(dtype=np.uint8, shape=(CHUNK_SIZE, CHUNK_SIZE))\n",
    "    for i in rango:\n",
    "        for j in rango:\n",
    "            noise_array_int[j, i] = math.floor(noise_array[j, i]*256)\n",
    "    return noise_array_int\n",
    "\n",
    "resultado = getNoiseArray(112, 64, 125, 3, 128, 5)\n",
    "\n",
    "resultado[0,0] = 0\n",
    "resultado[127,127] = 255\n",
    "for i in range(resultado.shape[0]):\n",
    "    for j in range(resultado.shape[1]):\n",
    "        if(107 < resultado[i,j] < 148):\n",
    "            resultado[i,j] = 255\n",
    "        else:\n",
    "            resultado[i,j] = 0\n",
    "plt.imshow(resultado, cmap='gray')\n",
    "plt.colorbar()\n",
    "plt.show()"
   ]
  }
 ],
 "metadata": {
  "kernelspec": {
   "display_name": ".venv",
   "language": "python",
   "name": "python3"
  },
  "language_info": {
   "codemirror_mode": {
    "name": "ipython",
    "version": 3
   },
   "file_extension": ".py",
   "mimetype": "text/x-python",
   "name": "python",
   "nbconvert_exporter": "python",
   "pygments_lexer": "ipython3",
   "version": "3.12.3"
  }
 },
 "nbformat": 4,
 "nbformat_minor": 2
}
