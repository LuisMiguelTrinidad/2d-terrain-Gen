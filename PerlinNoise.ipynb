{
 "cells": [
  {
   "cell_type": "code",
   "execution_count": 43,
   "metadata": {},
   "outputs": [],
   "source": [
    "import opensimplex\n",
    "import numpy as np\n",
    "import matplotlib.pyplot as plt\n",
    "import math\n",
    "from random import randint\n",
    "import os\n",
    "import multiprocessing as mp\n",
    "import plotly.express as px\n",
    "from random import randint, random"
   ]
  },
  {
   "cell_type": "markdown",
   "metadata": {},
   "source": [
    "biomas = np.empty(shape=(128,128,128), dtype=np.uint8)\n",
    "for i in range(128):\n",
    "    for j in range(128):\n",
    "        for k in range(128):\n",
    "            mejor = float('inf')\n",
    "            for r in generator.BIOMAS.keys():\n",
    "                a = np.linalg.norm(np.array(generator.BIOMAS[r][0]) - np.array([i/128, j/128, k/128]))\n",
    "                if a < mejor:\n",
    "                    mejor = a\n",
    "                    biomas[i, j, k] = r\n",
    "    print(i)\n",
    "print(biomas)\n",
    "np.save(f\"CERCANIA_BIOMAS.npy\", biomas)\n"
   ]
  },
  {
   "cell_type": "code",
   "execution_count": 4,
   "metadata": {},
   "outputs": [],
   "source": [
    "class generator:\n",
    "    #(Humedad altura temperatura), nombre del bioma, color, {objetos que pueden aparecer, probabilidades}\n",
    "    BIOMAS = {\n",
    "        0: ([-1, -1, -1], 'Oceano', (56, 148, 194), {}, ),\n",
    "        1: ([-1, -1, -1], 'Oceano profundo', (27, 59, 140), {}),\n",
    "        2: ([-1, -1, -1], 'Rios y lagos', (126, 180, 237), {}),\n",
    "        3: ([0.5, 0.0, 0.5], 'Costa', (245, 240, 108), {\"Palmera\": 0.7, \"Piedra pequeña\": 0.3}),\n",
    "        4: ([0.85, 0.05, 0.45], 'Marismas', (171, 222, 32), {\"Arbusto\": 1}),\n",
    "        5: ([0.75, 0.1, 0.05], 'Polo', (250, 250, 250), {\"Tempano\": 0.5, \"Piedra congelada\": 0.5}),\n",
    "        6: ([0.8, 0.15, 0.45], 'Pantano', (33, 133, 99), {\"Arbusto\": 0.2, \"Piedra pequeña\": 0.2, \"Arbol\": 0.6}),\n",
    "        7: ([0.5, 0.2, 0.5], 'Bosque', (53, 118, 43), {\"Arbol\": 0.6, \"Arbusto\": 0.2, \"Flores\": 0.2}),\n",
    "        8: ([0.6, 0.2, 0.55], 'Selva', (0, 183, 10), {\"Arbol\": 0.7, \"Helecho\": 0.3}),\n",
    "        9: ([0.35, 0.2, 0.55], 'Dehesa', (128, 179, 30), {\"Arbol\": 0.5, \"Arbusto\": 0.5}),\n",
    "        10: ([0.2, 0.2, 0.6], 'Savana', (228, 125, 28), {\"Arbol\": 0.3, \"Arbusto\": 0.7}),\n",
    "        12: ([0.75, 0.25, 0.75], 'Termales', (39, 156, 121), {\"Geiser\": 0.5, \"Piedra pequeña\": 0.5}),\n",
    "        11: ([0.0, 0.3, 0.8], 'Desierto', (255, 211, 29), {\"Cactus\": 0.7, \"Arbusto muerto\": 0.3}),\n",
    "        13: ([0.4, 0.4, 0.4], 'Valle', (144, 219, 148), {\"Arbol\": 0.8, \"Arbusto\": 0.2}),\n",
    "        14: ([0.2, 0.65, 0.55], 'Meseta', (110, 88, 66), {\"Roca grande\": 0.1, \"Arbusto\": 0.5, \"Roca pequeña\": 0.4}),\n",
    "        15: ([0.7, 0.8, 0.2], 'Tundra', (208, 208, 240), {\"Piedra pequeña\": 0.5, \"Flores\": 0.5}),\n",
    "        16: ([0.15, 0.8, 0.85], 'Volcanico', (159, 16, 16), {\"Arbol carbonizado\": 0.6, \"Charco de lava\": 0.4}),\n",
    "        17: ([0.35, 9, 0.35], 'Montaña', (125, 125, 125), {\"Roca grande\": 0.3, \"Roca pequeña\": 0.7}),\n",
    "    }\n",
    "    CHUNK_SIZE = 128\n",
    "    CERCANIA_BIOMAS = np.load(\"./CERCANIA_BIOMAS.npy\" )\n",
    "\n",
    "    def __init__(self, seedTemp = None, seedAltu = None, seedHume = None):\n",
    "        self.SEEDTEMP = seedTemp if seedTemp != None else randint(-2**30, 2**30)\n",
    "        self.SEEDALTU = seedAltu if seedTemp != None else randint(-2**30, 2**30)\n",
    "        self.SEEDHUME = seedHume if seedTemp != None else randint(-2**30, 2**30)\n",
    "\n",
    "    def getNoise(self, seed: int, x_in: int, y_in: int, iterations: int, size: int, disparity: int = 3):\n",
    "        opensimplex.seed(seed)\n",
    "        ruido = 0\n",
    "        for r in range(iterations):\n",
    "            divisor = (size/2**r)\n",
    "            exponenciador = (2**r)\n",
    "            ruido += opensimplex.noise2(x=(x_in)/divisor, y=(y_in)/divisor)/exponenciador\n",
    "            \n",
    "        maximo = sum([2/(2**r) for r in range(iterations)])\n",
    "        ruido = (ruido + maximo)/(2*maximo)     \n",
    "        for r in range(disparity):\n",
    "            ruido = 0.5 + math.sin(math.pi*ruido - math.pi/2)/2\n",
    "        return ruido\n",
    "\n",
    "    def getNoiseArray(self, seed: int, x_in: int, y_in: int, iterations: int, size: int, disparity: int = 3):\n",
    "        \"\"\"\n",
    "        Generates a 2D noise array using OpenSimplex noise with multi-level detail and smoothing.\n",
    "\n",
    "        Args:\n",
    "            seed (int): The seed used to initialize the noise generation.\n",
    "            x_in (int): The x-coordinate index for the chunk, which determines the chunk's location in the noise grid.\n",
    "            y_in (int): The y-coordinate index for the chunk, which determines the chunk's location in the noise grid.\n",
    "            iterations (int): The number of levels of detail or layers to add to the noise. Higher values create more detailed noise.\n",
    "            size (int): The scale factor for the noise. Larger values make the noise features larger.\n",
    "            disparity (int, optional): The number of smoothing iterations applied to the generated noise values. Defaults to 3.\n",
    "\n",
    "        Returns:\n",
    "            np.ndarray: A 2D array of floats representing the generated noise values, normalized and smoothed.\n",
    "\n",
    "        Details:\n",
    "            1. The noise is generated using the OpenSimplex algorithm. For each iteration, the noise is calculated at different scales \n",
    "            and added to the `noise_array` with decreasing impact for each iteration.\n",
    "            2. The noise values are normalized based on the maximum possible summed noise value across all iterations.\n",
    "            3. After generating the noise, the function applies sinusoidal smoothing multiple times (based on the `disparity` value) to \n",
    "            create smoother transitions in the noise.\n",
    "            4. The output is a chunk of noise, determined by the size of the chunk (`self.CHUNK_SIZE`) and its position (`x_in`, `y_in`).\n",
    "\n",
    "        Example:\n",
    "            noise = getNoiseArray(seed=42, x_in=1, y_in=2, iterations=4, size=100, disparity=3)\n",
    "        \"\"\"\n",
    "        x = self.CHUNK_SIZE*x_in\n",
    "        y = self.CHUNK_SIZE*y_in\n",
    "        opensimplex.seed(seed)\n",
    "\n",
    "        rango = range(0,self.CHUNK_SIZE)\n",
    "        noise_array = np.zeros(dtype=float, shape=(self.CHUNK_SIZE, self.CHUNK_SIZE))\n",
    "\n",
    "        for r in range(iterations):\n",
    "            divisor = (size/2**r)\n",
    "            exponenciador = (2**r)\n",
    "            for i in rango:\n",
    "                for j in rango:\n",
    "                    noise_array[j, i] += opensimplex.noise2(x=(i+x)/divisor, y=(y+j)/divisor)/exponenciador\n",
    "        \n",
    "        maximo = sum([2/(2**r) for r in range(iterations)])\n",
    "        for i in rango:\n",
    "            for j in rango:\n",
    "                valor = (noise_array[j, i] + maximo)/(2*maximo)     \n",
    "                for r in range(disparity):\n",
    "                    valor = 0.5 + math.sin(math.pi*valor - math.pi/2)/2\n",
    "                noise_array[j, i] = valor\n",
    "        return noise_array\n",
    "    \n",
    "    def getBioma(self, temp, altu, hume):\n",
    "        \"\"\"\n",
    "        Determines the biome type based on temperature, altitude, and humidity.\n",
    "\n",
    "        Args:\n",
    "            temp (float): The temperature value, expected to be in the range [0, 1].\n",
    "            altu (float): The altitude value, expected to be in the range [0, 1].\n",
    "            hume (float): The humidity value, expected to be in the range [0, 1].\n",
    "\n",
    "        Returns:\n",
    "            int: An integer representing the biome type.\n",
    "                 0 - Ocean\n",
    "                 1 - Deep Ocean\n",
    "                 Other values are determined by the CERCANIA_BIOMAS lookup table.\n",
    "        \"\"\"\n",
    "        if(altu < 0.5):\n",
    "            if (altu <= 0.4):\n",
    "                return 0 #Oceano\n",
    "            else:\n",
    "                return 1 #Oceano profundo\n",
    "        else:\n",
    "            alt = math.floor(128*(altu-0.5)*2)\n",
    "            temp = math.floor(128*temp)\n",
    "            hum = math.floor(128*hume)\n",
    "            return self.CERCANIA_BIOMAS[hum, alt, temp]\n",
    "\n",
    "    def getChunk(self, x: int, y: int):\n",
    "        \"\"\"\n",
    "        Retrieves or generates a chunk of terrain data based on the given coordinates.\n",
    "\n",
    "        If the chunk data already exists in the specified file path, it loads and returns the data.\n",
    "        Otherwise, it generates new terrain data using Perlin noise, saves it to the file path, and returns the generated data.\n",
    "\n",
    "        Parameters:\n",
    "        x (int): The x-coordinate of the chunk.\n",
    "        y (int): The y-coordinate of the chunk.\n",
    "\n",
    "        Returns:\n",
    "        numpy.ndarray: A 2D array representing the terrain data for the specified chunk.\n",
    "        \"\"\"\n",
    "        if os.path.exists(f\"./Chunks/T_{self.SEEDTEMP}A_{self.SEEDTEMP}H_{self.SEEDTEMP}/{x}/{y}.npy\"):\n",
    "            return np.load(f\"./Chunks/T_{self.SEEDTEMP}A_{self.SEEDTEMP}H_{self.SEEDTEMP}/{x}/{y}.npy\")\n",
    "        else:\n",
    "            temp = self.getNoiseArray(self.SEEDTEMP, x, y, 3, 128, 2)\n",
    "            altu = self.getNoiseArray(self.SEEDALTU, x, y, 6, 512, 4)\n",
    "            hume = self.getNoiseArray(self.SEEDHUME, x, y, 3, 256, 2)\n",
    "            array_biomas = np.zeros(dtype=np.uint8, shape=(self.CHUNK_SIZE,self.CHUNK_SIZE))\n",
    "\n",
    "            for i in range(self.CHUNK_SIZE):\n",
    "                for j in range(self.CHUNK_SIZE):\n",
    "                    array_biomas[i, j] = self.getBioma(hume[i, j], altu[i, j], temp[i, j])\n",
    "            os.makedirs(f\"./Chunks/T_{self.SEEDTEMP}A_{self.SEEDTEMP}H_{self.SEEDTEMP}/{x}\", exist_ok=True)\n",
    "            np.save(f\"./Chunks/T_{self.SEEDTEMP}A_{self.SEEDTEMP}H_{self.SEEDTEMP}/{x}/{y}\", array_biomas)\n",
    "            return array_biomas\n",
    "    \n",
    "    def getChunksInRange(self, x_range: tuple[int, int], y_range: tuple[int, int]):\n",
    "        \"\"\"\n",
    "        Generates a 2D array of chunks within the specified x and y ranges.\n",
    "        This method creates and starts multiple processes to generate chunks in parallel,\n",
    "        then joins the processes and combines the resulting chunks into a single 2D array.\n",
    "        Args:\n",
    "            x_range (tuple[int, int]): A tuple specifying the start and end of the x range.\n",
    "            y_range (tuple[int, int]): A tuple specifying the start and end of the y range.\n",
    "        Returns:\n",
    "            numpy.ndarray: A 2D array containing the combined chunks.\n",
    "        \"\"\"\n",
    "        arr = None\n",
    "        for i in range(x_range[0], x_range[1]):\n",
    "            arr_proc = []\n",
    "            for j in range(y_range[0], y_range[1]):\n",
    "                arr_proc.append(mp.Process(target=self.getChunk, args=(i, j)))\n",
    "                arr_proc[-1].start()\n",
    "            for proc in arr_proc:\n",
    "                proc.join()\n",
    "\n",
    "            arr_line = None\n",
    "            for j in range(y_range[0], y_range[1]):\n",
    "                if arr_line is None:\n",
    "                    arr_line = self.getChunk(i, j)\n",
    "                else:\n",
    "                    arr_line = np.vstack((arr_line, self.getChunk(i, j)))\n",
    "\n",
    "            if arr is None:\n",
    "                arr = arr_line\n",
    "            else:\n",
    "                arr = np.hstack((arr, arr_line))\n",
    "        return arr\n",
    "\n",
    "    def representation(self, x_range: tuple[int, int], y_range: tuple[int, int]):\n",
    "        \"\"\"\n",
    "        Generates a visual representation of the terrain based on Perlin noise.\n",
    "        Args:\n",
    "            x_range (tuple[int, int]): The range of x-coordinates to generate the terrain for.\n",
    "            y_range (tuple[int, int]): The range of y-coordinates to generate the terrain for.\n",
    "        Returns:\n",
    "            np.ndarray: A 3D numpy array representing the RGB values of the terrain.\n",
    "        The function performs the following steps:\n",
    "        1. Retrieves the terrain chunks within the specified x and y ranges.\n",
    "        2. Initializes an empty array to store the RGB values of the terrain.\n",
    "        3. Iterates through the terrain chunks and assigns the corresponding RGB values from the BIOMAS dictionary.\n",
    "        4. Creates an image of the terrain using Plotly's imshow function.\n",
    "        5. Adjusts the figure size to match the dimensions of the terrain array.\n",
    "        6. Adds a legend to the figure, representing different biomes with their respective colors.\n",
    "        7. Displays the figure.\n",
    "        8. Returns the RGB array of the terrain.\n",
    "        \"\"\"\n",
    "        arr = self.getChunksInRange(x_range, y_range)\n",
    "        arr2 = np.zeros((arr.shape[0], arr.shape[1], 3), dtype=np.uint8)\n",
    "\n",
    "        for i in range(arr.shape[0]):\n",
    "            for j in range(arr.shape[1]):\n",
    "                arr2[i, j] = generator.BIOMAS[arr[i, j]][2]\n",
    "        \n",
    "        fig = px.imshow(arr2)\n",
    "        fig.update_layout(width=arr.shape[0], height=arr.shape[1])  # Adjust the figure size here\n",
    "\n",
    "        # Add legend\n",
    "        legend_items = []\n",
    "        for key, value in generator.BIOMAS.items():\n",
    "            legend_items.append(\n",
    "                dict(\n",
    "                    name=value[1],\n",
    "                    marker=dict(color=f\"rgb{value[2]}\", size=20),\n",
    "                    mode='markers',\n",
    "                    type='scatter',\n",
    "                    x=[None],\n",
    "                    y=[None]\n",
    "                )\n",
    "            )\n",
    "        fig.add_traces(legend_items)\n",
    "        fig.show()\n",
    "        return arr2\n",
    "    \n",
    "    def poisson_disc_sampling(width: int, height: int, radius: int, k: int):\n",
    "        \"\"\"\n",
    "        Generates a 2D grid of points using Poisson-disc sampling.\n",
    "\n",
    "        Parameters:\n",
    "        width (int): The width of the grid.\n",
    "        height (int): The height of the grid.\n",
    "        radius (float): The minimum distance between points.\n",
    "        k (int): The number of attempts to generate a valid point around an existing point.\n",
    "\n",
    "        Returns:\n",
    "        numpy.ndarray: A 2D numpy array where cells with a point are marked with 1, and empty cells are marked with 0.\n",
    "\n",
    "        Notes:\n",
    "        - The algorithm uses a grid to keep track of points and their neighbors.\n",
    "        - The grid cells are sized such that each cell can contain at most one point.\n",
    "        - The algorithm starts with a random initial point and iteratively generates new points around active points.\n",
    "        - If a valid point is found within the specified number of attempts, it is added to the list of points and marked as active.\n",
    "        - If no valid point is found, the active point is removed from the list.\n",
    "        \"\"\"\n",
    "        GRID_SIZE = radius / math.sqrt(2)\n",
    "        columnas, filas = width // GRID_SIZE, height // GRID_SIZE\n",
    "\n",
    "        def distance(p1, p2):\n",
    "            return np.hypot(p1[0] - p2[0], p1[1] - p2[1])\n",
    "\n",
    "        def generate_point_around(point):\n",
    "            r = radius * (random.random() + 1)\n",
    "            angle = 2 * math.pi * random.random()\n",
    "            new_x = point[0] + r * math.cos(angle)\n",
    "            new_y = point[1] + r * math.sin(angle)\n",
    "            return new_x, new_y\n",
    "\n",
    "        def in_bounds(point):\n",
    "            return 0 <= point[0] < width and 0 <= point[1] < height\n",
    "\n",
    "        def fits(point):\n",
    "            col = int(point[0] / GRID_SIZE)\n",
    "            row = int(point[1] / GRID_SIZE)\n",
    "            for i in range(max(col - 2, 0), min(col + 3, columnas)):\n",
    "                for j in range(max(row - 2, 0), min(row + 3, filas)):\n",
    "                    neighbor = grid[i, j]\n",
    "                    if neighbor is not None and distance(point, neighbor) < radius:\n",
    "                        return False\n",
    "            return True\n",
    "\n",
    "        def restart_simulation(start_point):\n",
    "            nonlocal grid, active, points\n",
    "            grid = np.empty((columnas, filas), dtype=object)\n",
    "            points = [start_point]\n",
    "            active = [start_point]\n",
    "            col = int(start_point[0] / GRID_SIZE)\n",
    "            row = int(start_point[1] / GRID_SIZE)\n",
    "            grid[col, row] = start_point\n",
    "\n",
    "        # Create a grid to store points\n",
    "        grid = np.empty((columnas, filas), dtype=object)\n",
    "\n",
    "        # List to store active points\n",
    "        active = []\n",
    "        points = []\n",
    "\n",
    "        # Initialize with a random point\n",
    "        initial_point = (random.uniform(0, width), random.uniform(0, height))\n",
    "        restart_simulation(initial_point)\n",
    "\n",
    "        # Main loop\n",
    "        while active:\n",
    "            rand_index = random.randint(0, len(active) - 1)\n",
    "            point = active[rand_index]\n",
    "            found = False\n",
    "\n",
    "            for _ in range(k):\n",
    "                new_point = generate_point_around(point)\n",
    "                if in_bounds(new_point) and fits(new_point):\n",
    "                    points.append(new_point)\n",
    "                    active.append(new_point)\n",
    "                    col = int(new_point[0] / GRID_SIZE)\n",
    "                    row = int(new_point[1] / GRID_SIZE)\n",
    "                    grid[col][row] = new_point\n",
    "                    found = True\n",
    "                    break\n",
    "\n",
    "            if not found:\n",
    "                active.pop(rand_index)\n",
    "                # Create a 2D numpy array representation\n",
    "        matrix = np.zeros((height, width), dtype=np.uint8)\n",
    "        for p in points:\n",
    "            x, y = int(p[0]), int(p[1])\n",
    "            matrix[y, x] = 1\n",
    "\n",
    "        return matrix\n"
   ]
  },
  {
   "cell_type": "code",
   "execution_count": 5,
   "metadata": {},
   "outputs": [],
   "source": [
    "a = generator(1,2,3)"
   ]
  },
  {
   "cell_type": "code",
   "execution_count": 6,
   "metadata": {},
   "outputs": [
    {
     "data": {
      "application/vnd.plotly.v1+json": {
       "config": {
        "plotlyServerURL": "https://plot.ly"
       },
       "data": [
        {
         "hovertemplate": "x: %{x}<br>y: %{y}<br>color: [%{z[0]}, %{z[1]}, %{z[2]}]<extra></extra>",
         "name": "0",
         "source": "data:image/png;base64,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",
         "type": "image",
         "xaxis": "x",
         "yaxis": "y"
        },
        {
         "marker": {
          "color": "rgb(56, 148, 194)",
          "size": 20
         },
         "mode": "markers",
         "name": "Oceano",
         "type": "scatter",
         "x": [
          null
         ],
         "y": [
          null
         ]
        },
        {
         "marker": {
          "color": "rgb(27, 59, 140)",
          "size": 20
         },
         "mode": "markers",
         "name": "Oceano profundo",
         "type": "scatter",
         "x": [
          null
         ],
         "y": [
          null
         ]
        },
        {
         "marker": {
          "color": "rgb(126, 180, 237)",
          "size": 20
         },
         "mode": "markers",
         "name": "Rios y lagos",
         "type": "scatter",
         "x": [
          null
         ],
         "y": [
          null
         ]
        },
        {
         "marker": {
          "color": "rgb(245, 240, 108)",
          "size": 20
         },
         "mode": "markers",
         "name": "Costa",
         "type": "scatter",
         "x": [
          null
         ],
         "y": [
          null
         ]
        },
        {
         "marker": {
          "color": "rgb(171, 222, 32)",
          "size": 20
         },
         "mode": "markers",
         "name": "Marismas",
         "type": "scatter",
         "x": [
          null
         ],
         "y": [
          null
         ]
        },
        {
         "marker": {
          "color": "rgb(250, 250, 250)",
          "size": 20
         },
         "mode": "markers",
         "name": "Polo",
         "type": "scatter",
         "x": [
          null
         ],
         "y": [
          null
         ]
        },
        {
         "marker": {
          "color": "rgb(33, 133, 99)",
          "size": 20
         },
         "mode": "markers",
         "name": "Pantano",
         "type": "scatter",
         "x": [
          null
         ],
         "y": [
          null
         ]
        },
        {
         "marker": {
          "color": "rgb(53, 118, 43)",
          "size": 20
         },
         "mode": "markers",
         "name": "Bosque",
         "type": "scatter",
         "x": [
          null
         ],
         "y": [
          null
         ]
        },
        {
         "marker": {
          "color": "rgb(0, 183, 10)",
          "size": 20
         },
         "mode": "markers",
         "name": "Selva",
         "type": "scatter",
         "x": [
          null
         ],
         "y": [
          null
         ]
        },
        {
         "marker": {
          "color": "rgb(128, 179, 30)",
          "size": 20
         },
         "mode": "markers",
         "name": "Dehesa",
         "type": "scatter",
         "x": [
          null
         ],
         "y": [
          null
         ]
        },
        {
         "marker": {
          "color": "rgb(228, 125, 28)",
          "size": 20
         },
         "mode": "markers",
         "name": "Savana",
         "type": "scatter",
         "x": [
          null
         ],
         "y": [
          null
         ]
        },
        {
         "marker": {
          "color": "rgb(39, 156, 121)",
          "size": 20
         },
         "mode": "markers",
         "name": "Termales",
         "type": "scatter",
         "x": [
          null
         ],
         "y": [
          null
         ]
        },
        {
         "marker": {
          "color": "rgb(255, 211, 29)",
          "size": 20
         },
         "mode": "markers",
         "name": "Desierto",
         "type": "scatter",
         "x": [
          null
         ],
         "y": [
          null
         ]
        },
        {
         "marker": {
          "color": "rgb(144, 219, 148)",
          "size": 20
         },
         "mode": "markers",
         "name": "Valle",
         "type": "scatter",
         "x": [
          null
         ],
         "y": [
          null
         ]
        },
        {
         "marker": {
          "color": "rgb(110, 88, 66)",
          "size": 20
         },
         "mode": "markers",
         "name": "Meseta",
         "type": "scatter",
         "x": [
          null
         ],
         "y": [
          null
         ]
        },
        {
         "marker": {
          "color": "rgb(208, 208, 240)",
          "size": 20
         },
         "mode": "markers",
         "name": "Tundra",
         "type": "scatter",
         "x": [
          null
         ],
         "y": [
          null
         ]
        },
        {
         "marker": {
          "color": "rgb(159, 16, 16)",
          "size": 20
         },
         "mode": "markers",
         "name": "Volcanico",
         "type": "scatter",
         "x": [
          null
         ],
         "y": [
          null
         ]
        },
        {
         "marker": {
          "color": "rgb(125, 125, 125)",
          "size": 20
         },
         "mode": "markers",
         "name": "Montaña",
         "type": "scatter",
         "x": [
          null
         ],
         "y": [
          null
         ]
        }
       ],
       "layout": {
        "height": 1536,
        "margin": {
         "t": 60
        },
        "template": {
         "data": {
          "bar": [
           {
            "error_x": {
             "color": "#2a3f5f"
            },
            "error_y": {
             "color": "#2a3f5f"
            },
            "marker": {
             "line": {
              "color": "#E5ECF6",
              "width": 0.5
             },
             "pattern": {
              "fillmode": "overlay",
              "size": 10,
              "solidity": 0.2
             }
            },
            "type": "bar"
           }
          ],
          "barpolar": [
           {
            "marker": {
             "line": {
              "color": "#E5ECF6",
              "width": 0.5
             },
             "pattern": {
              "fillmode": "overlay",
              "size": 10,
              "solidity": 0.2
             }
            },
            "type": "barpolar"
           }
          ],
          "carpet": [
           {
            "aaxis": {
             "endlinecolor": "#2a3f5f",
             "gridcolor": "white",
             "linecolor": "white",
             "minorgridcolor": "white",
             "startlinecolor": "#2a3f5f"
            },
            "baxis": {
             "endlinecolor": "#2a3f5f",
             "gridcolor": "white",
             "linecolor": "white",
             "minorgridcolor": "white",
             "startlinecolor": "#2a3f5f"
            },
            "type": "carpet"
           }
          ],
          "choropleth": [
           {
            "colorbar": {
             "outlinewidth": 0,
             "ticks": ""
            },
            "type": "choropleth"
           }
          ],
          "contour": [
           {
            "colorbar": {
             "outlinewidth": 0,
             "ticks": ""
            },
            "colorscale": [
             [
              0,
              "#0d0887"
             ],
             [
              0.1111111111111111,
              "#46039f"
             ],
             [
              0.2222222222222222,
              "#7201a8"
             ],
             [
              0.3333333333333333,
              "#9c179e"
             ],
             [
              0.4444444444444444,
              "#bd3786"
             ],
             [
              0.5555555555555556,
              "#d8576b"
             ],
             [
              0.6666666666666666,
              "#ed7953"
             ],
             [
              0.7777777777777778,
              "#fb9f3a"
             ],
             [
              0.8888888888888888,
              "#fdca26"
             ],
             [
              1,
              "#f0f921"
             ]
            ],
            "type": "contour"
           }
          ],
          "contourcarpet": [
           {
            "colorbar": {
             "outlinewidth": 0,
             "ticks": ""
            },
            "type": "contourcarpet"
           }
          ],
          "heatmap": [
           {
            "colorbar": {
             "outlinewidth": 0,
             "ticks": ""
            },
            "colorscale": [
             [
              0,
              "#0d0887"
             ],
             [
              0.1111111111111111,
              "#46039f"
             ],
             [
              0.2222222222222222,
              "#7201a8"
             ],
             [
              0.3333333333333333,
              "#9c179e"
             ],
             [
              0.4444444444444444,
              "#bd3786"
             ],
             [
              0.5555555555555556,
              "#d8576b"
             ],
             [
              0.6666666666666666,
              "#ed7953"
             ],
             [
              0.7777777777777778,
              "#fb9f3a"
             ],
             [
              0.8888888888888888,
              "#fdca26"
             ],
             [
              1,
              "#f0f921"
             ]
            ],
            "type": "heatmap"
           }
          ],
          "heatmapgl": [
           {
            "colorbar": {
             "outlinewidth": 0,
             "ticks": ""
            },
            "colorscale": [
             [
              0,
              "#0d0887"
             ],
             [
              0.1111111111111111,
              "#46039f"
             ],
             [
              0.2222222222222222,
              "#7201a8"
             ],
             [
              0.3333333333333333,
              "#9c179e"
             ],
             [
              0.4444444444444444,
              "#bd3786"
             ],
             [
              0.5555555555555556,
              "#d8576b"
             ],
             [
              0.6666666666666666,
              "#ed7953"
             ],
             [
              0.7777777777777778,
              "#fb9f3a"
             ],
             [
              0.8888888888888888,
              "#fdca26"
             ],
             [
              1,
              "#f0f921"
             ]
            ],
            "type": "heatmapgl"
           }
          ],
          "histogram": [
           {
            "marker": {
             "pattern": {
              "fillmode": "overlay",
              "size": 10,
              "solidity": 0.2
             }
            },
            "type": "histogram"
           }
          ],
          "histogram2d": [
           {
            "colorbar": {
             "outlinewidth": 0,
             "ticks": ""
            },
            "colorscale": [
             [
              0,
              "#0d0887"
             ],
             [
              0.1111111111111111,
              "#46039f"
             ],
             [
              0.2222222222222222,
              "#7201a8"
             ],
             [
              0.3333333333333333,
              "#9c179e"
             ],
             [
              0.4444444444444444,
              "#bd3786"
             ],
             [
              0.5555555555555556,
              "#d8576b"
             ],
             [
              0.6666666666666666,
              "#ed7953"
             ],
             [
              0.7777777777777778,
              "#fb9f3a"
             ],
             [
              0.8888888888888888,
              "#fdca26"
             ],
             [
              1,
              "#f0f921"
             ]
            ],
            "type": "histogram2d"
           }
          ],
          "histogram2dcontour": [
           {
            "colorbar": {
             "outlinewidth": 0,
             "ticks": ""
            },
            "colorscale": [
             [
              0,
              "#0d0887"
             ],
             [
              0.1111111111111111,
              "#46039f"
             ],
             [
              0.2222222222222222,
              "#7201a8"
             ],
             [
              0.3333333333333333,
              "#9c179e"
             ],
             [
              0.4444444444444444,
              "#bd3786"
             ],
             [
              0.5555555555555556,
              "#d8576b"
             ],
             [
              0.6666666666666666,
              "#ed7953"
             ],
             [
              0.7777777777777778,
              "#fb9f3a"
             ],
             [
              0.8888888888888888,
              "#fdca26"
             ],
             [
              1,
              "#f0f921"
             ]
            ],
            "type": "histogram2dcontour"
           }
          ],
          "mesh3d": [
           {
            "colorbar": {
             "outlinewidth": 0,
             "ticks": ""
            },
            "type": "mesh3d"
           }
          ],
          "parcoords": [
           {
            "line": {
             "colorbar": {
              "outlinewidth": 0,
              "ticks": ""
             }
            },
            "type": "parcoords"
           }
          ],
          "pie": [
           {
            "automargin": true,
            "type": "pie"
           }
          ],
          "scatter": [
           {
            "fillpattern": {
             "fillmode": "overlay",
             "size": 10,
             "solidity": 0.2
            },
            "type": "scatter"
           }
          ],
          "scatter3d": [
           {
            "line": {
             "colorbar": {
              "outlinewidth": 0,
              "ticks": ""
             }
            },
            "marker": {
             "colorbar": {
              "outlinewidth": 0,
              "ticks": ""
             }
            },
            "type": "scatter3d"
           }
          ],
          "scattercarpet": [
           {
            "marker": {
             "colorbar": {
              "outlinewidth": 0,
              "ticks": ""
             }
            },
            "type": "scattercarpet"
           }
          ],
          "scattergeo": [
           {
            "marker": {
             "colorbar": {
              "outlinewidth": 0,
              "ticks": ""
             }
            },
            "type": "scattergeo"
           }
          ],
          "scattergl": [
           {
            "marker": {
             "colorbar": {
              "outlinewidth": 0,
              "ticks": ""
             }
            },
            "type": "scattergl"
           }
          ],
          "scattermapbox": [
           {
            "marker": {
             "colorbar": {
              "outlinewidth": 0,
              "ticks": ""
             }
            },
            "type": "scattermapbox"
           }
          ],
          "scatterpolar": [
           {
            "marker": {
             "colorbar": {
              "outlinewidth": 0,
              "ticks": ""
             }
            },
            "type": "scatterpolar"
           }
          ],
          "scatterpolargl": [
           {
            "marker": {
             "colorbar": {
              "outlinewidth": 0,
              "ticks": ""
             }
            },
            "type": "scatterpolargl"
           }
          ],
          "scatterternary": [
           {
            "marker": {
             "colorbar": {
              "outlinewidth": 0,
              "ticks": ""
             }
            },
            "type": "scatterternary"
           }
          ],
          "surface": [
           {
            "colorbar": {
             "outlinewidth": 0,
             "ticks": ""
            },
            "colorscale": [
             [
              0,
              "#0d0887"
             ],
             [
              0.1111111111111111,
              "#46039f"
             ],
             [
              0.2222222222222222,
              "#7201a8"
             ],
             [
              0.3333333333333333,
              "#9c179e"
             ],
             [
              0.4444444444444444,
              "#bd3786"
             ],
             [
              0.5555555555555556,
              "#d8576b"
             ],
             [
              0.6666666666666666,
              "#ed7953"
             ],
             [
              0.7777777777777778,
              "#fb9f3a"
             ],
             [
              0.8888888888888888,
              "#fdca26"
             ],
             [
              1,
              "#f0f921"
             ]
            ],
            "type": "surface"
           }
          ],
          "table": [
           {
            "cells": {
             "fill": {
              "color": "#EBF0F8"
             },
             "line": {
              "color": "white"
             }
            },
            "header": {
             "fill": {
              "color": "#C8D4E3"
             },
             "line": {
              "color": "white"
             }
            },
            "type": "table"
           }
          ]
         },
         "layout": {
          "annotationdefaults": {
           "arrowcolor": "#2a3f5f",
           "arrowhead": 0,
           "arrowwidth": 1
          },
          "autotypenumbers": "strict",
          "coloraxis": {
           "colorbar": {
            "outlinewidth": 0,
            "ticks": ""
           }
          },
          "colorscale": {
           "diverging": [
            [
             0,
             "#8e0152"
            ],
            [
             0.1,
             "#c51b7d"
            ],
            [
             0.2,
             "#de77ae"
            ],
            [
             0.3,
             "#f1b6da"
            ],
            [
             0.4,
             "#fde0ef"
            ],
            [
             0.5,
             "#f7f7f7"
            ],
            [
             0.6,
             "#e6f5d0"
            ],
            [
             0.7,
             "#b8e186"
            ],
            [
             0.8,
             "#7fbc41"
            ],
            [
             0.9,
             "#4d9221"
            ],
            [
             1,
             "#276419"
            ]
           ],
           "sequential": [
            [
             0,
             "#0d0887"
            ],
            [
             0.1111111111111111,
             "#46039f"
            ],
            [
             0.2222222222222222,
             "#7201a8"
            ],
            [
             0.3333333333333333,
             "#9c179e"
            ],
            [
             0.4444444444444444,
             "#bd3786"
            ],
            [
             0.5555555555555556,
             "#d8576b"
            ],
            [
             0.6666666666666666,
             "#ed7953"
            ],
            [
             0.7777777777777778,
             "#fb9f3a"
            ],
            [
             0.8888888888888888,
             "#fdca26"
            ],
            [
             1,
             "#f0f921"
            ]
           ],
           "sequentialminus": [
            [
             0,
             "#0d0887"
            ],
            [
             0.1111111111111111,
             "#46039f"
            ],
            [
             0.2222222222222222,
             "#7201a8"
            ],
            [
             0.3333333333333333,
             "#9c179e"
            ],
            [
             0.4444444444444444,
             "#bd3786"
            ],
            [
             0.5555555555555556,
             "#d8576b"
            ],
            [
             0.6666666666666666,
             "#ed7953"
            ],
            [
             0.7777777777777778,
             "#fb9f3a"
            ],
            [
             0.8888888888888888,
             "#fdca26"
            ],
            [
             1,
             "#f0f921"
            ]
           ]
          },
          "colorway": [
           "#636efa",
           "#EF553B",
           "#00cc96",
           "#ab63fa",
           "#FFA15A",
           "#19d3f3",
           "#FF6692",
           "#B6E880",
           "#FF97FF",
           "#FECB52"
          ],
          "font": {
           "color": "#2a3f5f"
          },
          "geo": {
           "bgcolor": "white",
           "lakecolor": "white",
           "landcolor": "#E5ECF6",
           "showlakes": true,
           "showland": true,
           "subunitcolor": "white"
          },
          "hoverlabel": {
           "align": "left"
          },
          "hovermode": "closest",
          "mapbox": {
           "style": "light"
          },
          "paper_bgcolor": "white",
          "plot_bgcolor": "#E5ECF6",
          "polar": {
           "angularaxis": {
            "gridcolor": "white",
            "linecolor": "white",
            "ticks": ""
           },
           "bgcolor": "#E5ECF6",
           "radialaxis": {
            "gridcolor": "white",
            "linecolor": "white",
            "ticks": ""
           }
          },
          "scene": {
           "xaxis": {
            "backgroundcolor": "#E5ECF6",
            "gridcolor": "white",
            "gridwidth": 2,
            "linecolor": "white",
            "showbackground": true,
            "ticks": "",
            "zerolinecolor": "white"
           },
           "yaxis": {
            "backgroundcolor": "#E5ECF6",
            "gridcolor": "white",
            "gridwidth": 2,
            "linecolor": "white",
            "showbackground": true,
            "ticks": "",
            "zerolinecolor": "white"
           },
           "zaxis": {
            "backgroundcolor": "#E5ECF6",
            "gridcolor": "white",
            "gridwidth": 2,
            "linecolor": "white",
            "showbackground": true,
            "ticks": "",
            "zerolinecolor": "white"
           }
          },
          "shapedefaults": {
           "line": {
            "color": "#2a3f5f"
           }
          },
          "ternary": {
           "aaxis": {
            "gridcolor": "white",
            "linecolor": "white",
            "ticks": ""
           },
           "baxis": {
            "gridcolor": "white",
            "linecolor": "white",
            "ticks": ""
           },
           "bgcolor": "#E5ECF6",
           "caxis": {
            "gridcolor": "white",
            "linecolor": "white",
            "ticks": ""
           }
          },
          "title": {
           "x": 0.05
          },
          "xaxis": {
           "automargin": true,
           "gridcolor": "white",
           "linecolor": "white",
           "ticks": "",
           "title": {
            "standoff": 15
           },
           "zerolinecolor": "white",
           "zerolinewidth": 2
          },
          "yaxis": {
           "automargin": true,
           "gridcolor": "white",
           "linecolor": "white",
           "ticks": "",
           "title": {
            "standoff": 15
           },
           "zerolinecolor": "white",
           "zerolinewidth": 2
          }
         }
        },
        "width": 1536,
        "xaxis": {
         "anchor": "y",
         "domain": [
          0,
          1
         ]
        },
        "yaxis": {
         "anchor": "x",
         "domain": [
          0,
          1
         ]
        }
       }
      }
     },
     "metadata": {},
     "output_type": "display_data"
    },
    {
     "data": {
      "text/plain": [
       "array([[[245, 240, 108],\n",
       "        [245, 240, 108],\n",
       "        [245, 240, 108],\n",
       "        ...,\n",
       "        [ 56, 148, 194],\n",
       "        [ 56, 148, 194],\n",
       "        [ 56, 148, 194]],\n",
       "\n",
       "       [[ 27,  59, 140],\n",
       "        [ 27,  59, 140],\n",
       "        [ 27,  59, 140],\n",
       "        ...,\n",
       "        [ 56, 148, 194],\n",
       "        [ 56, 148, 194],\n",
       "        [ 56, 148, 194]],\n",
       "\n",
       "       [[ 27,  59, 140],\n",
       "        [ 27,  59, 140],\n",
       "        [ 27,  59, 140],\n",
       "        ...,\n",
       "        [ 56, 148, 194],\n",
       "        [ 56, 148, 194],\n",
       "        [ 56, 148, 194]],\n",
       "\n",
       "       ...,\n",
       "\n",
       "       [[ 56, 148, 194],\n",
       "        [ 56, 148, 194],\n",
       "        [ 56, 148, 194],\n",
       "        ...,\n",
       "        [125, 125, 125],\n",
       "        [125, 125, 125],\n",
       "        [125, 125, 125]],\n",
       "\n",
       "       [[ 56, 148, 194],\n",
       "        [ 56, 148, 194],\n",
       "        [ 56, 148, 194],\n",
       "        ...,\n",
       "        [125, 125, 125],\n",
       "        [125, 125, 125],\n",
       "        [125, 125, 125]],\n",
       "\n",
       "       [[ 56, 148, 194],\n",
       "        [ 56, 148, 194],\n",
       "        [ 56, 148, 194],\n",
       "        ...,\n",
       "        [125, 125, 125],\n",
       "        [125, 125, 125],\n",
       "        [125, 125, 125]]], dtype=uint8)"
      ]
     },
     "execution_count": 6,
     "metadata": {},
     "output_type": "execute_result"
    }
   ],
   "source": [
    "a.representation((0,12),(0,12))"
   ]
  },
  {
   "cell_type": "code",
   "execution_count": 7,
   "metadata": {},
   "outputs": [],
   "source": [
    "a = generator(1,2,3)\n",
    "b = a.getChunk(0,0)\n",
    "b_noise_Temp = a.getNoiseArray(1, 0, 0, 5, 128, 2)\n",
    "b_noise_Altu = a.getNoiseArray(2, 0, 0, 3, 512, 4)\n",
    "b_noise_Hume = a.getNoiseArray(3, 0, 0, 3, 256, 2)"
   ]
  },
  {
   "cell_type": "code",
   "execution_count": 39,
   "metadata": {},
   "outputs": [],
   "source": [
    "def generate_random_matrix(object_number: int):\n",
    "    array = np.zeros(shape=(8, 8))\n",
    "    elements = set([r for r in range(64)])\n",
    "    while len(elements) != object_number:\n",
    "        actual = randint(0, 63)\n",
    "        if actual in elements:\n",
    "            elements.remove(actual)\n",
    "    for i in elements:\n",
    "        array[i // 8, i % 8] = 1\n",
    "    return array"
   ]
  },
  {
   "cell_type": "code",
   "execution_count": 42,
   "metadata": {},
   "outputs": [
    {
     "name": "stdout",
     "output_type": "stream",
     "text": [
      "[[0 0 0 0 0 1 0 0 0 0 1 0 1 0 0 0 0 1 1 0 1 0 0 0 0 0 0 0]\n",
      " [0 1 0 0 1 0 0 0 1 0 1 0 0 0 0 0 0 0 0 0 1 0 0 0 0 0 0 0]\n",
      " [0 0 1 1 0 0 1 0 0 0 0 0 1 1 1 0 1 1 0 0 0 0 0 0 0 0 0 0]\n",
      " [1 0 0 0 0 0 0 0 0 0 0 0 0 0 0 0 0 0 0 0 0 0 0 0 0 0 0 1]\n",
      " [0 0 0 1 0 0 0 0 0 0 0 0 0 0 0 1 0 1 0 1 0 0 0 0 1 0 0 0]\n",
      " [0 0 0 0 0 0 0 0 0 1 0 0 0 0 0 0 1 1 0 0 0 0 0 0 0 1 0 0]\n",
      " [0 0 0 0 0 0 0 1 0 0 1 1 0 0 0 0 0 0 0 0 1 0 0 0 0 0 0 1]\n",
      " [0 0 1 1 0 1 0 0 0 0 1 0 0 0 0 0 0 0 0 0 1 0 0 0 1 0 0 0]\n",
      " [0 0 0 0 1 0 1 0 0 0 0 0 0 0 0 0 0 0 0 1 0 0 0 0 1 0 0 0]\n",
      " [0 0 1 0 0 0 0 0 0 0 1 1 0 0 0 0 0 0 0 0 1 1 0 0 0 0 0 0]\n",
      " [1 1 0 0 1 0 0 0 0 1 0 0 0 0 0 0 0 1 0 0 1 0 1 0 0 0 0 0]\n",
      " [0 1 1 0 0 0 0 0 0 1 1 0 0 1 1 0 0 0 0 1 0 0 0 0 0 1 0 0]\n",
      " [0 0 0 0 1 1 0 0 0 0 0 0 0 0 1 0 0 0 0 0 0 0 1 0 0 0 0 0]\n",
      " [0 0 0 0 0 0 0 0 0 1 0 1 0 0 0 0 0 0 0 0 0 0 0 0 0 0 1 0]\n",
      " [0 1 0 0 1 0 0 0 1 0 0 0 0 0 0 0 0 0 1 0 1 1 0 0 0 0 0 1]\n",
      " [0 0 0 0 0 0 0 0 0 1 0 0 0 0 0 0 0 0 0 0 0 1 0 0 0 0 0 1]\n",
      " [0 0 0 1 0 0 0 0 0 0 1 0 0 0 0 0 0 0 1 0 0 0 0 0 0 0 0 0]\n",
      " [0 0 0 0 1 1 0 0 0 0 1 1 0 0 0 0 1 1 1 0 0 1 0 0 0 1 0 0]\n",
      " [0 0 0 0 0 0 0 0 0 0 1 0 0 0 0 0 0 0 0 0 0 1 0 0 0 0 0 0]\n",
      " [0 0 1 0 0 0 0 0 0 0 0 0 0 0 0 0 0 0 0 0 0 0 0 0 0 0 0 0]\n",
      " [0 0 0 0 1 0 1 0 0 0 0 1 0 0 0 1 0 0 0 0 0 0 0 0 0 0 0 0]\n",
      " [0 0 0 0 0 0 0 1 0 0 0 0 1 0 1 0 0 0 0 1 0 0 1 0 0 0 1 0]\n",
      " [0 0 0 0 0 0 0 1 0 0 0 1 1 1 0 0 0 0 0 1 0 0 0 0 0 0 0 1]\n",
      " [1 0 1 1 0 0 1 0 0 0 1 0 0 0 0 0 1 0 0 1 0 0 1 0 0 0 1 0]\n",
      " [0 0 0 0 0 0 0 0 1 0 0 0 0 0 0 0 0 0 0 1 0 0 0 0 0 0 0 0]\n",
      " [1 0 0 0 0 0 0 0 0 0 0 0 1 0 0 1 0 1 1 0 0 0 0 0 0 0 0 1]\n",
      " [0 0 0 0 0 0 0 0 0 0 0 0 1 0 1 0 1 0 0 1 0 0 0 0 0 0 0 0]\n",
      " [0 0 0 0 0 0 1 1 0 1 0 0 0 0 0 0 1 0 0 0 1 0 0 0 1 0 0 1]]\n"
     ]
    }
   ],
   "source": [
    "from collections import Counter\n",
    "\n",
    "arrdemo = np.empty(shape=(b.shape[0], b.shape[1]), dtype=np.uint8)\n",
    "for i in range(0, b.shape[0], 8):\n",
    "    for j in range(0, b.shape[1], 8):\n",
    "        ggg = generate_random_matrix(12)\n",
    "        arrdemo[i:i+8, j:j+8] = ggg\n",
    "print(arrdemo[0:28,0:28])"
   ]
  }
 ],
 "metadata": {
  "kernelspec": {
   "display_name": ".venv",
   "language": "python",
   "name": "python3"
  },
  "language_info": {
   "codemirror_mode": {
    "name": "ipython",
    "version": 3
   },
   "file_extension": ".py",
   "mimetype": "text/x-python",
   "name": "python",
   "nbconvert_exporter": "python",
   "pygments_lexer": "ipython3",
   "version": "3.12.3"
  }
 },
 "nbformat": 4,
 "nbformat_minor": 2
}
