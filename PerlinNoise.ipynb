{
 "cells": [
  {
   "cell_type": "code",
   "execution_count": 20,
   "metadata": {},
   "outputs": [],
   "source": [
    "import opensimplex\n",
    "import numpy as np\n",
    "import matplotlib.pyplot as plt\n",
    "import math\n",
    "from random import randint\n",
    "import os\n",
    "import multiprocessing as mp\n",
    "import plotly.express as px\n",
    "from random import randint, random, uniform"
   ]
  },
  {
   "cell_type": "markdown",
   "metadata": {},
   "source": [
    "biomas = np.empty(shape=(128,128,128), dtype=np.uint8)\n",
    "for i in range(128):\n",
    "    for j in range(128):\n",
    "        for k in range(128):\n",
    "            mejor = float('inf')\n",
    "            for r in generator.BIOMAS.keys():\n",
    "                a = np.linalg.norm(np.array(generator.BIOMAS[r][0]) - np.array([i/128, j/128, k/128]))\n",
    "                if a < mejor:\n",
    "                    mejor = a\n",
    "                    biomas[i, j, k] = r\n",
    "    print(i)\n",
    "print(biomas)\n",
    "np.save(f\"CERCANIA_BIOMAS.npy\", biomas)\n"
   ]
  },
  {
   "cell_type": "code",
   "execution_count": 207,
   "metadata": {},
   "outputs": [],
   "source": [
    "class generator:\n",
    "    #(Humedad altura temperatura), nombre del bioma, color, {objetos que pueden aparecer, probabilidades}\n",
    "    BIOMAS = {\n",
    "        0: ([-1, -1, -1], 'Oceano', (56, 148, 194), {}, ),\n",
    "        1: ([-1, -1, -1], 'Oceano profundo', (27, 59, 140), {}),\n",
    "        2: ([-1, -1, -1], 'Rios y lagos', (126, 180, 237), {}),\n",
    "        3: ([0.5, 0.0, 0.5], 'Costa', (245, 240, 108), {\"Palmera\": 0.7, \"Piedra pequeña\": 0.3}),\n",
    "        4: ([0.85, 0.05, 0.45], 'Marismas', (171, 222, 32), {\"Arbusto\": 1}),\n",
    "        5: ([0.75, 0.1, 0.05], 'Polo', (250, 250, 250), {\"Tempano\": 0.5, \"Piedra congelada\": 0.5}),\n",
    "        6: ([0.8, 0.15, 0.45], 'Pantano', (33, 133, 99), {\"Arbusto\": 0.2, \"Piedra pequeña\": 0.2, \"Arbol\": 0.6}),\n",
    "        7: ([0.5, 0.2, 0.5], 'Bosque', (53, 118, 43), {\"Arbol\": 0.6, \"Arbusto\": 0.2, \"Flores\": 0.2}),\n",
    "        8: ([0.6, 0.2, 0.55], 'Selva', (0, 183, 10), {\"Arbol\": 0.7, \"Helecho\": 0.3}),\n",
    "        9: ([0.35, 0.2, 0.55], 'Dehesa', (128, 179, 30), {\"Arbol\": 0.5, \"Arbusto\": 0.5}),\n",
    "        10: ([0.2, 0.2, 0.6], 'Savana', (228, 125, 28), {\"Arbol\": 0.3, \"Arbusto\": 0.7}),\n",
    "        12: ([0.75, 0.25, 0.75], 'Termales', (39, 156, 121), {\"Geiser\": 0.5, \"Piedra pequeña\": 0.5}),\n",
    "        11: ([0.0, 0.3, 0.8], 'Desierto', (255, 211, 29), {\"Cactus\": 0.7, \"Arbusto muerto\": 0.3}),\n",
    "        13: ([0.4, 0.4, 0.4], 'Valle', (144, 219, 148), {\"Arbol\": 0.8, \"Arbusto\": 0.2}),\n",
    "        14: ([0.2, 0.65, 0.55], 'Meseta', (110, 88, 66), {\"Roca grande\": 0.1, \"Arbusto\": 0.5, \"Roca pequeña\": 0.4}),\n",
    "        15: ([0.7, 0.8, 0.2], 'Tundra', (208, 208, 240), {\"Piedra pequeña\": 0.5, \"Flores\": 0.5}),\n",
    "        16: ([0.15, 0.8, 0.85], 'Volcanico', (159, 16, 16), {\"Arbol carbonizado\": 0.6, \"Charco de lava\": 0.4}),\n",
    "        17: ([0.35, 9, 0.35], 'Montaña', (125, 125, 125), {\"Roca grande\": 0.3, \"Roca pequeña\": 0.7}),\n",
    "    }\n",
    "    CHUNK_SIZE = 256\n",
    "    CERCANIA_BIOMAS = np.load(\"./CERCANIA_BIOMAS.npy\" )\n",
    "\n",
    "    def __init__(self, seedTemp = None, seedAltu = None, seedHume = None):\n",
    "        self.SEEDTEMP = seedTemp if seedTemp != None else randint(-2**30, 2**30)\n",
    "        self.SEEDALTU = seedAltu if seedTemp != None else randint(-2**30, 2**30)\n",
    "        self.SEEDHUME = seedHume if seedTemp != None else randint(-2**30, 2**30)\n",
    "\n",
    "    def getNoise(self, seed: int, x_in: int, y_in: int, iterations: int, size: int, disparity: int = 3) -> float:\n",
    "        \"\"\"\n",
    "        Generates Perlin noise based on the given parameters.\n",
    "        Args:\n",
    "            seed (int): The seed value for the noise generation.\n",
    "            x_in (int): The x-coordinate input for the noise function.\n",
    "            y_in (int): The y-coordinate input for the noise function.\n",
    "            iterations (int): The number of iterations to perform for noise generation.\n",
    "            size (int): The size parameter that affects the noise scale.\n",
    "            disparity (int, optional): The number of disparity adjustments to apply. Default is 3.\n",
    "        Returns:\n",
    "            float: The generated noise value, normalized between 0 and 1.\n",
    "        \"\"\"\n",
    "        opensimplex.seed(seed)\n",
    "        ruido = 0\n",
    "        for r in range(iterations):\n",
    "            divisor = (size/2**r)\n",
    "            exponenciador = (2**r)\n",
    "            ruido += opensimplex.noise2(x=(x_in)/divisor, y=(y_in)/divisor)/exponenciador\n",
    "            \n",
    "        maximo = sum([2/(2**r) for r in range(iterations)])\n",
    "        ruido = (ruido + maximo)/(2*maximo)     \n",
    "        for r in range(disparity):\n",
    "            ruido = 0.5 + math.sin(math.pi*ruido - math.pi/2)/2\n",
    "        return ruido\n",
    "\n",
    "    def getNoiseArray(self, seed: int, x_in: int, y_in: int, iterations: int, size: int, disparity: int = 3) -> np.ndarray:\n",
    "        \"\"\"\n",
    "        Generates a 2D noise array using OpenSimplex noise with multi-level detail and smoothing.\n",
    "\n",
    "        Args:\n",
    "            seed (int): The seed used to initialize the noise generation.\n",
    "            x_in (int): The x-coordinate index for the chunk, which determines the chunk's location in the noise grid.\n",
    "            y_in (int): The y-coordinate index for the chunk, which determines the chunk's location in the noise grid.\n",
    "            iterations (int): The number of levels of detail or layers to add to the noise. Higher values create more detailed noise.\n",
    "            size (int): The scale factor for the noise. Larger values make the noise features larger.\n",
    "            disparity (int, optional): The number of smoothing iterations applied to the generated noise values. Defaults to 3.\n",
    "\n",
    "        Returns:\n",
    "            np.ndarray: A 2D array of floats representing the generated noise values, normalized and smoothed.\n",
    "\n",
    "        Details:\n",
    "            1. The noise is generated using the OpenSimplex algorithm. For each iteration, the noise is calculated at different scales \n",
    "            and added to the `noise_array` with decreasing impact for each iteration.\n",
    "            2. The noise values are normalized based on the maximum possible summed noise value across all iterations.\n",
    "            3. After generating the noise, the function applies sinusoidal smoothing multiple times (based on the `disparity` value) to \n",
    "            create smoother transitions in the noise.\n",
    "            4. The output is a chunk of noise, determined by the size of the chunk (`self.CHUNK_SIZE`) and its position (`x_in`, `y_in`).\n",
    "\n",
    "        Example:\n",
    "            noise = getNoiseArray(seed=42, x_in=1, y_in=2, iterations=4, size=100, disparity=3)\n",
    "        \"\"\"\n",
    "        x = self.CHUNK_SIZE*x_in\n",
    "        y = self.CHUNK_SIZE*y_in\n",
    "        opensimplex.seed(seed)\n",
    "\n",
    "        rango = range(0,self.CHUNK_SIZE)\n",
    "        noise_array = np.zeros(dtype=float, shape=(self.CHUNK_SIZE, self.CHUNK_SIZE))\n",
    "\n",
    "        for r in range(iterations):\n",
    "            divisor = (size/2**r)\n",
    "            exponenciador = (2**r)\n",
    "            for i in rango:\n",
    "                for j in rango:\n",
    "                    noise_array[j, i] += opensimplex.noise2(x=(i+x)/divisor, y=(y+j)/divisor)/exponenciador\n",
    "        \n",
    "        maximo = sum([2/(2**r) for r in range(iterations)])\n",
    "        for i in rango:\n",
    "            for j in rango:\n",
    "                valor = (noise_array[j, i] + maximo)/(2*maximo)     \n",
    "                for r in range(disparity):\n",
    "                    valor = 0.5 + math.sin(math.pi*valor - math.pi/2)/2\n",
    "                noise_array[j, i] = valor\n",
    "        return noise_array\n",
    "    \n",
    "    def getBioma(self, temp, altu, hume) -> np.uint8:\n",
    "        \"\"\"\n",
    "        Determines the biome type based on temperature, altitude, and humidity.\n",
    "\n",
    "        Args:\n",
    "            temp (float): The temperature value, expected to be in the range [0, 1].\n",
    "            altu (float): The altitude value, expected to be in the range [0, 1].\n",
    "            hume (float): The humidity value, expected to be in the range [0, 1].\n",
    "\n",
    "        Returns:\n",
    "            int: An integer representing the biome type.\n",
    "                 0 - Ocean\n",
    "                 1 - Deep Ocean\n",
    "                 Other values are determined by the CERCANIA_BIOMAS lookup table.\n",
    "        \"\"\"\n",
    "        if(altu < 0.5):\n",
    "            if (altu <= 0.4):\n",
    "                return 1 #Oceano profundo\n",
    "            else:\n",
    "                return 0 #Oceano\n",
    "        else:\n",
    "            alt = math.floor(128*(altu-0.5)*2)\n",
    "            temp = math.floor(128*temp)\n",
    "            hum = math.floor(128*hume)\n",
    "            return np.uint8(self.CERCANIA_BIOMAS[hum, alt, temp])\n",
    "\n",
    "    def getChunk(self, x: int, y: int) -> np.ndarray:\n",
    "        \"\"\"\n",
    "        Retrieves or generates a chunk of terrain data based on the given coordinates.\n",
    "\n",
    "        If the chunk data already exists in the specified file path, it loads and returns the data.\n",
    "        Otherwise, it generates new terrain data using Perlin noise, saves it to the file path, and returns the generated data.\n",
    "\n",
    "        Parameters:\n",
    "        x (int): The x-coordinate of the chunk.\n",
    "        y (int): The y-coordinate of the chunk.\n",
    "\n",
    "        Returns:\n",
    "        numpy.ndarray: A 2D array representing the terrain data for the specified chunk.\n",
    "        \"\"\"\n",
    "        if os.path.exists(f\"./Chunks/T_{self.SEEDTEMP}A_{self.SEEDTEMP}H_{self.SEEDTEMP}/{x}/{y}.npy\"):\n",
    "            return np.load(f\"./Chunks/T_{self.SEEDTEMP}A_{self.SEEDTEMP}H_{self.SEEDTEMP}/{x}/{y}.npy\")\n",
    "        else:\n",
    "            temp = self.getNoiseArray(self.SEEDTEMP, x, y, 3, 128, 2)\n",
    "            altu = self.getNoiseArray(self.SEEDALTU, x, y, 6, 512, 4)\n",
    "            hume = self.getNoiseArray(self.SEEDHUME, x, y, 3, 256, 2)\n",
    "            array_biomas = np.zeros(dtype=np.uint8, shape=(self.CHUNK_SIZE,self.CHUNK_SIZE))\n",
    "\n",
    "            for i in range(self.CHUNK_SIZE):\n",
    "                for j in range(self.CHUNK_SIZE):\n",
    "                    array_biomas[i, j] = self.getBioma(hume[i, j], altu[i, j], temp[i, j])\n",
    "            os.makedirs(f\"./Chunks/T_{self.SEEDTEMP}A_{self.SEEDTEMP}H_{self.SEEDTEMP}/{x}\", exist_ok=True)\n",
    "            np.save(f\"./Chunks/T_{self.SEEDTEMP}A_{self.SEEDTEMP}H_{self.SEEDTEMP}/{x}/{y}\", array_biomas)\n",
    "            return array_biomas\n",
    "    \n",
    "    def getChunksInRange(self, x_range: tuple[int, int], y_range: tuple[int, int]) -> np.ndarray:\n",
    "        \"\"\"\n",
    "        Generates a 2D array of chunks within the specified x and y ranges.\n",
    "        This method creates and starts multiple processes to generate chunks in parallel,\n",
    "        then joins the processes and combines the resulting chunks into a single 2D array.\n",
    "        Args:\n",
    "            x_range (tuple[int, int]): A tuple specifying the start and end of the x range.\n",
    "            y_range (tuple[int, int]): A tuple specifying the start and end of the y range.\n",
    "        Returns:\n",
    "            numpy.ndarray: A 2D array containing the combined chunks.\n",
    "        \"\"\"\n",
    "        arr = None\n",
    "        for i in range(x_range[0], x_range[1]):\n",
    "            arr_proc = []\n",
    "            for j in range(y_range[0], y_range[1]):\n",
    "                arr_proc.append(mp.Process(target=self.getChunk, args=(i, j)))\n",
    "                arr_proc[-1].start()\n",
    "            for proc in arr_proc:\n",
    "                proc.join()\n",
    "\n",
    "            arr_line = None\n",
    "            for j in range(y_range[0], y_range[1]):\n",
    "                if arr_line is None:\n",
    "                    arr_line = self.getChunk(i, j)\n",
    "                else:\n",
    "                    arr_line = np.vstack((arr_line, self.getChunk(i, j)))\n",
    "\n",
    "            if arr is None:\n",
    "                arr = arr_line\n",
    "            else:\n",
    "                arr = np.hstack((arr, arr_line))\n",
    "        return arr\n",
    "\n",
    "    def representation(self, x_range: tuple[int, int], y_range: tuple[int, int]) -> None:\n",
    "        \"\"\"\n",
    "        Generates a visual representation of the terrain based on Perlin noise.\n",
    "        Args:\n",
    "            x_range (tuple[int, int]): The range of x-coordinates to generate the terrain for.\n",
    "            y_range (tuple[int, int]): The range of y-coordinates to generate the terrain for.\n",
    "        The function performs the following steps:\n",
    "        1. Retrieves the terrain chunks within the specified x and y ranges.\n",
    "        2. Initializes an empty array to store the RGB values of the terrain.\n",
    "        3. Iterates through the terrain chunks and assigns the corresponding RGB values from the BIOMAS dictionary.\n",
    "        4. Creates an image of the terrain using Plotly's imshow function.\n",
    "        5. Adjusts the figure size to match the dimensions of the terrain array.\n",
    "        6. Adds a legend to the figure, representing different biomes with their respective colors.\n",
    "        7. Displays the figure.\n",
    "        8. Returns the RGB array of the terrain.\n",
    "        \"\"\"\n",
    "        arr = self.getChunksInRange(x_range, y_range)\n",
    "        color_arr = np.zeros((arr.shape[0], arr.shape[1], 3), dtype=np.uint8)\n",
    "\n",
    "        for i in range(arr.shape[0]):\n",
    "            for j in range(arr.shape[1]):\n",
    "                color_arr[i, j] = generator.BIOMAS[arr[i, j]][2]\n",
    "        \n",
    "        fig = px.imshow(color_arr)\n",
    "        # Adjust the figure size here, considering the legend size\n",
    "        fig.update_layout(\n",
    "            width=arr.shape[1] + 300,  # Add extra width for the legend\n",
    "            height=arr.shape[0] + 300  # Add extra height for the legend\n",
    "        )\n",
    "\n",
    "        # Add legend\n",
    "        legend_items = []\n",
    "        for key, value in generator.BIOMAS.items():\n",
    "            legend_items.append(\n",
    "                dict(\n",
    "                    name=value[1],\n",
    "                    marker=dict(color=f\"rgb{value[2]}\", size=20),\n",
    "                    mode='markers',\n",
    "                    type='scatter',\n",
    "                    x=[None],\n",
    "                    y=[None]\n",
    "                )\n",
    "            )\n",
    "        fig.add_traces(legend_items)\n",
    "        fig.show()\n",
    "    \n",
    "    def poisson_disc_sampling(self, radius: int, k: int) -> np.ndarray:\n",
    "        \"\"\"\n",
    "        Generates a 2D grid of points using Poisson-disc sampling.\n",
    "\n",
    "        Parameters:\n",
    "        width (int): The width of the grid.\n",
    "        height (int): The height of the grid.\n",
    "        radius (float): The minimum distance between points.\n",
    "        k (int): The number of attempts to generate a valid point around an existing point.\n",
    "\n",
    "        Returns:\n",
    "        numpy.ndarray: A 2D numpy array where cells with a point are marked with 1, and empty cells are marked with 0.\n",
    "\n",
    "        Notes:\n",
    "        - The algorithm uses a grid to keep track of points and their neighbors.\n",
    "        - The grid cells are sized such that each cell can contain at most one point.\n",
    "        - The algorithm starts with a random initial point and iteratively generates new points around active points.\n",
    "        - If a valid point is found within the specified number of attempts, it is added to the list of points and marked as active.\n",
    "        - If no valid point is found, the active point is removed from the list.\n",
    "        \"\"\"\n",
    "        GRID_SIZE = int(radius / math.sqrt(2))\n",
    "        columnas, filas = self.CHUNK_SIZE // GRID_SIZE, self.CHUNK_SIZE // GRID_SIZE\n",
    "\n",
    "        def generate_point_around(point):\n",
    "            r = radius * (random() + 1)\n",
    "            angle = 2 * math.pi * random()\n",
    "            new_x = point[0] + r * math.cos(angle)\n",
    "            new_y = point[1] + r * math.sin(angle)\n",
    "            return new_x, new_y\n",
    "\n",
    "        def in_bounds(point):\n",
    "            return 0 <= point[0] < self.CHUNK_SIZE and 0 <= point[1] < self.CHUNK_SIZE\n",
    "\n",
    "        def fits(point):\n",
    "            col = int(point[0] / GRID_SIZE)\n",
    "            row = int(point[1] / GRID_SIZE)\n",
    "            for i in range(max(col - 2, 0), min(col + 3, columnas)):\n",
    "                for j in range(max(row - 2, 0), min(row + 3, filas)):\n",
    "                    neighbor = grid[i, j]\n",
    "                    if neighbor is not None and np.hypot(point[0] - neighbor[0], point[1] - neighbor[1]) < radius:\n",
    "                        return False\n",
    "            return True\n",
    "\n",
    "        def restart_simulation(start_point):\n",
    "            nonlocal grid, active, points\n",
    "            grid = np.empty((columnas, filas), dtype=object)\n",
    "            points = [start_point]\n",
    "            active = [start_point]\n",
    "            col = int(start_point[0] / GRID_SIZE)\n",
    "            row = int(start_point[1] / GRID_SIZE)\n",
    "            grid[col, row] = start_point\n",
    "\n",
    "        # Create a grid to store points\n",
    "        grid = np.zeros((columnas, filas), dtype=object)\n",
    "\n",
    "        # List to store active points\n",
    "        active = []\n",
    "        points = []\n",
    "\n",
    "        # Initialize with a random point\n",
    "        initial_point = (uniform(0, self.CHUNK_SIZE), uniform(0, self.CHUNK_SIZE))\n",
    "        restart_simulation(initial_point)\n",
    "\n",
    "        # Main loop\n",
    "        while active:\n",
    "            rand_index = randint(0, len(active) - 1)\n",
    "            point = active[rand_index]\n",
    "            found = False\n",
    "\n",
    "            for _ in range(k):\n",
    "                new_point = generate_point_around(point)\n",
    "                if in_bounds(new_point) and fits(new_point):\n",
    "                    points.append(new_point)\n",
    "                    active.append(new_point)\n",
    "                    col = int(new_point[0] / GRID_SIZE)\n",
    "                    row = int(new_point[1] / GRID_SIZE)\n",
    "                    grid[col, row] = new_point\n",
    "                    found = True\n",
    "                    break\n",
    "\n",
    "            if not found:\n",
    "                active.pop(rand_index)\n",
    "                # Create a 2D numpy array representation\n",
    "        matrix = np.zeros((self.CHUNK_SIZE, self.CHUNK_SIZE), dtype=np.uint8)\n",
    "        for p in points:\n",
    "            x, y = int(p[0]), int(p[1])\n",
    "            matrix[y, x] = 1\n",
    "\n",
    "        return matrix\n"
   ]
  },
  {
   "cell_type": "code",
   "execution_count": 208,
   "metadata": {},
   "outputs": [],
   "source": [
    "a = generator(2,2,3)"
   ]
  },
  {
   "cell_type": "code",
   "execution_count": 209,
   "metadata": {},
   "outputs": [
    {
     "data": {
      "application/vnd.plotly.v1+json": {
       "config": {
        "plotlyServerURL": "https://plot.ly"
       },
       "data": [
        {
         "hovertemplate": "x: %{x}<br>y: %{y}<br>color: [%{z[0]}, %{z[1]}, %{z[2]}]<extra></extra>",
         "name": "0",
         "source": "data:image/png;base64,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",
         "type": "image",
         "xaxis": "x",
         "yaxis": "y"
        },
        {
         "marker": {
          "color": "rgb(56, 148, 194)",
          "size": 20
         },
         "mode": "markers",
         "name": "Oceano",
         "type": "scatter",
         "x": [
          null
         ],
         "y": [
          null
         ]
        },
        {
         "marker": {
          "color": "rgb(27, 59, 140)",
          "size": 20
         },
         "mode": "markers",
         "name": "Oceano profundo",
         "type": "scatter",
         "x": [
          null
         ],
         "y": [
          null
         ]
        },
        {
         "marker": {
          "color": "rgb(126, 180, 237)",
          "size": 20
         },
         "mode": "markers",
         "name": "Rios y lagos",
         "type": "scatter",
         "x": [
          null
         ],
         "y": [
          null
         ]
        },
        {
         "marker": {
          "color": "rgb(245, 240, 108)",
          "size": 20
         },
         "mode": "markers",
         "name": "Costa",
         "type": "scatter",
         "x": [
          null
         ],
         "y": [
          null
         ]
        },
        {
         "marker": {
          "color": "rgb(171, 222, 32)",
          "size": 20
         },
         "mode": "markers",
         "name": "Marismas",
         "type": "scatter",
         "x": [
          null
         ],
         "y": [
          null
         ]
        },
        {
         "marker": {
          "color": "rgb(250, 250, 250)",
          "size": 20
         },
         "mode": "markers",
         "name": "Polo",
         "type": "scatter",
         "x": [
          null
         ],
         "y": [
          null
         ]
        },
        {
         "marker": {
          "color": "rgb(33, 133, 99)",
          "size": 20
         },
         "mode": "markers",
         "name": "Pantano",
         "type": "scatter",
         "x": [
          null
         ],
         "y": [
          null
         ]
        },
        {
         "marker": {
          "color": "rgb(53, 118, 43)",
          "size": 20
         },
         "mode": "markers",
         "name": "Bosque",
         "type": "scatter",
         "x": [
          null
         ],
         "y": [
          null
         ]
        },
        {
         "marker": {
          "color": "rgb(0, 183, 10)",
          "size": 20
         },
         "mode": "markers",
         "name": "Selva",
         "type": "scatter",
         "x": [
          null
         ],
         "y": [
          null
         ]
        },
        {
         "marker": {
          "color": "rgb(128, 179, 30)",
          "size": 20
         },
         "mode": "markers",
         "name": "Dehesa",
         "type": "scatter",
         "x": [
          null
         ],
         "y": [
          null
         ]
        },
        {
         "marker": {
          "color": "rgb(228, 125, 28)",
          "size": 20
         },
         "mode": "markers",
         "name": "Savana",
         "type": "scatter",
         "x": [
          null
         ],
         "y": [
          null
         ]
        },
        {
         "marker": {
          "color": "rgb(39, 156, 121)",
          "size": 20
         },
         "mode": "markers",
         "name": "Termales",
         "type": "scatter",
         "x": [
          null
         ],
         "y": [
          null
         ]
        },
        {
         "marker": {
          "color": "rgb(255, 211, 29)",
          "size": 20
         },
         "mode": "markers",
         "name": "Desierto",
         "type": "scatter",
         "x": [
          null
         ],
         "y": [
          null
         ]
        },
        {
         "marker": {
          "color": "rgb(144, 219, 148)",
          "size": 20
         },
         "mode": "markers",
         "name": "Valle",
         "type": "scatter",
         "x": [
          null
         ],
         "y": [
          null
         ]
        },
        {
         "marker": {
          "color": "rgb(110, 88, 66)",
          "size": 20
         },
         "mode": "markers",
         "name": "Meseta",
         "type": "scatter",
         "x": [
          null
         ],
         "y": [
          null
         ]
        },
        {
         "marker": {
          "color": "rgb(208, 208, 240)",
          "size": 20
         },
         "mode": "markers",
         "name": "Tundra",
         "type": "scatter",
         "x": [
          null
         ],
         "y": [
          null
         ]
        },
        {
         "marker": {
          "color": "rgb(159, 16, 16)",
          "size": 20
         },
         "mode": "markers",
         "name": "Volcanico",
         "type": "scatter",
         "x": [
          null
         ],
         "y": [
          null
         ]
        },
        {
         "marker": {
          "color": "rgb(125, 125, 125)",
          "size": 20
         },
         "mode": "markers",
         "name": "Montaña",
         "type": "scatter",
         "x": [
          null
         ],
         "y": [
          null
         ]
        }
       ],
       "layout": {
        "height": 556,
        "margin": {
         "t": 60
        },
        "template": {
         "data": {
          "bar": [
           {
            "error_x": {
             "color": "#2a3f5f"
            },
            "error_y": {
             "color": "#2a3f5f"
            },
            "marker": {
             "line": {
              "color": "#E5ECF6",
              "width": 0.5
             },
             "pattern": {
              "fillmode": "overlay",
              "size": 10,
              "solidity": 0.2
             }
            },
            "type": "bar"
           }
          ],
          "barpolar": [
           {
            "marker": {
             "line": {
              "color": "#E5ECF6",
              "width": 0.5
             },
             "pattern": {
              "fillmode": "overlay",
              "size": 10,
              "solidity": 0.2
             }
            },
            "type": "barpolar"
           }
          ],
          "carpet": [
           {
            "aaxis": {
             "endlinecolor": "#2a3f5f",
             "gridcolor": "white",
             "linecolor": "white",
             "minorgridcolor": "white",
             "startlinecolor": "#2a3f5f"
            },
            "baxis": {
             "endlinecolor": "#2a3f5f",
             "gridcolor": "white",
             "linecolor": "white",
             "minorgridcolor": "white",
             "startlinecolor": "#2a3f5f"
            },
            "type": "carpet"
           }
          ],
          "choropleth": [
           {
            "colorbar": {
             "outlinewidth": 0,
             "ticks": ""
            },
            "type": "choropleth"
           }
          ],
          "contour": [
           {
            "colorbar": {
             "outlinewidth": 0,
             "ticks": ""
            },
            "colorscale": [
             [
              0,
              "#0d0887"
             ],
             [
              0.1111111111111111,
              "#46039f"
             ],
             [
              0.2222222222222222,
              "#7201a8"
             ],
             [
              0.3333333333333333,
              "#9c179e"
             ],
             [
              0.4444444444444444,
              "#bd3786"
             ],
             [
              0.5555555555555556,
              "#d8576b"
             ],
             [
              0.6666666666666666,
              "#ed7953"
             ],
             [
              0.7777777777777778,
              "#fb9f3a"
             ],
             [
              0.8888888888888888,
              "#fdca26"
             ],
             [
              1,
              "#f0f921"
             ]
            ],
            "type": "contour"
           }
          ],
          "contourcarpet": [
           {
            "colorbar": {
             "outlinewidth": 0,
             "ticks": ""
            },
            "type": "contourcarpet"
           }
          ],
          "heatmap": [
           {
            "colorbar": {
             "outlinewidth": 0,
             "ticks": ""
            },
            "colorscale": [
             [
              0,
              "#0d0887"
             ],
             [
              0.1111111111111111,
              "#46039f"
             ],
             [
              0.2222222222222222,
              "#7201a8"
             ],
             [
              0.3333333333333333,
              "#9c179e"
             ],
             [
              0.4444444444444444,
              "#bd3786"
             ],
             [
              0.5555555555555556,
              "#d8576b"
             ],
             [
              0.6666666666666666,
              "#ed7953"
             ],
             [
              0.7777777777777778,
              "#fb9f3a"
             ],
             [
              0.8888888888888888,
              "#fdca26"
             ],
             [
              1,
              "#f0f921"
             ]
            ],
            "type": "heatmap"
           }
          ],
          "heatmapgl": [
           {
            "colorbar": {
             "outlinewidth": 0,
             "ticks": ""
            },
            "colorscale": [
             [
              0,
              "#0d0887"
             ],
             [
              0.1111111111111111,
              "#46039f"
             ],
             [
              0.2222222222222222,
              "#7201a8"
             ],
             [
              0.3333333333333333,
              "#9c179e"
             ],
             [
              0.4444444444444444,
              "#bd3786"
             ],
             [
              0.5555555555555556,
              "#d8576b"
             ],
             [
              0.6666666666666666,
              "#ed7953"
             ],
             [
              0.7777777777777778,
              "#fb9f3a"
             ],
             [
              0.8888888888888888,
              "#fdca26"
             ],
             [
              1,
              "#f0f921"
             ]
            ],
            "type": "heatmapgl"
           }
          ],
          "histogram": [
           {
            "marker": {
             "pattern": {
              "fillmode": "overlay",
              "size": 10,
              "solidity": 0.2
             }
            },
            "type": "histogram"
           }
          ],
          "histogram2d": [
           {
            "colorbar": {
             "outlinewidth": 0,
             "ticks": ""
            },
            "colorscale": [
             [
              0,
              "#0d0887"
             ],
             [
              0.1111111111111111,
              "#46039f"
             ],
             [
              0.2222222222222222,
              "#7201a8"
             ],
             [
              0.3333333333333333,
              "#9c179e"
             ],
             [
              0.4444444444444444,
              "#bd3786"
             ],
             [
              0.5555555555555556,
              "#d8576b"
             ],
             [
              0.6666666666666666,
              "#ed7953"
             ],
             [
              0.7777777777777778,
              "#fb9f3a"
             ],
             [
              0.8888888888888888,
              "#fdca26"
             ],
             [
              1,
              "#f0f921"
             ]
            ],
            "type": "histogram2d"
           }
          ],
          "histogram2dcontour": [
           {
            "colorbar": {
             "outlinewidth": 0,
             "ticks": ""
            },
            "colorscale": [
             [
              0,
              "#0d0887"
             ],
             [
              0.1111111111111111,
              "#46039f"
             ],
             [
              0.2222222222222222,
              "#7201a8"
             ],
             [
              0.3333333333333333,
              "#9c179e"
             ],
             [
              0.4444444444444444,
              "#bd3786"
             ],
             [
              0.5555555555555556,
              "#d8576b"
             ],
             [
              0.6666666666666666,
              "#ed7953"
             ],
             [
              0.7777777777777778,
              "#fb9f3a"
             ],
             [
              0.8888888888888888,
              "#fdca26"
             ],
             [
              1,
              "#f0f921"
             ]
            ],
            "type": "histogram2dcontour"
           }
          ],
          "mesh3d": [
           {
            "colorbar": {
             "outlinewidth": 0,
             "ticks": ""
            },
            "type": "mesh3d"
           }
          ],
          "parcoords": [
           {
            "line": {
             "colorbar": {
              "outlinewidth": 0,
              "ticks": ""
             }
            },
            "type": "parcoords"
           }
          ],
          "pie": [
           {
            "automargin": true,
            "type": "pie"
           }
          ],
          "scatter": [
           {
            "fillpattern": {
             "fillmode": "overlay",
             "size": 10,
             "solidity": 0.2
            },
            "type": "scatter"
           }
          ],
          "scatter3d": [
           {
            "line": {
             "colorbar": {
              "outlinewidth": 0,
              "ticks": ""
             }
            },
            "marker": {
             "colorbar": {
              "outlinewidth": 0,
              "ticks": ""
             }
            },
            "type": "scatter3d"
           }
          ],
          "scattercarpet": [
           {
            "marker": {
             "colorbar": {
              "outlinewidth": 0,
              "ticks": ""
             }
            },
            "type": "scattercarpet"
           }
          ],
          "scattergeo": [
           {
            "marker": {
             "colorbar": {
              "outlinewidth": 0,
              "ticks": ""
             }
            },
            "type": "scattergeo"
           }
          ],
          "scattergl": [
           {
            "marker": {
             "colorbar": {
              "outlinewidth": 0,
              "ticks": ""
             }
            },
            "type": "scattergl"
           }
          ],
          "scattermapbox": [
           {
            "marker": {
             "colorbar": {
              "outlinewidth": 0,
              "ticks": ""
             }
            },
            "type": "scattermapbox"
           }
          ],
          "scatterpolar": [
           {
            "marker": {
             "colorbar": {
              "outlinewidth": 0,
              "ticks": ""
             }
            },
            "type": "scatterpolar"
           }
          ],
          "scatterpolargl": [
           {
            "marker": {
             "colorbar": {
              "outlinewidth": 0,
              "ticks": ""
             }
            },
            "type": "scatterpolargl"
           }
          ],
          "scatterternary": [
           {
            "marker": {
             "colorbar": {
              "outlinewidth": 0,
              "ticks": ""
             }
            },
            "type": "scatterternary"
           }
          ],
          "surface": [
           {
            "colorbar": {
             "outlinewidth": 0,
             "ticks": ""
            },
            "colorscale": [
             [
              0,
              "#0d0887"
             ],
             [
              0.1111111111111111,
              "#46039f"
             ],
             [
              0.2222222222222222,
              "#7201a8"
             ],
             [
              0.3333333333333333,
              "#9c179e"
             ],
             [
              0.4444444444444444,
              "#bd3786"
             ],
             [
              0.5555555555555556,
              "#d8576b"
             ],
             [
              0.6666666666666666,
              "#ed7953"
             ],
             [
              0.7777777777777778,
              "#fb9f3a"
             ],
             [
              0.8888888888888888,
              "#fdca26"
             ],
             [
              1,
              "#f0f921"
             ]
            ],
            "type": "surface"
           }
          ],
          "table": [
           {
            "cells": {
             "fill": {
              "color": "#EBF0F8"
             },
             "line": {
              "color": "white"
             }
            },
            "header": {
             "fill": {
              "color": "#C8D4E3"
             },
             "line": {
              "color": "white"
             }
            },
            "type": "table"
           }
          ]
         },
         "layout": {
          "annotationdefaults": {
           "arrowcolor": "#2a3f5f",
           "arrowhead": 0,
           "arrowwidth": 1
          },
          "autotypenumbers": "strict",
          "coloraxis": {
           "colorbar": {
            "outlinewidth": 0,
            "ticks": ""
           }
          },
          "colorscale": {
           "diverging": [
            [
             0,
             "#8e0152"
            ],
            [
             0.1,
             "#c51b7d"
            ],
            [
             0.2,
             "#de77ae"
            ],
            [
             0.3,
             "#f1b6da"
            ],
            [
             0.4,
             "#fde0ef"
            ],
            [
             0.5,
             "#f7f7f7"
            ],
            [
             0.6,
             "#e6f5d0"
            ],
            [
             0.7,
             "#b8e186"
            ],
            [
             0.8,
             "#7fbc41"
            ],
            [
             0.9,
             "#4d9221"
            ],
            [
             1,
             "#276419"
            ]
           ],
           "sequential": [
            [
             0,
             "#0d0887"
            ],
            [
             0.1111111111111111,
             "#46039f"
            ],
            [
             0.2222222222222222,
             "#7201a8"
            ],
            [
             0.3333333333333333,
             "#9c179e"
            ],
            [
             0.4444444444444444,
             "#bd3786"
            ],
            [
             0.5555555555555556,
             "#d8576b"
            ],
            [
             0.6666666666666666,
             "#ed7953"
            ],
            [
             0.7777777777777778,
             "#fb9f3a"
            ],
            [
             0.8888888888888888,
             "#fdca26"
            ],
            [
             1,
             "#f0f921"
            ]
           ],
           "sequentialminus": [
            [
             0,
             "#0d0887"
            ],
            [
             0.1111111111111111,
             "#46039f"
            ],
            [
             0.2222222222222222,
             "#7201a8"
            ],
            [
             0.3333333333333333,
             "#9c179e"
            ],
            [
             0.4444444444444444,
             "#bd3786"
            ],
            [
             0.5555555555555556,
             "#d8576b"
            ],
            [
             0.6666666666666666,
             "#ed7953"
            ],
            [
             0.7777777777777778,
             "#fb9f3a"
            ],
            [
             0.8888888888888888,
             "#fdca26"
            ],
            [
             1,
             "#f0f921"
            ]
           ]
          },
          "colorway": [
           "#636efa",
           "#EF553B",
           "#00cc96",
           "#ab63fa",
           "#FFA15A",
           "#19d3f3",
           "#FF6692",
           "#B6E880",
           "#FF97FF",
           "#FECB52"
          ],
          "font": {
           "color": "#2a3f5f"
          },
          "geo": {
           "bgcolor": "white",
           "lakecolor": "white",
           "landcolor": "#E5ECF6",
           "showlakes": true,
           "showland": true,
           "subunitcolor": "white"
          },
          "hoverlabel": {
           "align": "left"
          },
          "hovermode": "closest",
          "mapbox": {
           "style": "light"
          },
          "paper_bgcolor": "white",
          "plot_bgcolor": "#E5ECF6",
          "polar": {
           "angularaxis": {
            "gridcolor": "white",
            "linecolor": "white",
            "ticks": ""
           },
           "bgcolor": "#E5ECF6",
           "radialaxis": {
            "gridcolor": "white",
            "linecolor": "white",
            "ticks": ""
           }
          },
          "scene": {
           "xaxis": {
            "backgroundcolor": "#E5ECF6",
            "gridcolor": "white",
            "gridwidth": 2,
            "linecolor": "white",
            "showbackground": true,
            "ticks": "",
            "zerolinecolor": "white"
           },
           "yaxis": {
            "backgroundcolor": "#E5ECF6",
            "gridcolor": "white",
            "gridwidth": 2,
            "linecolor": "white",
            "showbackground": true,
            "ticks": "",
            "zerolinecolor": "white"
           },
           "zaxis": {
            "backgroundcolor": "#E5ECF6",
            "gridcolor": "white",
            "gridwidth": 2,
            "linecolor": "white",
            "showbackground": true,
            "ticks": "",
            "zerolinecolor": "white"
           }
          },
          "shapedefaults": {
           "line": {
            "color": "#2a3f5f"
           }
          },
          "ternary": {
           "aaxis": {
            "gridcolor": "white",
            "linecolor": "white",
            "ticks": ""
           },
           "baxis": {
            "gridcolor": "white",
            "linecolor": "white",
            "ticks": ""
           },
           "bgcolor": "#E5ECF6",
           "caxis": {
            "gridcolor": "white",
            "linecolor": "white",
            "ticks": ""
           }
          },
          "title": {
           "x": 0.05
          },
          "xaxis": {
           "automargin": true,
           "gridcolor": "white",
           "linecolor": "white",
           "ticks": "",
           "title": {
            "standoff": 15
           },
           "zerolinecolor": "white",
           "zerolinewidth": 2
          },
          "yaxis": {
           "automargin": true,
           "gridcolor": "white",
           "linecolor": "white",
           "ticks": "",
           "title": {
            "standoff": 15
           },
           "zerolinecolor": "white",
           "zerolinewidth": 2
          }
         }
        },
        "width": 556,
        "xaxis": {
         "anchor": "y",
         "domain": [
          0,
          1
         ]
        },
        "yaxis": {
         "anchor": "x",
         "domain": [
          0,
          1
         ]
        }
       }
      }
     },
     "metadata": {},
     "output_type": "display_data"
    }
   ],
   "source": [
    "a.representation((3,4),(3,4))"
   ]
  },
  {
   "cell_type": "code",
   "execution_count": 5,
   "metadata": {},
   "outputs": [],
   "source": [
    "a = generator(1,2,3)\n",
    "b = a.getChunk(0,0)\n",
    "b_noise_Temp = a.getNoiseArray(1, 0, 0, 5, 128, 2)\n",
    "b_noise_Altu = a.getNoiseArray(2, 0, 0, 3, 512, 4)\n",
    "b_noise_Hume = a.getNoiseArray(3, 0, 0, 3, 256, 2)"
   ]
  },
  {
   "cell_type": "code",
   "execution_count": 185,
   "metadata": {},
   "outputs": [
    {
     "name": "stdout",
     "output_type": "stream",
     "text": [
      "🟫🟫🟫🟫🌲🟫🟫🟫🟫🟫🟫🌲🟫🟫🟫🟫🟫🟫🟫🟫🟫🟫🌲🟫🟫🌲🟫🟫🟫🟫🟫🟫🟫🌲🟫🟫🟫🟫🌲🟫🟫🌲🟫🟫🌲🟫🟫🟫🌲🟫🟫🟫🟫🟫🟫🌲🟫🟫🟫🟫🟫🟫🟫🟫\n",
      "🟫🟫🟫🟫🟫🟫🟫🟫🌲🟫🟫🟫🟫🟫🟫🌲🟫🟫🟫🌲🟫🟫🟫🟫🟫🟫🟫🌲🟫🟫🟫🌲🟫🟫🟫🌲🟫🟫🟫🟫🟫🟫🟫🟫🟫🟫🟫🌲🟫🟫🟫🟫🌲🟫🟫🟫🟫🌲🟫🟫🌲🟫🟫🟫\n",
      "🟫🌲🟫🟫🟫🌲🟫🟫🟫🟫🌲🟫🟫🟫🟫🟫🌲🟫🟫🟫🟫🟫🌲🟫🟫🟫🟫🟫🟫🌲🟫🟫🟫🟫🟫🟫🟫🟫🟫🟫🟫🟫🟫🟫🟫🟫🟫🟫🟫🟫🟫🟫🟫🟫🟫🟫🟫🟫🟫🟫🟫🟫🌲🟫\n",
      "🟫🟫🟫🟫🟫🟫🟫🟫🟫🟫🟫🟫🌲🟫🌲🟫🟫🟫🟫🟫🟫🟫🟫🟫🟫🌲🟫🟫🟫🟫🟫🟫🟫🌲🟫🌲🟫🟫🌲🟫🟫🌲🟫🟫🌲🟫🟫🟫🟫🌲🟫🟫🌲🟫🟫🌲🟫🟫🟫🌲🟫🟫🟫🟫\n",
      "🌲🟫🌲🟫🌲🟫🟫🌲🟫🟫🟫🟫🟫🟫🟫🟫🟫🟫🌲🟫🌲🟫🟫🟫🟫🟫🟫🟫🌲🟫🟫🟫🌲🟫🟫🟫🟫🟫🟫🌲🟫🟫🟫🟫🟫🟫🟫🟫🟫🟫🟫🟫🟫🟫🟫🟫🟫🟫🟫🟫🌲🟫🟫🌲\n",
      "🟫🟫🟫🟫🟫🟫🟫🟫🟫🌲🟫🟫🌲🟫🟫🟫🟫🟫🟫🟫🟫🟫🟫🌲🟫🟫🟫🟫🟫🟫🟫🟫🟫🟫🟫🌲🟫🌲🟫🟫🟫🟫🌲🟫🟫🟫🟫🌲🟫🟫🟫🟫🟫🟫🟫🌲🟫🟫🟫🟫🟫🟫🟫🟫\n",
      "🟫🟫🟫🟫🟫🌲🟫🌲🟫🟫🟫🟫🟫🟫🟫🟫🌲🟫🟫🌲🟫🟫🟫🟫🟫🟫🟫🟫🟫🟫🟫🟫🟫🌲🟫🟫🟫🟫🟫🟫🟫🟫🟫🟫🟫🟫🟫🟫🟫🟫🌲🟫🟫🟫🟫🟫🟫🌲🟫🟫🟫🟫🟫🟫\n",
      "🟫🌲🟫🟫🟫🟫🟫🟫🟫🟫🟫🟫🟫🟫🌲🟫🟫🌲🟫🟫🟫🟫🟫🟫🟫🟫🌲🟫🌲🟫🟫🌲🟫🟫🟫🟫🌲🟫🌲🟫🟫🌲🟫🟫🟫🌲🟫🟫🟫🟫🟫🟫🟫🟫🌲🟫🟫🟫🟫🟫🟫🟫🟫🟫\n",
      "🟫🟫🟫🟫🟫🌲🟫🟫🟫🟫🟫🌲🟫🟫🟫🟫🟫🟫🟫🟫🟫🌲🟫🟫🌲🟫🟫🟫🟫🟫🟫🟫🟫🟫🟫🟫🟫🟫🟫🟫🟫🟫🟫🌲🟫🟫🟫🟫🌲🟫🟫🟫🟫🟫🟫🟫🌲🟫🟫🟫🟫🟫🌲🟫\n",
      "🌲🟫🟫🟫🟫🟫🟫🟫🟫🌲🟫🟫🟫🟫🟫🟫🟫🟫🟫🟫🟫🟫🟫🟫🟫🟫🟫🟫🟫🟫🟫🌲🟫🟫🌲🟫🟫🟫🟫🟫🟫🟫🟫🟫🟫🟫🌲🟫🟫🟫🟫🌲🟫🌲🟫🟫🟫🟫🌲🟫🟫🟫🟫🟫\n",
      "🟫🟫🟫🌲🟫🟫🌲🟫🟫🟫🟫🟫🟫🟫🟫🌲🟫🟫🟫🌲🟫🟫🟫🌲🟫🟫🟫🌲🟫🟫🟫🟫🟫🟫🟫🟫🟫🌲🟫🟫🌲🟫🌲🟫🟫🟫🟫🟫🟫🟫🟫🟫🟫🟫🟫🌲🟫🟫🟫🟫🟫🌲🟫🟫\n",
      "🟫🌲🟫🟫🟫🟫🟫🟫🟫🟫🌲🟫🟫🌲🟫🟫🟫🌲🟫🟫🟫🟫🟫🟫🟫🟫🟫🟫🟫🟫🟫🟫🟫🟫🟫🟫🟫🟫🟫🟫🟫🟫🟫🟫🟫🌲🟫🟫🟫🌲🟫🟫🟫🌲🟫🟫🟫🟫🟫🌲🟫🟫🟫🟫\n",
      "🟫🟫🟫🟫🟫🟫🟫🌲🟫🟫🟫🟫🟫🟫🌲🟫🟫🟫🟫🟫🌲🟫🌲🟫🟫🌲🟫🟫🟫🟫🌲🟫🌲🟫🌲🟫🌲🟫🟫🟫🟫🌲🟫🟫🟫🟫🟫🟫🟫🟫🟫🟫🟫🟫🟫🟫🟫🌲🟫🟫🟫🌲🟫🟫\n",
      "🟫🟫🌲🟫🟫🌲🟫🟫🟫🌲🟫🟫🟫🟫🟫🟫🟫🟫🌲🟫🟫🟫🟫🟫🟫🟫🟫🟫🌲🟫🟫🟫🟫🟫🟫🟫🟫🟫🟫🟫🟫🟫🟫🟫🟫🌲🟫🌲🟫🟫🌲🟫🟫🟫🟫🌲🟫🟫🟫🟫🟫🟫🟫🟫\n",
      "🌲🟫🟫🟫🟫🟫🟫🌲🟫🟫🟫🟫🟫🌲🟫🟫🌲🟫🟫🟫🌲🟫🟫🟫🟫🟫🟫🟫🟫🟫🟫🟫🟫🟫🌲🟫🌲🟫🟫🌲🟫🌲🟫🌲🟫🟫🟫🟫🟫🟫🟫🟫🟫🌲🟫🟫🟫🌲🟫🌲🟫🟫🟫🌲\n",
      "🟫🟫🟫🟫🟫🟫🟫🟫🟫🟫🟫🌲🟫🟫🟫🟫🟫🟫🟫🌲🟫🟫🌲🟫🟫🌲🟫🟫🌲🟫🟫🟫🟫🟫🟫🟫🟫🟫🟫🟫🟫🟫🟫🟫🟫🟫🟫🟫🟫🟫🟫🟫🟫🟫🟫🌲🟫🟫🟫🟫🟫🟫🟫🟫\n",
      "🌲🟫🌲🟫🟫🟫🌲🟫🟫🟫🟫🟫🟫🌲🟫🟫🟫🌲🟫🟫🟫🟫🟫🟫🟫🟫🟫🟫🟫🟫🟫🌲🟫🟫🟫🟫🟫🌲🟫🟫🌲🟫🌲🟫🟫🟫🌲🟫🌲🟫🟫🟫🟫🟫🟫🟫🟫🟫🟫🟫🌲🟫🟫🌲\n",
      "🟫🟫🟫🟫🟫🟫🟫🟫🟫🌲🟫🟫🌲🟫🟫🌲🟫🟫🟫🟫🟫🟫🟫🟫🌲🟫🟫🟫🟫🟫🟫🟫🟫🟫🌲🟫🟫🟫🟫🟫🟫🟫🟫🟫🟫🟫🟫🟫🟫🟫🟫🟫🌲🟫🟫🟫🟫🟫🌲🟫🟫🟫🟫🟫\n",
      "🟫🟫🟫🌲🟫🟫🟫🟫🟫🟫🟫🟫🟫🟫🟫🟫🟫🟫🟫🟫🌲🟫🟫🌲🟫🟫🟫🟫🌲🟫🌲🟫🟫🟫🟫🟫🟫🟫🌲🟫🟫🟫🟫🟫🟫🌲🟫🟫🟫🟫🌲🟫🟫🟫🟫🌲🟫🟫🟫🟫🌲🟫🌲🟫\n",
      "🟫🟫🟫🟫🟫🟫🌲🟫🟫🟫🟫🟫🟫🌲🟫🟫🟫🟫🌲🟫🟫🟫🟫🟫🟫🟫🟫🟫🟫🟫🟫🟫🌲🟫🟫🌲🟫🟫🟫🟫🌲🟫🟫🌲🟫🟫🟫🌲🟫🟫🟫🟫🌲🟫🟫🟫🟫🟫🌲🟫🟫🟫🟫🟫\n",
      "🟫🌲🟫🟫🟫🟫🟫🟫🌲🟫🟫🌲🟫🟫🟫🟫🟫🟫🟫🟫🟫🟫🟫🟫🟫🟫🌲🟫🟫🟫🌲🟫🟫🟫🌲🟫🟫🟫🟫🟫🟫🌲🟫🟫🟫🟫🟫🟫🟫🟫🟫🟫🟫🟫🟫🌲🟫🟫🟫🟫🟫🟫🟫🌲\n",
      "🟫🟫🟫🟫🌲🟫🟫🟫🟫🟫🟫🟫🟫🟫🌲🟫🟫🟫🟫🟫🌲🟫🌲🟫🟫🟫🟫🌲🟫🟫🟫🟫🟫🟫🟫🟫🟫🌲🟫🟫🟫🟫🟫🟫🌲🟫🟫🟫🟫🟫🟫🟫🟫🌲🟫🟫🟫🟫🌲🟫🌲🟫🟫🟫\n",
      "🟫🟫🟫🟫🟫🟫🟫🌲🟫🟫🌲🟫🟫🌲🟫🟫🟫🟫🟫🟫🟫🟫🟫🟫🟫🟫🟫🟫🟫🟫🟫🌲🟫🟫🟫🟫🟫🟫🟫🌲🟫🟫🌲🟫🟫🟫🌲🟫🟫🌲🟫🌲🟫🟫🟫🟫🌲🟫🟫🟫🟫🟫🌲🟫\n",
      "🟫🟫🟫🌲🟫🟫🟫🟫🟫🟫🟫🟫🟫🟫🟫🌲🟫🟫🌲🟫🟫🌲🟫🟫🟫🟫🌲🟫🟫🌲🟫🟫🟫🟫🟫🟫🟫🌲🟫🟫🟫🟫🟫🟫🟫🟫🟫🟫🟫🟫🟫🟫🟫🟫🟫🟫🟫🟫🟫🟫🟫🟫🟫🟫\n",
      "🌲🟫🟫🟫🟫🟫🟫🟫🟫🌲🟫🟫🟫🟫🟫🟫🟫🟫🟫🟫🟫🟫🟫🟫🟫🟫🟫🟫🟫🟫🟫🟫🟫🌲🟫🌲🟫🟫🟫🌲🟫🟫🟫🌲🟫🟫🟫🟫🌲🟫🟫🟫🟫🟫🌲🟫🟫🟫🌲🟫🟫🌲🟫🟫\n",
      "🟫🟫🟫🟫🟫🌲🟫🟫🟫🟫🟫🟫🌲🟫🟫🟫🟫🟫🟫🟫🟫🟫🟫🟫🌲🟫🟫🟫🟫🟫🌲🟫🟫🟫🟫🟫🟫🟫🟫🟫🟫🌲🟫🟫🟫🟫🟫🟫🟫🟫🟫🟫🟫🟫🟫🟫🟫🟫🟫🟫🟫🟫🟫🟫\n",
      "🟫🟫🌲🟫🟫🟫🟫🟫🟫🟫🌲🟫🟫🟫🟫🌲🟫🟫🌲🟫🟫🌲🟫🟫🟫🟫🟫🌲🟫🟫🟫🟫🟫🟫🌲🟫🌲🟫🌲🟫🟫🟫🟫🟫🌲🟫🌲🟫🟫🟫🟫🟫🌲🟫🟫🟫🌲🟫🟫🟫🟫🌲🟫🌲\n",
      "🌲🟫🟫🟫🟫🌲🟫🟫🟫🟫🟫🟫🟫🟫🟫🟫🟫🟫🟫🟫🟫🟫🟫🟫🟫🌲🟫🟫🟫🟫🟫🟫🌲🟫🟫🟫🟫🟫🟫🟫🟫🟫🟫🟫🟫🟫🟫🟫🟫🟫🌲🟫🟫🟫🌲🟫🟫🟫🟫🟫🟫🟫🟫🟫\n",
      "🟫🟫🟫🟫🟫🟫🌲🟫🟫🟫🟫🟫🟫🌲🟫🌲🟫🟫🟫🟫🌲🟫🟫🟫🟫🟫🟫🌲🟫🟫🌲🟫🟫🟫🟫🌲🟫🌲🟫🟫🌲🟫🟫🌲🟫🟫🟫🌲🟫🟫🟫🟫🌲🟫🟫🟫🟫🟫🟫🌲🟫🌲🟫🟫\n",
      "🌲🟫🟫🟫🟫🌲🟫🟫🟫🟫🌲🟫🟫🟫🟫🟫🟫🟫🟫🟫🟫🟫🌲🟫🌲🟫🟫🟫🟫🌲🟫🟫🟫🟫🟫🟫🟫🟫🟫🟫🟫🟫🟫🟫🟫🟫🟫🟫🟫🟫🌲🟫🟫🟫🟫🌲🟫🟫🟫🟫🟫🟫🟫🌲\n",
      "🟫🟫🌲🟫🟫🟫🟫🟫🌲🟫🟫🟫🌲🟫🌲🟫🟫🟫🌲🟫🟫🟫🟫🟫🟫🟫🟫🟫🟫🟫🟫🟫🟫🟫🌲🟫🌲🟫🟫🟫🟫🟫🌲🟫🟫🟫🟫🟫🟫🟫🟫🟫🟫🌲🟫🟫🟫🟫🟫🟫🟫🟫🟫🟫\n",
      "🟫🟫🟫🟫🟫🟫🟫🟫🟫🟫🟫🟫🟫🟫🟫🟫🟫🟫🟫🟫🟫🟫🟫🟫🟫🟫🟫🟫🟫🟫🌲🟫🌲🟫🟫🟫🟫🟫🟫🟫🌲🟫🟫🟫🟫🌲🟫🟫🌲🟫🌲🟫🟫🟫🟫🟫🟫🌲🟫🌲🟫🟫🌲🟫\n",
      "🟫🟫🟫🌲🟫🌲🟫🟫🟫🌲🟫🌲🟫🟫🟫🟫🟫🟫🟫🟫🟫🟫🟫🟫🌲🟫🟫🌲🟫🟫🟫🟫🟫🟫🌲🟫🌲🟫🌲🟫🟫🟫🟫🟫🟫🟫🟫🟫🟫🟫🟫🟫🟫🌲🟫🟫🟫🟫🟫🟫🟫🟫🟫🟫\n",
      "🟫🌲🟫🟫🟫🟫🟫🌲🟫🟫🟫🟫🟫🟫🟫🌲🟫🟫🌲🟫🟫🌲🟫🟫🟫🌲🟫🟫🟫🌲🟫🟫🟫🟫🟫🟫🟫🟫🟫🟫🟫🟫🌲🟫🟫🟫🟫🟫🌲🟫🟫🟫🟫🟫🟫🟫🌲🟫🟫🟫🟫🟫🟫🟫\n",
      "🟫🟫🟫🟫🟫🌲🟫🟫🟫🟫🟫🟫🟫🟫🟫🟫🟫🟫🟫🟫🟫🟫🟫🌲🟫🟫🟫🌲🟫🟫🟫🟫🌲🟫🟫🟫🟫🟫🟫🟫🟫🟫🟫🟫🟫🟫🌲🟫🟫🟫🟫🟫🟫🌲🟫🟫🟫🟫🟫🟫🌲🟫🟫🟫\n",
      "🟫🟫🟫🟫🟫🟫🟫🟫🟫🟫🟫🌲🟫🌲🟫🟫🟫🌲🟫🟫🟫🟫🟫🟫🟫🟫🟫🟫🟫🌲🟫🟫🟫🟫🟫🌲🟫🟫🟫🌲🟫🟫🟫🟫🌲🟫🟫🟫🟫🟫🟫🌲🟫🟫🟫🌲🟫🟫🟫🟫🟫🟫🟫🌲\n",
      "🟫🌲🟫🟫🌲🟫🟫🟫🟫🌲🟫🟫🟫🟫🟫🟫🟫🟫🟫🟫🌲🟫🟫🟫🟫🌲🟫🟫🟫🟫🟫🟫🌲🟫🟫🟫🟫🟫🟫🟫🟫🌲🟫🟫🟫🟫🟫🟫🌲🟫🟫🟫🟫🟫🟫🟫🟫🌲🟫🟫🟫🟫🟫🟫\n",
      "🟫🟫🟫🟫🟫🟫🟫🟫🟫🟫🟫🟫🟫🟫🟫🟫🟫🟫🟫🟫🟫🟫🌲🟫🟫🟫🟫🟫🌲🟫🟫🟫🟫🟫🟫🟫🟫🟫🟫🌲🟫🟫🟫🟫🟫🌲🟫🟫🟫🟫🟫🌲🟫🟫🟫🟫🟫🟫🟫🟫🟫🌲🟫🟫\n",
      "🟫🟫🟫🟫🟫🟫🟫🟫🌲🟫🟫🌲🟫🟫🟫🌲🟫🟫🟫🟫🟫🟫🟫🟫🟫🌲🟫🟫🟫🟫🟫🟫🟫🟫🟫🌲🟫🟫🟫🟫🟫🌲🟫🌲🟫🟫🟫🟫🟫🟫🟫🟫🟫🟫🌲🟫🟫🟫🟫🟫🟫🟫🌲🟫\n",
      "🌲🟫🟫🌲🟫🟫🌲🟫🟫🟫🟫🟫🟫🟫🌲🟫🟫🟫🟫🌲🟫🟫🌲🟫🟫🟫🟫🟫🌲🟫🟫🌲🟫🟫🟫🟫🟫🟫🌲🟫🟫🟫🟫🟫🟫🟫🟫🌲🟫🟫🟫🟫🟫🟫🟫🟫🌲🟫🟫🟫🟫🟫🟫🟫\n",
      "🟫🟫🟫🟫🟫🟫🟫🟫🌲🟫🟫🟫🌲🟫🟫🟫🌲🟫🟫🟫🟫🟫🟫🟫🟫🟫🟫🟫🟫🟫🟫🟫🟫🟫🟫🟫🟫🟫🟫🟫🟫🟫🟫🟫🌲🟫🟫🟫🟫🟫🟫🌲🟫🟫🟫🟫🟫🟫🌲🟫🟫🟫🟫🟫\n",
      "🟫🌲🟫🌲🟫🟫🌲🟫🟫🟫🌲🟫🟫🟫🟫🟫🟫🌲🟫🟫🟫🟫🟫🌲🟫🌲🟫🌲🟫🟫🟫🟫🌲🟫🟫🌲🟫🟫🌲🟫🟫🟫🟫🟫🟫🟫🟫🟫🌲🟫🟫🟫🟫🟫🟫🟫🟫🟫🟫🟫🟫🌲🟫🟫\n",
      "🟫🟫🟫🟫🟫🟫🟫🟫🟫🟫🟫🟫🟫🌲🟫🟫🌲🟫🟫🟫🟫🌲🟫🟫🟫🟫🟫🟫🟫🟫🌲🟫🟫🌲🟫🟫🟫🟫🟫🟫🌲🟫🌲🟫🟫🟫🌲🟫🟫🟫🟫🟫🟫🟫🟫🟫🟫🟫🟫🌲🟫🟫🟫🟫\n",
      "🌲🟫🟫🟫🟫🟫🌲🟫🌲🟫🟫🟫🟫🟫🟫🟫🟫🟫🟫🌲🟫🟫🟫🌲🟫🟫🟫🟫🟫🟫🟫🟫🌲🟫🟫🟫🌲🟫🟫🟫🟫🟫🟫🟫🟫🟫🟫🟫🟫🟫🟫🌲🟫🌲🟫🟫🌲🟫🌲🟫🟫🌲🟫🟫\n",
      "🟫🟫🌲🟫🟫🟫🟫🟫🟫🟫🟫🌲🟫🟫🟫🟫🟫🟫🟫🟫🟫🟫🟫🟫🟫🟫🟫🌲🟫🟫🟫🟫🟫🟫🟫🟫🟫🌲🟫🟫🟫🟫🟫🟫🟫🌲🟫🟫🟫🟫🟫🟫🟫🟫🟫🟫🟫🟫🟫🟫🟫🟫🟫🌲\n",
      "🟫🟫🟫🟫🟫🟫🟫🟫🟫🟫🌲🟫🟫🌲🟫🟫🟫🌲🟫🟫🟫🌲🟫🟫🌲🟫🟫🟫🟫🌲🟫🟫🟫🌲🟫🟫🟫🟫🟫🟫🌲🟫🟫🟫🟫🟫🌲🟫🟫🟫🌲🟫🟫🟫🟫🟫🌲🟫🟫🌲🟫🟫🟫🟫\n",
      "🌲🟫🟫🟫🌲🟫🌲🟫🟫🟫🟫🟫🟫🟫🟫🌲🟫🟫🟫🟫🟫🟫🟫🟫🟫🟫🟫🟫🟫🟫🟫🟫🟫🟫🟫🟫🟫🌲🟫🟫🟫🟫🟫🟫🟫🟫🟫🟫🟫🟫🟫🟫🟫🟫🟫🟫🟫🟫🟫🟫🟫🟫🌲🟫\n",
      "🟫🟫🌲🟫🟫🟫🟫🟫🟫🟫🟫🟫🌲🟫🟫🟫🟫🟫🟫🟫🟫🟫🟫🌲🟫🌲🟫🌲🟫🟫🌲🟫🟫🟫🟫🟫🟫🟫🟫🟫🌲🟫🟫🌲🟫🟫🌲🟫🟫🟫🟫🟫🟫🌲🟫🌲🟫🟫🟫🟫🟫🌲🟫🟫\n",
      "🟫🟫🟫🟫🟫🟫🌲🟫🟫🌲🟫🟫🟫🟫🌲🟫🟫🌲🟫🌲🟫🟫🟫🟫🟫🟫🟫🟫🟫🟫🟫🟫🟫🌲🟫🌲🟫🟫🟫🟫🟫🟫🟫🟫🟫🟫🟫🟫🟫🌲🟫🟫🌲🟫🟫🟫🟫🟫🟫🟫🟫🟫🟫🟫\n",
      "🌲🟫🟫🟫🌲🟫🟫🟫🟫🟫🟫🟫🟫🟫🟫🟫🟫🟫🟫🟫🟫🟫🟫🌲🟫🟫🌲🟫🟫🟫🟫🟫🟫🟫🟫🟫🟫🌲🟫🟫🟫🟫🟫🟫🟫🌲🟫🟫🟫🟫🟫🟫🟫🟫🌲🟫🟫🟫🌲🟫🟫🟫🟫🌲\n",
      "🟫🟫🌲🟫🟫🟫🌲🟫🟫🟫🟫🌲🟫🟫🌲🟫🟫🟫🟫🟫🌲🟫🟫🟫🟫🟫🟫🟫🌲🟫🟫🌲🟫🌲🟫🟫🟫🟫🟫🟫🟫🟫🌲🟫🟫🟫🟫🟫🟫🌲🟫🌲🟫🟫🟫🟫🟫🟫🟫🟫🌲🟫🟫🟫\n",
      "🟫🟫🟫🟫🟫🟫🟫🟫🟫🟫🟫🟫🟫🟫🟫🟫🟫🟫🌲🟫🟫🟫🟫🌲🟫🟫🟫🟫🟫🟫🟫🟫🟫🟫🟫🌲🟫🌲🟫🟫🌲🟫🟫🟫🟫🟫🌲🟫🟫🟫🟫🟫🟫🟫🟫🟫🟫🌲🟫🟫🟫🟫🟫🟫\n",
      "🟫🌲🟫🌲🟫🟫🟫🟫🌲🟫🟫🟫🌲🟫🟫🌲🟫🟫🟫🟫🟫🌲🟫🟫🟫🌲🟫🟫🟫🟫🟫🟫🟫🟫🟫🟫🟫🟫🟫🟫🟫🟫🟫🟫🟫🟫🟫🟫🟫🟫🟫🟫🟫🌲🟫🟫🟫🟫🟫🟫🟫🌲🟫🟫\n",
      "🟫🟫🟫🟫🟫🟫🌲🟫🟫🟫🟫🟫🟫🟫🟫🟫🟫🟫🟫🟫🟫🟫🟫🟫🟫🟫🟫🌲🟫🟫🟫🌲🟫🌲🟫🟫🟫🟫🌲🟫🟫🟫🌲🟫🟫🌲🟫🟫🌲🟫🟫🟫🟫🟫🟫🟫🟫🟫🟫🟫🌲🟫🟫🟫\n",
      "🟫🟫🟫🌲🟫🟫🟫🟫🟫🟫🟫🟫🌲🟫🟫🌲🟫🟫🌲🟫🟫🟫🟫🌲🟫🌲🟫🟫🟫🌲🟫🟫🟫🟫🟫🟫🟫🟫🟫🟫🟫🟫🟫🟫🟫🟫🟫🟫🟫🟫🟫🌲🟫🟫🟫🌲🟫🟫🟫🟫🟫🟫🟫🌲\n",
      "🌲🟫🟫🟫🟫🌲🟫🟫🟫🌲🟫🟫🟫🟫🟫🟫🟫🟫🟫🟫🟫🟫🟫🟫🟫🟫🟫🟫🟫🟫🟫🟫🌲🟫🟫🟫🌲🟫🟫🟫🌲🟫🟫🟫🟫🟫🌲🟫🟫🌲🟫🟫🟫🌲🟫🟫🟫🟫🌲🟫🟫🟫🟫🟫\n",
      "🟫🟫🟫🟫🟫🟫🟫🟫🟫🟫🟫🟫🟫🟫🟫🟫🟫🟫🟫🟫🟫🟫🟫🟫🟫🟫🟫🌲🟫🟫🌲🟫🟫🟫🟫🟫🟫🟫🟫🟫🟫🟫🌲🟫🟫🟫🟫🟫🟫🟫🟫🌲🟫🟫🟫🟫🟫🟫🟫🟫🟫🌲🟫🟫\n",
      "🟫🟫🟫🌲🟫🟫🟫🌲🟫🟫🟫🌲🟫🟫🌲🟫🟫🌲🟫🌲🟫🌲🟫🟫🟫🌲🟫🟫🟫🟫🟫🟫🟫🟫🟫🌲🟫🟫🌲🟫🟫🟫🟫🟫🟫🟫🟫🌲🟫🟫🟫🟫🟫🟫🟫🟫🌲🟫🟫🌲🟫🟫🟫🟫\n",
      "🟫🌲🟫🟫🟫🟫🟫🟫🟫🟫🟫🟫🟫🟫🟫🟫🟫🟫🟫🟫🟫🟫🟫🟫🟫🟫🟫🟫🟫🟫🟫🟫🟫🟫🟫🟫🟫🟫🟫🟫🌲🟫🟫🌲🟫🟫🟫🟫🟫🟫🟫🟫🟫🌲🟫🟫🟫🟫🟫🟫🟫🟫🟫🟫\n",
      "🟫🟫🟫🟫🌲🟫🟫🌲🟫🟫🌲🟫🟫🟫🟫🌲🟫🟫🟫🌲🟫🟫🟫🟫🟫🟫🟫🌲🟫🟫🌲🟫🟫🌲🟫🟫🟫🟫🟫🟫🟫🟫🟫🟫🟫🌲🟫🟫🟫🌲🟫🟫🟫🟫🟫🟫🟫🟫🟫🟫🟫🟫🟫🌲\n",
      "🟫🟫🌲🟫🟫🟫🟫🟫🟫🟫🟫🟫🟫🌲🟫🟫🟫🟫🟫🟫🟫🌲🟫🟫🌲🟫🟫🟫🟫🟫🟫🟫🟫🟫🟫🟫🌲🟫🟫🌲🟫🌲🟫🟫🟫🟫🟫🟫🟫🟫🟫🟫🟫🌲🟫🌲🟫🌲🟫🟫🟫🌲🟫🟫\n",
      "🟫🟫🟫🟫🌲🟫🟫🟫🟫🟫🟫🌲🟫🟫🟫🟫🟫🌲🟫🟫🟫🟫🟫🟫🟫🌲🟫🟫🟫🟫🟫🟫🌲🟫🟫🟫🟫🟫🟫🟫🟫🟫🟫🟫🟫🌲🟫🟫🌲🟫🟫🟫🌲🟫🟫🟫🟫🟫🟫🌲🟫🟫🟫🟫\n",
      "🌲🟫🟫🟫🟫🟫🟫🟫🟫🌲🟫🟫🟫🟫🟫🟫🟫🟫🟫🟫🌲🟫🌲🟫🟫🟫🟫🟫🟫🟫🟫🟫🟫🟫🟫🌲🟫🌲🟫🟫🟫🌲🟫🟫🟫🟫🟫🟫🟫🟫🟫🟫🟫🟫🟫🟫🟫🟫🟫🟫🟫🌲🟫🟫\n",
      "🟫🟫🌲🟫🟫🟫🟫🟫🟫🟫🟫🟫🌲🟫🟫🌲🟫🟫🟫🟫🟫🟫🟫🟫🟫🟫🌲🟫🟫🌲🟫🟫🟫🟫🟫🟫🟫🟫🟫🟫🟫🟫🟫🟫🌲🟫🟫🟫🌲🟫🟫🌲🟫🟫🟫🟫🌲🟫🌲🟫🟫🟫🟫🟫\n",
      "🟫🟫🟫🟫🟫🟫🌲🟫🟫🌲🟫🟫🟫🟫🟫🟫🟫🌲🟫🟫🌲🟫🟫🌲🟫🟫🟫🟫🟫🟫🟫🟫🟫🌲🟫🟫🌲🟫🌲🟫🟫🟫🟫🟫🟫🟫🟫🟫🟫🟫🟫🟫🟫🟫🌲🟫🟫🟫🟫🟫🟫🟫🟫🟫\n",
      "🌲🟫🌲🟫🟫🟫🟫🟫🟫🟫🟫🟫🟫🟫🌲🟫🟫🟫🟫🟫🟫🟫🟫🟫🟫🟫🟫🟫🌲🟫🟫🟫🟫🟫🟫🟫🟫🟫🟫🟫🟫🌲🟫🌲🟫🌲🟫🟫🟫🌲🟫🟫🌲🟫🟫🟫🟫🌲🟫🟫🟫🌲🟫🟫\n",
      "🟫🟫🟫🟫🟫🌲🟫🌲🟫🟫🟫🌲🟫🟫🟫🟫🟫🌲🟫🟫🟫🌲🟫🟫🌲🟫🟫🟫🟫🟫🟫🌲🟫🟫🟫🟫🟫🟫🟫🟫🟫🟫🟫🟫🟫🟫🟫🌲🟫🟫🟫🟫🟫🟫🟫🌲🟫🟫🟫🟫🟫🟫🟫🟫\n",
      "🟫🟫🟫🟫🟫🟫🟫🟫🟫🟫🟫🟫🟫🌲🟫🟫🟫🟫🟫🌲🟫🟫🟫🟫🟫🟫🟫🟫🟫🌲🟫🟫🟫🌲🟫🌲🟫🟫🟫🌲🟫🌲🟫🟫🌲🟫🟫🟫🟫🟫🟫🟫🟫🌲🟫🟫🟫🟫🟫🌲🟫🟫🟫🟫\n",
      "🌲🟫🟫🟫🟫🟫🟫🟫🌲🟫🟫🟫🟫🟫🟫🟫🟫🟫🟫🟫🟫🟫🟫🟫🌲🟫🟫🌲🟫🟫🟫🟫🟫🟫🟫🟫🟫🟫🟫🟫🟫🟫🟫🟫🟫🟫🟫🌲🟫🟫🌲🟫🟫🟫🟫🟫🟫🟫🟫🟫🟫🟫🌲🟫\n",
      "🟫🟫🟫🌲🟫🌲🟫🟫🟫🟫🟫🟫🌲🟫🟫🟫🟫🟫🌲🟫🌲🟫🟫🟫🟫🟫🟫🟫🟫🟫🟫🌲🟫🟫🟫🌲🟫🟫🌲🟫🟫🟫🌲🟫🟫🌲🟫🟫🟫🟫🟫🟫🟫🟫🟫🟫🌲🟫🟫🟫🟫🟫🟫🟫\n",
      "🌲🟫🟫🟫🟫🟫🟫🟫🌲🟫🟫🟫🟫🌲🟫🟫🌲🟫🟫🟫🟫🟫🟫🟫🟫🌲🟫🟫🟫🟫🟫🟫🟫🟫🟫🟫🟫🟫🟫🟫🟫🟫🟫🟫🟫🟫🟫🟫🟫🟫🟫🌲🟫🟫🟫🟫🟫🟫🌲🟫🌲🟫🟫🟫\n",
      "🟫🟫🟫🟫🌲🟫🟫🟫🟫🟫🌲🟫🟫🟫🟫🟫🟫🟫🟫🟫🟫🟫🟫🌲🟫🟫🟫🟫🟫🟫🟫🟫🟫🌲🟫🟫🟫🌲🟫🟫🟫🟫🟫🟫🟫🟫🟫🟫🌲🟫🟫🟫🟫🟫🌲🟫🌲🟫🟫🟫🟫🟫🟫🟫\n",
      "🟫🟫🟫🟫🟫🟫🌲🟫🟫🟫🟫🟫🟫🟫🟫🟫🟫🟫🟫🟫🟫🌲🟫🟫🟫🟫🟫🌲🟫🌲🟫🟫🟫🟫🟫🟫🟫🟫🟫🟫🌲🟫🟫🌲🟫🟫🌲🟫🟫🟫🟫🟫🟫🟫🟫🟫🟫🟫🟫🟫🟫🟫🌲🟫\n",
      "🟫🟫🌲🟫🌲🟫🟫🟫🟫🟫🟫🌲🟫🟫🟫🌲🟫🟫🌲🟫🟫🟫🟫🟫🟫🟫🟫🟫🟫🟫🟫🟫🟫🟫🟫🟫🟫🟫🟫🟫🟫🟫🟫🟫🟫🟫🟫🟫🟫🌲🟫🌲🟫🟫🟫🌲🟫🟫🟫🟫🌲🟫🟫🟫\n",
      "🌲🟫🟫🟫🟫🟫🟫🟫🟫🌲🟫🟫🟫🟫🟫🟫🟫🟫🟫🟫🟫🟫🟫🟫🟫🟫🌲🟫🌲🟫🌲🟫🟫🟫🟫🌲🟫🟫🌲🟫🟫🟫🌲🟫🟫🟫🌲🟫🟫🟫🟫🟫🟫🟫🟫🟫🟫🌲🟫🟫🟫🟫🟫🌲\n",
      "🟫🟫🟫🟫🟫🟫🌲🟫🟫🟫🟫🟫🟫🟫🟫🟫🌲🟫🟫🌲🟫🟫🌲🟫🟫🟫🟫🟫🟫🟫🟫🟫🌲🟫🟫🟫🟫🟫🟫🟫🟫🟫🟫🟫🌲🟫🟫🟫🟫🟫🌲🟫🌲🟫🟫🟫🟫🟫🟫🟫🟫🟫🟫🟫\n",
      "🟫🟫🟫🟫🌲🟫🟫🟫🟫🌲🟫🟫🟫🌲🟫🟫🟫🟫🌲🟫🟫🟫🟫🟫🟫🟫🌲🟫🟫🟫🌲🟫🟫🟫🟫🟫🌲🟫🟫🌲🟫🟫🟫🟫🟫🟫🟫🟫🟫🟫🟫🟫🟫🟫🌲🟫🟫🟫🟫🟫🌲🟫🟫🟫\n",
      "🟫🟫🌲🟫🟫🟫🌲🟫🟫🟫🌲🟫🟫🟫🟫🟫🟫🟫🟫🟫🟫🟫🟫🌲🟫🟫🟫🟫🌲🟫🟫🟫🟫🟫🌲🟫🟫🌲🟫🟫🟫🌲🟫🟫🌲🟫🟫🌲🟫🟫🟫🟫🟫🟫🟫🟫🟫🟫🌲🟫🟫🟫🟫🌲\n",
      "🟫🟫🟫🟫🟫🟫🟫🟫🟫🟫🟫🟫🟫🟫🌲🟫🟫🟫🟫🟫🌲🟫🟫🟫🟫🌲🟫🟫🟫🟫🟫🌲🟫🟫🟫🟫🟫🟫🟫🟫🟫🟫🟫🟫🟫🌲🟫🟫🟫🟫🌲🟫🟫🌲🟫🟫🌲🟫🟫🟫🟫🟫🟫🟫\n",
      "🌲🟫🟫🟫🌲🟫🟫🌲🟫🟫🟫🌲🟫🟫🟫🌲🟫🟫🌲🟫🟫🟫🟫🟫🌲🟫🟫🟫🌲🟫🟫🟫🟫🌲🟫🌲🟫🟫🟫🟫🌲🟫🟫🟫🟫🟫🟫🌲🟫🟫🟫🟫🟫🟫🟫🟫🟫🟫🟫🟫🟫🟫🌲🟫\n",
      "🟫🟫🟫🌲🟫🟫🟫🟫🟫🟫🌲🟫🟫🟫🟫🟫🟫🟫🟫🟫🟫🟫🟫🟫🟫🟫🟫🟫🟫🟫🟫🟫🟫🟫🟫🟫🟫🟫🌲🟫🟫🟫🌲🟫🟫🟫🟫🟫🟫🟫🟫🌲🟫🟫🌲🟫🌲🟫🟫🌲🟫🟫🟫🟫\n",
      "🟫🌲🟫🟫🟫🟫🌲🟫🌲🟫🟫🟫🟫🌲🟫🟫🟫🟫🟫🌲🟫🌲🟫🌲🟫🟫🟫🟫🌲🟫🌲🟫🟫🟫🟫🟫🟫🟫🟫🟫🟫🌲🟫🟫🟫🌲🟫🟫🟫🟫🟫🟫🟫🟫🟫🟫🟫🌲🟫🟫🟫🟫🌲🟫\n",
      "🟫🟫🟫🟫🟫🟫🟫🟫🟫🟫🟫🟫🟫🟫🟫🟫🌲🟫🟫🟫🟫🟫🟫🟫🟫🌲🟫🟫🟫🟫🟫🟫🌲🟫🟫🟫🌲🟫🟫🟫🟫🟫🟫🟫🟫🟫🟫🌲🟫🌲🟫🟫🌲🟫🌲🟫🟫🟫🟫🟫🌲🟫🟫🟫\n",
      "🟫🟫🟫🌲🟫🟫🟫🟫🟫🌲🟫🟫🟫🟫🌲🟫🟫🟫🟫🟫🟫🌲🟫🟫🟫🟫🟫🟫🟫🟫🌲🟫🟫🟫🟫🟫🟫🟫🟫🟫🟫🟫🟫🟫🟫🟫🟫🟫🟫🟫🟫🟫🟫🟫🟫🟫🟫🟫🟫🟫🟫🟫🟫🟫\n",
      "🟫🟫🟫🟫🟫🟫🌲🟫🟫🟫🟫🟫🌲🟫🟫🟫🟫🟫🟫🌲🟫🟫🟫🌲🟫🌲🟫🌲🟫🟫🟫🟫🟫🟫🌲🟫🟫🌲🟫🌲🟫🌲🟫🟫🟫🟫🟫🟫🟫🌲🟫🟫🟫🌲🟫🌲🟫🟫🌲🟫🟫🌲🟫🌲\n",
      "🌲🟫🟫🟫🌲🟫🟫🟫🟫🟫🌲🟫🟫🟫🟫🟫🌲🟫🟫🟫🟫🟫🟫🟫🟫🟫🟫🟫🟫🟫🟫🌲🟫🟫🟫🟫🟫🟫🟫🟫🟫🟫🟫🟫🌲🟫🌲🟫🟫🟫🟫🟫🟫🟫🟫🟫🟫🟫🟫🟫🟫🟫🟫🟫\n",
      "🟫🟫🌲🟫🟫🟫🟫🟫🟫🟫🟫🟫🌲🟫🟫🟫🟫🟫🟫🌲🟫🟫🟫🌲🟫🟫🌲🟫🟫🟫🟫🟫🟫🟫🟫🟫🌲🟫🟫🟫🌲🟫🌲🟫🟫🟫🟫🟫🟫🌲🟫🟫🌲🟫🟫🟫🟫🟫🌲🟫🌲🟫🟫🟫\n",
      "🟫🟫🟫🟫🟫🟫🌲🟫🟫🟫🌲🟫🟫🟫🌲🟫🟫🟫🟫🟫🟫🟫🌲🟫🟫🟫🟫🟫🟫🌲🟫🟫🌲🟫🟫🟫🟫🟫🟫🌲🟫🟫🟫🟫🟫🟫🟫🟫🟫🟫🟫🟫🟫🟫🟫🟫🟫🟫🟫🟫🟫🟫🟫🌲\n",
      "🟫🌲🟫🌲🟫🟫🟫🟫🌲🟫🟫🟫🟫🟫🟫🟫🟫🟫🟫🌲🟫🟫🟫🟫🟫🟫🌲🟫🟫🟫🟫🟫🟫🟫🌲🟫🟫🟫🟫🟫🟫🟫🟫🌲🟫🟫🟫🌲🟫🟫🟫🌲🟫🌲🟫🌲🟫🟫🟫🟫🟫🌲🟫🟫\n",
      "🟫🟫🟫🟫🟫🟫🟫🟫🟫🟫🌲🟫🟫🟫🌲🟫🟫🌲🟫🟫🟫🟫🟫🌲🟫🟫🟫🟫🟫🟫🟫🟫🟫🟫🟫🟫🌲🟫🟫🟫🟫🌲🟫🟫🟫🌲🟫🟫🟫🟫🟫🟫🟫🟫🟫🟫🟫🟫🟫🌲🟫🟫🟫🟫\n",
      "🟫🌲🟫🟫🟫🟫🌲🟫🟫🟫🟫🟫🟫🟫🟫🟫🟫🟫🟫🟫🌲🟫🟫🟫🟫🟫🟫🟫🟫🟫🟫🌲🟫🌲🟫🟫🟫🟫🟫🌲🟫🟫🟫🟫🟫🟫🟫🟫🟫🌲🟫🟫🟫🌲🟫🟫🟫🟫🟫🟫🟫🟫🟫🌲\n",
      "🟫🟫🟫🌲🟫🟫🟫🟫🌲🟫🟫🌲🟫🟫🌲🟫🟫🟫🌲🟫🟫🟫🌲🟫🟫🟫🟫🌲🟫🟫🟫🟫🟫🟫🟫🟫🌲🟫🟫🟫🟫🟫🟫🟫🟫🟫🟫🌲🟫🟫🟫🟫🟫🟫🟫🟫🟫🟫🟫🌲🟫🌲🟫🟫\n",
      "🌲🟫🟫🟫🟫🟫🟫🟫🟫🟫🟫🟫🟫🟫🟫🟫🌲🟫🟫🟫🟫🟫🟫🟫🟫🟫🌲🟫🟫🟫🟫🟫🟫🟫🌲🟫🟫🟫🟫🟫🌲🟫🟫🌲🟫🟫🟫🟫🟫🟫🟫🌲🟫🟫🟫🟫🟫🌲🟫🟫🟫🟫🌲🟫\n",
      "🟫🟫🟫🟫🟫🟫🟫🌲🟫🟫🌲🟫🟫🌲🟫🟫🟫🟫🟫🟫🟫🌲🟫🌲🟫🟫🟫🟫🟫🌲🟫🟫🟫🟫🟫🟫🟫🟫🟫🟫🟫🟫🟫🟫🟫🟫🌲🟫🟫🟫🟫🟫🟫🟫🟫🟫🟫🟫🟫🟫🟫🌲🟫🟫\n",
      "🟫🟫🟫🟫🟫🌲🟫🟫🟫🟫🟫🌲🟫🟫🟫🌲🟫🟫🟫🌲🟫🟫🟫🟫🟫🟫🟫🟫🟫🟫🟫🌲🟫🟫🟫🟫🌲🟫🟫🟫🟫🟫🟫🟫🟫🟫🟫🟫🟫🟫🌲🟫🌲🟫🟫🟫🟫🟫🌲🟫🟫🟫🟫🟫\n",
      "🟫🌲🟫🌲🟫🟫🌲🟫🟫🌲🟫🟫🟫🟫🟫🟫🟫🟫🟫🟫🟫🟫🟫🟫🌲🟫🟫🌲🟫🟫🟫🟫🟫🟫🌲🟫🟫🟫🟫🟫🌲🟫🌲🟫🟫🌲🟫🌲🟫🟫🟫🟫🟫🟫🌲🟫🟫🟫🟫🟫🟫🟫🌲🟫\n",
      "🟫🟫🟫🟫🟫🟫🟫🟫🟫🟫🟫🟫🟫🌲🟫🟫🟫🌲🟫🟫🟫🟫🟫🟫🟫🌲🟫🟫🟫🟫🌲🟫🌲🟫🟫🟫🟫🟫🟫🟫🟫🟫🟫🟫🟫🟫🟫🟫🟫🟫🟫🌲🟫🌲🟫🟫🌲🟫🟫🟫🟫🟫🟫🟫\n",
      "🌲🟫🟫🟫🟫🌲🟫🟫🟫🟫🟫🟫🟫🟫🟫🟫🟫🟫🟫🟫🌲🟫🟫🟫🟫🟫🟫🟫🟫🟫🟫🟫🟫🟫🟫🟫🟫🌲🟫🟫🟫🟫🟫🟫🟫🟫🟫🟫🟫🟫🟫🟫🟫🟫🟫🟫🟫🟫🟫🌲🟫🟫🟫🟫\n",
      "🟫🟫🌲🟫🟫🟫🟫🟫🟫🟫🟫🌲🟫🟫🟫🟫🌲🟫🟫🟫🟫🟫🟫🟫🟫🟫🟫🌲🟫🟫🟫🟫🟫🟫🟫🌲🟫🟫🟫🟫🌲🟫🟫🟫🟫🟫🌲🟫🟫🌲🟫🟫🟫🟫🟫🟫🟫🌲🟫🟫🟫🟫🌲🟫\n",
      "🟫🟫🟫🟫🟫🟫🌲🟫🟫🌲🟫🟫🟫🌲🟫🟫🟫🟫🌲🟫🟫🌲🟫🟫🟫🌲🟫🟫🟫🟫🌲🟫🟫🌲🟫🟫🟫🟫🟫🟫🟫🟫🟫🌲🟫🟫🟫🟫🟫🟫🟫🟫🟫🌲🟫🟫🟫🟫🟫🟫🟫🟫🟫🌲\n",
      "🟫🌲🟫🟫🌲🟫🟫🟫🟫🟫🟫🌲🟫🟫🟫🌲🟫🟫🟫🟫🟫🟫🟫🟫🟫🟫🟫🟫🟫🟫🟫🌲🟫🟫🟫🟫🌲🟫🟫🟫🟫🟫🟫🟫🟫🟫🌲🟫🌲🟫🟫🌲🟫🟫🟫🟫🟫🟫🌲🟫🟫🌲🟫🟫\n",
      "🟫🟫🟫🟫🟫🟫🌲🟫🟫🌲🟫🟫🟫🟫🟫🟫🟫🟫🟫🟫🟫🟫🟫🌲🟫🟫🌲🟫🌲🟫🟫🟫🟫🟫🟫🟫🟫🟫🌲🟫🟫🟫🟫🌲🟫🟫🟫🟫🟫🌲🟫🟫🌲🟫🟫🌲🟫🟫🟫🟫🟫🟫🟫🟫\n",
      "🟫🌲🟫🟫🟫🟫🟫🟫🟫🟫🟫🌲🟫🟫🌲🟫🟫🌲🟫🌲🟫🟫🟫🟫🟫🟫🟫🟫🟫🟫🟫🟫🟫🌲🟫🟫🟫🟫🟫🟫🌲🟫🟫🟫🟫🟫🟫🟫🟫🟫🟫🟫🟫🟫🟫🟫🟫🟫🟫🟫🟫🟫🌲🟫\n",
      "🟫🟫🟫🟫🟫🟫🟫🌲🟫🟫🟫🟫🟫🟫🟫🟫🟫🟫🟫🟫🟫🟫🟫🟫🟫🟫🟫🟫🟫🟫🟫🟫🟫🟫🟫🟫🌲🟫🟫🟫🟫🟫🟫🟫🟫🌲🟫🌲🟫🟫🟫🟫🟫🟫🟫🟫🌲🟫🟫🌲🟫🟫🟫🟫\n",
      "🟫🟫🟫🌲🟫🟫🟫🟫🟫🟫🌲🟫🟫🌲🟫🟫🟫🟫🟫🌲🟫🟫🌲🟫🟫🌲🟫🟫🌲🟫🟫🌲🟫🟫🟫🟫🟫🟫🟫🟫🌲🟫🟫🌲🟫🟫🟫🟫🟫🟫🟫🟫🌲🟫🌲🟫🟫🟫🟫🟫🟫🟫🟫🟫\n",
      "🟫🟫🟫🟫🌲🟫🟫🟫🟫🟫🟫🟫🟫🟫🟫🟫🌲🟫🟫🟫🟫🟫🟫🟫🟫🟫🟫🟫🟫🟫🟫🟫🟫🌲🟫🟫🌲🟫🌲🟫🟫🟫🟫🟫🟫🟫🟫🟫🟫🟫🌲🟫🟫🟫🟫🟫🟫🌲🟫🟫🟫🟫🟫🟫\n",
      "🟫🌲🟫🟫🟫🟫🟫🟫🟫🟫🟫🟫🟫🟫🟫🟫🟫🟫🟫🟫🌲🟫🌲🟫🟫🟫🟫🟫🌲🟫🟫🌲🟫🟫🟫🟫🟫🟫🟫🟫🟫🌲🟫🟫🌲🟫🟫🌲🟫🟫🟫🟫🟫🌲🟫🟫🟫🟫🟫🟫🟫🌲🟫🟫\n",
      "🟫🟫🟫🟫🟫🟫🌲🟫🌲🟫🟫🟫🟫🌲🟫🟫🟫🟫🌲🟫🟫🟫🟫🟫🟫🌲🟫🟫🟫🟫🟫🟫🟫🌲🟫🟫🟫🌲🟫🟫🌲🟫🟫🟫🟫🟫🟫🟫🟫🟫🟫🟫🌲🟫🟫🟫🟫🟫🟫🟫🟫🟫🟫🟫\n",
      "🌲🌲🟫🌲🟫🟫🟫🟫🟫🟫🌲🟫🟫🟫🌲🟫🟫🟫🟫🌲🟫🟫🟫🟫🟫🟫🟫🟫🟫🟫🟫🟫🟫🟫🟫🌲🟫🟫🟫🟫🟫🟫🟫🟫🟫🌲🟫🟫🌲🟫🟫🟫🟫🟫🌲🟫🟫🟫🌲🟫🟫🟫🟫🟫\n",
      "🟫🟫🟫🟫🟫🟫🟫🟫🟫🟫🟫🟫🟫🟫🟫🟫🌲🟫🟫🟫🟫🟫🟫🟫🟫🌲🟫🌲🟫🌲🟫🌲🟫🟫🟫🟫🟫🟫🟫🟫🟫🟫🟫🟫🌲🟫🟫🟫🟫🟫🟫🌲🟫🌲🟫🟫🟫🟫🟫🟫🟫🌲🟫🟫\n",
      "🟫🟫🟫🌲🟫🌲🟫🟫🟫🟫🟫🌲🟫🟫🟫🟫🟫🟫🟫🟫🟫🌲🟫🟫🌲🟫🟫🟫🟫🟫🟫🟫🟫🟫🟫🟫🟫🌲🟫🟫🟫🌲🟫🟫🟫🟫🟫🌲🟫🟫🟫🟫🟫🟫🌲🟫🟫🟫🟫🟫🟫🟫🟫🟫\n",
      "🟫🌲🟫🟫🟫🟫🟫🟫🌲🟫🟫🟫🟫🟫🟫🌲🟫🟫🟫🌲🟫🟫🟫🟫🟫🟫🟫🟫🟫🟫🌲🟫🟫🟫🌲🟫🟫🟫🟫🟫🟫🟫🟫🟫🟫🟫🟫🟫🟫🟫🟫🟫🟫🟫🟫🟫🌲🟫🟫🟫🌲🟫🟫🟫\n",
      "🟫🟫🟫🟫🟫🟫🟫🟫🟫🟫🟫🟫🟫🌲🟫🟫🟫🌲🟫🟫🟫🌲🟫🌲🟫🟫🟫🌲🟫🟫🟫🟫🟫🟫🟫🟫🌲🟫🟫🟫🟫🟫🟫🟫🟫🟫🌲🟫🌲🟫🟫🌲🟫🌲🟫🟫🟫🟫🌲🟫🟫🟫🌲🟫\n",
      "🟫🟫🌲🟫🟫🌲🟫🟫🌲🟫🟫🟫🟫🟫🟫🟫🟫🟫🟫🟫🟫🟫🟫🟫🟫🟫🟫🟫🟫🟫🟫🟫🟫🟫🟫🟫🟫🟫🟫🌲🟫🟫🟫🌲🟫🟫🟫🟫🟫🟫🟫🟫🟫🟫🟫🌲🟫🟫🟫🟫🟫🟫🟫🟫\n",
      "🟫🟫🟫🟫🟫🟫🟫🟫🟫🟫🌲🟫🟫🟫🌲🟫🟫🟫🟫🌲🟫🟫🌲🟫🌲🟫🟫🟫🟫🟫🌲🟫🟫🌲🟫🟫🌲🟫🌲🟫🟫🟫🟫🟫🟫🟫🟫🟫🟫🌲🟫🟫🌲🟫🟫🟫🟫🟫🟫🟫🌲🟫🌲🟫\n",
      "🟫🟫🟫🟫🌲🟫🟫🟫🟫🟫🟫🟫🟫🟫🟫🟫🟫🌲🟫🟫🟫🟫🟫🟫🟫🟫🌲🟫🟫🟫🟫🟫🟫🟫🟫🟫🟫🟫🟫🟫🟫🟫🌲🟫🟫🟫🌲🟫🟫🟫🟫🟫🟫🟫🟫🟫🌲🟫🟫🟫🟫🟫🟫🟫\n",
      "🌲🟫🟫🟫🟫🟫🌲🟫🟫🌲🟫🟫🌲🟫🟫🟫🟫🟫🟫🟫🟫🟫🟫🌲🟫🟫🟫🟫🌲🟫🟫🌲🟫🟫🟫🟫🟫🟫🟫🟫🌲🟫🟫🟫🟫🟫🟫🟫🟫🟫🟫🟫🟫🟫🌲🟫🟫🟫🟫🟫🟫🟫🟫🟫\n",
      "🟫🟫🌲🟫🟫🟫🟫🟫🟫🟫🟫🟫🟫🟫🟫🌲🟫🟫🟫🟫🌲🟫🟫🟫🟫🟫🟫🟫🟫🟫🟫🟫🟫🌲🟫🟫🌲🟫🌲🟫🟫🟫🟫🌲🟫🟫🟫🟫🌲🟫🟫🟫🟫🟫🟫🟫🟫🟫🌲🟫🟫🌲🟫🟫\n",
      "🟫🟫🟫🟫🟫🌲🟫🟫🌲🟫🟫🟫🟫🟫🟫🟫🟫🌲🟫🟫🟫🟫🟫🟫🟫🟫🟫🟫🟫🟫🟫🟫🟫🟫🟫🟫🟫🟫🟫🟫🟫🟫🟫🟫🟫🟫🟫🟫🟫🟫🟫🌲🟫🟫🌲🟫🟫🟫🟫🌲🟫🟫🟫🟫\n",
      "🟫🟫🟫🌲🟫🟫🟫🟫🟫🟫🌲🟫🟫🟫🟫🟫🟫🟫🟫🟫🟫🟫🟫🌲🟫🟫🌲🟫🟫🌲🟫🟫🌲🟫🟫🟫🌲🟫🟫🟫🌲🟫🟫🟫🟫🟫🌲🟫🟫🟫🟫🟫🟫🟫🟫🟫🌲🟫🟫🟫🟫🟫🟫🌲\n",
      "🟫🟫🟫🟫🟫🟫🟫🟫🟫🟫🟫🟫🟫🌲🟫🟫🌲🟫🟫🟫🟫🟫🟫🟫🟫🟫🟫🟫🟫🟫🌲🟫🟫🟫🌲🟫🟫🌲🟫🟫🟫🟫🌲🟫🟫🟫🟫🟫🟫🌲🟫🟫🟫🌲🟫🟫🟫🟫🟫🟫🟫🌲🟫🟫\n",
      "🟫🌲🟫🟫🌲🟫🟫🌲🟫🟫🟫🟫🟫🟫🟫🟫🟫🟫🟫🌲🟫🌲🟫🟫🟫🟫🌲🟫🌲🟫🟫🟫🟫🟫🟫🟫🟫🟫🟫🟫🌲🟫🟫🌲🟫🟫🟫🟫🟫🟫🟫🟫🟫🟫🟫🌲🟫🟫🟫🟫🟫🟫🟫🟫\n",
      "🟫🟫🟫🟫🟫🟫🟫🟫🟫🟫🌲🟫🟫🌲🟫🟫🟫🌲🟫🟫🟫🟫🟫🌲🟫🟫🟫🟫🟫🟫🟫🟫🟫🟫🌲🟫🟫🟫🟫🟫🟫🟫🟫🟫🟫🟫🌲🟫🟫🌲🟫🟫🌲🟫🟫🟫🟫🟫🌲🟫🟫🟫🟫🟫\n",
      "🟫🌲🟫🟫🟫🟫🟫🟫🟫🟫🟫🟫🟫🟫🌲🟫🟫🟫🟫🟫🟫🟫🟫🟫🟫🟫🌲🟫🟫🟫🟫🟫🌲🟫🟫🟫🌲🟫🟫🟫🟫🟫🟫🟫🟫🟫🟫🟫🟫🟫🌲🟫🟫🟫🌲🟫🌲🟫🟫🟫🟫🌲🟫🟫\n",
      "🟫🟫🟫🟫🌲🟫🌲🟫🟫🟫🟫🟫🌲🟫🟫🟫🟫🌲🟫🟫🟫🟫🌲🟫🟫🟫🟫🟫🌲🟫🟫🟫🟫🟫🌲🟫🟫🟫🟫🌲🟫🟫🌲🟫🟫🟫🟫🌲🟫🟫🟫🟫🟫🟫🟫🟫🟫🟫🟫🟫🟫🟫🟫🟫\n",
      "🟫🟫🌲🟫🟫🟫🟫🟫🟫🌲🟫🟫🟫🟫🟫🟫🟫🟫🟫🟫🌲🟫🟫🌲🟫🟫🟫🟫🟫🟫🟫🟫🟫🟫🟫🟫🟫🟫🟫🟫🟫🟫🟫🟫🟫🌲🟫🟫🟫🟫🟫🌲🟫🟫🟫🟫🟫🌲🟫🌲🟫🟫🟫🟫\n",
      "🟫🟫🟫🟫🟫🟫🟫🌲🟫🟫🌲🟫🟫🌲🟫🌲🟫🟫🟫🟫🟫🟫🌲🟫🟫🟫🟫🌲🟫🟫🌲🟫🌲🟫🟫🟫🟫🌲🟫🟫🌲🟫🟫🟫🟫🟫🟫🟫🟫🟫🟫🟫🟫🌲🟫🟫🟫🟫🟫🟫🟫🟫🌲🟫\n",
      "🟫🟫🌲🟫🟫🟫🟫🟫🟫🟫🟫🟫🟫🟫🟫🟫🟫🌲🟫🟫🟫🟫🟫🟫🟫🌲🟫🟫🟫🟫🟫🟫🟫🟫🌲🟫🟫🟫🟫🌲🟫🟫🟫🌲🟫🟫🌲🟫🌲🟫🟫🟫🟫🟫🟫🌲🟫🟫🟫🌲🟫🟫🟫🟫\n"
     ]
    }
   ],
   "source": [
    "resultado = a.poisson_disc_sampling(2,10)\n",
    "for r in resultado:\n",
    "    print(\"\".join([str(\"🌲\" if j==1 else \"🟫\") for j in list(r.flatten())][0:64]))"
   ]
  },
  {
   "cell_type": "code",
   "execution_count": 164,
   "metadata": {},
   "outputs": [
    {
     "name": "stdout",
     "output_type": "stream",
     "text": [
      "[[0.00083511 0.00100262 0.00152401 ... 0.00072446 0.00132693 0.00284349]\n",
      " [0.00127895 0.00193673 0.00222237 ... 0.00065001 0.00119148 0.0034454 ]\n",
      " [0.00188962 0.0029825  0.00283211 ... 0.00064732 0.00154927 0.00407253]\n",
      " ...\n",
      " [0.00190146 0.00134237 0.00083732 ... 0.20210423 0.1821459  0.10127136]\n",
      " [0.00264083 0.00228841 0.0016737  ... 0.1914461  0.14352661 0.07405585]\n",
      " [0.00324761 0.00336357 0.00395281 ... 0.14387918 0.09265979 0.04945236]]\n"
     ]
    }
   ],
   "source": [
    "gtr = a.getFractalNoiseArray(123,34,7,4,16,3)\n",
    "print(gtr)"
   ]
  }
 ],
 "metadata": {
  "kernelspec": {
   "display_name": ".venv",
   "language": "python",
   "name": "python3"
  },
  "language_info": {
   "codemirror_mode": {
    "name": "ipython",
    "version": 3
   },
   "file_extension": ".py",
   "mimetype": "text/x-python",
   "name": "python",
   "nbconvert_exporter": "python",
   "pygments_lexer": "ipython3",
   "version": "3.12.3"
  }
 },
 "nbformat": 4,
 "nbformat_minor": 2
}
