{
 "cells": [
  {
   "cell_type": "code",
   "execution_count": 29,
   "metadata": {},
   "outputs": [],
   "source": [
    "import opensimplex\n",
    "import numpy as np\n",
    "import matplotlib.pyplot as plt\n",
    "import math\n",
    "from random import randint\n",
    "import os\n",
    "import multiprocessing as mp\n",
    "import plotly.express as px\n",
    "from random import randint, random, uniform"
   ]
  },
  {
   "cell_type": "code",
   "execution_count": 30,
   "metadata": {},
   "outputs": [
    {
     "name": "stdout",
     "output_type": "stream",
     "text": [
      "0\n",
      "1\n",
      "2\n",
      "3\n",
      "4\n",
      "5\n",
      "6\n",
      "7\n",
      "8\n",
      "9\n",
      "10\n",
      "11\n",
      "12\n",
      "13\n",
      "14\n",
      "15\n",
      "16\n",
      "17\n",
      "18\n",
      "19\n",
      "20\n",
      "21\n",
      "22\n",
      "23\n",
      "24\n",
      "25\n",
      "26\n",
      "27\n",
      "28\n",
      "29\n",
      "30\n",
      "31\n",
      "[[[10 10 10 ... 11 11 11]\n",
      "  [10 10 10 ... 11 11 11]\n",
      "  [10 10 10 ... 11 11 11]\n",
      "  ...\n",
      "  [14 14 14 ... 16 16 16]\n",
      "  [14 14 14 ... 16 16 16]\n",
      "  [14 14 14 ... 16 16 16]]\n",
      "\n",
      " [[10 10 10 ... 11 11 11]\n",
      "  [10 10 10 ... 11 11 11]\n",
      "  [10 10 10 ... 11 11 11]\n",
      "  ...\n",
      "  [14 14 14 ... 16 16 16]\n",
      "  [14 14 14 ... 16 16 16]\n",
      "  [14 14 14 ... 16 16 16]]\n",
      "\n",
      " [[10 10 10 ... 11 11 11]\n",
      "  [10 10 10 ... 11 11 11]\n",
      "  [10 10 10 ... 11 11 11]\n",
      "  ...\n",
      "  [14 14 14 ... 16 16 16]\n",
      "  [14 14 14 ... 16 16 16]\n",
      "  [14 14 14 ... 16 16 16]]\n",
      "\n",
      " ...\n",
      "\n",
      " [[ 5  5  5 ... 12 12 12]\n",
      "  [ 5  5  5 ... 12 12 12]\n",
      "  [ 5  5  5 ... 12 12 12]\n",
      "  ...\n",
      "  [15 15 15 ... 12 12 12]\n",
      "  [15 15 15 ... 12 12 12]\n",
      "  [15 15 15 ... 12 12 12]]\n",
      "\n",
      " [[ 5  5  5 ... 12 12 12]\n",
      "  [ 5  5  5 ... 12 12 12]\n",
      "  [ 5  5  5 ... 12 12 12]\n",
      "  ...\n",
      "  [15 15 15 ... 12 12 12]\n",
      "  [15 15 15 ... 12 12 12]\n",
      "  [15 15 15 ... 12 12 12]]\n",
      "\n",
      " [[ 5  5  5 ... 12 12 12]\n",
      "  [ 5  5  5 ... 12 12 12]\n",
      "  [ 5  5  5 ... 12 12 12]\n",
      "  ...\n",
      "  [15 15 15 ... 12 12 12]\n",
      "  [15 15 15 ... 12 12 12]\n",
      "  [15 15 15 ... 12 12 12]]]\n"
     ]
    }
   ],
   "source": [
    "ag = 32\n",
    "biomas = np.empty(shape=(ag,ag,ag), dtype=np.uint8)\n",
    "for i in range(ag):\n",
    "    for j in range(ag):\n",
    "        for k in range(ag):\n",
    "            mejor = float('inf')\n",
    "            for r in generator.BIOMAS.keys():\n",
    "                a = np.linalg.norm(np.array(generator.BIOMAS[r][0]) - np.array([i/ag, j/ag, k/ag]))\n",
    "                if a < mejor:\n",
    "                    mejor = a\n",
    "                    biomas[i, j, k] = r\n",
    "    print(i)\n",
    "print(biomas)\n",
    "np.save(f\"CERCANIA_BIOMAS.npy\", biomas)\n"
   ]
  },
  {
   "cell_type": "code",
   "execution_count": 31,
   "metadata": {},
   "outputs": [],
   "source": [
    "TEXTURAS_SUELO = {\n",
    "    0: \"Water\",\n",
    "    1: \"Grass\",\n",
    "    2: \"Sand\",\n",
    "    3: \"Stone\",\n",
    "    4: \"Brown Stone\",\n",
    "    5: \"Volcanic Stone\",\n",
    "    6: \"Snow\",\n",
    "}\n",
    "\n",
    "TEXTURAS = {\n",
    "    \"Arbol\": {\n",
    "        0: \"Palmera\", #Desierto\n",
    "        1: \"Roble\", #Valle\n",
    "        2: \"Sauce\", #Pantano\n",
    "        3: \"Arbol de selva\", #Selva\n",
    "        4: \"Acacia\", #Savana\n",
    "        5: \"Encina\", #Dehesa\n",
    "        6: \"Conífero\", #Bosque\n",
    "        6: \"Árbol carbonizado\", #Volcanico\n",
    "    },\n",
    "    \"Roca\": { #Para cada bioma habrá un tipo\n",
    "        \"Roca pequeña\": {\n",
    "\n",
    "        },\n",
    "        \"Roca mediana\": {\n",
    "\n",
    "        },\n",
    "        \"Roca grande\": {\n",
    "\n",
    "        },\n",
    "    }\n",
    "}"
   ]
  },
  {
   "cell_type": "code",
   "execution_count": 32,
   "metadata": {},
   "outputs": [],
   "source": [
    "class generator:\n",
    "    \"\"\"\n",
    "    A class to generate terrain using OpenSimplex noise and other procedural generation techniques.\n",
    "    Attributes:\n",
    "    -----------\n",
    "    BIOMAS : dict\n",
    "        A dictionary containing biome information with keys as biome IDs and values as tuples containing\n",
    "        humidity, altitude, temperature, biome name, color, and objects with their probabilities.\n",
    "    CHUNK_SIZE : int\n",
    "        The size of each chunk in the terrain.\n",
    "    CERCANIA_BIOMAS : np.ndarray\n",
    "        A numpy array loaded from a file that contains biome proximity data.\n",
    "    Methods:\n",
    "    --------\n",
    "    __init__(seedTemp: int = None, seedAltu: int = None, seedHume: int = None, seedRios: int = None, \n",
    "             varTemp: int = 256, varAltu: int = 512, varHume: int = 512, varRios: int = 128, \n",
    "             dispTemp: int = 2, dispAltu: int = 4, dispHume: int = 2, dispRios: int = 4, \n",
    "             nivelAgua: int = 0.5, tamRios: int = 5):\n",
    "        Initializes the generator with given seeds, variations, disparities, water level, and river size.\n",
    "    getNoise(seed: int, x_in: int, y_in: int, iterations: int, size: int, disparity: int = 3) -> np.float16:\n",
    "        Generates Perlin noise for a given seed, coordinates, iterations, size, and disparity.\n",
    "    getNoiseArray(seed: int, x_in: int, y_in: int, iterations: int, size: int, disparity: int = 3) -> np.ndarray:\n",
    "        Generates a 2D array of Perlin noise for a given seed, coordinates, iterations, size, and disparity.\n",
    "    getBioma(temp: float, altu: float, hume: float, rios: float) -> np.uint8:\n",
    "        Determines the biome type based on temperature, altitude, humidity, and river presence.\n",
    "    getChunk(x: int, y: int) -> np.ndarray:\n",
    "        Retrieves or generates a chunk of terrain data for given coordinates.\n",
    "    getChunksInRange(x_range: tuple[int, int], y_range: tuple[int, int]) -> np.ndarray:\n",
    "        Retrieves or generates multiple chunks of terrain data within a specified range of coordinates.\n",
    "    representation(x_range: tuple[int, int], y_range: tuple[int, int]) -> None:\n",
    "        Generates a visual representation of the terrain within a specified range of coordinates.\n",
    "    poisson_disc_sampling(radius: int, k: int) -> np.ndarray:\n",
    "        Generates a 2D array using Poisson-disc sampling for a given radius and number of attempts.\n",
    "    \"\"\"\n",
    "    #(Humedad altura temperatura), nombre del bioma, color, {objetos que pueden aparecer, probabilidades}\n",
    "    BIOMAS = {\n",
    "        0: ([-1, -1, -1], 'Oceano', (56, 148, 194), {}),\n",
    "        1: ([-1, -1, -1], 'Oceano profundo', (27, 59, 140), {}),\n",
    "        2: ([-1, -1, -1], 'Rios y lagos', (126, 180, 237), {}),\n",
    "        3: ([0.5, 0.0, 0.5], 'Costa', (245, 240, 108), {\"Palmera\": 0.7, \"Piedra pequeña\": 0.3}),\n",
    "        4: ([0.85, 0.05, 0.45], 'Marismas', (171, 222, 32), {\"Arbusto\": 1}),\n",
    "        5: ([0.75, 0.1, 0.05], 'Polo', (250, 250, 250), {\"Tempano\": 0.5, \"Piedra congelada\": 0.5}),\n",
    "        6: ([0.8, 0.15, 0.45], 'Pantano', (33, 133, 99), {\"Arbusto\": 0.2, \"Piedra pequeña\": 0.2, \"Arbol\": 0.6}),\n",
    "        7: ([0.5, 0.2, 0.5], 'Bosque', (53, 118, 43), {\"Arbol\": 0.6, \"Arbusto\": 0.2, \"Flores\": 0.2}),\n",
    "        8: ([0.6, 0.2, 0.55], 'Selva', (0, 183, 10), {\"Arbol\": 0.7, \"Helecho\": 0.3}),\n",
    "        9: ([0.35, 0.2, 0.55], 'Dehesa', (128, 179, 30), {\"Arbol\": 0.5, \"Arbusto\": 0.5}),\n",
    "        10: ([0.2, 0.2, 0.6], 'Savana', (228, 125, 28), {\"Arbol\": 0.3, \"Arbusto\": 0.7}),\n",
    "        12: ([0.75, 0.25, 0.75], 'Termales', (39, 156, 121), {\"Geiser\": 0.5, \"Piedra pequeña\": 0.5}),\n",
    "        11: ([0.0, 0.3, 0.8], 'Desierto', (255, 211, 29), {\"Cactus\": 0.7, \"Arbusto muerto\": 0.3}),\n",
    "        13: ([0.8, 0.3, 0.3], 'Setas', (152, 3, 252), {\"Seta grande\": 0.6, \"Seta pequeña\": 0.4}),\n",
    "        14: ([0.2, 0.65, 0.55], 'Meseta', (110, 88, 66), {\"Roca grande\": 0.1, \"Arbusto\": 0.5, \"Roca pequeña\": 0.4}),\n",
    "        15: ([0.7, 0.8, 0.2], 'Tundra', (208, 208, 240), {\"Piedra pequeña\": 0.5, \"Flores\": 0.5}),\n",
    "        16: ([0.15, 0.8, 0.85], 'Volcanico', (159, 16, 16), {\"Arbol carbonizado\": 0.6, \"Charco de lava\": 0.4}),\n",
    "        17: ([0.35, 9, 0.35], 'Montaña', (125, 125, 125), {\"Roca grande\": 0.3, \"Roca pequeña\": 0.7}),\n",
    "    }\n",
    "\n",
    "    CHUNK_SIZE = 128\n",
    "    CERCANIA_BIOMAS = np.load(\"./CERCANIA_BIOMAS.npy\" )\n",
    "\n",
    "    def __init__(\n",
    "        self, \n",
    "        seedTemp: int = None, seedAltu: int = None, seedHume: int = None, seedRios: int = None,\n",
    "        varTemp: int = 256, varAltu: int = 512, varHume: int = 512, varRios: int = 128,\n",
    "        dispTemp: int = 2, dispAltu: int = 4, dispHume: int = 2, dispRios: int = 4,\n",
    "        nivelAgua: int = 0.5,\n",
    "        tamRios: int = 5,\n",
    "        itTemp: int = 3, itAltu: int = 5, itHume: int = 3, itRios: int = 4,\n",
    "        ):\n",
    "        \"\"\"\n",
    "        Initialize the PerlinNoise generator with various parameters.\n",
    "        Args:\n",
    "            seedTemp (int, optional): Seed for temperature noise generation. Defaults to None.\n",
    "            seedAltu (int, optional): Seed for altitude noise generation. Defaults to None.\n",
    "            seedHume (int, optional): Seed for humidity noise generation. Defaults to None.\n",
    "            seedRios (int, optional): Seed for river noise generation. Defaults to None.\n",
    "            varTemp (int, optional): Variation for temperature noise. Defaults to 256.\n",
    "            varAltu (int, optional): Variation for altitude noise. Defaults to 512.\n",
    "            varHume (int, optional): Variation for humidity noise. Defaults to 512.\n",
    "            varRios (int, optional): Variation for river noise. Defaults to 128.\n",
    "            dispTemp (int, optional): Displacement for temperature noise. Defaults to 2.\n",
    "            dispAltu (int, optional): Displacement for altitude noise. Defaults to 4.\n",
    "            dispHume (int, optional): Displacement for humidity noise. Defaults to 2.\n",
    "            dispRios (int, optional): Displacement for river noise. Defaults to 4.\n",
    "            nivelAgua (float, optional): Water level threshold. Defaults to 0.5.\n",
    "            tamRios (int, optional): Size of rivers. Defaults to 5.\n",
    "            itTemp (int, optional): Iterations for temperature noise generation. Defaults to 3.\n",
    "            itAltu (int, optional): Iterations for altitude noise generation. Defaults to 6.\n",
    "            itHume (int, optional): Iterations for humidity noise generation. Defaults to 3.\n",
    "            itRios (int, optional): Iterations for river noise generation. Defaults to 4.\n",
    "        \"\"\"\n",
    "        self.SEEDTEMP = seedTemp if seedTemp != None else randint(-2**62, 2**62)\n",
    "        self.SEEDALTU = seedAltu if seedTemp != None else randint(-2**62, 2**62)\n",
    "        self.SEEDHUME = seedHume if seedTemp != None else randint(-2**62, 2**62)\n",
    "        self.SEEDRIOS = seedRios if seedTemp != None else randint(-2**62, 2**62)\n",
    "        self.VARTEMP = varTemp\n",
    "        self.VARALTU = varAltu\n",
    "        self.VARHUME = varHume\n",
    "        self.VARRIOS = varRios\n",
    "        self.DISPTEMP = dispTemp\n",
    "        self.DISPALTU = dispAltu\n",
    "        self.DISPHUME = dispHume\n",
    "        self.DISPRIOS = dispRios\n",
    "        self.NIVELAGUA = nivelAgua\n",
    "        self.TAMRIOS = tamRios\n",
    "        self.ITTEMP = itTemp\n",
    "        self.ITALTU = itAltu\n",
    "        self.ITHUME = itHume\n",
    "        self.ITRIOS = itRios\n",
    "\n",
    "    def getNoise(self, seed: int, x_in: int, y_in: int, iterations: int, size: int, disparity: int = 3) -> np.float16:\n",
    "        \"\"\"\n",
    "        Generates Perlin noise based on the given parameters.\n",
    "        Args:\n",
    "            seed (int): The seed value for the noise generation.\n",
    "            x_in (int): The x-coordinate input for the noise function.\n",
    "            y_in (int): The y-coordinate input for the noise function.\n",
    "            iterations (int): The number of iterations to perform for noise generation.\n",
    "            size (int): The size parameter that affects the scale of the noise.\n",
    "            disparity (int, optional): The number of disparity iterations to smooth the noise. Default is 3.\n",
    "        Returns:\n",
    "            np.float16: The generated noise value.\n",
    "        \"\"\"\n",
    "        opensimplex.seed(seed)\n",
    "        ruido = 0\n",
    "        for r in range(iterations):\n",
    "            divisor = (size/2**r)\n",
    "            exponenciador = (2**r)\n",
    "            ruido += opensimplex.noise2(x=(x_in)/divisor, y=(y_in)/divisor)/exponenciador\n",
    "            \n",
    "        maximo = sum([2/(2**r) for r in range(iterations)])\n",
    "        ruido = (ruido + maximo)/(2*maximo)     \n",
    "        for r in range(disparity):\n",
    "            ruido = 0.5 + math.sin(math.pi*ruido - math.pi/2)/2\n",
    "        return ruido\n",
    "\n",
    "    def getNoiseArray(\n",
    "        self, \n",
    "        seed: np.int64, \n",
    "        x_in: np.int64, \n",
    "        y_in: np.int64, \n",
    "        iterations: np.uint8, \n",
    "        size: np.uint8, \n",
    "        disparity: np.uint8 = 3\n",
    "        ) -> np.ndarray:\n",
    "        \"\"\"\n",
    "        Generates a 2D array of Perlin noise values.\n",
    "        Args:\n",
    "            seed (np.int64): Seed for the noise generation.\n",
    "            x_in (np.int64): X-coordinate input for the chunk.\n",
    "            y_in (np.int64): Y-coordinate input for the chunk.\n",
    "            iterations (np.uint8): Number of iterations for noise generation.\n",
    "            size (np.uint8): Size parameter for noise scaling.\n",
    "            disparity (np.uint8, optional): Number of disparity adjustments to apply. Default is 3.\n",
    "        Returns:\n",
    "            np.ndarray: A 2D array of generated noise values.\n",
    "        \"\"\"\n",
    "        x = self.CHUNK_SIZE*x_in\n",
    "        y = self.CHUNK_SIZE*y_in\n",
    "        opensimplex.seed(seed)\n",
    "\n",
    "        rango = range(0,self.CHUNK_SIZE)\n",
    "        noise_array = np.zeros(dtype=np.float16, shape=(self.CHUNK_SIZE, self.CHUNK_SIZE))\n",
    "\n",
    "        for r in range(iterations):\n",
    "            divisor = (size/2**r)\n",
    "            exponenciador = (2**r)\n",
    "            for i in rango:\n",
    "                for j in rango:\n",
    "                    noise_array[j, i] += opensimplex.noise2(x=(i+x)/divisor, y=(y+j)/divisor)/exponenciador\n",
    "        \n",
    "        maximo = sum([2/(2**r) for r in range(iterations)])\n",
    "        for i in rango:\n",
    "            for j in rango:\n",
    "                valor = (noise_array[j, i] + maximo)/(2*maximo)     \n",
    "                for r in range(disparity):\n",
    "                    valor = 0.5 + math.sin(math.pi*valor - math.pi/2)/2\n",
    "                noise_array[j, i] = valor\n",
    "        return noise_array\n",
    "    \n",
    "    def getBioma(\n",
    "        self, \n",
    "        temp: np.float16, \n",
    "        altu: np.float16, \n",
    "        hume: np.float16, \n",
    "        rios: np.float16\n",
    "        ) -> np.uint8:\n",
    "        \"\"\"\n",
    "        Determines the biome type based on temperature, altitude, humidity, and proximity to rivers.\n",
    "        Args:\n",
    "            temp (np.float16): Temperature value.\n",
    "            altu (np.float16): Altitude value.\n",
    "            hume (np.float16): Humidity value.\n",
    "            rios (np.float16): Proximity to rivers value.\n",
    "        Returns:\n",
    "            np.uint8: Biome type identifier.\n",
    "            - 0: Ocean\n",
    "            - 1: Deep Ocean\n",
    "            - 2: Rivers and Lakes\n",
    "            - Other values based on the CERCANIA_BIOMAS matrix.\n",
    "        \"\"\"\n",
    "        if(altu < self.NIVELAGUA):\n",
    "            if (altu <= self.NIVELAGUA*0.8):\n",
    "                return 1 #Oceano profundo\n",
    "            else:\n",
    "                return 0 #Oceano\n",
    "        elif(0.5 - self.TAMRIOS/100 < rios < 0.5 + self.TAMRIOS/100):\n",
    "            return 2 #Rios y lagos\n",
    "        else:\n",
    "            alt = math.floor(self.CERCANIA_BIOMAS.shape[0]*(altu-self.NIVELAGUA)/self.NIVELAGUA)\n",
    "            temp = math.floor(self.CERCANIA_BIOMAS.shape[1]*temp)\n",
    "            hum = math.floor(self.CERCANIA_BIOMAS.shape[2]*hume)\n",
    "            return np.uint8(self.CERCANIA_BIOMAS[hum, alt, temp])\n",
    "\n",
    "    def getChunk(self, x: np.int16, y: np.int16) -> np.ndarray:\n",
    "        \"\"\"\n",
    "        Generates or loads a chunk of terrain data based on the given coordinates.\n",
    "\n",
    "        This method checks if the chunk data for the specified coordinates (x, y) already exists.\n",
    "        If it does, the data is loaded from a .npy file. If not, the method generates the chunk\n",
    "        data using Perlin noise and saves it to a .npy file for future use.\n",
    "\n",
    "        Args:\n",
    "            x (np.int16): The x-coordinate of the chunk.\n",
    "            y (bp.int16): The y-coordinate of the chunk.\n",
    "\n",
    "        Returns:\n",
    "            np.ndarray: A 2D array representing the generated or loaded chunk data.\n",
    "        \"\"\"\n",
    "        if os.path.exists(f\"./Chunks/T_{self.SEEDTEMP}A_{self.SEEDTEMP}H_{self.SEEDTEMP}/{x}/{y}.npy\"):\n",
    "            return np.load(f\"./Chunks/T_{self.SEEDTEMP}A_{self.SEEDTEMP}H_{self.SEEDTEMP}/{x}/{y}.npy\")\n",
    "        else:\n",
    "            temp = self.getNoiseArray(self.SEEDTEMP, x, y, self.ITTEMP, self.VARTEMP, self.DISPTEMP)\n",
    "            altu = self.getNoiseArray(self.SEEDALTU, x, y, self.ITALTU, self.VARALTU, self.DISPALTU)\n",
    "            hume = self.getNoiseArray(self.SEEDHUME, x, y, self.ITHUME, self.VARHUME, self.DISPHUME)\n",
    "            rios = self.getNoiseArray(self.SEEDRIOS, x, y, self.ITRIOS, self.VARRIOS, self.DISPRIOS)\n",
    "            array_biomas = np.zeros(dtype=np.uint8, shape=(self.CHUNK_SIZE,self.CHUNK_SIZE))\n",
    "\n",
    "            for i in range(self.CHUNK_SIZE):\n",
    "                for j in range(self.CHUNK_SIZE):\n",
    "                    array_biomas[i, j] = self.getBioma(hume[i, j], altu[i, j], temp[i, j], rios[i, j])\n",
    "            os.makedirs(f\"./Chunks/T_{self.SEEDTEMP}A_{self.SEEDTEMP}H_{self.SEEDTEMP}/{x}\", exist_ok=True)\n",
    "            np.save(f\"./Chunks/T_{self.SEEDTEMP}A_{self.SEEDTEMP}H_{self.SEEDTEMP}/{x}/{y}\", array_biomas)\n",
    "            return array_biomas\n",
    "    \n",
    "    def getChunksInRange(self, x_range: tuple[np.int16, np.int16], y_range: tuple[np.int16, np.int16]) -> np.ndarray:\n",
    "        arr = None\n",
    "        for i in range(x_range[0], x_range[1]):\n",
    "            arr_proc = []\n",
    "            for j in range(y_range[0], y_range[1]):\n",
    "                arr_proc.append(mp.Process(target=self.getChunk, args=(i, j)))\n",
    "                arr_proc[-1].start()\n",
    "            for proc in arr_proc:\n",
    "                proc.join()\n",
    "\n",
    "            arr_line = None\n",
    "            for j in range(y_range[0], y_range[1]):\n",
    "                if arr_line is None:\n",
    "                    arr_line = self.getChunk(i, j)\n",
    "                else:\n",
    "                    arr_line = np.vstack((arr_line, self.getChunk(i, j)))\n",
    "\n",
    "            if arr is None:\n",
    "                arr = arr_line\n",
    "            else:\n",
    "                arr = np.hstack((arr, arr_line))\n",
    "        return arr\n",
    "\n",
    "    def representation(self, x_range: tuple[int, int], y_range: tuple[int, int]) -> None:\n",
    "        arr = self.getChunksInRange(x_range, y_range)\n",
    "        color_arr = np.zeros((arr.shape[0], arr.shape[1], 3), dtype=np.uint8)\n",
    "\n",
    "        for i in range(arr.shape[0]):\n",
    "            for j in range(arr.shape[1]):\n",
    "                color_arr[i, j] = generator.BIOMAS[arr[i, j]][2]\n",
    "        \n",
    "        fig = px.imshow(color_arr)\n",
    "        # Adjust the figure size here, considering the legend size\n",
    "        fig.update_layout(\n",
    "            width=arr.shape[1] + 300,  # Add extra width for the legend\n",
    "            height=arr.shape[0] + 300  # Add extra height for the legend\n",
    "        )\n",
    "\n",
    "        # Add legend\n",
    "        legend_items = []\n",
    "        for key, value in generator.BIOMAS.items():\n",
    "            legend_items.append(\n",
    "                dict(\n",
    "                    name=value[1],\n",
    "                    marker=dict(color=f\"rgb{value[2]}\", size=20),\n",
    "                    mode='markers',\n",
    "                    type='scatter',\n",
    "                    x=[None],\n",
    "                    y=[None]\n",
    "                )\n",
    "            )\n",
    "        fig.add_traces(legend_items)\n",
    "        fig.show()\n",
    "    \n",
    "    def poisson_disc_sampling(self, radius: int, k: int) -> np.ndarray:\n",
    "        GRID_SIZE = int(radius / math.sqrt(2))\n",
    "        columnas, filas = self.CHUNK_SIZE // GRID_SIZE, self.CHUNK_SIZE // GRID_SIZE\n",
    "\n",
    "        def generate_point_around(point):\n",
    "            r = radius * (random() + 1)\n",
    "            angle = 2 * math.pi * random()\n",
    "            new_x = point[0] + r * math.cos(angle)\n",
    "            new_y = point[1] + r * math.sin(angle)\n",
    "            return new_x, new_y\n",
    "\n",
    "        def in_bounds(point):\n",
    "            return 0 <= point[0] < self.CHUNK_SIZE and 0 <= point[1] < self.CHUNK_SIZE\n",
    "\n",
    "        def fits(point):\n",
    "            col = int(point[0] / GRID_SIZE)\n",
    "            row = int(point[1] / GRID_SIZE)\n",
    "            for i in range(max(col - 2, 0), min(col + 3, columnas)):\n",
    "                for j in range(max(row - 2, 0), min(row + 3, filas)):\n",
    "                    neighbor = grid[i, j]\n",
    "                    if neighbor is not None and np.hypot(point[0] - neighbor[0], point[1] - neighbor[1]) < radius:\n",
    "                        return False\n",
    "            return True\n",
    "\n",
    "        def restart_simulation(start_point):\n",
    "            nonlocal grid, active, points\n",
    "            grid = np.empty((columnas, filas), dtype=object)\n",
    "            points = [start_point]\n",
    "            active = [start_point]\n",
    "            col = int(start_point[0] / GRID_SIZE)\n",
    "            row = int(start_point[1] / GRID_SIZE)\n",
    "            grid[col, row] = start_point\n",
    "\n",
    "        # Create a grid to store points\n",
    "        grid = np.zeros((columnas, filas), dtype=object)\n",
    "\n",
    "        # List to store active points\n",
    "        active = []\n",
    "        points = []\n",
    "\n",
    "        # Initialize with a random point\n",
    "        initial_point = (uniform(0, self.CHUNK_SIZE), uniform(0, self.CHUNK_SIZE))\n",
    "        restart_simulation(initial_point)\n",
    "\n",
    "        # Main loop\n",
    "        while active:\n",
    "            rand_index = randint(0, len(active) - 1)\n",
    "            point = active[rand_index]\n",
    "            found = False\n",
    "\n",
    "            for _ in range(k):\n",
    "                new_point = generate_point_around(point)\n",
    "                if in_bounds(new_point) and fits(new_point):\n",
    "                    points.append(new_point)\n",
    "                    active.append(new_point)\n",
    "                    col = int(new_point[0] / GRID_SIZE)\n",
    "                    row = int(new_point[1] / GRID_SIZE)\n",
    "                    grid[col, row] = new_point\n",
    "                    found = True\n",
    "                    break\n",
    "\n",
    "            if not found:\n",
    "                active.pop(rand_index)\n",
    "                # Create a 2D numpy array representation\n",
    "        matrix = np.zeros((self.CHUNK_SIZE, self.CHUNK_SIZE), dtype=np.uint8)\n",
    "        for p in points:\n",
    "            x, y = int(p[0]), int(p[1])\n",
    "            matrix[y, x] = 1\n",
    "\n",
    "        return matrix\n"
   ]
  },
  {
   "cell_type": "code",
   "execution_count": 33,
   "metadata": {},
   "outputs": [],
   "source": [
    "a = generator(\n",
    "    seedTemp=1353,\n",
    "    seedAltu=13312,\n",
    "    seedHume=3123,\n",
    "    seedRios=3134,\n",
    "    tamRios=7,\n",
    "    varRios=128\n",
    "    )"
   ]
  },
  {
   "cell_type": "code",
   "execution_count": 34,
   "metadata": {},
   "outputs": [
    {
     "data": {
      "application/vnd.plotly.v1+json": {
       "config": {
        "plotlyServerURL": "https://plot.ly"
       },
       "data": [
        {
         "hovertemplate": "x: %{x}<br>y: %{y}<br>color: [%{z[0]}, %{z[1]}, %{z[2]}]<extra></extra>",
         "name": "0",
         "source": "data:image/png;base64,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",
         "type": "image",
         "xaxis": "x",
         "yaxis": "y"
        },
        {
         "marker": {
          "color": "rgb(56, 148, 194)",
          "size": 20
         },
         "mode": "markers",
         "name": "Oceano",
         "type": "scatter",
         "x": [
          null
         ],
         "y": [
          null
         ]
        },
        {
         "marker": {
          "color": "rgb(27, 59, 140)",
          "size": 20
         },
         "mode": "markers",
         "name": "Oceano profundo",
         "type": "scatter",
         "x": [
          null
         ],
         "y": [
          null
         ]
        },
        {
         "marker": {
          "color": "rgb(126, 180, 237)",
          "size": 20
         },
         "mode": "markers",
         "name": "Rios y lagos",
         "type": "scatter",
         "x": [
          null
         ],
         "y": [
          null
         ]
        },
        {
         "marker": {
          "color": "rgb(245, 240, 108)",
          "size": 20
         },
         "mode": "markers",
         "name": "Costa",
         "type": "scatter",
         "x": [
          null
         ],
         "y": [
          null
         ]
        },
        {
         "marker": {
          "color": "rgb(171, 222, 32)",
          "size": 20
         },
         "mode": "markers",
         "name": "Marismas",
         "type": "scatter",
         "x": [
          null
         ],
         "y": [
          null
         ]
        },
        {
         "marker": {
          "color": "rgb(250, 250, 250)",
          "size": 20
         },
         "mode": "markers",
         "name": "Polo",
         "type": "scatter",
         "x": [
          null
         ],
         "y": [
          null
         ]
        },
        {
         "marker": {
          "color": "rgb(33, 133, 99)",
          "size": 20
         },
         "mode": "markers",
         "name": "Pantano",
         "type": "scatter",
         "x": [
          null
         ],
         "y": [
          null
         ]
        },
        {
         "marker": {
          "color": "rgb(53, 118, 43)",
          "size": 20
         },
         "mode": "markers",
         "name": "Bosque",
         "type": "scatter",
         "x": [
          null
         ],
         "y": [
          null
         ]
        },
        {
         "marker": {
          "color": "rgb(0, 183, 10)",
          "size": 20
         },
         "mode": "markers",
         "name": "Selva",
         "type": "scatter",
         "x": [
          null
         ],
         "y": [
          null
         ]
        },
        {
         "marker": {
          "color": "rgb(128, 179, 30)",
          "size": 20
         },
         "mode": "markers",
         "name": "Dehesa",
         "type": "scatter",
         "x": [
          null
         ],
         "y": [
          null
         ]
        },
        {
         "marker": {
          "color": "rgb(228, 125, 28)",
          "size": 20
         },
         "mode": "markers",
         "name": "Savana",
         "type": "scatter",
         "x": [
          null
         ],
         "y": [
          null
         ]
        },
        {
         "marker": {
          "color": "rgb(39, 156, 121)",
          "size": 20
         },
         "mode": "markers",
         "name": "Termales",
         "type": "scatter",
         "x": [
          null
         ],
         "y": [
          null
         ]
        },
        {
         "marker": {
          "color": "rgb(255, 211, 29)",
          "size": 20
         },
         "mode": "markers",
         "name": "Desierto",
         "type": "scatter",
         "x": [
          null
         ],
         "y": [
          null
         ]
        },
        {
         "marker": {
          "color": "rgb(152, 3, 252)",
          "size": 20
         },
         "mode": "markers",
         "name": "Setas",
         "type": "scatter",
         "x": [
          null
         ],
         "y": [
          null
         ]
        },
        {
         "marker": {
          "color": "rgb(110, 88, 66)",
          "size": 20
         },
         "mode": "markers",
         "name": "Meseta",
         "type": "scatter",
         "x": [
          null
         ],
         "y": [
          null
         ]
        },
        {
         "marker": {
          "color": "rgb(208, 208, 240)",
          "size": 20
         },
         "mode": "markers",
         "name": "Tundra",
         "type": "scatter",
         "x": [
          null
         ],
         "y": [
          null
         ]
        },
        {
         "marker": {
          "color": "rgb(159, 16, 16)",
          "size": 20
         },
         "mode": "markers",
         "name": "Volcanico",
         "type": "scatter",
         "x": [
          null
         ],
         "y": [
          null
         ]
        },
        {
         "marker": {
          "color": "rgb(125, 125, 125)",
          "size": 20
         },
         "mode": "markers",
         "name": "Montaña",
         "type": "scatter",
         "x": [
          null
         ],
         "y": [
          null
         ]
        }
       ],
       "layout": {
        "height": 1324,
        "margin": {
         "t": 60
        },
        "template": {
         "data": {
          "bar": [
           {
            "error_x": {
             "color": "#2a3f5f"
            },
            "error_y": {
             "color": "#2a3f5f"
            },
            "marker": {
             "line": {
              "color": "#E5ECF6",
              "width": 0.5
             },
             "pattern": {
              "fillmode": "overlay",
              "size": 10,
              "solidity": 0.2
             }
            },
            "type": "bar"
           }
          ],
          "barpolar": [
           {
            "marker": {
             "line": {
              "color": "#E5ECF6",
              "width": 0.5
             },
             "pattern": {
              "fillmode": "overlay",
              "size": 10,
              "solidity": 0.2
             }
            },
            "type": "barpolar"
           }
          ],
          "carpet": [
           {
            "aaxis": {
             "endlinecolor": "#2a3f5f",
             "gridcolor": "white",
             "linecolor": "white",
             "minorgridcolor": "white",
             "startlinecolor": "#2a3f5f"
            },
            "baxis": {
             "endlinecolor": "#2a3f5f",
             "gridcolor": "white",
             "linecolor": "white",
             "minorgridcolor": "white",
             "startlinecolor": "#2a3f5f"
            },
            "type": "carpet"
           }
          ],
          "choropleth": [
           {
            "colorbar": {
             "outlinewidth": 0,
             "ticks": ""
            },
            "type": "choropleth"
           }
          ],
          "contour": [
           {
            "colorbar": {
             "outlinewidth": 0,
             "ticks": ""
            },
            "colorscale": [
             [
              0,
              "#0d0887"
             ],
             [
              0.1111111111111111,
              "#46039f"
             ],
             [
              0.2222222222222222,
              "#7201a8"
             ],
             [
              0.3333333333333333,
              "#9c179e"
             ],
             [
              0.4444444444444444,
              "#bd3786"
             ],
             [
              0.5555555555555556,
              "#d8576b"
             ],
             [
              0.6666666666666666,
              "#ed7953"
             ],
             [
              0.7777777777777778,
              "#fb9f3a"
             ],
             [
              0.8888888888888888,
              "#fdca26"
             ],
             [
              1,
              "#f0f921"
             ]
            ],
            "type": "contour"
           }
          ],
          "contourcarpet": [
           {
            "colorbar": {
             "outlinewidth": 0,
             "ticks": ""
            },
            "type": "contourcarpet"
           }
          ],
          "heatmap": [
           {
            "colorbar": {
             "outlinewidth": 0,
             "ticks": ""
            },
            "colorscale": [
             [
              0,
              "#0d0887"
             ],
             [
              0.1111111111111111,
              "#46039f"
             ],
             [
              0.2222222222222222,
              "#7201a8"
             ],
             [
              0.3333333333333333,
              "#9c179e"
             ],
             [
              0.4444444444444444,
              "#bd3786"
             ],
             [
              0.5555555555555556,
              "#d8576b"
             ],
             [
              0.6666666666666666,
              "#ed7953"
             ],
             [
              0.7777777777777778,
              "#fb9f3a"
             ],
             [
              0.8888888888888888,
              "#fdca26"
             ],
             [
              1,
              "#f0f921"
             ]
            ],
            "type": "heatmap"
           }
          ],
          "heatmapgl": [
           {
            "colorbar": {
             "outlinewidth": 0,
             "ticks": ""
            },
            "colorscale": [
             [
              0,
              "#0d0887"
             ],
             [
              0.1111111111111111,
              "#46039f"
             ],
             [
              0.2222222222222222,
              "#7201a8"
             ],
             [
              0.3333333333333333,
              "#9c179e"
             ],
             [
              0.4444444444444444,
              "#bd3786"
             ],
             [
              0.5555555555555556,
              "#d8576b"
             ],
             [
              0.6666666666666666,
              "#ed7953"
             ],
             [
              0.7777777777777778,
              "#fb9f3a"
             ],
             [
              0.8888888888888888,
              "#fdca26"
             ],
             [
              1,
              "#f0f921"
             ]
            ],
            "type": "heatmapgl"
           }
          ],
          "histogram": [
           {
            "marker": {
             "pattern": {
              "fillmode": "overlay",
              "size": 10,
              "solidity": 0.2
             }
            },
            "type": "histogram"
           }
          ],
          "histogram2d": [
           {
            "colorbar": {
             "outlinewidth": 0,
             "ticks": ""
            },
            "colorscale": [
             [
              0,
              "#0d0887"
             ],
             [
              0.1111111111111111,
              "#46039f"
             ],
             [
              0.2222222222222222,
              "#7201a8"
             ],
             [
              0.3333333333333333,
              "#9c179e"
             ],
             [
              0.4444444444444444,
              "#bd3786"
             ],
             [
              0.5555555555555556,
              "#d8576b"
             ],
             [
              0.6666666666666666,
              "#ed7953"
             ],
             [
              0.7777777777777778,
              "#fb9f3a"
             ],
             [
              0.8888888888888888,
              "#fdca26"
             ],
             [
              1,
              "#f0f921"
             ]
            ],
            "type": "histogram2d"
           }
          ],
          "histogram2dcontour": [
           {
            "colorbar": {
             "outlinewidth": 0,
             "ticks": ""
            },
            "colorscale": [
             [
              0,
              "#0d0887"
             ],
             [
              0.1111111111111111,
              "#46039f"
             ],
             [
              0.2222222222222222,
              "#7201a8"
             ],
             [
              0.3333333333333333,
              "#9c179e"
             ],
             [
              0.4444444444444444,
              "#bd3786"
             ],
             [
              0.5555555555555556,
              "#d8576b"
             ],
             [
              0.6666666666666666,
              "#ed7953"
             ],
             [
              0.7777777777777778,
              "#fb9f3a"
             ],
             [
              0.8888888888888888,
              "#fdca26"
             ],
             [
              1,
              "#f0f921"
             ]
            ],
            "type": "histogram2dcontour"
           }
          ],
          "mesh3d": [
           {
            "colorbar": {
             "outlinewidth": 0,
             "ticks": ""
            },
            "type": "mesh3d"
           }
          ],
          "parcoords": [
           {
            "line": {
             "colorbar": {
              "outlinewidth": 0,
              "ticks": ""
             }
            },
            "type": "parcoords"
           }
          ],
          "pie": [
           {
            "automargin": true,
            "type": "pie"
           }
          ],
          "scatter": [
           {
            "fillpattern": {
             "fillmode": "overlay",
             "size": 10,
             "solidity": 0.2
            },
            "type": "scatter"
           }
          ],
          "scatter3d": [
           {
            "line": {
             "colorbar": {
              "outlinewidth": 0,
              "ticks": ""
             }
            },
            "marker": {
             "colorbar": {
              "outlinewidth": 0,
              "ticks": ""
             }
            },
            "type": "scatter3d"
           }
          ],
          "scattercarpet": [
           {
            "marker": {
             "colorbar": {
              "outlinewidth": 0,
              "ticks": ""
             }
            },
            "type": "scattercarpet"
           }
          ],
          "scattergeo": [
           {
            "marker": {
             "colorbar": {
              "outlinewidth": 0,
              "ticks": ""
             }
            },
            "type": "scattergeo"
           }
          ],
          "scattergl": [
           {
            "marker": {
             "colorbar": {
              "outlinewidth": 0,
              "ticks": ""
             }
            },
            "type": "scattergl"
           }
          ],
          "scattermapbox": [
           {
            "marker": {
             "colorbar": {
              "outlinewidth": 0,
              "ticks": ""
             }
            },
            "type": "scattermapbox"
           }
          ],
          "scatterpolar": [
           {
            "marker": {
             "colorbar": {
              "outlinewidth": 0,
              "ticks": ""
             }
            },
            "type": "scatterpolar"
           }
          ],
          "scatterpolargl": [
           {
            "marker": {
             "colorbar": {
              "outlinewidth": 0,
              "ticks": ""
             }
            },
            "type": "scatterpolargl"
           }
          ],
          "scatterternary": [
           {
            "marker": {
             "colorbar": {
              "outlinewidth": 0,
              "ticks": ""
             }
            },
            "type": "scatterternary"
           }
          ],
          "surface": [
           {
            "colorbar": {
             "outlinewidth": 0,
             "ticks": ""
            },
            "colorscale": [
             [
              0,
              "#0d0887"
             ],
             [
              0.1111111111111111,
              "#46039f"
             ],
             [
              0.2222222222222222,
              "#7201a8"
             ],
             [
              0.3333333333333333,
              "#9c179e"
             ],
             [
              0.4444444444444444,
              "#bd3786"
             ],
             [
              0.5555555555555556,
              "#d8576b"
             ],
             [
              0.6666666666666666,
              "#ed7953"
             ],
             [
              0.7777777777777778,
              "#fb9f3a"
             ],
             [
              0.8888888888888888,
              "#fdca26"
             ],
             [
              1,
              "#f0f921"
             ]
            ],
            "type": "surface"
           }
          ],
          "table": [
           {
            "cells": {
             "fill": {
              "color": "#EBF0F8"
             },
             "line": {
              "color": "white"
             }
            },
            "header": {
             "fill": {
              "color": "#C8D4E3"
             },
             "line": {
              "color": "white"
             }
            },
            "type": "table"
           }
          ]
         },
         "layout": {
          "annotationdefaults": {
           "arrowcolor": "#2a3f5f",
           "arrowhead": 0,
           "arrowwidth": 1
          },
          "autotypenumbers": "strict",
          "coloraxis": {
           "colorbar": {
            "outlinewidth": 0,
            "ticks": ""
           }
          },
          "colorscale": {
           "diverging": [
            [
             0,
             "#8e0152"
            ],
            [
             0.1,
             "#c51b7d"
            ],
            [
             0.2,
             "#de77ae"
            ],
            [
             0.3,
             "#f1b6da"
            ],
            [
             0.4,
             "#fde0ef"
            ],
            [
             0.5,
             "#f7f7f7"
            ],
            [
             0.6,
             "#e6f5d0"
            ],
            [
             0.7,
             "#b8e186"
            ],
            [
             0.8,
             "#7fbc41"
            ],
            [
             0.9,
             "#4d9221"
            ],
            [
             1,
             "#276419"
            ]
           ],
           "sequential": [
            [
             0,
             "#0d0887"
            ],
            [
             0.1111111111111111,
             "#46039f"
            ],
            [
             0.2222222222222222,
             "#7201a8"
            ],
            [
             0.3333333333333333,
             "#9c179e"
            ],
            [
             0.4444444444444444,
             "#bd3786"
            ],
            [
             0.5555555555555556,
             "#d8576b"
            ],
            [
             0.6666666666666666,
             "#ed7953"
            ],
            [
             0.7777777777777778,
             "#fb9f3a"
            ],
            [
             0.8888888888888888,
             "#fdca26"
            ],
            [
             1,
             "#f0f921"
            ]
           ],
           "sequentialminus": [
            [
             0,
             "#0d0887"
            ],
            [
             0.1111111111111111,
             "#46039f"
            ],
            [
             0.2222222222222222,
             "#7201a8"
            ],
            [
             0.3333333333333333,
             "#9c179e"
            ],
            [
             0.4444444444444444,
             "#bd3786"
            ],
            [
             0.5555555555555556,
             "#d8576b"
            ],
            [
             0.6666666666666666,
             "#ed7953"
            ],
            [
             0.7777777777777778,
             "#fb9f3a"
            ],
            [
             0.8888888888888888,
             "#fdca26"
            ],
            [
             1,
             "#f0f921"
            ]
           ]
          },
          "colorway": [
           "#636efa",
           "#EF553B",
           "#00cc96",
           "#ab63fa",
           "#FFA15A",
           "#19d3f3",
           "#FF6692",
           "#B6E880",
           "#FF97FF",
           "#FECB52"
          ],
          "font": {
           "color": "#2a3f5f"
          },
          "geo": {
           "bgcolor": "white",
           "lakecolor": "white",
           "landcolor": "#E5ECF6",
           "showlakes": true,
           "showland": true,
           "subunitcolor": "white"
          },
          "hoverlabel": {
           "align": "left"
          },
          "hovermode": "closest",
          "mapbox": {
           "style": "light"
          },
          "paper_bgcolor": "white",
          "plot_bgcolor": "#E5ECF6",
          "polar": {
           "angularaxis": {
            "gridcolor": "white",
            "linecolor": "white",
            "ticks": ""
           },
           "bgcolor": "#E5ECF6",
           "radialaxis": {
            "gridcolor": "white",
            "linecolor": "white",
            "ticks": ""
           }
          },
          "scene": {
           "xaxis": {
            "backgroundcolor": "#E5ECF6",
            "gridcolor": "white",
            "gridwidth": 2,
            "linecolor": "white",
            "showbackground": true,
            "ticks": "",
            "zerolinecolor": "white"
           },
           "yaxis": {
            "backgroundcolor": "#E5ECF6",
            "gridcolor": "white",
            "gridwidth": 2,
            "linecolor": "white",
            "showbackground": true,
            "ticks": "",
            "zerolinecolor": "white"
           },
           "zaxis": {
            "backgroundcolor": "#E5ECF6",
            "gridcolor": "white",
            "gridwidth": 2,
            "linecolor": "white",
            "showbackground": true,
            "ticks": "",
            "zerolinecolor": "white"
           }
          },
          "shapedefaults": {
           "line": {
            "color": "#2a3f5f"
           }
          },
          "ternary": {
           "aaxis": {
            "gridcolor": "white",
            "linecolor": "white",
            "ticks": ""
           },
           "baxis": {
            "gridcolor": "white",
            "linecolor": "white",
            "ticks": ""
           },
           "bgcolor": "#E5ECF6",
           "caxis": {
            "gridcolor": "white",
            "linecolor": "white",
            "ticks": ""
           }
          },
          "title": {
           "x": 0.05
          },
          "xaxis": {
           "automargin": true,
           "gridcolor": "white",
           "linecolor": "white",
           "ticks": "",
           "title": {
            "standoff": 15
           },
           "zerolinecolor": "white",
           "zerolinewidth": 2
          },
          "yaxis": {
           "automargin": true,
           "gridcolor": "white",
           "linecolor": "white",
           "ticks": "",
           "title": {
            "standoff": 15
           },
           "zerolinecolor": "white",
           "zerolinewidth": 2
          }
         }
        },
        "width": 1324,
        "xaxis": {
         "anchor": "y",
         "domain": [
          0,
          1
         ]
        },
        "yaxis": {
         "anchor": "x",
         "domain": [
          0,
          1
         ]
        }
       }
      }
     },
     "metadata": {},
     "output_type": "display_data"
    }
   ],
   "source": [
    "a.representation((0,8),(0,8))"
   ]
  },
  {
   "cell_type": "code",
   "execution_count": 35,
   "metadata": {},
   "outputs": [
    {
     "name": "stdout",
     "output_type": "stream",
     "text": [
      "🟫🟫🟫🟫🌲🟫🟫🟫🟫🟫🌲🟫🟫🟫🌲🟫🟫🟫🟫🟫🟫🟫🟫🟫🟫🟫🟫🟫🟫🌲🟫🟫🟫🟫🟫🟫🟫🟫🟫🟫🟫🟫🟫🟫🟫🟫🟫🟫🟫🟫🟫🟫🟫🟫🟫🟫🟫🟫🟫🌲🟫🟫🟫🌲\n",
      "🌲🟫🟫🟫🟫🟫🟫🟫🟫🟫🟫🟫🟫🟫🟫🟫🟫🟫🟫🟫🟫🟫🟫🟫🟫🟫🟫🟫🟫🟫🟫🟫🟫🟫🟫🟫🌲🟫🟫🌲🟫🟫🟫🟫🟫🌲🟫🟫🌲🟫🟫🟫🌲🟫🟫🟫🟫🟫🟫🟫🟫🟫🟫🟫\n",
      "🟫🟫🟫🟫🟫🟫🟫🟫🟫🟫🟫🟫🟫🟫🟫🟫🟫🟫🟫🌲🟫🟫🌲🟫🟫🟫🌲🟫🟫🟫🟫🌲🟫🟫🟫🟫🟫🟫🟫🟫🟫🟫🟫🟫🟫🟫🟫🟫🟫🟫🟫🟫🟫🟫🟫🟫🟫🟫🟫🟫🟫🌲🟫🟫\n",
      "🟫🟫🟫🟫🟫🟫🟫🌲🟫🟫🟫🟫🟫🟫🟫🟫🟫🟫🟫🟫🟫🟫🟫🟫🟫🟫🟫🟫🟫🟫🟫🟫🟫🟫🟫🟫🟫🟫🟫🟫🟫🟫🌲🟫🟫🟫🟫🟫🟫🟫🟫🟫🟫🟫🟫🟫🌲🟫🟫🟫🟫🟫🟫🟫\n",
      "🟫🟫🟫🌲🟫🟫🟫🟫🟫🟫🌲🟫🟫🟫🟫🟫🌲🟫🟫🟫🟫🟫🟫🟫🟫🟫🟫🟫🟫🟫🟫🟫🟫🟫🟫🟫🟫🟫🟫🟫🟫🟫🟫🟫🟫🟫🌲🟫🟫🟫🟫🟫🟫🟫🟫🟫🟫🟫🟫🟫🟫🟫🟫🟫\n",
      "🟫🟫🟫🟫🟫🟫🟫🟫🟫🟫🟫🟫🟫🟫🟫🟫🟫🟫🟫🟫🟫🌲🟫🟫🟫🟫🟫🟫🟫🌲🟫🟫🟫🌲🟫🟫🌲🟫🟫🟫🟫🟫🟫🟫🟫🟫🟫🟫🟫🟫🟫🌲🟫🟫🟫🟫🟫🟫🟫🌲🟫🟫🟫🟫\n",
      "🌲🟫🟫🟫🟫🟫🟫🟫🟫🟫🟫🟫🟫🟫🟫🟫🟫🟫🟫🟫🟫🟫🟫🟫🟫🟫🌲🟫🟫🟫🟫🟫🟫🟫🟫🟫🟫🟫🟫🌲🟫🟫🟫🟫🟫🟫🟫🟫🟫🟫🟫🟫🟫🟫🟫🟫🟫🟫🟫🟫🟫🟫🌲🟫\n",
      "🟫🟫🟫🟫🟫🟫🟫🌲🟫🟫🟫🟫🟫🟫🟫🟫🟫🟫🟫🟫🟫🟫🟫🟫🟫🟫🟫🟫🟫🟫🟫🟫🟫🟫🟫🟫🟫🟫🟫🟫🟫🟫🟫🌲🟫🟫🟫🟫🟫🟫🟫🟫🟫🟫🌲🟫🟫🌲🟫🟫🟫🟫🟫🟫\n",
      "🟫🟫🟫🟫🌲🟫🟫🟫🟫🟫🟫🟫🟫🌲🟫🟫🟫🟫🌲🟫🟫🟫🟫🟫🟫🟫🟫🟫🟫🌲🟫🟫🟫🟫🟫🟫🟫🟫🟫🟫🟫🟫🟫🟫🟫🟫🟫🟫🌲🟫🟫🟫🟫🟫🟫🟫🟫🟫🟫🟫🟫🟫🟫🟫\n",
      "🌲🟫🟫🟫🟫🟫🟫🟫🟫🟫🟫🟫🟫🟫🟫🟫🟫🟫🟫🟫🟫🟫🟫🌲🟫🟫🟫🟫🟫🟫🟫🟫🟫🟫🟫🟫🟫🟫🟫🟫🟫🌲🟫🟫🟫🟫🟫🟫🟫🟫🟫🟫🟫🟫🟫🟫🟫🟫🟫🟫🟫🟫🟫🟫\n",
      "🟫🟫🟫🟫🟫🟫🟫🟫🟫🟫🟫🟫🟫🟫🟫🟫🟫🟫🟫🟫🟫🟫🟫🟫🟫🟫🌲🟫🟫🟫🟫🟫🟫🌲🟫🟫🌲🟫🟫🟫🟫🟫🟫🟫🟫🌲🟫🟫🟫🟫🟫🟫🟫🟫🟫🟫🟫🟫🟫🌲🟫🟫🌲🟫\n",
      "🟫🟫🟫🟫🟫🟫🌲🟫🟫🟫🌲🟫🟫🟫🟫🟫🟫🟫🟫🟫🌲🟫🟫🟫🟫🟫🟫🟫🟫🟫🟫🟫🟫🟫🟫🟫🟫🟫🟫🟫🟫🟫🟫🟫🟫🟫🟫🟫🟫🌲🟫🟫🌲🟫🟫🟫🟫🟫🟫🟫🟫🟫🟫🟫\n",
      "🟫🌲🟫🟫🟫🟫🟫🟫🟫🟫🟫🟫🟫🟫🌲🟫🟫🟫🟫🟫🟫🟫🟫🟫🟫🟫🟫🟫🟫🟫🌲🟫🟫🟫🟫🟫🟫🟫🟫🌲🟫🟫🟫🟫🟫🟫🟫🟫🟫🟫🟫🟫🟫🟫🟫🌲🟫🟫🟫🟫🟫🟫🟫🟫\n",
      "🟫🟫🟫🟫🟫🟫🟫🟫🟫🟫🟫🟫🟫🟫🟫🟫🟫🟫🟫🟫🟫🟫🟫🌲🟫🟫🟫🟫🟫🟫🟫🟫🟫🟫🟫🟫🟫🌲🟫🟫🟫🟫🟫🟫🟫🟫🟫🟫🟫🟫🟫🟫🟫🟫🟫🟫🟫🟫🟫🟫🟫🟫🟫🟫\n",
      "🟫🟫🟫🟫🟫🟫🌲🟫🟫🟫🟫🟫🟫🟫🟫🟫🟫🟫🟫🟫🟫🟫🟫🟫🟫🟫🟫🟫🟫🟫🟫🟫🟫🟫🟫🟫🟫🟫🟫🟫🟫🟫🌲🟫🟫🟫🟫🟫🌲🟫🟫🟫🟫🟫🟫🟫🟫🟫🟫🟫🟫🟫🟫🟫\n",
      "🟫🟫🟫🟫🟫🟫🟫🟫🟫🌲🟫🟫🌲🟫🟫🟫🟫🌲🟫🟫🟫🟫🟫🟫🟫🟫🌲🟫🟫🌲🟫🟫🟫🟫🟫🟫🟫🟫🟫🟫🟫🟫🟫🟫🟫🌲🟫🟫🟫🟫🟫🟫🟫🌲🟫🟫🟫🟫🟫🟫🟫🟫🟫🌲\n",
      "🌲🟫🟫🟫🌲🟫🟫🟫🟫🟫🟫🟫🟫🟫🟫🟫🟫🟫🟫🟫🟫🟫🟫🟫🟫🟫🟫🟫🟫🟫🟫🟫🟫🟫🌲🟫🟫🟫🟫🟫🟫🟫🟫🟫🟫🟫🟫🟫🟫🟫🟫🟫🟫🟫🟫🟫🟫🟫🟫🟫🌲🟫🟫🟫\n",
      "🟫🟫🟫🟫🟫🟫🟫🟫🟫🟫🟫🟫🟫🟫🟫🟫🟫🟫🟫🟫🟫🌲🟫🟫🟫🟫🟫🟫🟫🟫🟫🟫🟫🟫🟫🟫🟫🟫🟫🟫🟫🟫🟫🟫🟫🟫🟫🟫🟫🟫🟫🌲🟫🟫🟫🟫🟫🟫🟫🟫🟫🟫🟫🟫\n",
      "🟫🟫🟫🟫🟫🟫🟫🟫🟫🟫🟫🟫🟫🟫🟫🟫🟫🟫🟫🟫🟫🟫🟫🟫🟫🟫🟫🟫🟫🟫🟫🟫🟫🟫🟫🟫🟫🟫🌲🟫🟫🟫🟫🌲🟫🟫🟫🟫🟫🟫🟫🟫🟫🟫🟫🟫🟫🟫🟫🟫🟫🟫🟫🟫\n",
      "🟫🟫🟫🟫🟫🟫🟫🌲🟫🟫🌲🟫🟫🟫🌲🟫🟫🟫🌲🟫🟫🟫🟫🟫🟫🟫🟫🌲🟫🟫🟫🟫🟫🟫🟫🟫🟫🟫🟫🟫🟫🟫🟫🟫🟫🟫🟫🟫🌲🟫🟫🟫🟫🟫🟫🟫🟫🟫🌲🟫🟫🟫🌲🟫\n",
      "🌲🟫🟫🌲🟫🟫🟫🟫🟫🟫🟫🟫🟫🟫🟫🟫🟫🟫🟫🟫🟫🟫🟫🟫🌲🟫🟫🟫🟫🟫🌲🟫🟫🟫🟫🟫🟫🟫🟫🟫🟫🟫🟫🟫🟫🟫🟫🟫🟫🟫🟫🌲🟫🟫🌲🟫🟫🟫🟫🟫🟫🟫🟫🟫\n",
      "🟫🟫🟫🟫🟫🟫🟫🟫🟫🟫🟫🟫🟫🟫🟫🟫🟫🟫🟫🟫🟫🟫🟫🟫🟫🟫🟫🟫🟫🟫🟫🟫🟫🌲🟫🟫🟫🟫🌲🟫🟫🟫🌲🟫🟫🌲🟫🟫🟫🟫🟫🟫🟫🟫🟫🟫🟫🟫🟫🟫🟫🟫🟫🟫\n",
      "🟫🟫🟫🟫🟫🟫🟫🟫🟫🟫🟫🟫🟫🟫🟫🌲🟫🟫🟫🟫🟫🌲🟫🟫🟫🟫🟫🟫🌲🟫🟫🟫🟫🟫🟫🟫🟫🟫🟫🟫🟫🟫🟫🟫🟫🟫🟫🟫🟫🟫🟫🟫🟫🟫🟫🟫🟫🟫🟫🟫🟫🟫🟫🌲\n",
      "🟫🟫🟫🟫🟫🟫🟫🟫🟫🟫🟫🟫🟫🟫🟫🟫🟫🟫🟫🟫🟫🟫🟫🟫🟫🟫🟫🟫🟫🟫🟫🟫🟫🟫🟫🟫🟫🟫🟫🟫🟫🟫🟫🟫🟫🟫🟫🟫🟫🟫🟫🟫🌲🟫🟫🟫🟫🟫🟫🌲🟫🟫🟫🟫\n",
      "🟫🟫🟫🟫🟫🟫🟫🟫🟫🟫🌲🟫🟫🟫🟫🟫🟫🟫🌲🟫🟫🟫🟫🟫🟫🟫🟫🟫🟫🟫🟫🌲🟫🟫🟫🟫🟫🌲🟫🟫🟫🟫🟫🟫🌲🟫🟫🟫🟫🌲🟫🟫🟫🟫🟫🟫🟫🟫🟫🟫🟫🟫🟫🟫\n",
      "🟫🌲🟫🟫🟫🌲🟫🟫🟫🟫🟫🟫🟫🟫🟫🟫🟫🟫🟫🟫🟫🟫🟫🟫🟫🟫🌲🟫🟫🟫🟫🟫🟫🟫🟫🟫🟫🟫🟫🟫🟫🟫🟫🟫🟫🟫🟫🟫🟫🟫🟫🟫🟫🟫🟫🌲🟫🟫🟫🟫🟫🟫🟫🟫\n",
      "🟫🟫🟫🟫🟫🟫🟫🟫🟫🟫🟫🟫🟫🌲🟫🟫🟫🟫🟫🟫🟫🟫🟫🟫🟫🟫🟫🟫🟫🟫🟫🟫🟫🟫🌲🟫🟫🟫🟫🟫🟫🟫🟫🟫🟫🟫🟫🌲🟫🟫🟫🟫🟫🟫🟫🟫🟫🟫🟫🟫🌲🟫🟫🟫\n",
      "🟫🟫🟫🟫🟫🟫🟫🌲🟫🟫🟫🟫🟫🟫🟫🟫🌲🟫🟫🟫🌲🟫🟫🟫🟫🟫🟫🟫🟫🌲🟫🟫🟫🟫🟫🟫🟫🟫🟫🟫🟫🌲🟫🟫🟫🟫🟫🟫🟫🟫🌲🟫🟫🟫🟫🟫🟫🌲🟫🟫🟫🟫🟫🟫\n",
      "🟫🟫🟫🟫🌲🟫🟫🟫🟫🟫🟫🟫🟫🟫🟫🟫🟫🟫🟫🟫🟫🟫🟫🟫🌲🟫🟫🟫🟫🟫🟫🟫🟫🟫🟫🟫🟫🟫🟫🟫🟫🟫🟫🟫🟫🟫🟫🟫🟫🟫🟫🟫🟫🌲🟫🟫🟫🟫🟫🟫🟫🟫🟫🟫\n",
      "🟫🌲🟫🟫🟫🟫🟫🟫🟫🟫🌲🟫🟫🌲🟫🟫🟫🟫🟫🟫🟫🟫🟫🟫🟫🟫🟫🟫🟫🟫🟫🟫🌲🟫🟫🟫🟫🟫🌲🟫🟫🟫🟫🟫🟫🟫🟫🟫🟫🟫🟫🟫🟫🟫🟫🟫🟫🟫🟫🟫🟫🟫🟫🟫\n",
      "🟫🟫🟫🟫🟫🟫🌲🟫🟫🟫🟫🟫🟫🟫🟫🟫🟫🟫🟫🟫🟫🟫🟫🟫🟫🟫🟫🌲🟫🟫🟫🟫🟫🟫🟫🟫🟫🟫🟫🟫🟫🟫🟫🟫🟫🌲🟫🟫🌲🟫🟫🟫🟫🟫🟫🟫🟫🟫🟫🟫🌲🟫🟫🌲\n",
      "🟫🟫🟫🌲🟫🟫🟫🟫🟫🟫🟫🟫🟫🟫🟫🟫🌲🟫🟫🟫🟫🟫🟫🌲🟫🟫🟫🟫🟫🟫🟫🟫🟫🟫🟫🟫🌲🟫🟫🟫🟫🌲🟫🟫🟫🟫🟫🟫🟫🟫🟫🟫🟫🟫🟫🟫🌲🟫🟫🟫🟫🟫🟫🟫\n",
      "🟫🟫🟫🟫🟫🟫🟫🟫🟫🟫🟫🟫🌲🟫🟫🟫🟫🟫🟫🌲🟫🟫🟫🟫🟫🟫🟫🟫🟫🟫🟫🟫🟫🟫🟫🟫🟫🟫🟫🟫🟫🟫🟫🟫🟫🟫🟫🟫🟫🟫🟫🟫🟫🟫🟫🟫🟫🟫🟫🟫🟫🟫🟫🟫\n",
      "🌲🟫🟫🟫🟫🟫🟫🟫🟫🌲🟫🟫🟫🟫🟫🟫🟫🟫🟫🟫🟫🟫🟫🟫🟫🟫🟫🟫🟫🟫🟫🟫🟫🟫🟫🟫🟫🟫🟫🟫🟫🟫🟫🟫🌲🟫🟫🟫🟫🟫🟫🟫🟫🌲🟫🟫🟫🟫🟫🟫🟫🟫🟫🟫\n",
      "🟫🟫🟫🟫🟫🌲🟫🟫🟫🟫🟫🟫🟫🟫🟫🌲🟫🟫🟫🟫🟫🟫🟫🟫🟫🟫🟫🟫🟫🟫🟫🟫🌲🟫🟫🟫🟫🟫🟫🟫🟫🟫🟫🟫🟫🟫🟫🟫🟫🌲🟫🟫🟫🟫🟫🟫🟫🟫🟫🟫🟫🟫🟫🟫\n",
      "🟫🟫🟫🟫🟫🟫🟫🟫🟫🟫🟫🟫🟫🟫🟫🟫🟫🟫🟫🟫🟫🟫🟫🌲🟫🟫🟫🌲🟫🟫🟫🟫🟫🟫🟫🟫🌲🟫🟫🟫🌲🟫🟫🟫🟫🟫🟫🟫🟫🟫🟫🟫🟫🟫🟫🟫🟫🟫🟫🌲🟫🟫🟫🟫\n",
      "🟫🟫🟫🟫🟫🟫🟫🟫🟫🟫🟫🌲🟫🟫🟫🟫🟫🟫🟫🟫🟫🟫🟫🟫🟫🟫🟫🟫🟫🟫🟫🟫🟫🟫🟫🟫🟫🟫🟫🟫🟫🟫🟫🟫🟫🟫🟫🟫🟫🟫🟫🟫🌲🟫🟫🟫🟫🟫🟫🟫🟫🟫🟫🌲\n",
      "🟫🟫🌲🟫🟫🟫🟫🌲🟫🟫🟫🟫🟫🟫🌲🟫🟫🌲🟫🟫🟫🟫🟫🟫🟫🟫🟫🟫🟫🟫🟫🟫🟫🟫🌲🟫🟫🌲🟫🟫🟫🟫🟫🌲🟫🟫🟫🟫🟫🟫🟫🟫🟫🟫🟫🌲🟫🟫🟫🟫🟫🟫🟫🟫\n",
      "🟫🟫🟫🟫🟫🟫🟫🟫🟫🟫🟫🟫🟫🟫🟫🟫🟫🟫🟫🟫🟫🟫🟫🟫🟫🌲🟫🟫🟫🟫🌲🟫🟫🟫🟫🟫🟫🟫🟫🟫🟫🟫🟫🟫🟫🟫🟫🟫🟫🌲🟫🟫🟫🟫🟫🟫🟫🟫🟫🟫🟫🟫🟫🟫\n",
      "🟫🟫🟫🟫🟫🟫🟫🟫🟫🟫🟫🌲🟫🟫🟫🟫🟫🟫🟫🟫🟫🟫🟫🟫🟫🟫🟫🟫🟫🟫🟫🟫🟫🟫🟫🟫🟫🟫🟫🟫🟫🟫🟫🟫🟫🟫🟫🟫🟫🟫🟫🟫🟫🟫🟫🟫🟫🟫🟫🟫🌲🟫🟫🟫\n",
      "🟫🟫🌲🟫🟫🟫🟫🟫🟫🟫🟫🟫🟫🟫🟫🟫🟫🟫🟫🟫🟫🌲🟫🟫🟫🟫🟫🟫🟫🟫🟫🟫🟫🟫🟫🟫🟫🟫🟫🟫🟫🟫🌲🟫🟫🟫🟫🌲🟫🟫🟫🟫🟫🟫🟫🟫🟫🟫🟫🟫🟫🟫🟫🟫\n",
      "🟫🟫🟫🟫🟫🟫🌲🟫🟫🟫🟫🟫🟫🟫🟫🟫🟫🟫🟫🟫🟫🟫🟫🟫🟫🟫🟫🟫🟫🟫🟫🟫🟫🌲🟫🟫🟫🟫🟫🟫🟫🟫🟫🟫🟫🟫🟫🟫🟫🟫🟫🟫🌲🟫🟫🌲🟫🟫🟫🟫🟫🟫🟫🟫\n",
      "🟫🟫🟫🟫🟫🟫🟫🟫🟫🟫🟫🟫🟫🟫🌲🟫🟫🟫🌲🟫🟫🟫🟫🟫🟫🟫🌲🟫🟫🟫🟫🟫🟫🟫🟫🟫🟫🟫🟫🟫🟫🟫🟫🟫🟫🟫🟫🟫🟫🟫🟫🟫🟫🟫🟫🟫🟫🟫🟫🟫🟫🟫🟫🟫\n",
      "🟫🟫🟫🟫🟫🟫🟫🟫🟫🟫🟫🟫🟫🟫🟫🟫🟫🟫🟫🟫🟫🌲🟫🟫🟫🟫🟫🟫🟫🟫🟫🟫🟫🟫🟫🌲🟫🟫🟫🌲🟫🟫🟫🟫🟫🟫🟫🟫🟫🟫🟫🟫🟫🟫🟫🟫🟫🟫🟫🟫🟫🟫🟫🌲\n",
      "🟫🟫🌲🟫🟫🌲🟫🟫🌲🟫🟫🟫🟫🟫🟫🟫🟫🟫🟫🟫🟫🟫🟫🟫🟫🟫🟫🟫🟫🟫🟫🌲🟫🟫🟫🟫🟫🟫🟫🟫🟫🟫🟫🌲🟫🟫🟫🟫🌲🟫🟫🟫🟫🟫🌲🟫🟫🟫🟫🟫🟫🟫🟫🟫\n",
      "🟫🟫🟫🟫🟫🟫🟫🟫🟫🟫🟫🟫🟫🟫🟫🟫🟫🟫🟫🟫🟫🟫🟫🟫🟫🟫🟫🟫🟫🟫🟫🟫🟫🟫🟫🟫🟫🟫🟫🟫🟫🟫🟫🟫🟫🟫🟫🟫🟫🟫🟫🟫🟫🟫🟫🟫🟫🌲🟫🟫🟫🟫🟫🟫\n",
      "🟫🟫🟫🟫🟫🟫🟫🟫🟫🟫🟫🟫🟫🟫🟫🌲🟫🟫🟫🌲🟫🟫🟫🟫🌲🟫🟫🟫🟫🟫🟫🟫🟫🟫🌲🟫🟫🟫🟫🟫🌲🟫🟫🟫🟫🟫🟫🟫🟫🟫🟫🟫🟫🟫🟫🟫🟫🟫🟫🟫🟫🟫🟫🟫\n",
      "🟫🟫🟫🟫🟫🟫🟫🌲🟫🟫🟫🟫🌲🟫🟫🟫🟫🟫🟫🟫🟫🟫🟫🟫🟫🟫🟫🌲🟫🟫🟫🟫🟫🟫🟫🟫🟫🟫🟫🟫🟫🟫🟫🟫🟫🟫🌲🟫🟫🌲🟫🟫🟫🟫🟫🟫🟫🟫🟫🟫🟫🟫🌲🟫\n",
      "🟫🌲🟫🟫🟫🟫🟫🟫🟫🟫🟫🟫🟫🟫🟫🟫🟫🟫🟫🟫🟫🟫🌲🟫🟫🟫🟫🟫🟫🟫🟫🟫🟫🟫🟫🟫🟫🟫🟫🟫🟫🟫🟫🟫🟫🟫🟫🟫🟫🟫🟫🟫🌲🟫🟫🟫🟫🟫🟫🟫🟫🟫🟫🟫\n",
      "🟫🟫🟫🟫🟫🟫🟫🟫🟫🟫🟫🟫🟫🟫🟫🟫🌲🟫🟫🟫🟫🟫🟫🟫🟫🟫🟫🟫🟫🟫🟫🟫🟫🟫🟫🟫🟫🟫🌲🟫🟫🌲🟫🟫🟫🟫🟫🟫🟫🟫🟫🟫🟫🟫🟫🟫🟫🟫🌲🟫🟫🟫🟫🟫\n",
      "🟫🟫🟫🟫🟫🟫🟫🟫🟫🟫🟫🟫🌲🟫🟫🟫🟫🟫🟫🟫🟫🟫🟫🟫🟫🟫🟫🟫🟫🟫🟫🌲🟫🟫🌲🟫🟫🟫🟫🟫🟫🟫🟫🟫🟫🟫🟫🌲🟫🟫🟫🟫🟫🟫🟫🟫🟫🟫🟫🟫🟫🟫🟫🟫\n",
      "🟫🟫🟫🌲🟫🟫🌲🟫🟫🟫🟫🟫🟫🟫🟫🟫🟫🟫🟫🟫🌲🟫🟫🟫🟫🌲🟫🟫🟫🟫🟫🟫🟫🟫🟫🟫🟫🟫🟫🟫🟫🟫🟫🟫🟫🟫🟫🟫🟫🟫🟫🟫🟫🟫🟫🟫🟫🟫🟫🟫🟫🟫🟫🟫\n",
      "🟫🟫🟫🟫🟫🟫🟫🟫🟫🟫🟫🟫🟫🟫🟫🟫🟫🌲🟫🟫🟫🟫🟫🟫🟫🟫🟫🟫🟫🟫🟫🟫🟫🟫🟫🟫🟫🟫🟫🌲🟫🟫🟫🟫🟫🌲🟫🟫🟫🟫🟫🌲🟫🟫🟫🌲🟫🟫🟫🟫🟫🌲🟫🟫\n",
      "🟫🟫🟫🟫🟫🟫🟫🟫🟫🟫🟫🟫🟫🌲🟫🟫🟫🟫🟫🟫🟫🟫🟫🟫🟫🟫🟫🟫🟫🌲🟫🟫🟫🟫🟫🟫🟫🟫🟫🟫🟫🟫🌲🟫🟫🟫🟫🟫🌲🟫🟫🟫🟫🟫🟫🟫🟫🟫🌲🟫🟫🟫🟫🟫\n",
      "🟫🟫🟫🌲🟫🟫🟫🟫🟫🟫🟫🟫🟫🟫🟫🟫🟫🟫🟫🟫🟫🟫🌲🟫🟫🟫🟫🟫🟫🟫🟫🟫🟫🟫🟫🟫🌲🟫🟫🟫🟫🟫🟫🟫🟫🟫🟫🟫🟫🟫🟫🟫🟫🟫🟫🟫🟫🟫🟫🟫🟫🟫🟫🌲\n",
      "🌲🟫🟫🟫🟫🟫🌲🟫🟫🟫🌲🟫🟫🟫🟫🟫🟫🌲🟫🟫🟫🟫🟫🟫🟫🟫🟫🟫🟫🟫🟫🌲🟫🟫🟫🟫🟫🟫🟫🌲🟫🟫🟫🟫🟫🟫🟫🟫🟫🟫🟫🟫🟫🟫🟫🟫🟫🟫🟫🟫🟫🟫🟫🟫\n",
      "🟫🟫🟫🟫🟫🟫🟫🟫🟫🟫🟫🟫🟫🟫🟫🟫🟫🟫🟫🟫🟫🟫🟫🟫🟫🟫🟫🟫🌲🟫🟫🟫🟫🟫🟫🟫🟫🟫🟫🟫🟫🟫🌲🟫🟫🟫🟫🟫🟫🟫🟫🌲🟫🟫🟫🌲🟫🟫🟫🟫🌲🟫🟫🟫\n",
      "🟫🟫🟫🟫🟫🟫🟫🟫🟫🌲🟫🟫🟫🟫🟫🟫🟫🟫🟫🟫🟫🟫🟫🟫🟫🌲🟫🟫🟫🟫🟫🟫🟫🟫🌲🟫🟫🟫🟫🟫🟫🟫🟫🟫🟫🟫🟫🟫🟫🟫🟫🟫🟫🟫🟫🟫🟫🟫🟫🟫🟫🟫🟫🟫\n",
      "🟫🟫🟫🟫🟫🌲🟫🟫🟫🟫🟫🟫🟫🌲🟫🟫🟫🟫🟫🟫🟫🟫🟫🟫🟫🟫🟫🟫🟫🟫🟫🟫🟫🟫🟫🟫🟫🟫🟫🌲🟫🟫🟫🟫🟫🟫🌲🟫🟫🟫🟫🟫🟫🟫🟫🟫🟫🟫🟫🟫🟫🟫🟫🟫\n",
      "🌲🟫🟫🟫🟫🟫🟫🟫🟫🟫🟫🟫🟫🟫🟫🟫🟫🟫🟫🟫🌲🟫🟫🟫🟫🟫🟫🟫🌲🟫🟫🌲🟫🟫🟫🟫🌲🟫🟫🟫🟫🟫🟫🟫🟫🟫🟫🟫🟫🟫🌲🟫🟫🟫🟫🟫🟫🟫🟫🟫🌲🟫🟫🟫\n",
      "🟫🟫🟫🟫🟫🟫🟫🟫🟫🟫🟫🟫🟫🟫🟫🟫🟫🌲🟫🟫🟫🟫🌲🟫🟫🟫🟫🟫🟫🟫🟫🟫🟫🟫🟫🟫🟫🟫🟫🟫🟫🟫🌲🟫🟫🟫🟫🟫🟫🟫🟫🟫🟫🟫🟫🌲🟫🟫🟫🟫🟫🟫🟫🟫\n",
      "🟫🟫🌲🟫🟫🌲🟫🟫🟫🟫🟫🟫🟫🟫🟫🟫🟫🟫🟫🟫🟫🟫🟫🟫🟫🟫🟫🟫🟫🟫🟫🟫🟫🟫🟫🟫🟫🟫🟫🟫🟫🟫🟫🟫🟫🟫🟫🟫🟫🟫🟫🟫🟫🟫🟫🟫🟫🟫🟫🟫🟫🟫🟫🟫\n",
      "🟫🟫🟫🟫🟫🟫🟫🟫🟫🟫🟫🌲🟫🟫🟫🟫🟫🟫🟫🌲🟫🟫🟫🟫🟫🟫🟫🟫🟫🟫🟫🟫🌲🟫🟫🟫🟫🌲🟫🟫🟫🟫🟫🟫🟫🟫🟫🟫🟫🟫🟫🟫🟫🟫🟫🟫🟫🟫🟫🟫🟫🌲🟫🟫\n",
      "🌲🟫🟫🟫🟫🟫🟫🟫🟫🟫🟫🟫🟫🟫🟫🟫🟫🟫🟫🟫🟫🟫🟫🟫🟫🟫🟫🟫🟫🟫🟫🟫🟫🟫🟫🟫🟫🟫🟫🟫🟫🟫🟫🟫🌲🟫🟫🌲🟫🟫🌲🟫🟫🟫🟫🟫🌲🟫🟫🟫🟫🟫🟫🟫\n",
      "🟫🟫🟫🟫🟫🟫🟫🟫🟫🟫🟫🟫🟫🟫🟫🟫🟫🟫🟫🟫🟫🟫🟫🌲🟫🟫🟫🌲🟫🟫🟫🟫🟫🟫🟫🟫🟫🟫🟫🟫🟫🟫🟫🟫🟫🟫🟫🟫🟫🟫🟫🟫🟫🟫🟫🟫🟫🟫🟫🟫🟫🟫🟫🟫\n",
      "🟫🟫🌲🟫🟫🟫🟫🌲🟫🟫🟫🟫🟫🟫🌲🟫🟫🟫🟫🟫🟫🟫🟫🟫🟫🟫🟫🟫🟫🟫🟫🟫🟫🌲🟫🟫🟫🟫🟫🟫🟫🟫🟫🟫🟫🟫🟫🟫🟫🟫🟫🟫🟫🟫🌲🟫🟫🟫🟫🟫🟫🌲🟫🟫\n",
      "🟫🟫🟫🟫🟫🟫🟫🟫🟫🟫🟫🟫🟫🟫🟫🟫🟫🟫🟫🟫🌲🟫🟫🟫🟫🟫🟫🟫🟫🟫🟫🟫🟫🟫🟫🟫🟫🟫🟫🟫🟫🌲🟫🟫🟫🟫🟫🟫🟫🟫🟫🌲🟫🟫🟫🟫🟫🌲🟫🟫🟫🟫🟫🟫\n",
      "🟫🟫🟫🟫🟫🟫🟫🟫🟫🟫🟫🟫🟫🟫🟫🟫🟫🟫🟫🟫🟫🟫🟫🟫🟫🟫🟫🟫🟫🟫🌲🟫🟫🟫🟫🟫🟫🟫🟫🟫🟫🟫🟫🟫🟫🟫🌲🟫🟫🟫🟫🟫🟫🟫🟫🟫🟫🟫🟫🟫🟫🟫🟫🟫\n",
      "🟫🟫🟫🟫🌲🟫🟫🟫🟫🟫🌲🟫🟫🟫🟫🟫🟫🟫🟫🟫🟫🟫🟫🟫🟫🟫🌲🟫🟫🟫🟫🟫🟫🟫🟫🟫🟫🟫🟫🟫🟫🟫🟫🟫🟫🟫🟫🟫🟫🟫🟫🟫🟫🟫🟫🟫🟫🟫🟫🟫🟫🟫🟫🟫\n",
      "🌲🟫🟫🟫🟫🟫🟫🟫🟫🟫🟫🟫🟫🟫🟫🟫🟫🟫🟫🌲🟫🟫🌲🟫🟫🟫🟫🟫🟫🟫🟫🟫🟫🟫🟫🟫🟫🌲🟫🟫🟫🟫🟫🟫🟫🟫🟫🟫🟫🟫🟫🟫🟫🟫🌲🟫🟫🟫🟫🟫🟫🟫🟫🟫\n",
      "🟫🟫🟫🟫🟫🟫🟫🟫🟫🟫🟫🟫🟫🟫🌲🟫🟫🟫🟫🟫🟫🟫🟫🟫🟫🟫🟫🟫🟫🟫🟫🟫🟫🟫🟫🟫🟫🟫🟫🟫🟫🟫🌲🟫🟫🟫🟫🟫🌲🟫🟫🟫🟫🟫🟫🟫🟫🟫🟫🌲🟫🟫🌲🟫\n",
      "🟫🟫🟫🟫🟫🌲🟫🟫🟫🟫🟫🟫🟫🟫🟫🟫🟫🟫🟫🟫🟫🟫🟫🟫🟫🟫🟫🟫🌲🟫🟫🟫🌲🟫🟫🟫🟫🟫🟫🟫🟫🟫🟫🟫🟫🟫🟫🟫🟫🟫🟫🟫🟫🟫🟫🟫🟫🟫🟫🟫🟫🟫🟫🟫\n",
      "🟫🟫🟫🟫🟫🟫🟫🟫🟫🟫🌲🟫🟫🟫🟫🟫🟫🟫🟫🟫🟫🟫🟫🟫🟫🟫🟫🟫🟫🟫🟫🟫🟫🟫🟫🟫🟫🌲🟫🟫🟫🟫🟫🟫🟫🟫🟫🟫🟫🟫🟫🌲🟫🟫🟫🟫🟫🟫🟫🟫🟫🟫🟫🟫\n",
      "🟫🟫🟫🟫🟫🟫🟫🟫🟫🟫🟫🟫🟫🟫🟫🟫🟫🌲🟫🟫🟫🌲🟫🟫🟫🌲🟫🟫🟫🟫🟫🟫🟫🟫🟫🟫🟫🟫🟫🟫🟫🟫🟫🟫🟫🌲🟫🟫🟫🟫🟫🟫🟫🟫🟫🌲🟫🟫🟫🌲🟫🟫🟫🟫\n",
      "🟫🟫🟫🟫🟫🌲🟫🟫🟫🟫🟫🟫🟫🟫🟫🟫🟫🟫🟫🟫🟫🟫🟫🟫🟫🟫🟫🟫🟫🟫🌲🟫🟫🟫🟫🟫🟫🟫🟫🟫🟫🟫🌲🟫🟫🟫🟫🟫🟫🟫🟫🟫🟫🟫🟫🟫🟫🟫🟫🟫🟫🟫🟫🟫\n",
      "🟫🟫🌲🟫🟫🟫🟫🟫🟫🌲🟫🟫🟫🌲🟫🟫🟫🟫🟫🟫🌲🟫🟫🟫🟫🟫🟫🟫🟫🟫🟫🟫🟫🟫🟫🌲🟫🟫🟫🌲🟫🟫🟫🟫🟫🟫🟫🟫🟫🌲🟫🟫🟫🌲🟫🟫🟫🟫🟫🟫🟫🟫🌲🟫\n",
      "🟫🟫🟫🟫🟫🟫🟫🟫🟫🟫🟫🟫🟫🟫🟫🟫🟫🟫🟫🟫🟫🟫🟫🟫🟫🟫🟫🟫🟫🟫🟫🟫🟫🟫🟫🟫🟫🟫🟫🟫🟫🟫🟫🟫🟫🟫🟫🟫🟫🟫🟫🟫🟫🟫🟫🟫🟫🟫🟫🌲🟫🟫🟫🟫\n",
      "🟫🟫🟫🟫🟫🟫🟫🟫🟫🟫🟫🟫🟫🟫🟫🟫🟫🌲🟫🟫🟫🟫🟫🌲🟫🟫🌲🟫🟫🟫🌲🟫🟫🟫🟫🟫🟫🟫🟫🟫🟫🟫🟫🌲🟫🟫🟫🟫🟫🟫🟫🟫🟫🟫🟫🟫🟫🟫🟫🟫🟫🟫🟫🟫\n",
      "🌲🟫🟫🟫🟫🟫🟫🟫🟫🟫🟫🟫🟫🟫🟫🟫🟫🟫🟫🟫🌲🟫🟫🟫🟫🟫🟫🟫🟫🟫🟫🟫🟫🟫🟫🟫🌲🟫🟫🟫🌲🟫🟫🟫🟫🟫🟫🟫🟫🌲🟫🟫🟫🟫🟫🌲🟫🟫🟫🟫🟫🟫🟫🟫\n",
      "🟫🟫🟫🟫🌲🟫🟫🟫🟫🟫🌲🟫🟫🟫🟫🌲🟫🟫🟫🟫🟫🟫🟫🟫🟫🟫🟫🟫🟫🟫🟫🟫🟫🟫🟫🟫🟫🟫🟫🟫🟫🟫🟫🟫🟫🟫🟫🟫🟫🟫🟫🟫🟫🟫🟫🟫🟫🟫🟫🟫🟫🟫🟫🟫\n",
      "🟫🟫🟫🟫🟫🟫🟫🟫🟫🟫🟫🟫🟫🟫🟫🟫🟫🟫🟫🟫🟫🟫🟫🟫🟫🟫🟫🟫🌲🟫🟫🌲🟫🟫🟫🟫🟫🟫🟫🟫🟫🟫🟫🟫🟫🟫🟫🟫🟫🟫🟫🌲🟫🟫🟫🟫🟫🟫🟫🟫🌲🟫🟫🟫\n",
      "🟫🟫🟫🟫🟫🟫🟫🟫🌲🟫🟫🟫🟫🟫🟫🟫🟫🟫🟫🟫🟫🟫🟫🟫🟫🟫🟫🟫🟫🟫🟫🟫🟫🟫🌲🟫🟫🟫🟫🟫🟫🟫🟫🟫🟫🌲🟫🟫🌲🟫🟫🟫🟫🟫🟫🟫🌲🟫🟫🟫🟫🟫🟫🌲\n",
      "🟫🌲🟫🟫🟫🟫🟫🟫🟫🟫🟫🟫🟫🟫🌲🟫🟫🟫🟫🟫🟫🟫🟫🌲🟫🟫🟫🟫🟫🟫🟫🟫🟫🟫🟫🟫🟫🟫🌲🟫🟫🟫🌲🟫🟫🟫🟫🟫🟫🟫🟫🟫🟫🟫🟫🟫🟫🟫🟫🟫🟫🟫🟫🟫\n",
      "🟫🟫🟫🟫🟫🟫🟫🟫🟫🟫🌲🟫🟫🟫🟫🟫🟫🟫🟫🌲🟫🟫🟫🟫🟫🟫🟫🟫🟫🟫🟫🟫🟫🟫🟫🟫🟫🟫🟫🟫🟫🟫🟫🟫🟫🟫🟫🟫🟫🟫🟫🟫🟫🟫🟫🟫🟫🟫🟫🟫🟫🟫🟫🟫\n",
      "🟫🟫🟫🟫🟫🌲🟫🟫🟫🟫🟫🟫🟫🟫🟫🟫🟫🟫🟫🟫🟫🟫🟫🟫🟫🟫🟫🟫🟫🌲🟫🟫🟫🌲🟫🟫🟫🟫🟫🟫🟫🟫🟫🟫🟫🟫🟫🟫🟫🟫🟫🟫🟫🟫🌲🟫🟫🟫🌲🟫🟫🟫🟫🟫\n",
      "🟫🟫🟫🟫🟫🟫🟫🟫🟫🟫🟫🟫🟫🟫🟫🟫🟫🟫🟫🟫🟫🟫🌲🟫🟫🌲🟫🟫🟫🟫🟫🟫🟫🟫🟫🟫🟫🌲🟫🟫🟫🟫🟫🟫🟫🟫🌲🟫🟫🟫🌲🟫🟫🟫🟫🟫🟫🟫🟫🟫🟫🌲🟫🟫\n",
      "🌲🟫🟫🟫🟫🟫🟫🌲🟫🟫🟫🟫🟫🟫🌲🟫🟫🟫🟫🟫🟫🟫🟫🟫🟫🟫🟫🟫🟫🟫🟫🟫🟫🟫🟫🟫🟫🟫🟫🟫🟫🟫🟫🟫🟫🟫🟫🟫🟫🟫🟫🟫🟫🟫🟫🟫🟫🟫🟫🟫🟫🟫🟫🟫\n",
      "🟫🟫🟫🟫🟫🟫🟫🟫🟫🟫🟫🌲🟫🟫🟫🟫🟫🟫🟫🟫🟫🟫🟫🟫🟫🟫🟫🟫🌲🟫🟫🟫🌲🟫🟫🟫🟫🟫🟫🟫🟫🟫🟫🟫🟫🟫🟫🟫🟫🟫🟫🟫🌲🟫🟫🟫🟫🟫🌲🟫🟫🟫🟫🟫\n",
      "🟫🟫🟫🟫🟫🟫🟫🟫🟫🟫🟫🟫🟫🟫🟫🟫🟫🟫🟫🌲🟫🟫🟫🟫🟫🟫🟫🟫🟫🟫🟫🟫🟫🟫🟫🟫🌲🟫🟫🟫🟫🟫🌲🟫🟫🟫🟫🟫🌲🟫🟫🟫🟫🟫🟫🟫🟫🟫🟫🟫🟫🟫🟫🌲\n",
      "🟫🟫🟫🟫🌲🟫🟫🟫🟫🟫🟫🟫🟫🟫🟫🌲🟫🟫🟫🟫🟫🟫🟫🟫🟫🌲🟫🟫🟫🟫🟫🟫🟫🟫🟫🟫🟫🟫🟫🌲🟫🟫🟫🟫🟫🟫🟫🟫🟫🟫🟫🟫🟫🟫🟫🟫🟫🟫🟫🟫🟫🟫🟫🟫\n",
      "🟫🟫🟫🟫🟫🟫🟫🟫🌲🟫🟫🟫🟫🟫🟫🟫🟫🟫🟫🟫🟫🟫🟫🟫🟫🟫🟫🟫🟫🟫🟫🟫🟫🟫🟫🟫🟫🟫🟫🟫🟫🟫🟫🟫🟫🟫🟫🟫🟫🟫🟫🟫🟫🟫🟫🟫🟫🌲🟫🟫🟫🟫🟫🟫\n",
      "🟫🌲🟫🟫🟫🟫🟫🟫🟫🟫🟫🟫🌲🟫🟫🟫🟫🟫🟫🟫🟫🟫🟫🟫🟫🟫🟫🟫🟫🌲🟫🟫🟫🟫🟫🟫🟫🟫🟫🟫🟫🟫🟫🟫🌲🟫🟫🟫🟫🟫🟫🟫🟫🌲🟫🟫🟫🟫🟫🟫🟫🌲🟫🟫\n",
      "🟫🟫🟫🟫🟫🟫🟫🟫🟫🟫🟫🟫🟫🟫🟫🟫🟫🌲🟫🟫🟫🌲🟫🟫🟫🌲🟫🟫🟫🟫🟫🟫🟫🟫🟫🌲🟫🟫🌲🟫🟫🟫🟫🟫🟫🟫🟫🟫🟫🌲🟫🟫🟫🟫🟫🟫🟫🟫🟫🟫🟫🟫🟫🟫\n",
      "🟫🟫🟫🟫🟫🟫🟫🌲🟫🟫🌲🟫🟫🟫🟫🟫🟫🟫🟫🟫🟫🟫🟫🟫🟫🟫🟫🟫🟫🟫🟫🟫🌲🟫🟫🟫🟫🟫🟫🟫🟫🟫🟫🟫🟫🟫🟫🟫🟫🟫🟫🌲🟫🟫🟫🌲🟫🟫🟫🟫🟫🟫🟫🟫\n",
      "🟫🟫🟫🟫🟫🟫🟫🟫🟫🟫🟫🟫🟫🟫🌲🟫🟫🟫🟫🟫🟫🟫🟫🌲🟫🟫🟫🟫🟫🟫🟫🟫🟫🟫🟫🟫🟫🟫🟫🟫🟫🌲🟫🟫🟫🟫🟫🟫🟫🟫🟫🟫🟫🟫🟫🟫🟫🟫🟫🟫🟫🟫🟫🟫\n",
      "🟫🟫🟫🟫🟫🟫🟫🟫🟫🟫🟫🟫🟫🟫🟫🟫🟫🟫🟫🌲🟫🟫🟫🟫🟫🟫🟫🟫🌲🟫🟫🟫🟫🟫🟫🟫🟫🟫🟫🟫🟫🟫🟫🟫🟫🟫🟫🟫🌲🟫🟫🟫🟫🟫🟫🟫🟫🟫🌲🟫🟫🟫🟫🟫\n",
      "🟫🌲🟫🟫🟫🌲🟫🟫🟫🟫🟫🟫🟫🌲🟫🟫🟫🟫🟫🟫🟫🟫🟫🟫🟫🟫🟫🟫🟫🟫🟫🟫🟫🟫🟫🌲🟫🟫🟫🟫🟫🟫🟫🟫🟫🌲🟫🟫🟫🟫🟫🟫🟫🟫🌲🟫🟫🟫🟫🟫🟫🟫🟫🟫\n",
      "🟫🟫🟫🟫🟫🟫🟫🟫🟫🟫🟫🟫🟫🟫🟫🟫🌲🟫🟫🟫🟫🟫🟫🟫🟫🟫🟫🟫🟫🟫🟫🟫🟫🟫🟫🟫🟫🟫🟫🌲🟫🟫🟫🟫🟫🟫🟫🟫🟫🟫🟫🟫🟫🟫🟫🟫🟫🟫🟫🟫🟫🟫🟫🟫\n",
      "🟫🟫🟫🟫🟫🟫🟫🌲🟫🟫🟫🟫🟫🟫🟫🟫🟫🟫🟫🟫🟫🌲🟫🟫🌲🟫🟫🟫🟫🟫🟫🌲🟫🟫🟫🟫🟫🟫🟫🟫🟫🟫🌲🟫🟫🟫🟫🟫🟫🌲🟫🟫🟫🟫🟫🟫🟫🟫🟫🟫🟫🌲🟫🟫\n",
      "🟫🟫🟫🟫🌲🟫🟫🟫🟫🟫🌲🟫🟫🟫🟫🟫🟫🟫🟫🟫🟫🟫🟫🟫🟫🟫🟫🟫🟫🟫🟫🟫🟫🟫🟫🟫🟫🌲🟫🟫🟫🟫🟫🟫🟫🟫🟫🟫🟫🟫🟫🟫🌲🟫🟫🟫🌲🟫🟫🟫🟫🟫🟫🟫\n",
      "🟫🟫🟫🟫🟫🟫🟫🟫🟫🟫🟫🟫🟫🟫🌲🟫🟫🟫🟫🟫🟫🟫🟫🟫🟫🟫🟫🟫🌲🟫🟫🟫🟫🟫🟫🟫🟫🟫🟫🟫🟫🟫🟫🟫🟫🟫🌲🟫🟫🟫🟫🟫🟫🟫🟫🟫🟫🟫🟫🟫🟫🟫🟫🟫\n",
      "🟫🌲🟫🟫🟫🟫🟫🟫🟫🟫🟫🟫🟫🟫🟫🟫🟫🟫🌲🟫🟫🟫🟫🌲🟫🟫🟫🟫🟫🟫🟫🟫🟫🟫🌲🟫🟫🟫🟫🟫🟫🟫🟫🟫🟫🟫🟫🟫🟫🟫🌲🟫🟫🟫🟫🟫🟫🟫🟫🟫🟫🟫🟫🟫\n",
      "🟫🟫🟫🟫🟫🟫🟫🟫🟫🟫🟫🌲🟫🟫🟫🟫🟫🟫🟫🟫🟫🟫🟫🟫🟫🟫🟫🟫🟫🟫🟫🌲🟫🟫🟫🟫🟫🌲🟫🟫🟫🟫🌲🟫🟫🟫🟫🟫🟫🟫🟫🟫🟫🟫🟫🟫🌲🟫🟫🌲🟫🟫🌲🟫\n",
      "🟫🟫🟫🟫🌲🟫🟫🟫🟫🟫🟫🟫🟫🟫🟫🟫🟫🟫🟫🟫🌲🟫🟫🟫🟫🟫🟫🟫🟫🟫🟫🟫🟫🟫🟫🟫🟫🟫🟫🟫🟫🟫🟫🟫🟫🟫🟫🟫🟫🟫🟫🟫🟫🟫🟫🟫🟫🟫🟫🟫🟫🟫🟫🟫\n",
      "🟫🟫🟫🟫🟫🟫🟫🟫🌲🟫🟫🟫🟫🟫🟫🟫🟫🟫🟫🟫🟫🟫🟫🟫🌲🟫🟫🟫🌲🟫🟫🟫🟫🟫🟫🟫🟫🟫🟫🟫🟫🟫🟫🟫🟫🌲🟫🟫🌲🟫🟫🟫🟫🟫🟫🟫🟫🟫🟫🟫🟫🟫🟫🟫\n",
      "🟫🌲🟫🟫🟫🟫🟫🟫🟫🟫🟫🟫🟫🟫🌲🟫🟫🟫🟫🟫🟫🟫🟫🟫🟫🟫🟫🟫🟫🟫🟫🌲🟫🟫🟫🟫🟫🟫🟫🟫🟫🟫🌲🟫🟫🟫🟫🟫🟫🟫🟫🌲🟫🟫🟫🟫🟫🟫🟫🌲🟫🟫🟫🟫\n",
      "🟫🟫🟫🟫🟫🟫🟫🟫🟫🟫🟫🟫🟫🟫🟫🟫🟫🟫🌲🟫🟫🟫🟫🟫🟫🟫🟫🟫🟫🟫🟫🟫🟫🟫🟫🌲🟫🟫🟫🟫🟫🟫🟫🟫🟫🟫🟫🟫🟫🟫🟫🟫🟫🟫🟫🟫🌲🟫🟫🟫🟫🟫🌲🟫\n",
      "🟫🟫🟫🌲🟫🟫🟫🟫🟫🟫🟫🟫🟫🟫🟫🟫🟫🟫🟫🟫🟫🟫🌲🟫🟫🟫🟫🟫🟫🟫🟫🟫🟫🟫🟫🟫🟫🟫🟫🟫🟫🟫🟫🟫🌲🟫🟫🟫🟫🟫🟫🟫🟫🟫🟫🟫🟫🟫🟫🟫🟫🟫🟫🟫\n",
      "🟫🟫🟫🟫🟫🟫🟫🟫🟫🟫🟫🟫🟫🌲🟫🟫🟫🟫🟫🟫🟫🟫🟫🟫🟫🟫🌲🟫🟫🟫🟫🟫🟫🌲🟫🟫🟫🟫🌲🟫🟫🟫🟫🟫🟫🟫🟫🌲🟫🟫🟫🟫🟫🟫🟫🟫🟫🟫🌲🟫🟫🟫🟫🟫\n",
      "🟫🟫🟫🟫🟫🟫🟫🟫🟫🟫🟫🟫🟫🟫🟫🟫🟫🌲🟫🟫🌲🟫🟫🟫🟫🟫🟫🟫🟫🟫🟫🟫🟫🟫🟫🟫🟫🟫🟫🟫🟫🟫🟫🟫🟫🟫🟫🟫🟫🟫🟫🟫🟫🌲🟫🟫🟫🟫🟫🟫🟫🟫🟫🟫\n",
      "🟫🟫🟫🟫🟫🟫🟫🟫🟫🌲🟫🟫🟫🟫🟫🟫🟫🟫🟫🟫🟫🟫🟫🟫🟫🟫🟫🟫🟫🟫🟫🟫🟫🟫🟫🟫🟫🟫🟫🟫🟫🟫🌲🟫🟫🟫🟫🟫🟫🟫🟫🟫🟫🟫🟫🟫🟫🟫🟫🟫🟫🟫🟫🟫\n",
      "🟫🌲🟫🟫🟫🟫🌲🟫🟫🟫🟫🌲🟫🟫🟫🟫🟫🟫🟫🟫🟫🟫🟫🟫🟫🟫🟫🟫🟫🌲🟫🟫🟫🟫🟫🟫🟫🌲🟫🟫🟫🟫🟫🟫🟫🟫🟫🌲🟫🟫🌲🟫🟫🟫🟫🟫🟫🌲🟫🟫🌲🟫🟫🟫\n",
      "🟫🟫🟫🟫🟫🟫🟫🟫🟫🟫🟫🟫🟫🟫🟫🟫🟫🟫🌲🟫🟫🟫🌲🟫🟫🟫🟫🟫🟫🟫🟫🟫🟫🌲🟫🟫🟫🟫🟫🟫🟫🟫🟫🟫🌲🟫🟫🟫🟫🟫🟫🟫🟫🟫🟫🟫🟫🟫🟫🟫🟫🟫🟫🟫\n",
      "🟫🟫🟫🟫🟫🟫🟫🟫🟫🟫🟫🟫🟫🟫🌲🟫🟫🟫🟫🟫🟫🟫🟫🟫🟫🟫🟫🌲🟫🟫🟫🟫🟫🟫🟫🟫🟫🟫🟫🟫🟫🟫🟫🟫🟫🟫🟫🟫🟫🟫🟫🟫🟫🌲🟫🟫🟫🟫🟫🟫🟫🟫🟫🟫\n",
      "🟫🟫🟫🟫🟫🟫🟫🟫🟫🟫🌲🟫🟫🟫🟫🟫🟫🟫🟫🟫🟫🟫🟫🟫🟫🟫🟫🟫🟫🟫🟫🟫🟫🟫🟫🟫🟫🟫🟫🌲🟫🟫🟫🟫🟫🟫🟫🟫🟫🌲🟫🟫🟫🟫🟫🟫🟫🟫🌲🟫🟫🟫🟫🟫\n",
      "🌲🟫🟫🟫🟫🟫🟫🟫🟫🟫🟫🟫🟫🟫🟫🟫🟫🌲🟫🟫🟫🌲🟫🟫🟫🟫🟫🟫🟫🟫🌲🟫🟫🟫🟫🟫🟫🟫🟫🟫🟫🟫🟫🟫🟫🟫🟫🟫🟫🟫🟫🟫🟫🟫🟫🌲🟫🟫🟫🟫🟫🟫🟫🟫\n",
      "🟫🟫🟫🌲🟫🟫🟫🟫🟫🟫🟫🟫🟫🟫🟫🟫🟫🟫🟫🟫🟫🟫🟫🟫🟫🌲🟫🟫🟫🟫🟫🟫🟫🟫🌲🟫🟫🟫🟫🟫🟫🌲🟫🟫🟫🟫🌲🟫🟫🟫🟫🟫🌲🟫🟫🟫🟫🟫🟫🟫🟫🌲🟫🟫\n",
      "🟫🟫🟫🟫🟫🟫🟫🟫🟫🟫🟫🟫🟫🟫🟫🟫🟫🟫🟫🟫🟫🟫🟫🟫🟫🟫🟫🟫🟫🟫🟫🟫🟫🟫🟫🟫🟫🟫🌲🟫🟫🟫🟫🟫🟫🟫🟫🟫🟫🟫🟫🟫🟫🟫🟫🟫🟫🟫🟫🟫🟫🟫🟫🟫\n",
      "🟫🟫🟫🟫🟫🟫🟫🟫🟫🟫🟫🟫🟫🟫🌲🟫🟫🟫🟫🟫🟫🟫🟫🟫🟫🟫🟫🟫🟫🟫🌲🟫🟫🟫🟫🟫🟫🟫🟫🟫🟫🟫🟫🟫🌲🟫🟫🟫🌲🟫🟫🟫🟫🟫🟫🟫🟫🟫🟫🟫🟫🟫🟫🟫\n",
      "🟫🟫🟫🟫🟫🟫🟫🌲🟫🟫🟫🟫🟫🟫🟫🟫🟫🟫🟫🟫🟫🌲🟫🟫🟫🟫🟫🟫🟫🟫🟫🟫🟫🟫🟫🌲🟫🟫🟫🟫🟫🟫🟫🟫🟫🟫🟫🟫🟫🟫🟫🌲🟫🟫🟫🟫🌲🟫🟫🟫🟫🟫🟫🟫\n",
      "🟫🟫🟫🟫🟫🟫🟫🟫🟫🟫🟫🟫🟫🟫🟫🟫🟫🌲🟫🟫🟫🟫🟫🟫🟫🟫🟫🌲🟫🟫🟫🟫🟫🟫🟫🟫🟫🟫🟫🟫🟫🟫🟫🟫🟫🟫🟫🟫🟫🟫🟫🟫🟫🟫🟫🟫🟫🟫🟫🟫🟫🌲🟫🟫\n",
      "🌲🟫🟫🟫🌲🟫🟫🟫🟫🟫🟫🟫🌲🟫🟫🟫🟫🟫🟫🟫🟫🟫🟫🟫🟫🟫🟫🟫🟫🟫🟫🟫🟫🟫🟫🟫🟫🟫🟫🌲🟫🟫🟫🟫🟫🟫🟫🟫🟫🟫🟫🟫🟫🟫🌲🟫🟫🟫🟫🟫🟫🟫🟫🟫\n",
      "🟫🟫🟫🟫🟫🟫🟫🟫🟫🟫🟫🟫🟫🟫🟫🟫🟫🟫🟫🟫🟫🟫🟫🌲🟫🟫🟫🟫🟫🟫🟫🌲🟫🟫🟫🟫🟫🟫🟫🟫🟫🟫🟫🌲🟫🟫🟫🟫🌲🟫🟫🟫🟫🟫🟫🟫🟫🟫🟫🟫🟫🟫🟫🟫\n",
      "🟫🟫🟫🟫🟫🟫🌲🟫🟫🟫🟫🟫🟫🟫🌲🟫🟫🟫🟫🟫🟫🟫🟫🟫🟫🟫🌲🟫🟫🟫🟫🟫🟫🟫🟫🟫🟫🟫🟫🟫🟫🟫🟫🟫🟫🟫🟫🟫🟫🟫🟫🟫🟫🟫🟫🟫🟫🟫🟫🌲🟫🟫🟫🌲\n",
      "🟫🟫🟫🟫🟫🟫🟫🟫🟫🌲🟫🟫🟫🟫🟫🟫🟫🟫🟫🌲🟫🟫🟫🟫🟫🟫🟫🟫🟫🟫🟫🟫🟫🟫🌲🟫🟫🟫🟫🟫🟫🟫🟫🟫🟫🟫🟫🟫🟫🟫🟫🟫🟫🟫🟫🟫🟫🟫🟫🟫🟫🟫🟫🟫\n",
      "🟫🟫🟫🟫🟫🟫🟫🟫🟫🟫🟫🟫🟫🟫🟫🟫🟫🟫🟫🟫🟫🟫🟫🟫🟫🟫🟫🟫🟫🟫🟫🟫🟫🟫🟫🟫🟫🟫🟫🟫🟫🟫🟫🟫🟫🟫🟫🟫🟫🟫🟫🟫🟫🟫🟫🟫🌲🟫🟫🟫🟫🟫🟫🟫\n",
      "🟫🟫🌲🟫🟫🟫🟫🟫🟫🟫🟫🟫🟫🟫🟫🌲🟫🟫🟫🟫🟫🟫🟫🌲🟫🟫🟫🟫🟫🟫🌲🟫🟫🟫🟫🟫🟫🟫🟫🟫🟫🌲🟫🟫🌲🟫🟫🟫🟫🟫🟫🟫🟫🌲🟫🟫🟫🟫🌲🟫🟫🟫🟫🟫\n",
      "🟫🟫🟫🟫🟫🟫🟫🌲🟫🟫🟫🟫🌲🟫🟫🟫🟫🟫🟫🌲🟫🟫🟫🟫🟫🟫🌲🟫🟫🟫🟫🟫🟫🟫🟫🟫🌲🟫🟫🟫🟫🟫🟫🟫🟫🟫🟫🟫🟫🌲🟫🟫🟫🟫🟫🟫🟫🟫🟫🟫🟫🟫🌲🟫\n"
     ]
    }
   ],
   "source": [
    "resultado = a.poisson_disc_sampling(3,10)\n",
    "for r in resultado:\n",
    "    print(\"\".join([str(\"🌲\" if j==1 else \"🟫\") for j in list(r.flatten())][0:64]))"
   ]
  }
 ],
 "metadata": {
  "kernelspec": {
   "display_name": ".venv",
   "language": "python",
   "name": "python3"
  },
  "language_info": {
   "codemirror_mode": {
    "name": "ipython",
    "version": 3
   },
   "file_extension": ".py",
   "mimetype": "text/x-python",
   "name": "python",
   "nbconvert_exporter": "python",
   "pygments_lexer": "ipython3",
   "version": "3.12.3"
  }
 },
 "nbformat": 4,
 "nbformat_minor": 2
}
