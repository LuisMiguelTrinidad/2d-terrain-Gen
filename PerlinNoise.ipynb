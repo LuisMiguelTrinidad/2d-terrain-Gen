{
 "cells": [
  {
   "cell_type": "code",
   "execution_count": 1,
   "metadata": {},
   "outputs": [],
   "source": [
    "import opensimplex\n",
    "import numpy as np\n",
    "import matplotlib.pyplot as plt\n",
    "import math\n",
    "from random import randint\n",
    "from matplotlib.colors import ListedColormap\n",
    "import os\n",
    "import multiprocessing as mp\n",
    "from collections import Counter\n",
    "import plotly.express as px"
   ]
  },
  {
   "cell_type": "code",
   "execution_count": 3,
   "metadata": {},
   "outputs": [
    {
     "name": "stdout",
     "output_type": "stream",
     "text": [
      "0\n",
      "1\n",
      "2\n",
      "3\n",
      "4\n",
      "5\n",
      "6\n",
      "7\n",
      "8\n",
      "9\n",
      "10\n",
      "11\n",
      "12\n",
      "13\n",
      "14\n",
      "15\n",
      "16\n",
      "17\n",
      "18\n",
      "19\n",
      "20\n",
      "21\n",
      "22\n",
      "23\n",
      "24\n",
      "25\n",
      "26\n",
      "27\n",
      "28\n",
      "29\n",
      "30\n",
      "31\n",
      "32\n",
      "33\n",
      "34\n",
      "35\n",
      "36\n",
      "37\n",
      "38\n",
      "39\n",
      "40\n",
      "41\n",
      "42\n",
      "43\n",
      "44\n",
      "45\n",
      "46\n",
      "47\n",
      "48\n",
      "49\n",
      "50\n",
      "51\n",
      "52\n",
      "53\n",
      "54\n",
      "55\n",
      "56\n",
      "57\n",
      "58\n",
      "59\n",
      "60\n",
      "61\n",
      "62\n",
      "63\n",
      "64\n",
      "65\n",
      "66\n",
      "67\n",
      "68\n",
      "69\n",
      "70\n",
      "71\n",
      "72\n",
      "73\n",
      "74\n",
      "75\n",
      "76\n",
      "77\n",
      "78\n",
      "79\n",
      "80\n",
      "81\n",
      "82\n",
      "83\n",
      "84\n",
      "85\n",
      "86\n",
      "87\n",
      "88\n",
      "89\n",
      "90\n",
      "91\n",
      "92\n",
      "93\n",
      "94\n",
      "95\n",
      "96\n",
      "97\n",
      "98\n",
      "99\n",
      "100\n",
      "101\n",
      "102\n",
      "103\n",
      "104\n",
      "105\n",
      "106\n",
      "107\n",
      "108\n",
      "109\n",
      "110\n",
      "111\n",
      "112\n",
      "113\n",
      "114\n",
      "115\n",
      "116\n",
      "117\n",
      "118\n",
      "119\n",
      "120\n",
      "121\n",
      "122\n",
      "123\n",
      "124\n",
      "125\n",
      "126\n",
      "127\n",
      "[[[10 10 10 ... 11 11 11]\n",
      "  [10 10 10 ... 11 11 11]\n",
      "  [10 10 10 ... 11 11 11]\n",
      "  ...\n",
      "  [17 17 17 ... 16 16 16]\n",
      "  [17 17 17 ... 16 16 16]\n",
      "  [17 17 17 ... 16 16 16]]\n",
      "\n",
      " [[10 10 10 ... 11 11 11]\n",
      "  [10 10 10 ... 11 11 11]\n",
      "  [10 10 10 ... 11 11 11]\n",
      "  ...\n",
      "  [17 17 17 ... 16 16 16]\n",
      "  [17 17 17 ... 16 16 16]\n",
      "  [17 17 17 ... 16 16 16]]\n",
      "\n",
      " [[10 10 10 ... 11 11 11]\n",
      "  [10 10 10 ... 11 11 11]\n",
      "  [10 10 10 ... 11 11 11]\n",
      "  ...\n",
      "  [17 17 17 ... 16 16 16]\n",
      "  [17 17 17 ... 16 16 16]\n",
      "  [17 17 17 ... 16 16 16]]\n",
      "\n",
      " ...\n",
      "\n",
      " [[ 5  5  5 ... 12 12 12]\n",
      "  [ 5  5  5 ... 12 12 12]\n",
      "  [ 5  5  5 ... 12 12 12]\n",
      "  ...\n",
      "  [15 15 15 ... 15 15 15]\n",
      "  [15 15 15 ... 15 17 17]\n",
      "  [15 15 15 ... 17 17 17]]\n",
      "\n",
      " [[ 5  5  5 ... 12 12 12]\n",
      "  [ 5  5  5 ... 12 12 12]\n",
      "  [ 5  5  5 ... 12 12 12]\n",
      "  ...\n",
      "  [15 15 15 ... 15 15 12]\n",
      "  [15 15 15 ... 15 15 15]\n",
      "  [15 15 15 ... 17 17 17]]\n",
      "\n",
      " [[ 5  5  5 ... 12 12 12]\n",
      "  [ 5  5  5 ... 12 12 12]\n",
      "  [ 5  5  5 ... 12 12 12]\n",
      "  ...\n",
      "  [15 15 15 ... 15 15 12]\n",
      "  [15 15 15 ... 15 15 15]\n",
      "  [15 15 15 ... 15 15 17]]]\n"
     ]
    }
   ],
   "source": [
    "biomas = np.empty(shape=(128,128,128), dtype=np.uint8)\n",
    "for i in range(128):\n",
    "    for j in range(128):\n",
    "        for k in range(128):\n",
    "            mejor = float('inf')\n",
    "            for r in generator.BIOMAS.keys():\n",
    "                a = np.linalg.norm(np.array(generator.BIOMAS[r][0]) - np.array([i/128, j/128, k/128]))\n",
    "                if a < mejor:\n",
    "                    mejor = a\n",
    "                    biomas[i, j, k] = r\n",
    "    print(i)\n",
    "print(biomas)\n",
    "np.save(f\"CERCANIA_BIOMAS.npy\", biomas)\n"
   ]
  },
  {
   "cell_type": "code",
   "execution_count": 2,
   "metadata": {},
   "outputs": [
    {
     "name": "stdout",
     "output_type": "stream",
     "text": [
      "Counter({np.uint8(15): 367670, np.uint8(12): 292606, np.uint8(13): 234368, np.uint8(14): 223230, np.uint8(16): 183453, np.uint8(17): 143732, np.uint8(10): 135444, np.uint8(5): 126499, np.uint8(6): 87181, np.uint8(11): 85676, np.uint8(9): 75241, np.uint8(8): 50821, np.uint8(7): 40131, np.uint8(4): 33526, np.uint8(3): 17574})\n"
     ]
    }
   ],
   "source": [
    "a = np.load(f\"CERCANIA_BIOMAS.npy\")\n",
    "print(Counter(a.flatten(\n",
    "    \n",
    ")))"
   ]
  },
  {
   "cell_type": "code",
   "execution_count": 17,
   "metadata": {},
   "outputs": [],
   "source": [
    "class generator:\n",
    "    #Humedad altura temperatura\n",
    "    BIOMAS = {\n",
    "    0: ([-1, -1, -1], 'Oceano', (56, 148, 194)),\n",
    "    1: ([-1, -1, -1], 'Oceano profundo', (27, 59, 140)),\n",
    "    2: ([-1, -1, -1], 'Rios y lagos', (126, 180, 237)),\n",
    "    3: ([0.5, -0.1, 0.5], 'Costa', (245, 240, 108)),\n",
    "    4: ([0.85, 0.05, 0.45], 'Marismas', (171, 222, 32)),\n",
    "    5: ([0.75, 0.1, 0.05], 'Polo', (250, 250, 250)),\n",
    "    6: ([0.8, 0.15, 0.45], 'Pantano', (33, 133, 99)),\n",
    "    7: ([0.5, 0.2, 0.5], 'Bosque', (53, 118, 43)),\n",
    "    8: ([0.6, 0.2, 0.55], 'Selva', (0, 183, 10)),\n",
    "    9: ([0.35, 0.2, 0.55], 'Dehesa', (128, 179, 30)),\n",
    "    10: ([0.2, 0.2, 0.6], 'Savana', (228, 125, 28)),\n",
    "    12: ([0.75, 0.25, 0.75], 'Termales', (39, 156, 121)),\n",
    "    11: ([0.0, 0.3, 0.8], 'Desierto', (255, 211, 29)),\n",
    "    13: ([0.4, 0.4, 0.4], 'Valle', (144, 219, 148)),\n",
    "    14: ([0.2, 0.65, 0.55], 'Meseta', (110, 88, 66)),\n",
    "    15: ([0.65, 0.75, 0.3], 'Tundra', (208, 208, 240)),\n",
    "    16: ([0.15, 0.8, 0.85], 'Volcanico', (159, 16, 16)),\n",
    "    17: ([0.5, 1, 0.35], 'Montaña', (125, 125, 125)),\n",
    "    }\n",
    "    CHUNK_SIZE = 128\n",
    "    CERCANIA_BIOMAS = np.load(\"./CERCANIA_BIOMAS.npy\", allow_pickle=True)\n",
    "\n",
    "    def __init__(self, seedTemp = None, seedAltu = None, seedHume = None):\n",
    "        self.SEEDTEMP = seedTemp if seedTemp != None else randint(-2**30, 2**30)\n",
    "        self.SEEDALTU = seedAltu if seedTemp != None else randint(-2**30, 2**30)\n",
    "        self.SEEDHUME = seedHume if seedTemp != None else randint(-2**30, 2**30)\n",
    "\n",
    "    def getNoise(self, seed: int, x_in: int, y_in: int, iterations: int, size: int, disparity: int = 3):\n",
    "        \"\"\"\n",
    "        Generates Perlin noise using OpenSimplex.\n",
    "\n",
    "        Args:\n",
    "            seed (int): Random seed for OpenSimplex.\n",
    "            x_in (float): X coordinate of the noise point.\n",
    "            y_in (float): Y coordinate of the noise point.\n",
    "            iterations (int): Number of noise octaves.\n",
    "\n",
    "        Returns:\n",
    "            np.ndarray: 2D array of Perlin noise values.\n",
    "        \"\"\"\n",
    "\n",
    "        x = self.CHUNK_SIZE*x_in\n",
    "        y = self.CHUNK_SIZE*y_in\n",
    "        opensimplex.seed(seed)\n",
    "\n",
    "        rango = range(0,self.CHUNK_SIZE)\n",
    "        noise_array = np.zeros(dtype=float, shape=(self.CHUNK_SIZE, self.CHUNK_SIZE))\n",
    "\n",
    "        for r in range(iterations):\n",
    "            divisor = (size/2**r)\n",
    "            exponenciador = (2**r)\n",
    "            for i in rango:\n",
    "                for j in rango:\n",
    "                    noise_array[j, i] += opensimplex.noise2(x=(i+x)/divisor, y=(y+j)/divisor)/exponenciador\n",
    "        \n",
    "        maximo = sum([2/(2**r) for r in range(iterations)])\n",
    "        for i in rango:\n",
    "            for j in rango:\n",
    "                valor = (noise_array[j, i] + maximo)/(2*maximo)     \n",
    "                for r in range(disparity):\n",
    "                    valor = 0.5 + math.sin(math.pi*valor - math.pi/2)/2\n",
    "                noise_array[j, i] = valor\n",
    "        return noise_array\n",
    "    \n",
    "    def getBioma(self, temp, altu, hume):\n",
    "        if(altu < 0.5):\n",
    "            if (altu <= 0.45):\n",
    "                return 15 #Oceano\n",
    "            else:\n",
    "                return 16 #Oceano profundo\n",
    "        else:\n",
    "            alt = math.floor(128*(altu-0.5)*2)\n",
    "            temp = math.floor(128*temp)\n",
    "            hum = math.floor(128*hume)\n",
    "            return self.CERCANIA_BIOMAS[hum, alt, temp]\n",
    "\n",
    "    def getChunk(self, x, y):\n",
    "        \"\"\"\n",
    "        Generates a 2D array of Perlin noise values for a chunk.\n",
    "\n",
    "        Args:\n",
    "            x (int): X coordinate of the chunk.\n",
    "            y (int): Y coordinate of the chunk.\n",
    "\n",
    "        Returns:\n",
    "            np.ndarray: 2D array of Perlin noise values.\n",
    "        \"\"\"\n",
    "\n",
    "        if os.path.exists(f\"./Chunks/T_{hex(self.SEEDTEMP).replace('0x','')}A_{hex(self.SEEDTEMP).replace('0x','')}H_{hex(self.SEEDTEMP).replace('0x','')}/{x}/{y}.npy\"):\n",
    "            return np.load(f\"./Chunks/T_{hex(self.SEEDTEMP).replace('0x','')}A_{hex(self.SEEDTEMP).replace('0x','')}H_{hex(self.SEEDTEMP).replace('0x','')}/{x}/{y}.npy\")\n",
    "        else:\n",
    "            temp = self.getNoise(self.SEEDTEMP, x, y, 3, 128, 2)\n",
    "            altu = self.getNoise(self.SEEDALTU, x, y, 6, 256, 5)\n",
    "            hume = self.getNoise(self.SEEDHUME, x, y, 3, 256, 2)\n",
    "            array_biomas = np.zeros(dtype=np.uint8, shape=(self.CHUNK_SIZE,self.CHUNK_SIZE))\n",
    "            for i in range(self.CHUNK_SIZE):\n",
    "                for j in range(self.CHUNK_SIZE):\n",
    "                    array_biomas[i, j] = self.getBioma(hume[i, j], altu[i, j], temp[i, j])\n",
    "            os.makedirs(f\"./Chunks/T_{hex(self.SEEDTEMP).replace('0x','')}A_{hex(self.SEEDTEMP).replace('0x','')}H_{hex(self.SEEDTEMP).replace('0x','')}/{x}\", exist_ok=True)\n",
    "            np.save(f\"./Chunks/T_{hex(self.SEEDTEMP).replace('0x','')}A_{hex(self.SEEDTEMP).replace('0x','')}H_{hex(self.SEEDTEMP).replace('0x','')}/{x}/{y}\", array_biomas)\n",
    "            return array_biomas\n",
    "    \n",
    "    def getChunksInRange(self, x_range: tuple[int, int], y_range: tuple[int, int]):\n",
    "        arr = None\n",
    "        for i in range(x_range[0], x_range[1]):\n",
    "            arr_proc = []\n",
    "            for j in range(y_range[0], y_range[1]):\n",
    "                arr_proc.append(mp.Process(target=self.getChunk, args=(i, j)))\n",
    "            for r in range(len(arr_proc)):\n",
    "                arr_proc[r].start()\n",
    "            for r in range(len(arr_proc)):\n",
    "                arr_proc[r].join()\n",
    "\n",
    "            arr_line = None\n",
    "            for j in range(y_range[0], y_range[1]):\n",
    "                if arr_line is None:\n",
    "                    arr_line = self.getChunk(i, j)\n",
    "                else:\n",
    "                    arr_line = np.vstack((arr_line, self.getChunk(i, j)))\n",
    "\n",
    "            if arr is None:\n",
    "                arr = arr_line\n",
    "            else:\n",
    "                arr = np.hstack((arr, arr_line))\n",
    "        return arr\n",
    "\n",
    "    def representation(self, x_range: tuple[int, int], y_range: tuple[int, int]):\n",
    "        arr = self.getChunksInRange(x_range, y_range)\n",
    "        arr2 = np.zeros((arr.shape[0], arr.shape[1], 3), dtype=np.uint8)\n",
    "\n",
    "        for i in range(arr.shape[0]):\n",
    "            for j in range(arr.shape[1]):\n",
    "                arr2[i, j] = generator.BIOMAS[arr[i, j]][2]\n",
    "        \n",
    "        fig = px.imshow(arr2)\n",
    "        fig.update_layout(width=arr.shape[0], height=arr.shape[1])  # Adjust the figure size here\n",
    "\n",
    "        # Add legend\n",
    "        legend_items = []\n",
    "        for key, value in generator.BIOMAS.items():\n",
    "            legend_items.append(\n",
    "                dict(\n",
    "                    name=value[1],\n",
    "                    marker=dict(color=f'rgb{value[2]}', size=10),\n",
    "                    mode='markers',\n",
    "                    type='scatter',\n",
    "                    x=[None],\n",
    "                    y=[None]\n",
    "                )\n",
    "            )\n",
    "        fig.add_traces(legend_items)\n",
    "        fig.show()\n",
    "        print(arr2[432,4])\n",
    "        print(arr[432,4])\n",
    "        return arr2"
   ]
  },
  {
   "cell_type": "code",
   "execution_count": 18,
   "metadata": {},
   "outputs": [],
   "source": [
    "a = generator(1,2,3)"
   ]
  },
  {
   "cell_type": "code",
   "execution_count": 19,
   "metadata": {},
   "outputs": [
    {
     "data": {
      "application/vnd.plotly.v1+json": {
       "config": {
        "plotlyServerURL": "https://plot.ly"
       },
       "data": [
        {
         "hovertemplate": "x: %{x}<br>y: %{y}<br>color: [%{z[0]}, %{z[1]}, %{z[2]}]<extra></extra>",
         "name": "0",
         "source": "data:image/png;base64,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",
         "type": "image",
         "xaxis": "x",
         "yaxis": "y"
        },
        {
         "marker": {
          "color": "rgb(56, 148, 194)",
          "size": 10
         },
         "mode": "markers",
         "name": "Oceano",
         "type": "scatter",
         "x": [
          null
         ],
         "y": [
          null
         ]
        },
        {
         "marker": {
          "color": "rgb(27, 59, 140)",
          "size": 10
         },
         "mode": "markers",
         "name": "Oceano profundo",
         "type": "scatter",
         "x": [
          null
         ],
         "y": [
          null
         ]
        },
        {
         "marker": {
          "color": "rgb(126, 180, 237)",
          "size": 10
         },
         "mode": "markers",
         "name": "Rios y lagos",
         "type": "scatter",
         "x": [
          null
         ],
         "y": [
          null
         ]
        },
        {
         "marker": {
          "color": "rgb(245, 240, 108)",
          "size": 10
         },
         "mode": "markers",
         "name": "Costa",
         "type": "scatter",
         "x": [
          null
         ],
         "y": [
          null
         ]
        },
        {
         "marker": {
          "color": "rgb(171, 222, 32)",
          "size": 10
         },
         "mode": "markers",
         "name": "Marismas",
         "type": "scatter",
         "x": [
          null
         ],
         "y": [
          null
         ]
        },
        {
         "marker": {
          "color": "rgb(250, 250, 250)",
          "size": 10
         },
         "mode": "markers",
         "name": "Polo",
         "type": "scatter",
         "x": [
          null
         ],
         "y": [
          null
         ]
        },
        {
         "marker": {
          "color": "rgb(33, 133, 99)",
          "size": 10
         },
         "mode": "markers",
         "name": "Pantano",
         "type": "scatter",
         "x": [
          null
         ],
         "y": [
          null
         ]
        },
        {
         "marker": {
          "color": "rgb(53, 118, 43)",
          "size": 10
         },
         "mode": "markers",
         "name": "Bosque",
         "type": "scatter",
         "x": [
          null
         ],
         "y": [
          null
         ]
        },
        {
         "marker": {
          "color": "rgb(0, 183, 10)",
          "size": 10
         },
         "mode": "markers",
         "name": "Selva",
         "type": "scatter",
         "x": [
          null
         ],
         "y": [
          null
         ]
        },
        {
         "marker": {
          "color": "rgb(128, 179, 30)",
          "size": 10
         },
         "mode": "markers",
         "name": "Dehesa",
         "type": "scatter",
         "x": [
          null
         ],
         "y": [
          null
         ]
        },
        {
         "marker": {
          "color": "rgb(228, 125, 28)",
          "size": 10
         },
         "mode": "markers",
         "name": "Savana",
         "type": "scatter",
         "x": [
          null
         ],
         "y": [
          null
         ]
        },
        {
         "marker": {
          "color": "rgb(39, 156, 121)",
          "size": 10
         },
         "mode": "markers",
         "name": "Termales",
         "type": "scatter",
         "x": [
          null
         ],
         "y": [
          null
         ]
        },
        {
         "marker": {
          "color": "rgb(255, 211, 29)",
          "size": 10
         },
         "mode": "markers",
         "name": "Desierto",
         "type": "scatter",
         "x": [
          null
         ],
         "y": [
          null
         ]
        },
        {
         "marker": {
          "color": "rgb(144, 219, 148)",
          "size": 10
         },
         "mode": "markers",
         "name": "Valle",
         "type": "scatter",
         "x": [
          null
         ],
         "y": [
          null
         ]
        },
        {
         "marker": {
          "color": "rgb(110, 88, 66)",
          "size": 10
         },
         "mode": "markers",
         "name": "Meseta",
         "type": "scatter",
         "x": [
          null
         ],
         "y": [
          null
         ]
        },
        {
         "marker": {
          "color": "rgb(208, 208, 240)",
          "size": 10
         },
         "mode": "markers",
         "name": "Tundra",
         "type": "scatter",
         "x": [
          null
         ],
         "y": [
          null
         ]
        },
        {
         "marker": {
          "color": "rgb(159, 16, 16)",
          "size": 10
         },
         "mode": "markers",
         "name": "Volcanico",
         "type": "scatter",
         "x": [
          null
         ],
         "y": [
          null
         ]
        },
        {
         "marker": {
          "color": "rgb(125, 125, 125)",
          "size": 10
         },
         "mode": "markers",
         "name": "Montaña",
         "type": "scatter",
         "x": [
          null
         ],
         "y": [
          null
         ]
        }
       ],
       "layout": {
        "height": 1024,
        "margin": {
         "t": 60
        },
        "template": {
         "data": {
          "bar": [
           {
            "error_x": {
             "color": "#2a3f5f"
            },
            "error_y": {
             "color": "#2a3f5f"
            },
            "marker": {
             "line": {
              "color": "#E5ECF6",
              "width": 0.5
             },
             "pattern": {
              "fillmode": "overlay",
              "size": 10,
              "solidity": 0.2
             }
            },
            "type": "bar"
           }
          ],
          "barpolar": [
           {
            "marker": {
             "line": {
              "color": "#E5ECF6",
              "width": 0.5
             },
             "pattern": {
              "fillmode": "overlay",
              "size": 10,
              "solidity": 0.2
             }
            },
            "type": "barpolar"
           }
          ],
          "carpet": [
           {
            "aaxis": {
             "endlinecolor": "#2a3f5f",
             "gridcolor": "white",
             "linecolor": "white",
             "minorgridcolor": "white",
             "startlinecolor": "#2a3f5f"
            },
            "baxis": {
             "endlinecolor": "#2a3f5f",
             "gridcolor": "white",
             "linecolor": "white",
             "minorgridcolor": "white",
             "startlinecolor": "#2a3f5f"
            },
            "type": "carpet"
           }
          ],
          "choropleth": [
           {
            "colorbar": {
             "outlinewidth": 0,
             "ticks": ""
            },
            "type": "choropleth"
           }
          ],
          "contour": [
           {
            "colorbar": {
             "outlinewidth": 0,
             "ticks": ""
            },
            "colorscale": [
             [
              0,
              "#0d0887"
             ],
             [
              0.1111111111111111,
              "#46039f"
             ],
             [
              0.2222222222222222,
              "#7201a8"
             ],
             [
              0.3333333333333333,
              "#9c179e"
             ],
             [
              0.4444444444444444,
              "#bd3786"
             ],
             [
              0.5555555555555556,
              "#d8576b"
             ],
             [
              0.6666666666666666,
              "#ed7953"
             ],
             [
              0.7777777777777778,
              "#fb9f3a"
             ],
             [
              0.8888888888888888,
              "#fdca26"
             ],
             [
              1,
              "#f0f921"
             ]
            ],
            "type": "contour"
           }
          ],
          "contourcarpet": [
           {
            "colorbar": {
             "outlinewidth": 0,
             "ticks": ""
            },
            "type": "contourcarpet"
           }
          ],
          "heatmap": [
           {
            "colorbar": {
             "outlinewidth": 0,
             "ticks": ""
            },
            "colorscale": [
             [
              0,
              "#0d0887"
             ],
             [
              0.1111111111111111,
              "#46039f"
             ],
             [
              0.2222222222222222,
              "#7201a8"
             ],
             [
              0.3333333333333333,
              "#9c179e"
             ],
             [
              0.4444444444444444,
              "#bd3786"
             ],
             [
              0.5555555555555556,
              "#d8576b"
             ],
             [
              0.6666666666666666,
              "#ed7953"
             ],
             [
              0.7777777777777778,
              "#fb9f3a"
             ],
             [
              0.8888888888888888,
              "#fdca26"
             ],
             [
              1,
              "#f0f921"
             ]
            ],
            "type": "heatmap"
           }
          ],
          "heatmapgl": [
           {
            "colorbar": {
             "outlinewidth": 0,
             "ticks": ""
            },
            "colorscale": [
             [
              0,
              "#0d0887"
             ],
             [
              0.1111111111111111,
              "#46039f"
             ],
             [
              0.2222222222222222,
              "#7201a8"
             ],
             [
              0.3333333333333333,
              "#9c179e"
             ],
             [
              0.4444444444444444,
              "#bd3786"
             ],
             [
              0.5555555555555556,
              "#d8576b"
             ],
             [
              0.6666666666666666,
              "#ed7953"
             ],
             [
              0.7777777777777778,
              "#fb9f3a"
             ],
             [
              0.8888888888888888,
              "#fdca26"
             ],
             [
              1,
              "#f0f921"
             ]
            ],
            "type": "heatmapgl"
           }
          ],
          "histogram": [
           {
            "marker": {
             "pattern": {
              "fillmode": "overlay",
              "size": 10,
              "solidity": 0.2
             }
            },
            "type": "histogram"
           }
          ],
          "histogram2d": [
           {
            "colorbar": {
             "outlinewidth": 0,
             "ticks": ""
            },
            "colorscale": [
             [
              0,
              "#0d0887"
             ],
             [
              0.1111111111111111,
              "#46039f"
             ],
             [
              0.2222222222222222,
              "#7201a8"
             ],
             [
              0.3333333333333333,
              "#9c179e"
             ],
             [
              0.4444444444444444,
              "#bd3786"
             ],
             [
              0.5555555555555556,
              "#d8576b"
             ],
             [
              0.6666666666666666,
              "#ed7953"
             ],
             [
              0.7777777777777778,
              "#fb9f3a"
             ],
             [
              0.8888888888888888,
              "#fdca26"
             ],
             [
              1,
              "#f0f921"
             ]
            ],
            "type": "histogram2d"
           }
          ],
          "histogram2dcontour": [
           {
            "colorbar": {
             "outlinewidth": 0,
             "ticks": ""
            },
            "colorscale": [
             [
              0,
              "#0d0887"
             ],
             [
              0.1111111111111111,
              "#46039f"
             ],
             [
              0.2222222222222222,
              "#7201a8"
             ],
             [
              0.3333333333333333,
              "#9c179e"
             ],
             [
              0.4444444444444444,
              "#bd3786"
             ],
             [
              0.5555555555555556,
              "#d8576b"
             ],
             [
              0.6666666666666666,
              "#ed7953"
             ],
             [
              0.7777777777777778,
              "#fb9f3a"
             ],
             [
              0.8888888888888888,
              "#fdca26"
             ],
             [
              1,
              "#f0f921"
             ]
            ],
            "type": "histogram2dcontour"
           }
          ],
          "mesh3d": [
           {
            "colorbar": {
             "outlinewidth": 0,
             "ticks": ""
            },
            "type": "mesh3d"
           }
          ],
          "parcoords": [
           {
            "line": {
             "colorbar": {
              "outlinewidth": 0,
              "ticks": ""
             }
            },
            "type": "parcoords"
           }
          ],
          "pie": [
           {
            "automargin": true,
            "type": "pie"
           }
          ],
          "scatter": [
           {
            "fillpattern": {
             "fillmode": "overlay",
             "size": 10,
             "solidity": 0.2
            },
            "type": "scatter"
           }
          ],
          "scatter3d": [
           {
            "line": {
             "colorbar": {
              "outlinewidth": 0,
              "ticks": ""
             }
            },
            "marker": {
             "colorbar": {
              "outlinewidth": 0,
              "ticks": ""
             }
            },
            "type": "scatter3d"
           }
          ],
          "scattercarpet": [
           {
            "marker": {
             "colorbar": {
              "outlinewidth": 0,
              "ticks": ""
             }
            },
            "type": "scattercarpet"
           }
          ],
          "scattergeo": [
           {
            "marker": {
             "colorbar": {
              "outlinewidth": 0,
              "ticks": ""
             }
            },
            "type": "scattergeo"
           }
          ],
          "scattergl": [
           {
            "marker": {
             "colorbar": {
              "outlinewidth": 0,
              "ticks": ""
             }
            },
            "type": "scattergl"
           }
          ],
          "scattermapbox": [
           {
            "marker": {
             "colorbar": {
              "outlinewidth": 0,
              "ticks": ""
             }
            },
            "type": "scattermapbox"
           }
          ],
          "scatterpolar": [
           {
            "marker": {
             "colorbar": {
              "outlinewidth": 0,
              "ticks": ""
             }
            },
            "type": "scatterpolar"
           }
          ],
          "scatterpolargl": [
           {
            "marker": {
             "colorbar": {
              "outlinewidth": 0,
              "ticks": ""
             }
            },
            "type": "scatterpolargl"
           }
          ],
          "scatterternary": [
           {
            "marker": {
             "colorbar": {
              "outlinewidth": 0,
              "ticks": ""
             }
            },
            "type": "scatterternary"
           }
          ],
          "surface": [
           {
            "colorbar": {
             "outlinewidth": 0,
             "ticks": ""
            },
            "colorscale": [
             [
              0,
              "#0d0887"
             ],
             [
              0.1111111111111111,
              "#46039f"
             ],
             [
              0.2222222222222222,
              "#7201a8"
             ],
             [
              0.3333333333333333,
              "#9c179e"
             ],
             [
              0.4444444444444444,
              "#bd3786"
             ],
             [
              0.5555555555555556,
              "#d8576b"
             ],
             [
              0.6666666666666666,
              "#ed7953"
             ],
             [
              0.7777777777777778,
              "#fb9f3a"
             ],
             [
              0.8888888888888888,
              "#fdca26"
             ],
             [
              1,
              "#f0f921"
             ]
            ],
            "type": "surface"
           }
          ],
          "table": [
           {
            "cells": {
             "fill": {
              "color": "#EBF0F8"
             },
             "line": {
              "color": "white"
             }
            },
            "header": {
             "fill": {
              "color": "#C8D4E3"
             },
             "line": {
              "color": "white"
             }
            },
            "type": "table"
           }
          ]
         },
         "layout": {
          "annotationdefaults": {
           "arrowcolor": "#2a3f5f",
           "arrowhead": 0,
           "arrowwidth": 1
          },
          "autotypenumbers": "strict",
          "coloraxis": {
           "colorbar": {
            "outlinewidth": 0,
            "ticks": ""
           }
          },
          "colorscale": {
           "diverging": [
            [
             0,
             "#8e0152"
            ],
            [
             0.1,
             "#c51b7d"
            ],
            [
             0.2,
             "#de77ae"
            ],
            [
             0.3,
             "#f1b6da"
            ],
            [
             0.4,
             "#fde0ef"
            ],
            [
             0.5,
             "#f7f7f7"
            ],
            [
             0.6,
             "#e6f5d0"
            ],
            [
             0.7,
             "#b8e186"
            ],
            [
             0.8,
             "#7fbc41"
            ],
            [
             0.9,
             "#4d9221"
            ],
            [
             1,
             "#276419"
            ]
           ],
           "sequential": [
            [
             0,
             "#0d0887"
            ],
            [
             0.1111111111111111,
             "#46039f"
            ],
            [
             0.2222222222222222,
             "#7201a8"
            ],
            [
             0.3333333333333333,
             "#9c179e"
            ],
            [
             0.4444444444444444,
             "#bd3786"
            ],
            [
             0.5555555555555556,
             "#d8576b"
            ],
            [
             0.6666666666666666,
             "#ed7953"
            ],
            [
             0.7777777777777778,
             "#fb9f3a"
            ],
            [
             0.8888888888888888,
             "#fdca26"
            ],
            [
             1,
             "#f0f921"
            ]
           ],
           "sequentialminus": [
            [
             0,
             "#0d0887"
            ],
            [
             0.1111111111111111,
             "#46039f"
            ],
            [
             0.2222222222222222,
             "#7201a8"
            ],
            [
             0.3333333333333333,
             "#9c179e"
            ],
            [
             0.4444444444444444,
             "#bd3786"
            ],
            [
             0.5555555555555556,
             "#d8576b"
            ],
            [
             0.6666666666666666,
             "#ed7953"
            ],
            [
             0.7777777777777778,
             "#fb9f3a"
            ],
            [
             0.8888888888888888,
             "#fdca26"
            ],
            [
             1,
             "#f0f921"
            ]
           ]
          },
          "colorway": [
           "#636efa",
           "#EF553B",
           "#00cc96",
           "#ab63fa",
           "#FFA15A",
           "#19d3f3",
           "#FF6692",
           "#B6E880",
           "#FF97FF",
           "#FECB52"
          ],
          "font": {
           "color": "#2a3f5f"
          },
          "geo": {
           "bgcolor": "white",
           "lakecolor": "white",
           "landcolor": "#E5ECF6",
           "showlakes": true,
           "showland": true,
           "subunitcolor": "white"
          },
          "hoverlabel": {
           "align": "left"
          },
          "hovermode": "closest",
          "mapbox": {
           "style": "light"
          },
          "paper_bgcolor": "white",
          "plot_bgcolor": "#E5ECF6",
          "polar": {
           "angularaxis": {
            "gridcolor": "white",
            "linecolor": "white",
            "ticks": ""
           },
           "bgcolor": "#E5ECF6",
           "radialaxis": {
            "gridcolor": "white",
            "linecolor": "white",
            "ticks": ""
           }
          },
          "scene": {
           "xaxis": {
            "backgroundcolor": "#E5ECF6",
            "gridcolor": "white",
            "gridwidth": 2,
            "linecolor": "white",
            "showbackground": true,
            "ticks": "",
            "zerolinecolor": "white"
           },
           "yaxis": {
            "backgroundcolor": "#E5ECF6",
            "gridcolor": "white",
            "gridwidth": 2,
            "linecolor": "white",
            "showbackground": true,
            "ticks": "",
            "zerolinecolor": "white"
           },
           "zaxis": {
            "backgroundcolor": "#E5ECF6",
            "gridcolor": "white",
            "gridwidth": 2,
            "linecolor": "white",
            "showbackground": true,
            "ticks": "",
            "zerolinecolor": "white"
           }
          },
          "shapedefaults": {
           "line": {
            "color": "#2a3f5f"
           }
          },
          "ternary": {
           "aaxis": {
            "gridcolor": "white",
            "linecolor": "white",
            "ticks": ""
           },
           "baxis": {
            "gridcolor": "white",
            "linecolor": "white",
            "ticks": ""
           },
           "bgcolor": "#E5ECF6",
           "caxis": {
            "gridcolor": "white",
            "linecolor": "white",
            "ticks": ""
           }
          },
          "title": {
           "x": 0.05
          },
          "xaxis": {
           "automargin": true,
           "gridcolor": "white",
           "linecolor": "white",
           "ticks": "",
           "title": {
            "standoff": 15
           },
           "zerolinecolor": "white",
           "zerolinewidth": 2
          },
          "yaxis": {
           "automargin": true,
           "gridcolor": "white",
           "linecolor": "white",
           "ticks": "",
           "title": {
            "standoff": 15
           },
           "zerolinecolor": "white",
           "zerolinewidth": 2
          }
         }
        },
        "width": 1024,
        "xaxis": {
         "anchor": "y",
         "domain": [
          0,
          1
         ]
        },
        "yaxis": {
         "anchor": "x",
         "domain": [
          0,
          1
         ]
        }
       }
      }
     },
     "metadata": {},
     "output_type": "display_data"
    },
    {
     "name": "stdout",
     "output_type": "stream",
     "text": [
      "[208 208 240]\n",
      "15\n"
     ]
    },
    {
     "data": {
      "text/plain": [
       "array([[[245, 240, 108],\n",
       "        [245, 240, 108],\n",
       "        [ 53, 118,  43],\n",
       "        ...,\n",
       "        [110,  88,  66],\n",
       "        [110,  88,  66],\n",
       "        [110,  88,  66]],\n",
       "\n",
       "       [[159,  16,  16],\n",
       "        [159,  16,  16],\n",
       "        [159,  16,  16],\n",
       "        ...,\n",
       "        [110,  88,  66],\n",
       "        [110,  88,  66],\n",
       "        [110,  88,  66]],\n",
       "\n",
       "       [[208, 208, 240],\n",
       "        [208, 208, 240],\n",
       "        [208, 208, 240],\n",
       "        ...,\n",
       "        [110,  88,  66],\n",
       "        [110,  88,  66],\n",
       "        [110,  88,  66]],\n",
       "\n",
       "       ...,\n",
       "\n",
       "       [[208, 208, 240],\n",
       "        [208, 208, 240],\n",
       "        [208, 208, 240],\n",
       "        ...,\n",
       "        [208, 208, 240],\n",
       "        [208, 208, 240],\n",
       "        [208, 208, 240]],\n",
       "\n",
       "       [[208, 208, 240],\n",
       "        [208, 208, 240],\n",
       "        [208, 208, 240],\n",
       "        ...,\n",
       "        [208, 208, 240],\n",
       "        [208, 208, 240],\n",
       "        [208, 208, 240]],\n",
       "\n",
       "       [[208, 208, 240],\n",
       "        [208, 208, 240],\n",
       "        [208, 208, 240],\n",
       "        ...,\n",
       "        [208, 208, 240],\n",
       "        [208, 208, 240],\n",
       "        [208, 208, 240]]], dtype=uint8)"
      ]
     },
     "execution_count": 19,
     "metadata": {},
     "output_type": "execute_result"
    }
   ],
   "source": [
    "a.representation((0,8),(0,8))"
   ]
  }
 ],
 "metadata": {
  "kernelspec": {
   "display_name": ".venv",
   "language": "python",
   "name": "python3"
  },
  "language_info": {
   "codemirror_mode": {
    "name": "ipython",
    "version": 3
   },
   "file_extension": ".py",
   "mimetype": "text/x-python",
   "name": "python",
   "nbconvert_exporter": "python",
   "pygments_lexer": "ipython3",
   "version": "3.12.3"
  }
 },
 "nbformat": 4,
 "nbformat_minor": 2
}
